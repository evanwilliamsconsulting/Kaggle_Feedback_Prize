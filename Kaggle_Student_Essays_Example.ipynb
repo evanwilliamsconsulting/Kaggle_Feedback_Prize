{
  "cells": [
    {
      "cell_type": "markdown",
      "metadata": {
        "id": "view-in-github",
        "colab_type": "text"
      },
      "source": [
        "<a href=\"https://colab.research.google.com/github/evanwilliamsconsulting/Kaggle_Feedback_Prize/blob/main/Kaggle_Student_Essays_Example.ipynb\" target=\"_parent\"><img src=\"https://colab.research.google.com/assets/colab-badge.svg\" alt=\"Open In Colab\"/></a>"
      ]
    },
    {
      "cell_type": "code",
      "execution_count": null,
      "metadata": {
        "id": "43d3040d"
      },
      "outputs": [],
      "source": [
        "# https://towardsdatascience.com/multi-class-text-classification-with-doc2vec-logistic-regression-9da9947b43f4"
      ],
      "id": "43d3040d"
    },
    {
      "cell_type": "code",
      "execution_count": 1,
      "metadata": {
        "id": "da5b7d3c"
      },
      "outputs": [],
      "source": [
        "import pandas as pd\n",
        "import numpy as np\n",
        "from tqdm import tqdm\n",
        "tqdm.pandas(desc=\"progress-bar\")\n",
        "from gensim.models import Doc2Vec\n",
        "from sklearn import utils\n",
        "from sklearn.model_selection import train_test_split\n",
        "import gensim\n",
        "from sklearn.linear_model import LogisticRegression\n",
        "from gensim.models.doc2vec import TaggedDocument\n",
        "import re\n",
        "import seaborn as sns\n",
        "import matplotlib.pyplot as plt"
      ],
      "id": "da5b7d3c"
    },
    {
      "cell_type": "code",
      "execution_count": 2,
      "metadata": {
        "id": "Fm2eFUKMPbSF"
      },
      "outputs": [],
      "source": [
        "%matplotlib inline\n",
        "from pathlib import Path\n",
        "import pandas as pd\n",
        "import numpy as np"
      ],
      "id": "Fm2eFUKMPbSF"
    },
    {
      "cell_type": "code",
      "execution_count": 3,
      "metadata": {
        "id": "NSL-4sIyPdW5"
      },
      "outputs": [],
      "source": [
        "import os"
      ],
      "id": "NSL-4sIyPdW5"
    },
    {
      "cell_type": "code",
      "execution_count": 4,
      "metadata": {
        "id": "AA6rHfxYPh7_"
      },
      "outputs": [],
      "source": [
        "from os import listdir"
      ],
      "id": "AA6rHfxYPh7_"
    },
    {
      "cell_type": "code",
      "execution_count": 5,
      "metadata": {
        "colab": {
          "base_uri": "https://localhost:8080/"
        },
        "id": "fm4UXmT8Pm2b",
        "outputId": "f1b68e41-8413-41a5-87af-dd5ae354fc5b"
      },
      "outputs": [
        {
          "output_type": "stream",
          "name": "stdout",
          "text": [
            "Mounted at /content/drive\n"
          ]
        }
      ],
      "source": [
        "# https://stackoverflow.com/questions/48376580/google-colab-how-to-read-data-from-my-google-drive\n",
        "from google.colab import drive\n",
        "drive.mount('/content/drive',force_remount=True)"
      ],
      "id": "fm4UXmT8Pm2b"
    },
    {
      "cell_type": "code",
      "execution_count": 6,
      "metadata": {
        "id": "Jij1NUBsP0P5"
      },
      "outputs": [],
      "source": [
        "DATA = \"/content/drive/MyDrive\""
      ],
      "id": "Jij1NUBsP0P5"
    },
    {
      "cell_type": "code",
      "execution_count": 7,
      "metadata": {
        "id": "dhpziEjEP4lC"
      },
      "outputs": [],
      "source": [
        "corpus_directory = os.path.join(DATA,'Kaggle','data','train')"
      ],
      "id": "dhpziEjEP4lC"
    },
    {
      "cell_type": "code",
      "source": [
        "root_directory = os.path.join(DATA,'Kaggle')"
      ],
      "metadata": {
        "id": "dTtyOD-4UAFh"
      },
      "id": "dTtyOD-4UAFh",
      "execution_count": 8,
      "outputs": []
    },
    {
      "cell_type": "code",
      "source": [
        "datasets_directory = os.path.join(DATA,'Kaggle','datasets')"
      ],
      "metadata": {
        "id": "DvD0dChqwvau"
      },
      "id": "DvD0dChqwvau",
      "execution_count": 9,
      "outputs": []
    },
    {
      "cell_type": "code",
      "source": [
        "train_filename = \"train.csv\""
      ],
      "metadata": {
        "id": "wg6KUeBUUMeC"
      },
      "id": "wg6KUeBUUMeC",
      "execution_count": 10,
      "outputs": []
    },
    {
      "cell_type": "code",
      "source": [
        "train_filepath = os.path.join(root_directory,train_filename)"
      ],
      "metadata": {
        "id": "Cy8fUOvaUR_D"
      },
      "id": "Cy8fUOvaUR_D",
      "execution_count": 11,
      "outputs": []
    },
    {
      "cell_type": "code",
      "execution_count": 12,
      "metadata": {
        "id": "Ugs5bgDiQCep"
      },
      "outputs": [],
      "source": [
        "essay_files = listdir(corpus_directory)"
      ],
      "id": "Ugs5bgDiQCep"
    },
    {
      "cell_type": "code",
      "execution_count": 13,
      "metadata": {
        "colab": {
          "base_uri": "https://localhost:8080/"
        },
        "id": "czTdMvOTQZPC",
        "outputId": "912dd633-d3f2-4aa7-8026-11924acd236e"
      },
      "outputs": [
        {
          "output_type": "execute_result",
          "data": {
            "text/plain": [
              "15594"
            ]
          },
          "metadata": {},
          "execution_count": 13
        }
      ],
      "source": [
        "len(essay_files)"
      ],
      "id": "czTdMvOTQZPC"
    },
    {
      "cell_type": "code",
      "execution_count": 14,
      "metadata": {
        "id": "tWrNWD0QQmVQ"
      },
      "outputs": [],
      "source": [
        "essay_filename = essay_files[664]"
      ],
      "id": "tWrNWD0QQmVQ"
    },
    {
      "cell_type": "code",
      "execution_count": 15,
      "metadata": {
        "id": "ld6Az-HuQsBG"
      },
      "outputs": [],
      "source": [
        "essay_filepath = os.path.join(corpus_directory,essay_filename)"
      ],
      "id": "ld6Az-HuQsBG"
    },
    {
      "cell_type": "code",
      "execution_count": 16,
      "metadata": {
        "colab": {
          "base_uri": "https://localhost:8080/"
        },
        "id": "Y8FssTAdQvo9",
        "outputId": "e7a88d2b-570e-47ab-cc7a-a15c06cf70d1"
      },
      "outputs": [
        {
          "output_type": "stream",
          "name": "stderr",
          "text": [
            "/usr/local/lib/python3.7/dist-packages/IPython/core/interactiveshell.py:2882: FutureWarning: The error_bad_lines argument has been deprecated and will be removed in a future version.\n",
            "\n",
            "\n",
            "  exec(code_obj, self.user_global_ns, self.user_ns)\n",
            "Skipping line 17: unexpected end of data\n"
          ]
        }
      ],
      "source": [
        "essay_text = pd.read_table(essay_filepath,header=0,engine='python',error_bad_lines=False)"
      ],
      "id": "Y8FssTAdQvo9"
    },
    {
      "cell_type": "code",
      "execution_count": null,
      "metadata": {
        "id": "d37b0caf"
      },
      "outputs": [],
      "source": [
        "# to bring in the tags"
      ],
      "id": "d37b0caf"
    },
    {
      "cell_type": "code",
      "source": [
        "train_df = pd.read_csv(train_filepath,header=0,engine='python')"
      ],
      "metadata": {
        "id": "jQ2iQGpkThvr"
      },
      "id": "jQ2iQGpkThvr",
      "execution_count": 17,
      "outputs": []
    },
    {
      "cell_type": "code",
      "source": [
        "train_df.head()"
      ],
      "metadata": {
        "colab": {
          "base_uri": "https://localhost:8080/",
          "height": 319
        },
        "id": "639ftBssUvTO",
        "outputId": "d2a8e49c-ba25-4830-9abe-7454a45a692d"
      },
      "id": "639ftBssUvTO",
      "execution_count": 18,
      "outputs": [
        {
          "output_type": "execute_result",
          "data": {
            "text/html": [
              "\n",
              "  <div id=\"df-21448c98-2cec-42f1-b13a-355fea39d5e9\">\n",
              "    <div class=\"colab-df-container\">\n",
              "      <div>\n",
              "<style scoped>\n",
              "    .dataframe tbody tr th:only-of-type {\n",
              "        vertical-align: middle;\n",
              "    }\n",
              "\n",
              "    .dataframe tbody tr th {\n",
              "        vertical-align: top;\n",
              "    }\n",
              "\n",
              "    .dataframe thead th {\n",
              "        text-align: right;\n",
              "    }\n",
              "</style>\n",
              "<table border=\"1\" class=\"dataframe\">\n",
              "  <thead>\n",
              "    <tr style=\"text-align: right;\">\n",
              "      <th></th>\n",
              "      <th>id</th>\n",
              "      <th>discourse_id</th>\n",
              "      <th>discourse_start</th>\n",
              "      <th>discourse_end</th>\n",
              "      <th>discourse_text</th>\n",
              "      <th>discourse_type</th>\n",
              "      <th>discourse_type_num</th>\n",
              "      <th>predictionstring</th>\n",
              "    </tr>\n",
              "  </thead>\n",
              "  <tbody>\n",
              "    <tr>\n",
              "      <th>0</th>\n",
              "      <td>423A1CA112E2</td>\n",
              "      <td>1.622628e+12</td>\n",
              "      <td>8.0</td>\n",
              "      <td>229.0</td>\n",
              "      <td>Modern humans today are always on their phone....</td>\n",
              "      <td>Lead</td>\n",
              "      <td>Lead 1</td>\n",
              "      <td>1 2 3 4 5 6 7 8 9 10 11 12 13 14 15 16 17 18 1...</td>\n",
              "    </tr>\n",
              "    <tr>\n",
              "      <th>1</th>\n",
              "      <td>423A1CA112E2</td>\n",
              "      <td>1.622628e+12</td>\n",
              "      <td>230.0</td>\n",
              "      <td>312.0</td>\n",
              "      <td>They are some really bad consequences when stu...</td>\n",
              "      <td>Position</td>\n",
              "      <td>Position 1</td>\n",
              "      <td>45 46 47 48 49 50 51 52 53 54 55 56 57 58 59</td>\n",
              "    </tr>\n",
              "    <tr>\n",
              "      <th>2</th>\n",
              "      <td>423A1CA112E2</td>\n",
              "      <td>1.622628e+12</td>\n",
              "      <td>313.0</td>\n",
              "      <td>401.0</td>\n",
              "      <td>Some certain areas in the United States ban ph...</td>\n",
              "      <td>Evidence</td>\n",
              "      <td>Evidence 1</td>\n",
              "      <td>60 61 62 63 64 65 66 67 68 69 70 71 72 73 74 75</td>\n",
              "    </tr>\n",
              "    <tr>\n",
              "      <th>3</th>\n",
              "      <td>423A1CA112E2</td>\n",
              "      <td>1.622628e+12</td>\n",
              "      <td>402.0</td>\n",
              "      <td>758.0</td>\n",
              "      <td>When people have phones, they know about certa...</td>\n",
              "      <td>Evidence</td>\n",
              "      <td>Evidence 2</td>\n",
              "      <td>76 77 78 79 80 81 82 83 84 85 86 87 88 89 90 9...</td>\n",
              "    </tr>\n",
              "    <tr>\n",
              "      <th>4</th>\n",
              "      <td>423A1CA112E2</td>\n",
              "      <td>1.622628e+12</td>\n",
              "      <td>759.0</td>\n",
              "      <td>886.0</td>\n",
              "      <td>Driving is one of the way how to get around. P...</td>\n",
              "      <td>Claim</td>\n",
              "      <td>Claim 1</td>\n",
              "      <td>139 140 141 142 143 144 145 146 147 148 149 15...</td>\n",
              "    </tr>\n",
              "  </tbody>\n",
              "</table>\n",
              "</div>\n",
              "      <button class=\"colab-df-convert\" onclick=\"convertToInteractive('df-21448c98-2cec-42f1-b13a-355fea39d5e9')\"\n",
              "              title=\"Convert this dataframe to an interactive table.\"\n",
              "              style=\"display:none;\">\n",
              "        \n",
              "  <svg xmlns=\"http://www.w3.org/2000/svg\" height=\"24px\"viewBox=\"0 0 24 24\"\n",
              "       width=\"24px\">\n",
              "    <path d=\"M0 0h24v24H0V0z\" fill=\"none\"/>\n",
              "    <path d=\"M18.56 5.44l.94 2.06.94-2.06 2.06-.94-2.06-.94-.94-2.06-.94 2.06-2.06.94zm-11 1L8.5 8.5l.94-2.06 2.06-.94-2.06-.94L8.5 2.5l-.94 2.06-2.06.94zm10 10l.94 2.06.94-2.06 2.06-.94-2.06-.94-.94-2.06-.94 2.06-2.06.94z\"/><path d=\"M17.41 7.96l-1.37-1.37c-.4-.4-.92-.59-1.43-.59-.52 0-1.04.2-1.43.59L10.3 9.45l-7.72 7.72c-.78.78-.78 2.05 0 2.83L4 21.41c.39.39.9.59 1.41.59.51 0 1.02-.2 1.41-.59l7.78-7.78 2.81-2.81c.8-.78.8-2.07 0-2.86zM5.41 20L4 18.59l7.72-7.72 1.47 1.35L5.41 20z\"/>\n",
              "  </svg>\n",
              "      </button>\n",
              "      \n",
              "  <style>\n",
              "    .colab-df-container {\n",
              "      display:flex;\n",
              "      flex-wrap:wrap;\n",
              "      gap: 12px;\n",
              "    }\n",
              "\n",
              "    .colab-df-convert {\n",
              "      background-color: #E8F0FE;\n",
              "      border: none;\n",
              "      border-radius: 50%;\n",
              "      cursor: pointer;\n",
              "      display: none;\n",
              "      fill: #1967D2;\n",
              "      height: 32px;\n",
              "      padding: 0 0 0 0;\n",
              "      width: 32px;\n",
              "    }\n",
              "\n",
              "    .colab-df-convert:hover {\n",
              "      background-color: #E2EBFA;\n",
              "      box-shadow: 0px 1px 2px rgba(60, 64, 67, 0.3), 0px 1px 3px 1px rgba(60, 64, 67, 0.15);\n",
              "      fill: #174EA6;\n",
              "    }\n",
              "\n",
              "    [theme=dark] .colab-df-convert {\n",
              "      background-color: #3B4455;\n",
              "      fill: #D2E3FC;\n",
              "    }\n",
              "\n",
              "    [theme=dark] .colab-df-convert:hover {\n",
              "      background-color: #434B5C;\n",
              "      box-shadow: 0px 1px 3px 1px rgba(0, 0, 0, 0.15);\n",
              "      filter: drop-shadow(0px 1px 2px rgba(0, 0, 0, 0.3));\n",
              "      fill: #FFFFFF;\n",
              "    }\n",
              "  </style>\n",
              "\n",
              "      <script>\n",
              "        const buttonEl =\n",
              "          document.querySelector('#df-21448c98-2cec-42f1-b13a-355fea39d5e9 button.colab-df-convert');\n",
              "        buttonEl.style.display =\n",
              "          google.colab.kernel.accessAllowed ? 'block' : 'none';\n",
              "\n",
              "        async function convertToInteractive(key) {\n",
              "          const element = document.querySelector('#df-21448c98-2cec-42f1-b13a-355fea39d5e9');\n",
              "          const dataTable =\n",
              "            await google.colab.kernel.invokeFunction('convertToInteractive',\n",
              "                                                     [key], {});\n",
              "          if (!dataTable) return;\n",
              "\n",
              "          const docLinkHtml = 'Like what you see? Visit the ' +\n",
              "            '<a target=\"_blank\" href=https://colab.research.google.com/notebooks/data_table.ipynb>data table notebook</a>'\n",
              "            + ' to learn more about interactive tables.';\n",
              "          element.innerHTML = '';\n",
              "          dataTable['output_type'] = 'display_data';\n",
              "          await google.colab.output.renderOutput(dataTable, element);\n",
              "          const docLink = document.createElement('div');\n",
              "          docLink.innerHTML = docLinkHtml;\n",
              "          element.appendChild(docLink);\n",
              "        }\n",
              "      </script>\n",
              "    </div>\n",
              "  </div>\n",
              "  "
            ],
            "text/plain": [
              "             id  ...                                   predictionstring\n",
              "0  423A1CA112E2  ...  1 2 3 4 5 6 7 8 9 10 11 12 13 14 15 16 17 18 1...\n",
              "1  423A1CA112E2  ...       45 46 47 48 49 50 51 52 53 54 55 56 57 58 59\n",
              "2  423A1CA112E2  ...    60 61 62 63 64 65 66 67 68 69 70 71 72 73 74 75\n",
              "3  423A1CA112E2  ...  76 77 78 79 80 81 82 83 84 85 86 87 88 89 90 9...\n",
              "4  423A1CA112E2  ...  139 140 141 142 143 144 145 146 147 148 149 15...\n",
              "\n",
              "[5 rows x 8 columns]"
            ]
          },
          "metadata": {},
          "execution_count": 18
        }
      ]
    },
    {
      "cell_type": "code",
      "source": [
        "print(len(train_df))"
      ],
      "metadata": {
        "colab": {
          "base_uri": "https://localhost:8080/"
        },
        "id": "IT4_4iSfTXlS",
        "outputId": "30725334-ba1a-4efa-e56b-51eaa05ec2af"
      },
      "id": "IT4_4iSfTXlS",
      "execution_count": 19,
      "outputs": [
        {
          "output_type": "stream",
          "name": "stdout",
          "text": [
            "144293\n"
          ]
        }
      ]
    },
    {
      "cell_type": "code",
      "source": [
        "def retrieveWordage(essay_id):\n",
        "  essay_filename = essay_id + \".txt\"\n",
        "  essay_filepath = os.path.join(corpus_directory,essay_filename)\n",
        "  essay_text = pd.read_table(essay_filepath,header=0,engine='python',error_bad_lines=False)\n",
        "  essay_text.columns = ['narrative']\n",
        "  return essay_text"
      ],
      "metadata": {
        "id": "JFMF0Ypya1FM"
      },
      "id": "JFMF0Ypya1FM",
      "execution_count": 59,
      "outputs": []
    },
    {
      "cell_type": "code",
      "source": [
        "wordage_test = retrieveWordage(\"0027FC00C35B\")"
      ],
      "metadata": {
        "colab": {
          "base_uri": "https://localhost:8080/"
        },
        "id": "hVMpHHMrYvBv",
        "outputId": "7cdc78b1-62e6-42f2-f197-a990bfa34627"
      },
      "id": "hVMpHHMrYvBv",
      "execution_count": 60,
      "outputs": [
        {
          "output_type": "stream",
          "name": "stderr",
          "text": [
            "/usr/local/lib/python3.7/dist-packages/ipykernel_launcher.py:1: FutureWarning: The error_bad_lines argument has been deprecated and will be removed in a future version.\n",
            "\n",
            "\n",
            "  \"\"\"Entry point for launching an IPython kernel.\n",
            "Skipping line 27: '\t' expected after '\"'\n"
          ]
        }
      ]
    },
    {
      "cell_type": "code",
      "source": [
        "def cleanText2(item):\n",
        "  item2 = \"\"\n",
        "  for ch in item:\n",
        "      if ch == ' ' or (ch >= 'a' and ch <= 'z') or (ch >= 'A' and ch <= 'Z') or (ch >= '0' and ch <= '9'):\n",
        "          if ch >= 'A' and ch <= 'Z':\n",
        "              item2 += ch.lower()\n",
        "          else:\n",
        "              item2 += ch\n",
        "  return item2"
      ],
      "metadata": {
        "id": "qJXTgRhmcZdM"
      },
      "id": "qJXTgRhmcZdM",
      "execution_count": 21,
      "outputs": []
    },
    {
      "cell_type": "code",
      "source": [
        "def retrieveEssay(essay_id):\n",
        "  essay_text = retrieveWordage(essay_id)\n",
        "  essay_count = len(essay_text)\n",
        "  essay = \"\"\n",
        "  for i in range(0,essay_count-1):\n",
        "      essay += cleanText2(essay_text.iloc[i,0])\n",
        "  return essay"
      ],
      "metadata": {
        "id": "tGFPMtslTgDc"
      },
      "id": "tGFPMtslTgDc",
      "execution_count": 22,
      "outputs": []
    },
    {
      "cell_type": "code",
      "source": [
        "def retrieveRawEssay(essay_id):\n",
        "  essay_text = retrieveWordage(essay_id)\n",
        "  essay_count = len(essay_text)\n",
        "  essay = \"\"\n",
        "  for i in range(0,essay_count-1):\n",
        "      item = essay_text.iloc[i,0]\n",
        "      essay += item\n",
        "  return essay"
      ],
      "metadata": {
        "id": "JgWgpAlTbusX"
      },
      "id": "JgWgpAlTbusX",
      "execution_count": 23,
      "outputs": []
    },
    {
      "cell_type": "code",
      "source": [
        "essay_test = retrieveEssay(\"423A1CA112E2\")"
      ],
      "metadata": {
        "id": "ye2y1EVRU0ZZ"
      },
      "id": "ye2y1EVRU0ZZ",
      "execution_count": 24,
      "outputs": []
    },
    {
      "cell_type": "code",
      "source": [
        "from tensorflow.data import Dataset"
      ],
      "metadata": {
        "id": "ZUiuV2sDL8AK"
      },
      "id": "ZUiuV2sDL8AK",
      "execution_count": 25,
      "outputs": []
    },
    {
      "cell_type": "code",
      "source": [
        "from tensorflow.data import TextLineDataset"
      ],
      "metadata": {
        "id": "jeFeplHGMd4s"
      },
      "id": "jeFeplHGMd4s",
      "execution_count": 26,
      "outputs": []
    },
    {
      "cell_type": "code",
      "source": [
        "def retrieveDataset(essay_id):\n",
        "  essay_array = []\n",
        "  essay_text = retrieveWordage(essay_id)\n",
        "  essay_count = len(essay_text)\n",
        "  #essay = \"\"\n",
        "  for i in range(0,essay_count-1):\n",
        "      essay_array.append(cleanText2(essay_text.iloc[i,0]))\n",
        "  #essay = essay_text.iloc[0,0]\n",
        "  dataset = Dataset.from_tensor_slices(essay_array)\n",
        "  return dataset"
      ],
      "metadata": {
        "id": "THTXys28NMJW"
      },
      "id": "THTXys28NMJW",
      "execution_count": 27,
      "outputs": []
    },
    {
      "cell_type": "code",
      "source": [
        "text_dataset = retrieveDataset(\"423A1CA112E2\")"
      ],
      "metadata": {
        "id": "jqWFEio4NuWS"
      },
      "id": "jqWFEio4NuWS",
      "execution_count": 28,
      "outputs": []
    },
    {
      "cell_type": "code",
      "source": [
        "print(text_dataset)"
      ],
      "metadata": {
        "colab": {
          "base_uri": "https://localhost:8080/"
        },
        "id": "0At4GYMhWYon",
        "outputId": "36049eb8-66a1-47b2-dd84-dab25063e28e"
      },
      "id": "0At4GYMhWYon",
      "execution_count": 29,
      "outputs": [
        {
          "output_type": "stream",
          "name": "stdout",
          "text": [
            "<TensorSliceDataset element_spec=TensorSpec(shape=(), dtype=tf.string, name=None)>\n"
          ]
        }
      ]
    },
    {
      "cell_type": "code",
      "source": [
        "for element in text_dataset:\n",
        "  print(element)"
      ],
      "metadata": {
        "colab": {
          "base_uri": "https://localhost:8080/"
        },
        "id": "P3FD6cVwWdff",
        "outputId": "eb5f96ab-fb5e-47d9-bf24-9d53c7bf7d5c"
      },
      "id": "P3FD6cVwWdff",
      "execution_count": 30,
      "outputs": [
        {
          "output_type": "stream",
          "name": "stdout",
          "text": [
            "tf.Tensor(b'modern humans today are always on their phone they are always on their phone more than 5 hours a day no stop all they do is text back and forward and just have group chats on social media they even do it while driving they are some really bad consequences when stuff happens when it comes to a phone some certain areas in the united states ban phones from class rooms just because of it', shape=(), dtype=string)\n",
            "tf.Tensor(b'when people have phones they know about certain apps that they have apps like facebook twitter instagram and snapchat so like if a friend moves away and you want to be in contact you can still be in contact by posting videos or text messages people always have different ways how to communicate with a phone phones have changed due to our generation', shape=(), dtype=string)\n",
            "tf.Tensor(b'driving is one of the way how to get around people always be on their phones while doing it which can cause serious problems thats why theres a thing thats called no texting while driving thats a really important thing to remember some people still do it because they think its stupid no matter what they do they still have to obey it because thats the only way how did he save', shape=(), dtype=string)\n",
            "tf.Tensor(b'sometimes on the news there is either an accident or a suicide it might involve someone not looking where theyre going or tweet that someone sent it either injury or death if a mysterious number says im going to kill you and they know where you live but you dont know the persons contact', shape=(), dtype=string)\n",
            "tf.Tensor(b'it makes you puzzled and make you start to freak out which can end up really badly', shape=(), dtype=string)\n"
          ]
        }
      ]
    },
    {
      "cell_type": "code",
      "source": [
        "# https://www.tensorflow.org/api_docs/python/tf/keras/layers/TextVectorization"
      ],
      "metadata": {
        "id": "hLyFoHBJTRnD"
      },
      "id": "hLyFoHBJTRnD",
      "execution_count": null,
      "outputs": []
    },
    {
      "cell_type": "code",
      "source": [
        "max_features = 5000  # Maximum vocab size.\n",
        "max_len = 500  # Sequence length to pad the outputs to.b"
      ],
      "metadata": {
        "id": "qteZEc6FTHpz"
      },
      "id": "qteZEc6FTHpz",
      "execution_count": 31,
      "outputs": []
    },
    {
      "cell_type": "code",
      "source": [
        "from tensorflow.keras.layers import TextVectorization"
      ],
      "metadata": {
        "id": "FCWsxgO5nGfN"
      },
      "id": "FCWsxgO5nGfN",
      "execution_count": 32,
      "outputs": []
    },
    {
      "cell_type": "code",
      "source": [
        "vectorizer = TextVectorization(max_tokens=20000, output_sequence_length=200)"
      ],
      "metadata": {
        "id": "x5Hdkfll2P-a"
      },
      "id": "x5Hdkfll2P-a",
      "execution_count": 33,
      "outputs": []
    },
    {
      "cell_type": "code",
      "source": [
        "#text_ds = tf.data.Dataset.from_tensor_slices(train_samples).batch(128)\n",
        "vectorizer.adapt(text_dataset)"
      ],
      "metadata": {
        "id": "YWwbuRYl2Kd0"
      },
      "id": "YWwbuRYl2Kd0",
      "execution_count": 34,
      "outputs": []
    },
    {
      "cell_type": "code",
      "source": [
        "# Create the layer.\n",
        "vectorize_layer = TextVectorization(\n",
        " max_tokens=max_features,\n",
        " output_mode='int',\n",
        " output_sequence_length=max_len)"
      ],
      "metadata": {
        "id": "IzQ8VCA8Tc1c"
      },
      "id": "IzQ8VCA8Tc1c",
      "execution_count": 35,
      "outputs": []
    },
    {
      "cell_type": "code",
      "source": [
        "# Now that the vocab layer has been created, call `adapt` on the text-only\n",
        "# dataset to create the vocabulary. You don't have to batch, but for large\n",
        "# datasets this means we're not keeping spare copies of the dataset.\n",
        "vectorize_layer.adapt(text_dataset)"
      ],
      "metadata": {
        "id": "fOki1nyHTZPv"
      },
      "id": "fOki1nyHTZPv",
      "execution_count": 36,
      "outputs": []
    },
    {
      "cell_type": "code",
      "source": [
        "from tensorflow.keras.models import Sequential\n",
        "from tensorflow.keras import Input\n",
        "from tensorflow import string as tf_string"
      ],
      "metadata": {
        "id": "tcRxqp8MaDJ5"
      },
      "id": "tcRxqp8MaDJ5",
      "execution_count": 37,
      "outputs": []
    },
    {
      "cell_type": "code",
      "source": [
        "# Create the model that uses the vectorize text layer\n",
        "model = Sequential()\n",
        "\n",
        "# Start by creating an explicit input layer. It needs to have a shape of\n",
        "# (1,) (because we need to guarantee that there is exactly one string\n",
        "# input per batch), and the dtype needs to be 'string'.\n",
        "model.add(Input(shape=(1,), dtype=tf_string))\n",
        "\n",
        "# The first layer in our model is the vectorization layer. After this\n",
        "# layer, we have a tensor of shape (batch_size, max_len) containing vocab\n",
        "# indices.\n",
        "model.add(vectorize_layer)"
      ],
      "metadata": {
        "id": "5I4v5HK0OOSV"
      },
      "id": "5I4v5HK0OOSV",
      "execution_count": 38,
      "outputs": []
    },
    {
      "cell_type": "code",
      "source": [
        "# Now, the model can map strings to integers, and you can add an embedding\n",
        "# layer to map these integers to learned embeddings.\n",
        "input_data = [[\"modern humans today\"], [\"phone more than\"]]\n",
        "model.predict(input_data)"
      ],
      "metadata": {
        "colab": {
          "base_uri": "https://localhost:8080/"
        },
        "id": "8XudVrfhZ7ey",
        "outputId": "219caa08-fe10-4728-d2d3-f4fccad82a4a"
      },
      "id": "8XudVrfhZ7ey",
      "execution_count": 39,
      "outputs": [
        {
          "output_type": "execute_result",
          "data": {
            "text/plain": [
              "array([[ 98, 114,  60,   0,   0,   0,   0,   0,   0,   0,   0,   0,   0,\n",
              "          0,   0,   0,   0,   0,   0,   0,   0,   0,   0,   0,   0,   0,\n",
              "          0,   0,   0,   0,   0,   0,   0,   0,   0,   0,   0,   0,   0,\n",
              "          0,   0,   0,   0,   0,   0,   0,   0,   0,   0,   0,   0,   0,\n",
              "          0,   0,   0,   0,   0,   0,   0,   0,   0,   0,   0,   0,   0,\n",
              "          0,   0,   0,   0,   0,   0,   0,   0,   0,   0,   0,   0,   0,\n",
              "          0,   0,   0,   0,   0,   0,   0,   0,   0,   0,   0,   0,   0,\n",
              "          0,   0,   0,   0,   0,   0,   0,   0,   0,   0,   0,   0,   0,\n",
              "          0,   0,   0,   0,   0,   0,   0,   0,   0,   0,   0,   0,   0,\n",
              "          0,   0,   0,   0,   0,   0,   0,   0,   0,   0,   0,   0,   0,\n",
              "          0,   0,   0,   0,   0,   0,   0,   0,   0,   0,   0,   0,   0,\n",
              "          0,   0,   0,   0,   0,   0,   0,   0,   0,   0,   0,   0,   0,\n",
              "          0,   0,   0,   0,   0,   0,   0,   0,   0,   0,   0,   0,   0,\n",
              "          0,   0,   0,   0,   0,   0,   0,   0,   0,   0,   0,   0,   0,\n",
              "          0,   0,   0,   0,   0,   0,   0,   0,   0,   0,   0,   0,   0,\n",
              "          0,   0,   0,   0,   0,   0,   0,   0,   0,   0,   0,   0,   0,\n",
              "          0,   0,   0,   0,   0,   0,   0,   0,   0,   0,   0,   0,   0,\n",
              "          0,   0,   0,   0,   0,   0,   0,   0,   0,   0,   0,   0,   0,\n",
              "          0,   0,   0,   0,   0,   0,   0,   0,   0,   0,   0,   0,   0,\n",
              "          0,   0,   0,   0,   0,   0,   0,   0,   0,   0,   0,   0,   0,\n",
              "          0,   0,   0,   0,   0,   0,   0,   0,   0,   0,   0,   0,   0,\n",
              "          0,   0,   0,   0,   0,   0,   0,   0,   0,   0,   0,   0,   0,\n",
              "          0,   0,   0,   0,   0,   0,   0,   0,   0,   0,   0,   0,   0,\n",
              "          0,   0,   0,   0,   0,   0,   0,   0,   0,   0,   0,   0,   0,\n",
              "          0,   0,   0,   0,   0,   0,   0,   0,   0,   0,   0,   0,   0,\n",
              "          0,   0,   0,   0,   0,   0,   0,   0,   0,   0,   0,   0,   0,\n",
              "          0,   0,   0,   0,   0,   0,   0,   0,   0,   0,   0,   0,   0,\n",
              "          0,   0,   0,   0,   0,   0,   0,   0,   0,   0,   0,   0,   0,\n",
              "          0,   0,   0,   0,   0,   0,   0,   0,   0,   0,   0,   0,   0,\n",
              "          0,   0,   0,   0,   0,   0,   0,   0,   0,   0,   0,   0,   0,\n",
              "          0,   0,   0,   0,   0,   0,   0,   0,   0,   0,   0,   0,   0,\n",
              "          0,   0,   0,   0,   0,   0,   0,   0,   0,   0,   0,   0,   0,\n",
              "          0,   0,   0,   0,   0,   0,   0,   0,   0,   0,   0,   0,   0,\n",
              "          0,   0,   0,   0,   0,   0,   0,   0,   0,   0,   0,   0,   0,\n",
              "          0,   0,   0,   0,   0,   0,   0,   0,   0,   0,   0,   0,   0,\n",
              "          0,   0,   0,   0,   0,   0,   0,   0,   0,   0,   0,   0,   0,\n",
              "          0,   0,   0,   0,   0,   0,   0,   0,   0,   0,   0,   0,   0,\n",
              "          0,   0,   0,   0,   0,   0,   0,   0,   0,   0,   0,   0,   0,\n",
              "          0,   0,   0,   0,   0,   0],\n",
              "       [ 13,  97,  65,   0,   0,   0,   0,   0,   0,   0,   0,   0,   0,\n",
              "          0,   0,   0,   0,   0,   0,   0,   0,   0,   0,   0,   0,   0,\n",
              "          0,   0,   0,   0,   0,   0,   0,   0,   0,   0,   0,   0,   0,\n",
              "          0,   0,   0,   0,   0,   0,   0,   0,   0,   0,   0,   0,   0,\n",
              "          0,   0,   0,   0,   0,   0,   0,   0,   0,   0,   0,   0,   0,\n",
              "          0,   0,   0,   0,   0,   0,   0,   0,   0,   0,   0,   0,   0,\n",
              "          0,   0,   0,   0,   0,   0,   0,   0,   0,   0,   0,   0,   0,\n",
              "          0,   0,   0,   0,   0,   0,   0,   0,   0,   0,   0,   0,   0,\n",
              "          0,   0,   0,   0,   0,   0,   0,   0,   0,   0,   0,   0,   0,\n",
              "          0,   0,   0,   0,   0,   0,   0,   0,   0,   0,   0,   0,   0,\n",
              "          0,   0,   0,   0,   0,   0,   0,   0,   0,   0,   0,   0,   0,\n",
              "          0,   0,   0,   0,   0,   0,   0,   0,   0,   0,   0,   0,   0,\n",
              "          0,   0,   0,   0,   0,   0,   0,   0,   0,   0,   0,   0,   0,\n",
              "          0,   0,   0,   0,   0,   0,   0,   0,   0,   0,   0,   0,   0,\n",
              "          0,   0,   0,   0,   0,   0,   0,   0,   0,   0,   0,   0,   0,\n",
              "          0,   0,   0,   0,   0,   0,   0,   0,   0,   0,   0,   0,   0,\n",
              "          0,   0,   0,   0,   0,   0,   0,   0,   0,   0,   0,   0,   0,\n",
              "          0,   0,   0,   0,   0,   0,   0,   0,   0,   0,   0,   0,   0,\n",
              "          0,   0,   0,   0,   0,   0,   0,   0,   0,   0,   0,   0,   0,\n",
              "          0,   0,   0,   0,   0,   0,   0,   0,   0,   0,   0,   0,   0,\n",
              "          0,   0,   0,   0,   0,   0,   0,   0,   0,   0,   0,   0,   0,\n",
              "          0,   0,   0,   0,   0,   0,   0,   0,   0,   0,   0,   0,   0,\n",
              "          0,   0,   0,   0,   0,   0,   0,   0,   0,   0,   0,   0,   0,\n",
              "          0,   0,   0,   0,   0,   0,   0,   0,   0,   0,   0,   0,   0,\n",
              "          0,   0,   0,   0,   0,   0,   0,   0,   0,   0,   0,   0,   0,\n",
              "          0,   0,   0,   0,   0,   0,   0,   0,   0,   0,   0,   0,   0,\n",
              "          0,   0,   0,   0,   0,   0,   0,   0,   0,   0,   0,   0,   0,\n",
              "          0,   0,   0,   0,   0,   0,   0,   0,   0,   0,   0,   0,   0,\n",
              "          0,   0,   0,   0,   0,   0,   0,   0,   0,   0,   0,   0,   0,\n",
              "          0,   0,   0,   0,   0,   0,   0,   0,   0,   0,   0,   0,   0,\n",
              "          0,   0,   0,   0,   0,   0,   0,   0,   0,   0,   0,   0,   0,\n",
              "          0,   0,   0,   0,   0,   0,   0,   0,   0,   0,   0,   0,   0,\n",
              "          0,   0,   0,   0,   0,   0,   0,   0,   0,   0,   0,   0,   0,\n",
              "          0,   0,   0,   0,   0,   0,   0,   0,   0,   0,   0,   0,   0,\n",
              "          0,   0,   0,   0,   0,   0,   0,   0,   0,   0,   0,   0,   0,\n",
              "          0,   0,   0,   0,   0,   0,   0,   0,   0,   0,   0,   0,   0,\n",
              "          0,   0,   0,   0,   0,   0,   0,   0,   0,   0,   0,   0,   0,\n",
              "          0,   0,   0,   0,   0,   0,   0,   0,   0,   0,   0,   0,   0,\n",
              "          0,   0,   0,   0,   0,   0]])"
            ]
          },
          "metadata": {},
          "execution_count": 39
        }
      ]
    },
    {
      "cell_type": "code",
      "source": [
        "test = retrieveRawEssay(\"423A1CA112E2\")\n",
        "print(test)"
      ],
      "metadata": {
        "colab": {
          "base_uri": "https://localhost:8080/"
        },
        "id": "M2Tr9ufMcBho",
        "outputId": "7999c0bc-d923-4bf5-ab5f-8be7527f2ad2"
      },
      "id": "M2Tr9ufMcBho",
      "execution_count": 40,
      "outputs": [
        {
          "output_type": "stream",
          "name": "stdout",
          "text": [
            "Modern humans today are always on their phone. They are always on their phone more than 5 hours a day no stop .All they do is text back and forward and just have group Chats on social media. They even do it while driving. They are some really bad consequences when stuff happens when it comes to a phone. Some certain areas in the United States ban phones from class rooms just because of it.When people have phones, they know about certain apps that they have .Apps like Facebook Twitter Instagram and Snapchat. So like if a friend moves away and you want to be in contact you can still be in contact by posting videos or text messages. People always have different ways how to communicate with a phone. Phones have changed due to our generation.Driving is one of the way how to get around. People always be on their phones while doing it. Which can cause serious Problems. That's why there's a thing that's called no texting while driving. That's a really important thing to remember. Some people still do it because they think It's stupid. No matter what they do they still have to obey it because that's the only way how did he save.Sometimes on the news there is either an accident or a suicide. It might involve someone not looking where they're going or tweet that someone sent. It either injury or death. If a mysterious number says I'm going to kill you and they know where you live but you don't know the person's contact,It makes you puzzled and make you start to freak out. Which can end up really badly.\n"
          ]
        }
      ]
    },
    {
      "cell_type": "code",
      "source": [
        "def retrieveDiscourse(essay_id,discourse_id,discourse_start,discourse_end):\n",
        "  essay_text = retrieveRawEssay(essay_id)\n",
        "  essay_count = len(essay_text)\n",
        "  i = 0\n",
        "  discourse_text = \"\"\n",
        "  for ch in essay_text:\n",
        "     #print(ch)\n",
        "     if i >= discourse_start -1 and i <= discourse_end:\n",
        "        discourse_text += ch\n",
        "     i += 1\n",
        "  return cleanText2(discourse_text)"
      ],
      "metadata": {
        "id": "bKWortsQWXZ7"
      },
      "id": "bKWortsQWXZ7",
      "execution_count": 41,
      "outputs": []
    },
    {
      "cell_type": "code",
      "source": [
        "discourse = retrieveDiscourse(\"423A1CA112E2\",0,8,229)"
      ],
      "metadata": {
        "id": "0XGTm5L6XMzt"
      },
      "id": "0XGTm5L6XMzt",
      "execution_count": 42,
      "outputs": []
    },
    {
      "cell_type": "code",
      "source": [
        "print(discourse)"
      ],
      "metadata": {
        "colab": {
          "base_uri": "https://localhost:8080/"
        },
        "id": "vKW3aa6PXSuN",
        "outputId": "43cd3aa6-3bb2-486e-d184-7ba0465b47a1"
      },
      "id": "vKW3aa6PXSuN",
      "execution_count": 43,
      "outputs": [
        {
          "output_type": "stream",
          "name": "stdout",
          "text": [
            "humans today are always on their phone they are always on their phone more than 5 hours a day no stop all they do is text back and forward and just have group chats on social media they even do it while driving they are\n"
          ]
        }
      ]
    },
    {
      "cell_type": "code",
      "source": [
        "print(len(discourse))"
      ],
      "metadata": {
        "colab": {
          "base_uri": "https://localhost:8080/"
        },
        "id": "A1vtazgbpS_K",
        "outputId": "aacd484f-51b0-4e81-b32a-f3a9c45d6003"
      },
      "id": "A1vtazgbpS_K",
      "execution_count": 44,
      "outputs": [
        {
          "output_type": "stream",
          "name": "stdout",
          "text": [
            "219\n"
          ]
        }
      ]
    },
    {
      "cell_type": "code",
      "source": [
        "input_data = [discourse]\n",
        "model.predict(input_data)"
      ],
      "metadata": {
        "colab": {
          "base_uri": "https://localhost:8080/"
        },
        "id": "UTgk57MZpXHC",
        "outputId": "99ad1e2d-8db3-412c-f42f-ccbf180133d9"
      },
      "id": "UTgk57MZpXHC",
      "execution_count": 45,
      "outputs": [
        {
          "output_type": "execute_result",
          "data": {
            "text/plain": [
              "array([[114,  60,  34,  17,  10,  20,  13,   2,  34,  17,  10,  20,  13,\n",
              "         97,  65, 156, 115,   5, 134,  24,  70, 153,   2,  16,  26,  40,\n",
              "        148,   8, 124,   8,  44,   7, 118, 139,  10,  74, 101,   2, 126,\n",
              "         16,   4,  18,  29,   2,  34,   0,   0,   0,   0,   0,   0,   0,\n",
              "          0,   0,   0,   0,   0,   0,   0,   0,   0,   0,   0,   0,   0,\n",
              "          0,   0,   0,   0,   0,   0,   0,   0,   0,   0,   0,   0,   0,\n",
              "          0,   0,   0,   0,   0,   0,   0,   0,   0,   0,   0,   0,   0,\n",
              "          0,   0,   0,   0,   0,   0,   0,   0,   0,   0,   0,   0,   0,\n",
              "          0,   0,   0,   0,   0,   0,   0,   0,   0,   0,   0,   0,   0,\n",
              "          0,   0,   0,   0,   0,   0,   0,   0,   0,   0,   0,   0,   0,\n",
              "          0,   0,   0,   0,   0,   0,   0,   0,   0,   0,   0,   0,   0,\n",
              "          0,   0,   0,   0,   0,   0,   0,   0,   0,   0,   0,   0,   0,\n",
              "          0,   0,   0,   0,   0,   0,   0,   0,   0,   0,   0,   0,   0,\n",
              "          0,   0,   0,   0,   0,   0,   0,   0,   0,   0,   0,   0,   0,\n",
              "          0,   0,   0,   0,   0,   0,   0,   0,   0,   0,   0,   0,   0,\n",
              "          0,   0,   0,   0,   0,   0,   0,   0,   0,   0,   0,   0,   0,\n",
              "          0,   0,   0,   0,   0,   0,   0,   0,   0,   0,   0,   0,   0,\n",
              "          0,   0,   0,   0,   0,   0,   0,   0,   0,   0,   0,   0,   0,\n",
              "          0,   0,   0,   0,   0,   0,   0,   0,   0,   0,   0,   0,   0,\n",
              "          0,   0,   0,   0,   0,   0,   0,   0,   0,   0,   0,   0,   0,\n",
              "          0,   0,   0,   0,   0,   0,   0,   0,   0,   0,   0,   0,   0,\n",
              "          0,   0,   0,   0,   0,   0,   0,   0,   0,   0,   0,   0,   0,\n",
              "          0,   0,   0,   0,   0,   0,   0,   0,   0,   0,   0,   0,   0,\n",
              "          0,   0,   0,   0,   0,   0,   0,   0,   0,   0,   0,   0,   0,\n",
              "          0,   0,   0,   0,   0,   0,   0,   0,   0,   0,   0,   0,   0,\n",
              "          0,   0,   0,   0,   0,   0,   0,   0,   0,   0,   0,   0,   0,\n",
              "          0,   0,   0,   0,   0,   0,   0,   0,   0,   0,   0,   0,   0,\n",
              "          0,   0,   0,   0,   0,   0,   0,   0,   0,   0,   0,   0,   0,\n",
              "          0,   0,   0,   0,   0,   0,   0,   0,   0,   0,   0,   0,   0,\n",
              "          0,   0,   0,   0,   0,   0,   0,   0,   0,   0,   0,   0,   0,\n",
              "          0,   0,   0,   0,   0,   0,   0,   0,   0,   0,   0,   0,   0,\n",
              "          0,   0,   0,   0,   0,   0,   0,   0,   0,   0,   0,   0,   0,\n",
              "          0,   0,   0,   0,   0,   0,   0,   0,   0,   0,   0,   0,   0,\n",
              "          0,   0,   0,   0,   0,   0,   0,   0,   0,   0,   0,   0,   0,\n",
              "          0,   0,   0,   0,   0,   0,   0,   0,   0,   0,   0,   0,   0,\n",
              "          0,   0,   0,   0,   0,   0,   0,   0,   0,   0,   0,   0,   0,\n",
              "          0,   0,   0,   0,   0,   0,   0,   0,   0,   0,   0,   0,   0,\n",
              "          0,   0,   0,   0,   0,   0,   0,   0,   0,   0,   0,   0,   0,\n",
              "          0,   0,   0,   0,   0,   0]])"
            ]
          },
          "metadata": {},
          "execution_count": 45
        }
      ]
    },
    {
      "cell_type": "code",
      "source": [
        "# https://colab.research.google.com/github/keras-team/keras-io/blob/master/examples/nlp/ipynb/pretrained_word_embeddings.ipynb#scrollTo=Q6j-LRMFc-AR"
      ],
      "metadata": {
        "id": "jNb8PegDr9fn"
      },
      "id": "jNb8PegDr9fn",
      "execution_count": null,
      "outputs": []
    },
    {
      "cell_type": "code",
      "source": [
        "#!wget http://nlp.stanford.edu/data/glove.6B.zip\n"
      ],
      "metadata": {
        "colab": {
          "base_uri": "https://localhost:8080/"
        },
        "id": "FiML72bHsCY8",
        "outputId": "128c2b31-08de-4f0f-f483-566da406429b"
      },
      "id": "FiML72bHsCY8",
      "execution_count": null,
      "outputs": [
        {
          "output_type": "stream",
          "name": "stdout",
          "text": [
            "--2022-02-22 13:48:14--  http://nlp.stanford.edu/data/glove.6B.zip\n",
            "Resolving nlp.stanford.edu (nlp.stanford.edu)... 171.64.67.140\n",
            "Connecting to nlp.stanford.edu (nlp.stanford.edu)|171.64.67.140|:80... connected.\n",
            "HTTP request sent, awaiting response... 302 Found\n",
            "Location: https://nlp.stanford.edu/data/glove.6B.zip [following]\n",
            "--2022-02-22 13:48:14--  https://nlp.stanford.edu/data/glove.6B.zip\n",
            "Connecting to nlp.stanford.edu (nlp.stanford.edu)|171.64.67.140|:443... connected.\n",
            "HTTP request sent, awaiting response... 301 Moved Permanently\n",
            "Location: http://downloads.cs.stanford.edu/nlp/data/glove.6B.zip [following]\n",
            "--2022-02-22 13:48:14--  http://downloads.cs.stanford.edu/nlp/data/glove.6B.zip\n",
            "Resolving downloads.cs.stanford.edu (downloads.cs.stanford.edu)... 171.64.64.22\n",
            "Connecting to downloads.cs.stanford.edu (downloads.cs.stanford.edu)|171.64.64.22|:80... connected.\n",
            "HTTP request sent, awaiting response... 200 OK\n",
            "Length: 862182613 (822M) [application/zip]\n",
            "Saving to: ‘glove.6B.zip’\n",
            "\n",
            "glove.6B.zip        100%[===================>] 822.24M  5.01MB/s    in 2m 41s  \n",
            "\n",
            "2022-02-22 13:50:55 (5.12 MB/s) - ‘glove.6B.zip’ saved [862182613/862182613]\n",
            "\n"
          ]
        }
      ]
    },
    {
      "cell_type": "code",
      "source": [
        "#!unzip -q glove.6B.zip"
      ],
      "metadata": {
        "id": "XFpYBG4Zt7Jd"
      },
      "id": "XFpYBG4Zt7Jd",
      "execution_count": null,
      "outputs": []
    },
    {
      "cell_type": "code",
      "source": [
        "path_to_glove_file = os.path.join(datasets_directory,\"glove.6B.100d.txt\")\n",
        "\n",
        "embeddings_index = {}\n",
        "with open(path_to_glove_file) as f:\n",
        "    for line in f:\n",
        "        word, coefs = line.split(maxsplit=1)\n",
        "        coefs = np.fromstring(coefs, \"f\", sep=\" \")\n",
        "        embeddings_index[word] = coefs\n",
        "\n",
        "print(\"Found %s word vectors.\" % len(embeddings_index))"
      ],
      "metadata": {
        "colab": {
          "base_uri": "https://localhost:8080/"
        },
        "id": "BRWwqybAt8MU",
        "outputId": "74bcaf16-23fe-4366-bf08-1cc5076838e5"
      },
      "id": "BRWwqybAt8MU",
      "execution_count": 46,
      "outputs": [
        {
          "output_type": "stream",
          "name": "stdout",
          "text": [
            "Found 400000 word vectors.\n"
          ]
        }
      ]
    },
    {
      "cell_type": "code",
      "source": [
        "voc = vectorizer.get_vocabulary()\n",
        "word_index = dict(zip(voc, range(len(voc))))"
      ],
      "metadata": {
        "id": "zM2ezHh11Zgj"
      },
      "id": "zM2ezHh11Zgj",
      "execution_count": 47,
      "outputs": []
    },
    {
      "cell_type": "code",
      "source": [
        "print(voc)"
      ],
      "metadata": {
        "colab": {
          "base_uri": "https://localhost:8080/"
        },
        "id": "6KtF8i7I2ztt",
        "outputId": "60bd8540-5e7f-493d-da56-34cbfb57d109"
      },
      "id": "6KtF8i7I2ztt",
      "execution_count": 48,
      "outputs": [
        {
          "output_type": "stream",
          "name": "stdout",
          "text": [
            "['', '[UNK]', 'they', 'to', 'it', 'a', 'you', 'have', 'and', 'the', 'on', 'thats', 'phones', 'phone', 'people', 'or', 'do', 'always', 'while', 'when', 'their', 'still', 'some', 'really', 'no', 'know', 'is', 'in', 'how', 'driving', 'contact', 'can', 'because', 'be', 'are', 'which', 'where', 'way', 'thing', 'that', 'text', 'someone', 'of', 'like', 'just', 'if', 'going', 'either', 'certain', 'apps', 'with', 'why', 'what', 'ways', 'want', 'videos', 'up', 'united', 'twitter', 'tweet', 'today', 'think', 'theyre', 'theres', 'there', 'than', 'texting', 'suicide', 'stupid', 'stuff', 'stop', 'states', 'start', 'sometimes', 'social', 'so', 'snapchat', 'serious', 'sent', 'says', 'save', 'rooms', 'remember', 'puzzled', 'problems', 'posting', 'persons', 'out', 'our', 'only', 'one', 'obey', 'number', 'not', 'news', 'mysterious', 'moves', 'more', 'modern', 'might', 'messages', 'media', 'matter', 'makes', 'make', 'looking', 'live', 'kill', 'its', 'involve', 'instagram', 'injury', 'important', 'im', 'humans', 'hours', 'he', 'happens', 'group', 'get', 'generation', 'from', 'friend', 'freak', 'forward', 'facebook', 'even', 'end', 'due', 'dont', 'doing', 'different', 'did', 'death', 'day', 'consequences', 'communicate', 'comes', 'class', 'chats', 'changed', 'cause', 'called', 'by', 'but', 'ban', 'badly', 'bad', 'back', 'away', 'around', 'areas', 'an', 'all', 'accident', 'about', '5']\n"
          ]
        }
      ]
    },
    {
      "cell_type": "code",
      "source": [
        "print(word_index)"
      ],
      "metadata": {
        "colab": {
          "base_uri": "https://localhost:8080/"
        },
        "id": "wiJmbVVi222e",
        "outputId": "a685a4d0-ed88-4b29-f32d-43b0f3e3b639"
      },
      "id": "wiJmbVVi222e",
      "execution_count": 49,
      "outputs": [
        {
          "output_type": "stream",
          "name": "stdout",
          "text": [
            "{'': 0, '[UNK]': 1, 'they': 2, 'to': 3, 'it': 4, 'a': 5, 'you': 6, 'have': 7, 'and': 8, 'the': 9, 'on': 10, 'thats': 11, 'phones': 12, 'phone': 13, 'people': 14, 'or': 15, 'do': 16, 'always': 17, 'while': 18, 'when': 19, 'their': 20, 'still': 21, 'some': 22, 'really': 23, 'no': 24, 'know': 25, 'is': 26, 'in': 27, 'how': 28, 'driving': 29, 'contact': 30, 'can': 31, 'because': 32, 'be': 33, 'are': 34, 'which': 35, 'where': 36, 'way': 37, 'thing': 38, 'that': 39, 'text': 40, 'someone': 41, 'of': 42, 'like': 43, 'just': 44, 'if': 45, 'going': 46, 'either': 47, 'certain': 48, 'apps': 49, 'with': 50, 'why': 51, 'what': 52, 'ways': 53, 'want': 54, 'videos': 55, 'up': 56, 'united': 57, 'twitter': 58, 'tweet': 59, 'today': 60, 'think': 61, 'theyre': 62, 'theres': 63, 'there': 64, 'than': 65, 'texting': 66, 'suicide': 67, 'stupid': 68, 'stuff': 69, 'stop': 70, 'states': 71, 'start': 72, 'sometimes': 73, 'social': 74, 'so': 75, 'snapchat': 76, 'serious': 77, 'sent': 78, 'says': 79, 'save': 80, 'rooms': 81, 'remember': 82, 'puzzled': 83, 'problems': 84, 'posting': 85, 'persons': 86, 'out': 87, 'our': 88, 'only': 89, 'one': 90, 'obey': 91, 'number': 92, 'not': 93, 'news': 94, 'mysterious': 95, 'moves': 96, 'more': 97, 'modern': 98, 'might': 99, 'messages': 100, 'media': 101, 'matter': 102, 'makes': 103, 'make': 104, 'looking': 105, 'live': 106, 'kill': 107, 'its': 108, 'involve': 109, 'instagram': 110, 'injury': 111, 'important': 112, 'im': 113, 'humans': 114, 'hours': 115, 'he': 116, 'happens': 117, 'group': 118, 'get': 119, 'generation': 120, 'from': 121, 'friend': 122, 'freak': 123, 'forward': 124, 'facebook': 125, 'even': 126, 'end': 127, 'due': 128, 'dont': 129, 'doing': 130, 'different': 131, 'did': 132, 'death': 133, 'day': 134, 'consequences': 135, 'communicate': 136, 'comes': 137, 'class': 138, 'chats': 139, 'changed': 140, 'cause': 141, 'called': 142, 'by': 143, 'but': 144, 'ban': 145, 'badly': 146, 'bad': 147, 'back': 148, 'away': 149, 'around': 150, 'areas': 151, 'an': 152, 'all': 153, 'accident': 154, 'about': 155, '5': 156}\n"
          ]
        }
      ]
    },
    {
      "cell_type": "code",
      "source": [
        "num_tokens = len(voc) + 2\n",
        "embedding_dim = 100\n",
        "hits = 0\n",
        "misses = 0\n",
        "\n",
        "# Prepare embedding matrix\n",
        "embedding_matrix = np.zeros((num_tokens, embedding_dim))\n",
        "for word, i in word_index.items():\n",
        "    embedding_vector = embeddings_index.get(word)\n",
        "    if embedding_vector is not None:\n",
        "        # Words not found in embedding index will be all-zeros.\n",
        "        # This includes the representation for \"padding\" and \"OOV\"\n",
        "        embedding_matrix[i] = embedding_vector\n",
        "        hits += 1\n",
        "    else:\n",
        "        misses += 1\n",
        "print(\"Converted %d words (%d misses)\" % (hits, misses))\n"
      ],
      "metadata": {
        "colab": {
          "base_uri": "https://localhost:8080/"
        },
        "id": "3DUg9-Ps1BwE",
        "outputId": "08704300-52c4-4dce-a65b-76aa264dcfb3"
      },
      "id": "3DUg9-Ps1BwE",
      "execution_count": 50,
      "outputs": [
        {
          "output_type": "stream",
          "name": "stdout",
          "text": [
            "Converted 155 words (2 misses)\n"
          ]
        }
      ]
    },
    {
      "cell_type": "code",
      "source": [
        "from tensorflow.keras.layers import Embedding\n",
        "from tensorflow.keras.initializers import Constant"
      ],
      "metadata": {
        "id": "x8xonAs83I8P"
      },
      "id": "x8xonAs83I8P",
      "execution_count": 51,
      "outputs": []
    },
    {
      "cell_type": "code",
      "source": [
        "embedding_layer = Embedding(\n",
        "    num_tokens,\n",
        "    embedding_dim,\n",
        "    embeddings_initializer=Constant(embedding_matrix),\n",
        "    trainable=False,\n",
        ")"
      ],
      "metadata": {
        "id": "ZUvhNhru1AV8"
      },
      "id": "ZUvhNhru1AV8",
      "execution_count": 52,
      "outputs": []
    },
    {
      "cell_type": "code",
      "source": [
        "from tensorflow.keras import layers\n",
        "from tensorflow.keras import Input\n",
        "from tensorflow.keras import Model"
      ],
      "metadata": {
        "id": "vy8JEcXb3gLt"
      },
      "id": "vy8JEcXb3gLt",
      "execution_count": 53,
      "outputs": []
    },
    {
      "cell_type": "code",
      "source": [
        "# The class names should be the categories we are looking for.\n",
        "# right now use 1 and 0!\n",
        "class_names = [\"1\",\"0\"]"
      ],
      "metadata": {
        "id": "_BUMgkbq4T6G"
      },
      "id": "_BUMgkbq4T6G",
      "execution_count": null,
      "outputs": []
    },
    {
      "cell_type": "code",
      "source": [
        "int_sequences_input = Input(shape=(None,), dtype=\"int64\")\n",
        "embedded_sequences = embedding_layer(int_sequences_input)\n",
        "x = layers.Conv1D(128, 5, activation=\"relu\")(embedded_sequences)\n",
        "x = layers.MaxPooling1D(5)(x)\n",
        "x = layers.Conv1D(128, 5, activation=\"relu\")(x)\n",
        "x = layers.MaxPooling1D(5)(x)\n",
        "x = layers.Conv1D(128, 5, activation=\"relu\")(x)\n",
        "x = layers.GlobalMaxPooling1D()(x)\n",
        "x = layers.Dense(128, activation=\"relu\")(x)\n",
        "x = layers.Dropout(0.5)(x)\n",
        "preds = layers.Dense(len(class_names), activation=\"softmax\")(x)\n",
        "model = Model(int_sequences_input, preds)\n",
        "model.summary()"
      ],
      "metadata": {
        "colab": {
          "base_uri": "https://localhost:8080/"
        },
        "id": "TH4HkCKp3axS",
        "outputId": "95fb2385-65db-42b0-cb17-e1f71309280c"
      },
      "id": "TH4HkCKp3axS",
      "execution_count": 84,
      "outputs": [
        {
          "output_type": "stream",
          "name": "stdout",
          "text": [
            "Model: \"model\"\n",
            "_________________________________________________________________\n",
            " Layer (type)                Output Shape              Param #   \n",
            "=================================================================\n",
            " input_3 (InputLayer)        [(None, None)]            0         \n",
            "                                                                 \n",
            " embedding (Embedding)       (None, None, 100)         15900     \n",
            "                                                                 \n",
            " conv1d_3 (Conv1D)           (None, None, 128)         64128     \n",
            "                                                                 \n",
            " max_pooling1d_2 (MaxPooling  (None, None, 128)        0         \n",
            " 1D)                                                             \n",
            "                                                                 \n",
            " conv1d_4 (Conv1D)           (None, None, 128)         82048     \n",
            "                                                                 \n",
            " max_pooling1d_3 (MaxPooling  (None, None, 128)        0         \n",
            " 1D)                                                             \n",
            "                                                                 \n",
            " conv1d_5 (Conv1D)           (None, None, 128)         82048     \n",
            "                                                                 \n",
            " global_max_pooling1d_1 (Glo  (None, 128)              0         \n",
            " balMaxPooling1D)                                                \n",
            "                                                                 \n",
            " dense_1 (Dense)             (None, 128)               16512     \n",
            "                                                                 \n",
            " dropout_1 (Dropout)         (None, 128)               0         \n",
            "                                                                 \n",
            " dense_2 (Dense)             (None, 7)                 903       \n",
            "                                                                 \n",
            "=================================================================\n",
            "Total params: 261,539\n",
            "Trainable params: 245,639\n",
            "Non-trainable params: 15,900\n",
            "_________________________________________________________________\n"
          ]
        }
      ]
    },
    {
      "cell_type": "code",
      "source": [
        "x_train = vectorizer(np.array([[s] for s in train_samples])).numpy()\n",
        "x_test = vectorizer(np.array([[s] for s in test_samples])).numpy()"
      ],
      "metadata": {
        "id": "27IjS4tw4kkt"
      },
      "id": "27IjS4tw4kkt",
      "execution_count": 83,
      "outputs": []
    },
    {
      "cell_type": "code",
      "source": [
        "print(len(train_labels))"
      ],
      "metadata": {
        "colab": {
          "base_uri": "https://localhost:8080/"
        },
        "id": "wFy5L4Sb257X",
        "outputId": "aebe22f6-f806-40c7-f04b-883299fd8b05"
      },
      "id": "wFy5L4Sb257X",
      "execution_count": 92,
      "outputs": [
        {
          "output_type": "stream",
          "name": "stdout",
          "text": [
            "0\n"
          ]
        }
      ]
    },
    {
      "cell_type": "code",
      "source": [
        "y_train = np.array([[s] for s in train_labels])\n",
        "y_test = np.array([[s] for s in test_labels])"
      ],
      "metadata": {
        "id": "3KBUKc1j6Qsn"
      },
      "id": "3KBUKc1j6Qsn",
      "execution_count": 103,
      "outputs": []
    },
    {
      "cell_type": "code",
      "source": [
        "train_labels = range(0,class_index)\n",
        "test_labels = range(0,class_index)"
      ],
      "metadata": {
        "id": "-V3XwRwU89y4"
      },
      "id": "-V3XwRwU89y4",
      "execution_count": 86,
      "outputs": []
    },
    {
      "cell_type": "code",
      "source": [
        "model.compile(\n",
        "    loss=\"sparse_categorical_crossentropy\", optimizer=\"rmsprop\", metrics=[\"acc\"]\n",
        ")"
      ],
      "metadata": {
        "id": "JRPrIYE_7Fry"
      },
      "id": "JRPrIYE_7Fry",
      "execution_count": 90,
      "outputs": []
    },
    {
      "cell_type": "code",
      "source": [
        "#model.fit(x_train, y_train, batch_size=128, epochs=20, validation_data=(x_test, y_test))\n",
        "model.fit(x_train, y_train, batch_size=128, epochs=20)\n",
        "#model.fit(x_train,y_train)"
      ],
      "metadata": {
        "colab": {
          "base_uri": "https://localhost:8080/"
        },
        "id": "lEZ4pvLD7lSI",
        "outputId": "03de655d-7a70-4e3e-e608-a3f898f1ccaa"
      },
      "id": "lEZ4pvLD7lSI",
      "execution_count": 104,
      "outputs": [
        {
          "output_type": "stream",
          "name": "stdout",
          "text": [
            "Epoch 1/20\n",
            "143/143 [==============================] - 37s 246ms/step - loss: 1.3056 - acc: 0.5142\n",
            "Epoch 2/20\n",
            "143/143 [==============================] - 35s 245ms/step - loss: 1.2312 - acc: 0.5387\n",
            "Epoch 3/20\n",
            "143/143 [==============================] - 36s 252ms/step - loss: 1.2223 - acc: 0.5407\n",
            "Epoch 4/20\n",
            "143/143 [==============================] - 35s 245ms/step - loss: 1.2062 - acc: 0.5409\n",
            "Epoch 5/20\n",
            "143/143 [==============================] - 35s 244ms/step - loss: 1.1938 - acc: 0.5446\n",
            "Epoch 6/20\n",
            "143/143 [==============================] - 34s 241ms/step - loss: 1.1772 - acc: 0.5482\n",
            "Epoch 7/20\n",
            "143/143 [==============================] - 34s 240ms/step - loss: 1.1568 - acc: 0.5533\n",
            "Epoch 8/20\n",
            "143/143 [==============================] - 35s 242ms/step - loss: 1.1259 - acc: 0.5598\n",
            "Epoch 9/20\n",
            "143/143 [==============================] - 34s 238ms/step - loss: 1.0889 - acc: 0.5709\n",
            "Epoch 10/20\n",
            "143/143 [==============================] - 34s 240ms/step - loss: 1.0496 - acc: 0.5894\n",
            "Epoch 11/20\n",
            "143/143 [==============================] - 34s 240ms/step - loss: 1.0111 - acc: 0.6043\n",
            "Epoch 12/20\n",
            "143/143 [==============================] - 34s 241ms/step - loss: 0.9739 - acc: 0.6203\n",
            "Epoch 13/20\n",
            "143/143 [==============================] - 34s 239ms/step - loss: 0.9298 - acc: 0.6345\n",
            "Epoch 14/20\n",
            "143/143 [==============================] - 34s 240ms/step - loss: 0.8926 - acc: 0.6520\n",
            "Epoch 15/20\n",
            "143/143 [==============================] - 35s 242ms/step - loss: 0.8570 - acc: 0.6636\n",
            "Epoch 16/20\n",
            "143/143 [==============================] - 34s 241ms/step - loss: 0.8283 - acc: 0.6762\n",
            "Epoch 17/20\n",
            "143/143 [==============================] - 34s 238ms/step - loss: 0.7985 - acc: 0.6873\n",
            "Epoch 18/20\n",
            "143/143 [==============================] - 34s 239ms/step - loss: 0.7750 - acc: 0.6980\n",
            "Epoch 19/20\n",
            "143/143 [==============================] - 34s 237ms/step - loss: 0.7425 - acc: 0.7072\n",
            "Epoch 20/20\n",
            "143/143 [==============================] - 34s 240ms/step - loss: 0.7257 - acc: 0.7142\n"
          ]
        },
        {
          "output_type": "execute_result",
          "data": {
            "text/plain": [
              "<keras.callbacks.History at 0x7f213f464f10>"
            ]
          },
          "metadata": {},
          "execution_count": 104
        }
      ]
    },
    {
      "cell_type": "code",
      "source": [
        "y_result = model.predict(x_test)"
      ],
      "metadata": {
        "id": "jHyN2DZ07o3o"
      },
      "id": "jHyN2DZ07o3o",
      "execution_count": 105,
      "outputs": []
    },
    {
      "cell_type": "code",
      "source": [
        "print(y_result)"
      ],
      "metadata": {
        "colab": {
          "base_uri": "https://localhost:8080/"
        },
        "id": "GY2ypfFU7zRl",
        "outputId": "12b773d3-5051-4c01-9326-984dfa81bbfa"
      },
      "id": "GY2ypfFU7zRl",
      "execution_count": 106,
      "outputs": [
        {
          "output_type": "stream",
          "name": "stdout",
          "text": [
            "[[6.5527499e-02 2.7321929e-01 2.0875375e-01 ... 5.7563640e-02\n",
            "  3.4215751e-01 9.2886870e-07]\n",
            " [6.5527499e-02 2.7321929e-01 2.0875375e-01 ... 5.7563640e-02\n",
            "  3.4215751e-01 9.2886870e-07]\n",
            " [6.5527499e-02 2.7321929e-01 2.0875375e-01 ... 5.7563640e-02\n",
            "  3.4215751e-01 9.2886870e-07]\n",
            " ...\n",
            " [6.5527499e-02 2.7321929e-01 2.0875375e-01 ... 5.7563640e-02\n",
            "  3.4215751e-01 9.2886870e-07]\n",
            " [6.5527499e-02 2.7321929e-01 2.0875375e-01 ... 5.7563640e-02\n",
            "  3.4215751e-01 9.2886870e-07]\n",
            " [6.5527491e-02 2.7321932e-01 2.0875376e-01 ... 5.7563636e-02\n",
            "  3.4215748e-01 9.2886853e-07]]\n"
          ]
        }
      ]
    },
    {
      "cell_type": "code",
      "source": [
        "y0 = y_result[0]"
      ],
      "metadata": {
        "id": "z-ryuHfa74lC"
      },
      "id": "z-ryuHfa74lC",
      "execution_count": 107,
      "outputs": []
    },
    {
      "cell_type": "code",
      "source": [
        "print(np.round(y0,1))"
      ],
      "metadata": {
        "colab": {
          "base_uri": "https://localhost:8080/"
        },
        "id": "dOYiq-VQ79ml",
        "outputId": "97f3b067-5e8f-4150-c22a-9a7365b4b98c"
      },
      "id": "dOYiq-VQ79ml",
      "execution_count": 112,
      "outputs": [
        {
          "output_type": "stream",
          "name": "stdout",
          "text": [
            "[0.1 0.3 0.2 0.1 0.1 0.3 0. ]\n"
          ]
        }
      ]
    },
    {
      "cell_type": "code",
      "source": [
        "yt0 = y_test[0]"
      ],
      "metadata": {
        "id": "IXMm3MAv8Bnz"
      },
      "id": "IXMm3MAv8Bnz",
      "execution_count": 109,
      "outputs": []
    },
    {
      "cell_type": "code",
      "source": [
        "print(yt0)"
      ],
      "metadata": {
        "colab": {
          "base_uri": "https://localhost:8080/"
        },
        "id": "F6Z1LPCE8F6O",
        "outputId": "ec139344-c744-4ddf-9528-17d8cf0546ca"
      },
      "id": "F6Z1LPCE8F6O",
      "execution_count": 110,
      "outputs": [
        {
          "output_type": "stream",
          "name": "stdout",
          "text": [
            "[1]\n"
          ]
        }
      ]
    },
    {
      "cell_type": "code",
      "source": [
        "tokens_essay = tokenize_text(test)"
      ],
      "metadata": {
        "id": "JLDuK-ihdJ2t"
      },
      "id": "JLDuK-ihdJ2t",
      "execution_count": null,
      "outputs": []
    },
    {
      "cell_type": "code",
      "source": [
        "print(tokens_essay)"
      ],
      "metadata": {
        "colab": {
          "base_uri": "https://localhost:8080/"
        },
        "id": "XXuhPuCHdZAD",
        "outputId": "d054ce56-8e72-4854-81d4-4de5a5425a53"
      },
      "id": "XXuhPuCHdZAD",
      "execution_count": null,
      "outputs": [
        {
          "output_type": "stream",
          "name": "stdout",
          "text": [
            "['modern', 'humans', 'today', 'are', 'always', 'on', 'their', 'phone', 'they', 'are', 'always', 'on', 'their', 'phone', 'more', 'than', 'hours', 'day', 'no', 'stop', '.all', 'they', 'do', 'is', 'text', 'back', 'and', 'forward', 'and', 'just', 'have', 'group', 'chats', 'on', 'social', 'media', 'they', 'even', 'do', 'it', 'while', 'driving', 'they', 'are', 'some', 'really', 'bad', 'consequences', 'when', 'stuff', 'happens', 'when', 'it', 'comes', 'to', 'phone', 'some', 'certain', 'areas', 'in', 'the', 'united', 'states', 'ban', 'phones', 'from', 'class', 'rooms', 'just', 'because', 'of', 'it.when', 'people', 'have', 'phones', 'they', 'know', 'about', 'certain', 'apps', 'that', 'they', 'have', '.apps', 'like', 'facebook', 'twitter', 'instagram', 'and', 'snapchat', 'so', 'like', 'if', 'friend', 'moves', 'away', 'and', 'you', 'want', 'to', 'be', 'in', 'contact', 'you', 'can', 'still', 'be', 'in', 'contact', 'by', 'posting', 'videos', 'or', 'text', 'messages', 'people', 'always', 'have', 'different', 'ways', 'how', 'to', 'communicate', 'with', 'phone', 'phones', 'have', 'changed', 'due', 'to', 'our', 'generation.driving', 'is', 'one', 'of', 'the', 'way', 'how', 'to', 'get', 'around', 'people', 'always', 'be', 'on', 'their', 'phones', 'while', 'doing', 'it', 'which', 'can', 'cause', 'serious', 'problems', 'that', \"'s\", 'why', 'there', \"'s\", 'thing', 'that', \"'s\", 'called', 'no', 'texting', 'while', 'driving', 'that', \"'s\", 'really', 'important', 'thing', 'to', 'remember', 'some', 'people', 'still', 'do', 'it', 'because', 'they', 'think', 'it', \"'s\", 'stupid', 'no', 'matter', 'what', 'they', 'do', 'they', 'still', 'have', 'to', 'obey', 'it', 'because', 'that', \"'s\", 'the', 'only', 'way', 'how', 'did', 'he', 'save.sometimes', 'on', 'the', 'news', 'there', 'is', 'either', 'an', 'accident', 'or', 'suicide', 'it', 'might', 'involve', 'someone', 'not', 'looking', 'where', 'they', \"'re\", 'going', 'or', 'tweet', 'that', 'someone', 'sent', 'it', 'either', 'injury', 'or', 'death', 'if', 'mysterious', 'number', 'says', \"'m\", 'going', 'to', 'kill', 'you', 'and', 'they', 'know', 'where', 'you', 'live', 'but', 'you', 'do', \"n't\", 'know', 'the', 'person', \"'s\", 'contact', 'it', 'makes', 'you', 'puzzled', 'and', 'make', 'you', 'start', 'to', 'freak', 'out', 'which', 'can', 'end', 'up', 'really', 'badly']\n"
          ]
        }
      ]
    },
    {
      "cell_type": "code",
      "source": [
        "tokens_discourse = tokenize_text(discourse)"
      ],
      "metadata": {
        "id": "psjjzAbcddU5"
      },
      "id": "psjjzAbcddU5",
      "execution_count": null,
      "outputs": []
    },
    {
      "cell_type": "code",
      "source": [
        "print(tokens_discourse)"
      ],
      "metadata": {
        "colab": {
          "base_uri": "https://localhost:8080/"
        },
        "id": "EfQT9yBfdhpP",
        "outputId": "d17c0130-792a-4efd-dc2a-9072a6b0e51f"
      },
      "id": "EfQT9yBfdhpP",
      "execution_count": null,
      "outputs": [
        {
          "output_type": "stream",
          "name": "stdout",
          "text": [
            "['humans', 'today', 'are', 'always', 'on', 'their', 'phone', 'they', 'are', 'always', 'on', 'their', 'phone', 'more', 'than', 'hours', 'day', 'no', 'stop', 'all', 'they', 'do', 'is', 'text', 'back', 'and', 'forward', 'and', 'just', 'have', 'group', 'chats', 'on', 'social', 'media', 'they', 'even', 'do', 'it', 'while', 'driving', 'they', 'are']\n"
          ]
        }
      ]
    },
    {
      "cell_type": "code",
      "source": [
        "discourses = train_df[train_df[\"id\"] == \"423A1CA112E2\"]"
      ],
      "metadata": {
        "id": "JYcVa7Fxd9yD"
      },
      "id": "JYcVa7Fxd9yD",
      "execution_count": null,
      "outputs": []
    },
    {
      "cell_type": "code",
      "source": [
        "print(discourses)"
      ],
      "metadata": {
        "colab": {
          "base_uri": "https://localhost:8080/"
        },
        "id": "R6qqslyrepNk",
        "outputId": "4e5622cc-3452-4f8d-874d-e163f11e5a4c"
      },
      "id": "R6qqslyrepNk",
      "execution_count": null,
      "outputs": [
        {
          "output_type": "stream",
          "name": "stdout",
          "text": [
            "             id  ...                                   predictionstring\n",
            "0  423A1CA112E2  ...  1 2 3 4 5 6 7 8 9 10 11 12 13 14 15 16 17 18 1...\n",
            "1  423A1CA112E2  ...       45 46 47 48 49 50 51 52 53 54 55 56 57 58 59\n",
            "2  423A1CA112E2  ...    60 61 62 63 64 65 66 67 68 69 70 71 72 73 74 75\n",
            "3  423A1CA112E2  ...  76 77 78 79 80 81 82 83 84 85 86 87 88 89 90 9...\n",
            "4  423A1CA112E2  ...  139 140 141 142 143 144 145 146 147 148 149 15...\n",
            "5  423A1CA112E2  ...  163 164 165 166 167 168 169 170 171 172 173 17...\n",
            "6  423A1CA112E2  ...  211 212 213 214 215 216 217 218 219 220 221 22...\n",
            "7  423A1CA112E2  ...  282 283 284 285 286 287 288 289 290 291 292 29...\n",
            "8  423A1CA112E2  ...  297 298 299 300 301 302 303 304 305 306 307 30...\n",
            "9  423A1CA112E2  ...  355 356 357 358 359 360 361 362 363 364 365 36...\n",
            "\n",
            "[10 rows x 8 columns]\n"
          ]
        }
      ]
    },
    {
      "cell_type": "code",
      "source": [
        "discourses.shape"
      ],
      "metadata": {
        "colab": {
          "base_uri": "https://localhost:8080/"
        },
        "id": "3BO36YT1et04",
        "outputId": "d9eb7d4e-850e-4fe9-a302-279a23ea70a7"
      },
      "id": "3BO36YT1et04",
      "execution_count": null,
      "outputs": [
        {
          "output_type": "execute_result",
          "data": {
            "text/plain": [
              "(10, 8)"
            ]
          },
          "metadata": {},
          "execution_count": 55
        }
      ]
    },
    {
      "cell_type": "code",
      "source": [
        "discourse1 = discourses.iloc[0]"
      ],
      "metadata": {
        "id": "ZOL622Ube7SZ"
      },
      "id": "ZOL622Ube7SZ",
      "execution_count": null,
      "outputs": []
    },
    {
      "cell_type": "code",
      "source": [
        "print(discourses)"
      ],
      "metadata": {
        "colab": {
          "base_uri": "https://localhost:8080/"
        },
        "id": "csIERJ57fM12",
        "outputId": "d6336cf2-b750-4079-85d9-64e80b484d63"
      },
      "id": "csIERJ57fM12",
      "execution_count": null,
      "outputs": [
        {
          "output_type": "stream",
          "name": "stdout",
          "text": [
            "             id  ...                                   predictionstring\n",
            "0  423A1CA112E2  ...  1 2 3 4 5 6 7 8 9 10 11 12 13 14 15 16 17 18 1...\n",
            "1  423A1CA112E2  ...       45 46 47 48 49 50 51 52 53 54 55 56 57 58 59\n",
            "2  423A1CA112E2  ...    60 61 62 63 64 65 66 67 68 69 70 71 72 73 74 75\n",
            "3  423A1CA112E2  ...  76 77 78 79 80 81 82 83 84 85 86 87 88 89 90 9...\n",
            "4  423A1CA112E2  ...  139 140 141 142 143 144 145 146 147 148 149 15...\n",
            "5  423A1CA112E2  ...  163 164 165 166 167 168 169 170 171 172 173 17...\n",
            "6  423A1CA112E2  ...  211 212 213 214 215 216 217 218 219 220 221 22...\n",
            "7  423A1CA112E2  ...  282 283 284 285 286 287 288 289 290 291 292 29...\n",
            "8  423A1CA112E2  ...  297 298 299 300 301 302 303 304 305 306 307 30...\n",
            "9  423A1CA112E2  ...  355 356 357 358 359 360 361 362 363 364 365 36...\n",
            "\n",
            "[10 rows x 8 columns]\n"
          ]
        }
      ]
    },
    {
      "cell_type": "code",
      "source": [
        "print(discourse1)"
      ],
      "metadata": {
        "colab": {
          "base_uri": "https://localhost:8080/"
        },
        "id": "np3Emcx1fPx7",
        "outputId": "d94fd08c-e124-476c-a679-c9c94b077c81"
      },
      "id": "np3Emcx1fPx7",
      "execution_count": null,
      "outputs": [
        {
          "output_type": "stream",
          "name": "stdout",
          "text": [
            "id                                                         423A1CA112E2\n",
            "discourse_id                                            1622627660524.0\n",
            "discourse_start                                                     8.0\n",
            "discourse_end                                                     229.0\n",
            "discourse_text        Modern humans today are always on their phone....\n",
            "discourse_type                                                     Lead\n",
            "discourse_type_num                                               Lead 1\n",
            "predictionstring      1 2 3 4 5 6 7 8 9 10 11 12 13 14 15 16 17 18 1...\n",
            "Name: 0, dtype: object\n"
          ]
        }
      ]
    },
    {
      "cell_type": "code",
      "source": [
        "prediction_string = discourse1[\"predictionstring\"]"
      ],
      "metadata": {
        "id": "JhxXucscffp8"
      },
      "id": "JhxXucscffp8",
      "execution_count": null,
      "outputs": []
    },
    {
      "cell_type": "code",
      "source": [
        "print(prediction_string)"
      ],
      "metadata": {
        "colab": {
          "base_uri": "https://localhost:8080/"
        },
        "id": "qxbs3DuefuJh",
        "outputId": "93a70d94-b0d6-432c-c9f9-0c65e731b72e"
      },
      "id": "qxbs3DuefuJh",
      "execution_count": null,
      "outputs": [
        {
          "output_type": "stream",
          "name": "stdout",
          "text": [
            "1 2 3 4 5 6 7 8 9 10 11 12 13 14 15 16 17 18 19 20 21 22 23 24 25 26 27 28 29 30 31 32 33 34 35 36 37 38 39 40 41 42 43 44\n"
          ]
        }
      ]
    },
    {
      "cell_type": "code",
      "source": [
        "discourse_text = discourse1[\"discourse_text\"]"
      ],
      "metadata": {
        "id": "I0Oxn8xnf92O"
      },
      "id": "I0Oxn8xnf92O",
      "execution_count": null,
      "outputs": []
    },
    {
      "cell_type": "code",
      "source": [
        "print(discourse_text)"
      ],
      "metadata": {
        "colab": {
          "base_uri": "https://localhost:8080/"
        },
        "id": "km_WifIRgFyG",
        "outputId": "692d384b-0d75-4c86-8a3a-e7e7ac4ccb80"
      },
      "id": "km_WifIRgFyG",
      "execution_count": null,
      "outputs": [
        {
          "output_type": "stream",
          "name": "stdout",
          "text": [
            "Modern humans today are always on their phone. They are always on their phone more than 5 hours a day no stop .All they do is text back and forward and just have group Chats on social media. They even do it while driving.\n"
          ]
        }
      ]
    },
    {
      "cell_type": "code",
      "source": [
        "###### Example from TESU DSI 611 Final Project"
      ],
      "metadata": {
        "id": "cnme2oPsEdiQ"
      },
      "id": "cnme2oPsEdiQ",
      "execution_count": null,
      "outputs": []
    },
    {
      "cell_type": "code",
      "source": [
        "##### Select Discourse Type = Lead"
      ],
      "metadata": {
        "id": "9DzUlZ8AGRb0"
      },
      "id": "9DzUlZ8AGRb0",
      "execution_count": null,
      "outputs": []
    },
    {
      "cell_type": "code",
      "source": [
        "train_df.info()"
      ],
      "metadata": {
        "colab": {
          "base_uri": "https://localhost:8080/"
        },
        "id": "kPG1kPHkJsM2",
        "outputId": "b007f234-a3f1-4759-accc-9b788edf8c84"
      },
      "id": "kPG1kPHkJsM2",
      "execution_count": 55,
      "outputs": [
        {
          "output_type": "stream",
          "name": "stdout",
          "text": [
            "<class 'pandas.core.frame.DataFrame'>\n",
            "RangeIndex: 144293 entries, 0 to 144292\n",
            "Data columns (total 8 columns):\n",
            " #   Column              Non-Null Count   Dtype  \n",
            "---  ------              --------------   -----  \n",
            " 0   id                  144293 non-null  object \n",
            " 1   discourse_id        144293 non-null  float64\n",
            " 2   discourse_start     144293 non-null  float64\n",
            " 3   discourse_end       144293 non-null  float64\n",
            " 4   discourse_text      144293 non-null  object \n",
            " 5   discourse_type      144293 non-null  object \n",
            " 6   discourse_type_num  144293 non-null  object \n",
            " 7   predictionstring    144293 non-null  object \n",
            "dtypes: float64(3), object(5)\n",
            "memory usage: 8.8+ MB\n"
          ]
        }
      ]
    },
    {
      "cell_type": "code",
      "source": [
        "essays_group = train_df.groupby(['id'])"
      ],
      "metadata": {
        "id": "OuBifVQNJx-b"
      },
      "id": "OuBifVQNJx-b",
      "execution_count": 56,
      "outputs": []
    },
    {
      "cell_type": "code",
      "source": [
        "essay_test = retrieveEssay(\"0027FC00C35B\")"
      ],
      "metadata": {
        "colab": {
          "base_uri": "https://localhost:8080/",
          "height": 432
        },
        "id": "I3U9mjzjYdmo",
        "outputId": "af4e8559-40a6-41c0-b037-5b849b65d314"
      },
      "id": "I3U9mjzjYdmo",
      "execution_count": 57,
      "outputs": [
        {
          "output_type": "error",
          "ename": "ParserError",
          "evalue": "ignored",
          "traceback": [
            "\u001b[0;31m---------------------------------------------------------------------------\u001b[0m",
            "\u001b[0;31mError\u001b[0m                                     Traceback (most recent call last)",
            "\u001b[0;32m/usr/local/lib/python3.7/dist-packages/pandas/io/parsers/python_parser.py\u001b[0m in \u001b[0;36m_next_iter_line\u001b[0;34m(self, row_num)\u001b[0m\n\u001b[1;32m    741\u001b[0m             \u001b[0;32massert\u001b[0m \u001b[0mself\u001b[0m\u001b[0;34m.\u001b[0m\u001b[0mdata\u001b[0m \u001b[0;32mis\u001b[0m \u001b[0;32mnot\u001b[0m \u001b[0;32mNone\u001b[0m\u001b[0;34m\u001b[0m\u001b[0;34m\u001b[0m\u001b[0m\n\u001b[0;32m--> 742\u001b[0;31m             \u001b[0;32mreturn\u001b[0m \u001b[0mnext\u001b[0m\u001b[0;34m(\u001b[0m\u001b[0mself\u001b[0m\u001b[0;34m.\u001b[0m\u001b[0mdata\u001b[0m\u001b[0;34m)\u001b[0m\u001b[0;34m\u001b[0m\u001b[0;34m\u001b[0m\u001b[0m\n\u001b[0m\u001b[1;32m    743\u001b[0m         \u001b[0;32mexcept\u001b[0m \u001b[0mcsv\u001b[0m\u001b[0;34m.\u001b[0m\u001b[0mError\u001b[0m \u001b[0;32mas\u001b[0m \u001b[0me\u001b[0m\u001b[0;34m:\u001b[0m\u001b[0;34m\u001b[0m\u001b[0;34m\u001b[0m\u001b[0m\n",
            "\u001b[0;31mError\u001b[0m: '\t' expected after '\"'",
            "\nDuring handling of the above exception, another exception occurred:\n",
            "\u001b[0;31mParserError\u001b[0m                               Traceback (most recent call last)",
            "\u001b[0;32m<ipython-input-57-777eda3118d6>\u001b[0m in \u001b[0;36m<module>\u001b[0;34m()\u001b[0m\n\u001b[0;32m----> 1\u001b[0;31m \u001b[0messay_test\u001b[0m \u001b[0;34m=\u001b[0m \u001b[0mretrieveEssay\u001b[0m\u001b[0;34m(\u001b[0m\u001b[0;34m\"0027FC00C35B\"\u001b[0m\u001b[0;34m)\u001b[0m\u001b[0;34m\u001b[0m\u001b[0;34m\u001b[0m\u001b[0m\n\u001b[0m",
            "\u001b[0;32m<ipython-input-22-bb8be76758ee>\u001b[0m in \u001b[0;36mretrieveEssay\u001b[0;34m(essay_id)\u001b[0m\n\u001b[1;32m      1\u001b[0m \u001b[0;32mdef\u001b[0m \u001b[0mretrieveEssay\u001b[0m\u001b[0;34m(\u001b[0m\u001b[0messay_id\u001b[0m\u001b[0;34m)\u001b[0m\u001b[0;34m:\u001b[0m\u001b[0;34m\u001b[0m\u001b[0;34m\u001b[0m\u001b[0m\n\u001b[0;32m----> 2\u001b[0;31m   \u001b[0messay_text\u001b[0m \u001b[0;34m=\u001b[0m \u001b[0mretrieveWordage\u001b[0m\u001b[0;34m(\u001b[0m\u001b[0messay_id\u001b[0m\u001b[0;34m)\u001b[0m\u001b[0;34m\u001b[0m\u001b[0;34m\u001b[0m\u001b[0m\n\u001b[0m\u001b[1;32m      3\u001b[0m   \u001b[0messay_count\u001b[0m \u001b[0;34m=\u001b[0m \u001b[0mlen\u001b[0m\u001b[0;34m(\u001b[0m\u001b[0messay_text\u001b[0m\u001b[0;34m)\u001b[0m\u001b[0;34m\u001b[0m\u001b[0;34m\u001b[0m\u001b[0m\n\u001b[1;32m      4\u001b[0m   \u001b[0messay\u001b[0m \u001b[0;34m=\u001b[0m \u001b[0;34m\"\"\u001b[0m\u001b[0;34m\u001b[0m\u001b[0;34m\u001b[0m\u001b[0m\n\u001b[1;32m      5\u001b[0m   \u001b[0;32mfor\u001b[0m \u001b[0mi\u001b[0m \u001b[0;32min\u001b[0m \u001b[0mrange\u001b[0m\u001b[0;34m(\u001b[0m\u001b[0;36m0\u001b[0m\u001b[0;34m,\u001b[0m\u001b[0messay_count\u001b[0m\u001b[0;34m-\u001b[0m\u001b[0;36m1\u001b[0m\u001b[0;34m)\u001b[0m\u001b[0;34m:\u001b[0m\u001b[0;34m\u001b[0m\u001b[0;34m\u001b[0m\u001b[0m\n",
            "\u001b[0;32m<ipython-input-20-d7acdd26e74e>\u001b[0m in \u001b[0;36mretrieveWordage\u001b[0;34m(essay_id)\u001b[0m\n\u001b[1;32m      2\u001b[0m   \u001b[0messay_filename\u001b[0m \u001b[0;34m=\u001b[0m \u001b[0messay_id\u001b[0m \u001b[0;34m+\u001b[0m \u001b[0;34m\".txt\"\u001b[0m\u001b[0;34m\u001b[0m\u001b[0;34m\u001b[0m\u001b[0m\n\u001b[1;32m      3\u001b[0m   \u001b[0messay_filepath\u001b[0m \u001b[0;34m=\u001b[0m \u001b[0mos\u001b[0m\u001b[0;34m.\u001b[0m\u001b[0mpath\u001b[0m\u001b[0;34m.\u001b[0m\u001b[0mjoin\u001b[0m\u001b[0;34m(\u001b[0m\u001b[0mcorpus_directory\u001b[0m\u001b[0;34m,\u001b[0m\u001b[0messay_filename\u001b[0m\u001b[0;34m)\u001b[0m\u001b[0;34m\u001b[0m\u001b[0;34m\u001b[0m\u001b[0m\n\u001b[0;32m----> 4\u001b[0;31m   \u001b[0messay_text\u001b[0m \u001b[0;34m=\u001b[0m \u001b[0mpd\u001b[0m\u001b[0;34m.\u001b[0m\u001b[0mread_table\u001b[0m\u001b[0;34m(\u001b[0m\u001b[0messay_filepath\u001b[0m\u001b[0;34m,\u001b[0m\u001b[0mheader\u001b[0m\u001b[0;34m=\u001b[0m\u001b[0;36m0\u001b[0m\u001b[0;34m,\u001b[0m\u001b[0mengine\u001b[0m\u001b[0;34m=\u001b[0m\u001b[0;34m'python'\u001b[0m\u001b[0;34m)\u001b[0m\u001b[0;34m\u001b[0m\u001b[0;34m\u001b[0m\u001b[0m\n\u001b[0m\u001b[1;32m      5\u001b[0m   \u001b[0messay_text\u001b[0m\u001b[0;34m.\u001b[0m\u001b[0mcolumns\u001b[0m \u001b[0;34m=\u001b[0m \u001b[0;34m[\u001b[0m\u001b[0;34m'narrative'\u001b[0m\u001b[0;34m]\u001b[0m\u001b[0;34m\u001b[0m\u001b[0;34m\u001b[0m\u001b[0m\n\u001b[1;32m      6\u001b[0m   \u001b[0;32mreturn\u001b[0m \u001b[0messay_text\u001b[0m\u001b[0;34m\u001b[0m\u001b[0;34m\u001b[0m\u001b[0m\n",
            "\u001b[0;32m/usr/local/lib/python3.7/dist-packages/pandas/util/_decorators.py\u001b[0m in \u001b[0;36mwrapper\u001b[0;34m(*args, **kwargs)\u001b[0m\n\u001b[1;32m    309\u001b[0m                     \u001b[0mstacklevel\u001b[0m\u001b[0;34m=\u001b[0m\u001b[0mstacklevel\u001b[0m\u001b[0;34m,\u001b[0m\u001b[0;34m\u001b[0m\u001b[0;34m\u001b[0m\u001b[0m\n\u001b[1;32m    310\u001b[0m                 )\n\u001b[0;32m--> 311\u001b[0;31m             \u001b[0;32mreturn\u001b[0m \u001b[0mfunc\u001b[0m\u001b[0;34m(\u001b[0m\u001b[0;34m*\u001b[0m\u001b[0margs\u001b[0m\u001b[0;34m,\u001b[0m \u001b[0;34m**\u001b[0m\u001b[0mkwargs\u001b[0m\u001b[0;34m)\u001b[0m\u001b[0;34m\u001b[0m\u001b[0;34m\u001b[0m\u001b[0m\n\u001b[0m\u001b[1;32m    312\u001b[0m \u001b[0;34m\u001b[0m\u001b[0m\n\u001b[1;32m    313\u001b[0m         \u001b[0;32mreturn\u001b[0m \u001b[0mwrapper\u001b[0m\u001b[0;34m\u001b[0m\u001b[0;34m\u001b[0m\u001b[0m\n",
            "\u001b[0;32m/usr/local/lib/python3.7/dist-packages/pandas/io/parsers/readers.py\u001b[0m in \u001b[0;36mread_table\u001b[0;34m(filepath_or_buffer, sep, delimiter, header, names, index_col, usecols, squeeze, prefix, mangle_dupe_cols, dtype, engine, converters, true_values, false_values, skipinitialspace, skiprows, skipfooter, nrows, na_values, keep_default_na, na_filter, verbose, skip_blank_lines, parse_dates, infer_datetime_format, keep_date_col, date_parser, dayfirst, cache_dates, iterator, chunksize, compression, thousands, decimal, lineterminator, quotechar, quoting, doublequote, escapechar, comment, encoding, dialect, error_bad_lines, warn_bad_lines, on_bad_lines, encoding_errors, delim_whitespace, low_memory, memory_map, float_precision)\u001b[0m\n\u001b[1;32m    681\u001b[0m     \u001b[0mkwds\u001b[0m\u001b[0;34m.\u001b[0m\u001b[0mupdate\u001b[0m\u001b[0;34m(\u001b[0m\u001b[0mkwds_defaults\u001b[0m\u001b[0;34m)\u001b[0m\u001b[0;34m\u001b[0m\u001b[0;34m\u001b[0m\u001b[0m\n\u001b[1;32m    682\u001b[0m \u001b[0;34m\u001b[0m\u001b[0m\n\u001b[0;32m--> 683\u001b[0;31m     \u001b[0;32mreturn\u001b[0m \u001b[0m_read\u001b[0m\u001b[0;34m(\u001b[0m\u001b[0mfilepath_or_buffer\u001b[0m\u001b[0;34m,\u001b[0m \u001b[0mkwds\u001b[0m\u001b[0;34m)\u001b[0m\u001b[0;34m\u001b[0m\u001b[0;34m\u001b[0m\u001b[0m\n\u001b[0m\u001b[1;32m    684\u001b[0m \u001b[0;34m\u001b[0m\u001b[0m\n\u001b[1;32m    685\u001b[0m \u001b[0;34m\u001b[0m\u001b[0m\n",
            "\u001b[0;32m/usr/local/lib/python3.7/dist-packages/pandas/io/parsers/readers.py\u001b[0m in \u001b[0;36m_read\u001b[0;34m(filepath_or_buffer, kwds)\u001b[0m\n\u001b[1;32m    486\u001b[0m \u001b[0;34m\u001b[0m\u001b[0m\n\u001b[1;32m    487\u001b[0m     \u001b[0;32mwith\u001b[0m \u001b[0mparser\u001b[0m\u001b[0;34m:\u001b[0m\u001b[0;34m\u001b[0m\u001b[0;34m\u001b[0m\u001b[0m\n\u001b[0;32m--> 488\u001b[0;31m         \u001b[0;32mreturn\u001b[0m \u001b[0mparser\u001b[0m\u001b[0;34m.\u001b[0m\u001b[0mread\u001b[0m\u001b[0;34m(\u001b[0m\u001b[0mnrows\u001b[0m\u001b[0;34m)\u001b[0m\u001b[0;34m\u001b[0m\u001b[0;34m\u001b[0m\u001b[0m\n\u001b[0m\u001b[1;32m    489\u001b[0m \u001b[0;34m\u001b[0m\u001b[0m\n\u001b[1;32m    490\u001b[0m \u001b[0;34m\u001b[0m\u001b[0m\n",
            "\u001b[0;32m/usr/local/lib/python3.7/dist-packages/pandas/io/parsers/readers.py\u001b[0m in \u001b[0;36mread\u001b[0;34m(self, nrows)\u001b[0m\n\u001b[1;32m   1045\u001b[0m     \u001b[0;32mdef\u001b[0m \u001b[0mread\u001b[0m\u001b[0;34m(\u001b[0m\u001b[0mself\u001b[0m\u001b[0;34m,\u001b[0m \u001b[0mnrows\u001b[0m\u001b[0;34m=\u001b[0m\u001b[0;32mNone\u001b[0m\u001b[0;34m)\u001b[0m\u001b[0;34m:\u001b[0m\u001b[0;34m\u001b[0m\u001b[0;34m\u001b[0m\u001b[0m\n\u001b[1;32m   1046\u001b[0m         \u001b[0mnrows\u001b[0m \u001b[0;34m=\u001b[0m \u001b[0mvalidate_integer\u001b[0m\u001b[0;34m(\u001b[0m\u001b[0;34m\"nrows\"\u001b[0m\u001b[0;34m,\u001b[0m \u001b[0mnrows\u001b[0m\u001b[0;34m)\u001b[0m\u001b[0;34m\u001b[0m\u001b[0;34m\u001b[0m\u001b[0m\n\u001b[0;32m-> 1047\u001b[0;31m         \u001b[0mindex\u001b[0m\u001b[0;34m,\u001b[0m \u001b[0mcolumns\u001b[0m\u001b[0;34m,\u001b[0m \u001b[0mcol_dict\u001b[0m \u001b[0;34m=\u001b[0m \u001b[0mself\u001b[0m\u001b[0;34m.\u001b[0m\u001b[0m_engine\u001b[0m\u001b[0;34m.\u001b[0m\u001b[0mread\u001b[0m\u001b[0;34m(\u001b[0m\u001b[0mnrows\u001b[0m\u001b[0;34m)\u001b[0m\u001b[0;34m\u001b[0m\u001b[0;34m\u001b[0m\u001b[0m\n\u001b[0m\u001b[1;32m   1048\u001b[0m \u001b[0;34m\u001b[0m\u001b[0m\n\u001b[1;32m   1049\u001b[0m         \u001b[0;32mif\u001b[0m \u001b[0mindex\u001b[0m \u001b[0;32mis\u001b[0m \u001b[0;32mNone\u001b[0m\u001b[0;34m:\u001b[0m\u001b[0;34m\u001b[0m\u001b[0;34m\u001b[0m\u001b[0m\n",
            "\u001b[0;32m/usr/local/lib/python3.7/dist-packages/pandas/io/parsers/python_parser.py\u001b[0m in \u001b[0;36mread\u001b[0;34m(self, rows)\u001b[0m\n\u001b[1;32m    244\u001b[0m     \u001b[0;32mdef\u001b[0m \u001b[0mread\u001b[0m\u001b[0;34m(\u001b[0m\u001b[0mself\u001b[0m\u001b[0;34m,\u001b[0m \u001b[0mrows\u001b[0m\u001b[0;34m=\u001b[0m\u001b[0;32mNone\u001b[0m\u001b[0;34m)\u001b[0m\u001b[0;34m:\u001b[0m\u001b[0;34m\u001b[0m\u001b[0;34m\u001b[0m\u001b[0m\n\u001b[1;32m    245\u001b[0m         \u001b[0;32mtry\u001b[0m\u001b[0;34m:\u001b[0m\u001b[0;34m\u001b[0m\u001b[0;34m\u001b[0m\u001b[0m\n\u001b[0;32m--> 246\u001b[0;31m             \u001b[0mcontent\u001b[0m \u001b[0;34m=\u001b[0m \u001b[0mself\u001b[0m\u001b[0;34m.\u001b[0m\u001b[0m_get_lines\u001b[0m\u001b[0;34m(\u001b[0m\u001b[0mrows\u001b[0m\u001b[0;34m)\u001b[0m\u001b[0;34m\u001b[0m\u001b[0;34m\u001b[0m\u001b[0m\n\u001b[0m\u001b[1;32m    247\u001b[0m         \u001b[0;32mexcept\u001b[0m \u001b[0mStopIteration\u001b[0m\u001b[0;34m:\u001b[0m\u001b[0;34m\u001b[0m\u001b[0;34m\u001b[0m\u001b[0m\n\u001b[1;32m    248\u001b[0m             \u001b[0;32mif\u001b[0m \u001b[0mself\u001b[0m\u001b[0;34m.\u001b[0m\u001b[0m_first_chunk\u001b[0m\u001b[0;34m:\u001b[0m\u001b[0;34m\u001b[0m\u001b[0;34m\u001b[0m\u001b[0m\n",
            "\u001b[0;32m/usr/local/lib/python3.7/dist-packages/pandas/io/parsers/python_parser.py\u001b[0m in \u001b[0;36m_get_lines\u001b[0;34m(self, rows)\u001b[0m\n\u001b[1;32m   1053\u001b[0m \u001b[0;34m\u001b[0m\u001b[0m\n\u001b[1;32m   1054\u001b[0m                         \u001b[0;32mwhile\u001b[0m \u001b[0;32mTrue\u001b[0m\u001b[0;34m:\u001b[0m\u001b[0;34m\u001b[0m\u001b[0;34m\u001b[0m\u001b[0m\n\u001b[0;32m-> 1055\u001b[0;31m                             \u001b[0mnew_row\u001b[0m \u001b[0;34m=\u001b[0m \u001b[0mself\u001b[0m\u001b[0;34m.\u001b[0m\u001b[0m_next_iter_line\u001b[0m\u001b[0;34m(\u001b[0m\u001b[0mrow_num\u001b[0m\u001b[0;34m=\u001b[0m\u001b[0mself\u001b[0m\u001b[0;34m.\u001b[0m\u001b[0mpos\u001b[0m \u001b[0;34m+\u001b[0m \u001b[0mrows\u001b[0m \u001b[0;34m+\u001b[0m \u001b[0;36m1\u001b[0m\u001b[0;34m)\u001b[0m\u001b[0;34m\u001b[0m\u001b[0;34m\u001b[0m\u001b[0m\n\u001b[0m\u001b[1;32m   1056\u001b[0m                             \u001b[0mrows\u001b[0m \u001b[0;34m+=\u001b[0m \u001b[0;36m1\u001b[0m\u001b[0;34m\u001b[0m\u001b[0;34m\u001b[0m\u001b[0m\n\u001b[1;32m   1057\u001b[0m \u001b[0;34m\u001b[0m\u001b[0m\n",
            "\u001b[0;32m/usr/local/lib/python3.7/dist-packages/pandas/io/parsers/python_parser.py\u001b[0m in \u001b[0;36m_next_iter_line\u001b[0;34m(self, row_num)\u001b[0m\n\u001b[1;32m    766\u001b[0m                     \u001b[0mmsg\u001b[0m \u001b[0;34m+=\u001b[0m \u001b[0;34m\". \"\u001b[0m \u001b[0;34m+\u001b[0m \u001b[0mreason\u001b[0m\u001b[0;34m\u001b[0m\u001b[0;34m\u001b[0m\u001b[0m\n\u001b[1;32m    767\u001b[0m \u001b[0;34m\u001b[0m\u001b[0m\n\u001b[0;32m--> 768\u001b[0;31m                 \u001b[0mself\u001b[0m\u001b[0;34m.\u001b[0m\u001b[0m_alert_malformed\u001b[0m\u001b[0;34m(\u001b[0m\u001b[0mmsg\u001b[0m\u001b[0;34m,\u001b[0m \u001b[0mrow_num\u001b[0m\u001b[0;34m)\u001b[0m\u001b[0;34m\u001b[0m\u001b[0;34m\u001b[0m\u001b[0m\n\u001b[0m\u001b[1;32m    769\u001b[0m             \u001b[0;32mreturn\u001b[0m \u001b[0;32mNone\u001b[0m\u001b[0;34m\u001b[0m\u001b[0;34m\u001b[0m\u001b[0m\n\u001b[1;32m    770\u001b[0m \u001b[0;34m\u001b[0m\u001b[0m\n",
            "\u001b[0;32m/usr/local/lib/python3.7/dist-packages/pandas/io/parsers/python_parser.py\u001b[0m in \u001b[0;36m_alert_malformed\u001b[0;34m(self, msg, row_num)\u001b[0m\n\u001b[1;32m    720\u001b[0m         \"\"\"\n\u001b[1;32m    721\u001b[0m         \u001b[0;32mif\u001b[0m \u001b[0mself\u001b[0m\u001b[0;34m.\u001b[0m\u001b[0mon_bad_lines\u001b[0m \u001b[0;34m==\u001b[0m \u001b[0mself\u001b[0m\u001b[0;34m.\u001b[0m\u001b[0mBadLineHandleMethod\u001b[0m\u001b[0;34m.\u001b[0m\u001b[0mERROR\u001b[0m\u001b[0;34m:\u001b[0m\u001b[0;34m\u001b[0m\u001b[0;34m\u001b[0m\u001b[0m\n\u001b[0;32m--> 722\u001b[0;31m             \u001b[0;32mraise\u001b[0m \u001b[0mParserError\u001b[0m\u001b[0;34m(\u001b[0m\u001b[0mmsg\u001b[0m\u001b[0;34m)\u001b[0m\u001b[0;34m\u001b[0m\u001b[0;34m\u001b[0m\u001b[0m\n\u001b[0m\u001b[1;32m    723\u001b[0m         \u001b[0;32melif\u001b[0m \u001b[0mself\u001b[0m\u001b[0;34m.\u001b[0m\u001b[0mon_bad_lines\u001b[0m \u001b[0;34m==\u001b[0m \u001b[0mself\u001b[0m\u001b[0;34m.\u001b[0m\u001b[0mBadLineHandleMethod\u001b[0m\u001b[0;34m.\u001b[0m\u001b[0mWARN\u001b[0m\u001b[0;34m:\u001b[0m\u001b[0;34m\u001b[0m\u001b[0;34m\u001b[0m\u001b[0m\n\u001b[1;32m    724\u001b[0m             \u001b[0mbase\u001b[0m \u001b[0;34m=\u001b[0m \u001b[0;34mf\"Skipping line {row_num}: \"\u001b[0m\u001b[0;34m\u001b[0m\u001b[0;34m\u001b[0m\u001b[0m\n",
            "\u001b[0;31mParserError\u001b[0m: '\t' expected after '\"'"
          ]
        }
      ]
    },
    {
      "cell_type": "code",
      "source": [
        "class_dict = {}\n",
        "samples = []\n",
        "labels = []\n",
        "class_index = 0\n",
        "for essay_id, essay_pd in essays_group:  \n",
        "  essay = retrieveEssay(essay_id)\n",
        "  discourse_count = len(essay_pd)\n",
        "  for i in range(0,discourse_count):\n",
        "    item = essay_pd.iloc[i,]\n",
        "    discourse_id = item['discourse_id']\n",
        "    discourse_start = item['discourse_start']\n",
        "    discourse_end = item['discourse_end']\n",
        "    discourse_type = item['discourse_type']\n",
        "    discourse_type = discourse_type.lower()\n",
        "    if class_dict.get(discourse_type) == None:\n",
        "      class_name_index = class_index\n",
        "      class_dict[discourse_type] = class_name_index\n",
        "      class_index += 1\n",
        "    else:\n",
        "      class_name_index = class_dict.get(discourse_type)\n",
        "    discourse = retrieveDiscourse(essay_id,discourse_id,discourse_start,discourse_end)\n",
        "    samples.append(discourse)\n",
        "    labels.append(class_name_index)"
      ],
      "metadata": {
        "colab": {
          "base_uri": "https://localhost:8080/"
        },
        "id": "NhON74f_LG_S",
        "outputId": "1f7121d4-3121-45d2-b766-c992a0c7f8ab"
      },
      "id": "NhON74f_LG_S",
      "execution_count": null,
      "outputs": [
        {
          "output_type": "stream",
          "name": "stderr",
          "text": [
            "/usr/local/lib/python3.7/dist-packages/ipykernel_launcher.py:2: FutureWarning: The error_bad_lines argument has been deprecated and will be removed in a future version.\n",
            "\n",
            "\n",
            "  \n",
            "Skipping line 27: '\t' expected after '\"'\n",
            "Skipping line 27: '\t' expected after '\"'\n",
            "Skipping line 27: '\t' expected after '\"'\n",
            "Skipping line 27: '\t' expected after '\"'\n",
            "Skipping line 27: '\t' expected after '\"'\n",
            "Skipping line 27: '\t' expected after '\"'\n",
            "Skipping line 27: '\t' expected after '\"'\n",
            "Skipping line 27: '\t' expected after '\"'\n",
            "Skipping line 27: '\t' expected after '\"'\n",
            "Skipping line 27: '\t' expected after '\"'\n",
            "Skipping line 27: '\t' expected after '\"'\n",
            "Skipping line 27: '\t' expected after '\"'\n",
            "Skipping line 27: '\t' expected after '\"'\n",
            "Skipping line 27: '\t' expected after '\"'\n",
            "Skipping line 27: '\t' expected after '\"'\n",
            "Skipping line 27: '\t' expected after '\"'\n",
            "Skipping line 1: '\t' expected after '\"'\n",
            "Skipping line 5: '\t' expected after '\"'\n",
            "Skipping line 1: '\t' expected after '\"'\n",
            "Skipping line 5: '\t' expected after '\"'\n",
            "Skipping line 1: '\t' expected after '\"'\n",
            "Skipping line 5: '\t' expected after '\"'\n",
            "Skipping line 1: '\t' expected after '\"'\n",
            "Skipping line 5: '\t' expected after '\"'\n",
            "Skipping line 1: '\t' expected after '\"'\n",
            "Skipping line 5: '\t' expected after '\"'\n",
            "Skipping line 1: '\t' expected after '\"'\n",
            "Skipping line 5: '\t' expected after '\"'\n",
            "Skipping line 1: '\t' expected after '\"'\n",
            "Skipping line 5: '\t' expected after '\"'\n",
            "Skipping line 1: '\t' expected after '\"'\n",
            "Skipping line 5: '\t' expected after '\"'\n",
            "Skipping line 1: '\t' expected after '\"'\n",
            "Skipping line 5: '\t' expected after '\"'\n",
            "Skipping line 1: '\t' expected after '\"'\n",
            "Skipping line 5: '\t' expected after '\"'\n",
            "Skipping line 1: '\t' expected after '\"'\n",
            "Skipping line 5: '\t' expected after '\"'\n",
            "Skipping line 1: '\t' expected after '\"'\n",
            "Skipping line 5: '\t' expected after '\"'\n",
            "Skipping line 3: '\t' expected after '\"'\n",
            "Skipping line 5: '\t' expected after '\"'\n",
            "Skipping line 3: '\t' expected after '\"'\n",
            "Skipping line 5: '\t' expected after '\"'\n",
            "Skipping line 3: '\t' expected after '\"'\n",
            "Skipping line 5: '\t' expected after '\"'\n",
            "Skipping line 3: '\t' expected after '\"'\n",
            "Skipping line 5: '\t' expected after '\"'\n",
            "Skipping line 3: '\t' expected after '\"'\n",
            "Skipping line 5: '\t' expected after '\"'\n",
            "Skipping line 3: '\t' expected after '\"'\n",
            "Skipping line 5: '\t' expected after '\"'\n",
            "Skipping line 3: '\t' expected after '\"'\n",
            "Skipping line 5: '\t' expected after '\"'\n",
            "Skipping line 3: '\t' expected after '\"'\n",
            "Skipping line 5: '\t' expected after '\"'\n",
            "Skipping line 19: '\t' expected after '\"'\n",
            "Skipping line 19: '\t' expected after '\"'\n",
            "Skipping line 19: '\t' expected after '\"'\n",
            "Skipping line 19: '\t' expected after '\"'\n",
            "Skipping line 19: '\t' expected after '\"'\n",
            "Skipping line 19: '\t' expected after '\"'\n",
            "Skipping line 19: '\t' expected after '\"'\n",
            "Skipping line 19: '\t' expected after '\"'\n",
            "Skipping line 19: '\t' expected after '\"'\n",
            "Skipping line 19: '\t' expected after '\"'\n",
            "Skipping line 19: '\t' expected after '\"'\n",
            "Skipping line 19: '\t' expected after '\"'\n",
            "Skipping line 5: '\t' expected after '\"'\n",
            "Skipping line 5: '\t' expected after '\"'\n",
            "Skipping line 5: '\t' expected after '\"'\n",
            "Skipping line 5: '\t' expected after '\"'\n",
            "Skipping line 5: '\t' expected after '\"'\n",
            "Skipping line 5: '\t' expected after '\"'\n",
            "Skipping line 5: '\t' expected after '\"'\n",
            "Skipping line 5: '\t' expected after '\"'\n",
            "Skipping line 5: '\t' expected after '\"'\n",
            "Skipping line 5: '\t' expected after '\"'\n",
            "Skipping line 1: '\t' expected after '\"'\n",
            "Skipping line 1: '\t' expected after '\"'\n",
            "Skipping line 1: '\t' expected after '\"'\n",
            "Skipping line 1: '\t' expected after '\"'\n",
            "Skipping line 1: '\t' expected after '\"'\n",
            "Skipping line 1: '\t' expected after '\"'\n",
            "Skipping line 1: '\t' expected after '\"'\n",
            "Skipping line 1: '\t' expected after '\"'\n",
            "Skipping line 7: '\t' expected after '\"'\n",
            "Skipping line 7: '\t' expected after '\"'\n",
            "Skipping line 7: '\t' expected after '\"'\n",
            "Skipping line 7: '\t' expected after '\"'\n",
            "Skipping line 7: '\t' expected after '\"'\n",
            "Skipping line 7: '\t' expected after '\"'\n",
            "Skipping line 7: '\t' expected after '\"'\n",
            "Skipping line 7: '\t' expected after '\"'\n",
            "Skipping line 5: '\t' expected after '\"'\n",
            "Skipping line 5: '\t' expected after '\"'\n",
            "Skipping line 5: '\t' expected after '\"'\n",
            "Skipping line 5: '\t' expected after '\"'\n",
            "Skipping line 5: '\t' expected after '\"'\n",
            "Skipping line 5: '\t' expected after '\"'\n",
            "Skipping line 5: '\t' expected after '\"'\n",
            "Skipping line 5: '\t' expected after '\"'\n",
            "Skipping line 5: '\t' expected after '\"'\n",
            "Skipping line 5: '\t' expected after '\"'\n",
            "Skipping line 5: '\t' expected after '\"'\n",
            "Skipping line 5: '\t' expected after '\"'\n",
            "Skipping line 5: '\t' expected after '\"'\n",
            "Skipping line 9: '\t' expected after '\"'\n",
            "Skipping line 5: '\t' expected after '\"'\n",
            "Skipping line 9: '\t' expected after '\"'\n",
            "Skipping line 5: '\t' expected after '\"'\n",
            "Skipping line 9: '\t' expected after '\"'\n",
            "Skipping line 5: '\t' expected after '\"'\n",
            "Skipping line 9: '\t' expected after '\"'\n",
            "Skipping line 5: '\t' expected after '\"'\n",
            "Skipping line 9: '\t' expected after '\"'\n",
            "Skipping line 5: '\t' expected after '\"'\n",
            "Skipping line 9: '\t' expected after '\"'\n",
            "Skipping line 5: '\t' expected after '\"'\n",
            "Skipping line 9: '\t' expected after '\"'\n",
            "Skipping line 5: '\t' expected after '\"'\n",
            "Skipping line 9: '\t' expected after '\"'\n",
            "Skipping line 5: '\t' expected after '\"'\n",
            "Skipping line 9: '\t' expected after '\"'\n",
            "Skipping line 5: '\t' expected after '\"'\n",
            "Skipping line 9: '\t' expected after '\"'\n",
            "Skipping line 5: '\t' expected after '\"'\n",
            "Skipping line 9: '\t' expected after '\"'\n",
            "Skipping line 5: '\t' expected after '\"'\n",
            "Skipping line 9: '\t' expected after '\"'\n",
            "Skipping line 5: '\t' expected after '\"'\n",
            "Skipping line 9: '\t' expected after '\"'\n",
            "Skipping line 15: '\t' expected after '\"'\n",
            "Skipping line 19: '\t' expected after '\"'\n",
            "Skipping line 15: '\t' expected after '\"'\n",
            "Skipping line 19: '\t' expected after '\"'\n",
            "Skipping line 15: '\t' expected after '\"'\n",
            "Skipping line 19: '\t' expected after '\"'\n",
            "Skipping line 15: '\t' expected after '\"'\n",
            "Skipping line 19: '\t' expected after '\"'\n",
            "Skipping line 15: '\t' expected after '\"'\n",
            "Skipping line 19: '\t' expected after '\"'\n",
            "Skipping line 15: '\t' expected after '\"'\n",
            "Skipping line 19: '\t' expected after '\"'\n",
            "Skipping line 15: '\t' expected after '\"'\n",
            "Skipping line 19: '\t' expected after '\"'\n",
            "Skipping line 15: '\t' expected after '\"'\n",
            "Skipping line 19: '\t' expected after '\"'\n",
            "Skipping line 15: '\t' expected after '\"'\n",
            "Skipping line 19: '\t' expected after '\"'\n",
            "Skipping line 15: '\t' expected after '\"'\n",
            "Skipping line 19: '\t' expected after '\"'\n",
            "Skipping line 15: '\t' expected after '\"'\n",
            "Skipping line 19: '\t' expected after '\"'\n",
            "Skipping line 15: '\t' expected after '\"'\n",
            "Skipping line 19: '\t' expected after '\"'\n",
            "Skipping line 15: '\t' expected after '\"'\n",
            "Skipping line 19: '\t' expected after '\"'\n",
            "Skipping line 15: '\t' expected after '\"'\n",
            "Skipping line 19: '\t' expected after '\"'\n",
            "Skipping line 5: '\t' expected after '\"'\n",
            "Skipping line 5: '\t' expected after '\"'\n",
            "Skipping line 5: '\t' expected after '\"'\n",
            "Skipping line 5: '\t' expected after '\"'\n",
            "Skipping line 5: '\t' expected after '\"'\n",
            "Skipping line 5: '\t' expected after '\"'\n",
            "Skipping line 5: '\t' expected after '\"'\n",
            "Skipping line 5: '\t' expected after '\"'\n",
            "Skipping line 5: '\t' expected after '\"'\n",
            "Skipping line 1: '\t' expected after '\"'\n",
            "Skipping line 1: '\t' expected after '\"'\n",
            "Skipping line 1: '\t' expected after '\"'\n",
            "Skipping line 1: '\t' expected after '\"'\n",
            "Skipping line 1: '\t' expected after '\"'\n",
            "Skipping line 1: '\t' expected after '\"'\n",
            "Skipping line 1: '\t' expected after '\"'\n",
            "Skipping line 1: '\t' expected after '\"'\n",
            "Skipping line 1: '\t' expected after '\"'\n",
            "Skipping line 1: '\t' expected after '\"'\n",
            "Skipping line 1: '\t' expected after '\"'\n",
            "Skipping line 19: '\t' expected after '\"'\n",
            "Skipping line 23: '\t' expected after '\"'\n",
            "Skipping line 19: '\t' expected after '\"'\n",
            "Skipping line 23: '\t' expected after '\"'\n",
            "Skipping line 19: '\t' expected after '\"'\n",
            "Skipping line 23: '\t' expected after '\"'\n",
            "Skipping line 19: '\t' expected after '\"'\n",
            "Skipping line 23: '\t' expected after '\"'\n",
            "Skipping line 19: '\t' expected after '\"'\n",
            "Skipping line 23: '\t' expected after '\"'\n",
            "Skipping line 19: '\t' expected after '\"'\n",
            "Skipping line 23: '\t' expected after '\"'\n",
            "Skipping line 19: '\t' expected after '\"'\n",
            "Skipping line 23: '\t' expected after '\"'\n",
            "Skipping line 19: '\t' expected after '\"'\n",
            "Skipping line 23: '\t' expected after '\"'\n",
            "Skipping line 19: '\t' expected after '\"'\n",
            "Skipping line 23: '\t' expected after '\"'\n",
            "Skipping line 1: '\t' expected after '\"'\n",
            "Skipping line 1: '\t' expected after '\"'\n",
            "Skipping line 1: '\t' expected after '\"'\n",
            "Skipping line 1: '\t' expected after '\"'\n",
            "Skipping line 1: '\t' expected after '\"'\n",
            "Skipping line 1: '\t' expected after '\"'\n",
            "Skipping line 1: '\t' expected after '\"'\n",
            "Skipping line 1: '\t' expected after '\"'\n",
            "Skipping line 1: '\t' expected after '\"'\n",
            "Skipping line 1: '\t' expected after '\"'\n",
            "Skipping line 1: '\t' expected after '\"'\n",
            "Skipping line 1: '\t' expected after '\"'\n",
            "Skipping line 1: '\t' expected after '\"'\n",
            "Skipping line 1: '\t' expected after '\"'\n",
            "Skipping line 1: '\t' expected after '\"'\n",
            "Skipping line 11: '\t' expected after '\"'\n",
            "Skipping line 1: '\t' expected after '\"'\n",
            "Skipping line 11: '\t' expected after '\"'\n",
            "Skipping line 1: '\t' expected after '\"'\n",
            "Skipping line 11: '\t' expected after '\"'\n",
            "Skipping line 1: '\t' expected after '\"'\n",
            "Skipping line 11: '\t' expected after '\"'\n",
            "Skipping line 1: '\t' expected after '\"'\n",
            "Skipping line 11: '\t' expected after '\"'\n",
            "Skipping line 1: '\t' expected after '\"'\n",
            "Skipping line 11: '\t' expected after '\"'\n",
            "Skipping line 1: '\t' expected after '\"'\n",
            "Skipping line 11: '\t' expected after '\"'\n",
            "Skipping line 1: '\t' expected after '\"'\n",
            "Skipping line 11: '\t' expected after '\"'\n",
            "Skipping line 1: '\t' expected after '\"'\n",
            "Skipping line 11: '\t' expected after '\"'\n",
            "Skipping line 1: '\t' expected after '\"'\n",
            "Skipping line 11: '\t' expected after '\"'\n",
            "Skipping line 1: '\t' expected after '\"'\n",
            "Skipping line 11: '\t' expected after '\"'\n",
            "Skipping line 1: '\t' expected after '\"'\n",
            "Skipping line 11: '\t' expected after '\"'\n",
            "Skipping line 1: '\t' expected after '\"'\n",
            "Skipping line 11: '\t' expected after '\"'\n",
            "Skipping line 5: '\t' expected after '\"'\n",
            "Skipping line 5: '\t' expected after '\"'\n",
            "Skipping line 5: '\t' expected after '\"'\n",
            "Skipping line 5: '\t' expected after '\"'\n",
            "Skipping line 5: '\t' expected after '\"'\n",
            "Skipping line 5: '\t' expected after '\"'\n",
            "Skipping line 5: '\t' expected after '\"'\n",
            "Skipping line 5: '\t' expected after '\"'\n",
            "Skipping line 5: '\t' expected after '\"'\n",
            "Skipping line 5: '\t' expected after '\"'\n",
            "Skipping line 13: '\t' expected after '\"'\n",
            "Skipping line 65: unexpected end of data\n",
            "Skipping line 13: '\t' expected after '\"'\n",
            "Skipping line 65: unexpected end of data\n",
            "Skipping line 13: '\t' expected after '\"'\n",
            "Skipping line 65: unexpected end of data\n",
            "Skipping line 13: '\t' expected after '\"'\n",
            "Skipping line 65: unexpected end of data\n",
            "Skipping line 13: '\t' expected after '\"'\n",
            "Skipping line 65: unexpected end of data\n",
            "Skipping line 13: '\t' expected after '\"'\n",
            "Skipping line 65: unexpected end of data\n",
            "Skipping line 13: '\t' expected after '\"'\n",
            "Skipping line 65: unexpected end of data\n",
            "Skipping line 13: '\t' expected after '\"'\n",
            "Skipping line 65: unexpected end of data\n",
            "Skipping line 13: '\t' expected after '\"'\n",
            "Skipping line 65: unexpected end of data\n",
            "Skipping line 13: '\t' expected after '\"'\n",
            "Skipping line 65: unexpected end of data\n",
            "Skipping line 1: '\t' expected after '\"'\n",
            "Skipping line 1: '\t' expected after '\"'\n",
            "Skipping line 1: '\t' expected after '\"'\n",
            "Skipping line 1: '\t' expected after '\"'\n",
            "Skipping line 1: '\t' expected after '\"'\n",
            "Skipping line 1: '\t' expected after '\"'\n",
            "Skipping line 1: '\t' expected after '\"'\n",
            "Skipping line 1: '\t' expected after '\"'\n",
            "Skipping line 1: '\t' expected after '\"'\n",
            "Skipping line 1: '\t' expected after '\"'\n",
            "Skipping line 1: '\t' expected after '\"'\n",
            "Skipping line 1: '\t' expected after '\"'\n",
            "Skipping line 5: '\t' expected after '\"'\n",
            "Skipping line 5: '\t' expected after '\"'\n",
            "Skipping line 5: '\t' expected after '\"'\n",
            "Skipping line 5: '\t' expected after '\"'\n",
            "Skipping line 5: '\t' expected after '\"'\n",
            "Skipping line 5: '\t' expected after '\"'\n",
            "Skipping line 5: '\t' expected after '\"'\n",
            "Skipping line 5: '\t' expected after '\"'\n",
            "Skipping line 5: '\t' expected after '\"'\n",
            "Skipping line 5: '\t' expected after '\"'\n",
            "Skipping line 5: '\t' expected after '\"'\n",
            "Skipping line 1: '\t' expected after '\"'\n",
            "Skipping line 7: '\t' expected after '\"'\n",
            "Skipping line 11: '\t' expected after '\"'\n",
            "Skipping line 1: '\t' expected after '\"'\n",
            "Skipping line 7: '\t' expected after '\"'\n",
            "Skipping line 11: '\t' expected after '\"'\n",
            "Skipping line 1: '\t' expected after '\"'\n",
            "Skipping line 7: '\t' expected after '\"'\n",
            "Skipping line 11: '\t' expected after '\"'\n",
            "Skipping line 1: '\t' expected after '\"'\n",
            "Skipping line 7: '\t' expected after '\"'\n",
            "Skipping line 11: '\t' expected after '\"'\n",
            "Skipping line 1: '\t' expected after '\"'\n",
            "Skipping line 7: '\t' expected after '\"'\n",
            "Skipping line 11: '\t' expected after '\"'\n",
            "Skipping line 1: '\t' expected after '\"'\n",
            "Skipping line 7: '\t' expected after '\"'\n",
            "Skipping line 11: '\t' expected after '\"'\n",
            "Skipping line 1: '\t' expected after '\"'\n",
            "Skipping line 7: '\t' expected after '\"'\n",
            "Skipping line 11: '\t' expected after '\"'\n",
            "Skipping line 1: '\t' expected after '\"'\n",
            "Skipping line 7: '\t' expected after '\"'\n",
            "Skipping line 11: '\t' expected after '\"'\n",
            "Skipping line 1: '\t' expected after '\"'\n",
            "Skipping line 7: '\t' expected after '\"'\n",
            "Skipping line 11: '\t' expected after '\"'\n",
            "Skipping line 1: '\t' expected after '\"'\n",
            "Skipping line 7: '\t' expected after '\"'\n",
            "Skipping line 11: '\t' expected after '\"'\n",
            "Skipping line 1: '\t' expected after '\"'\n",
            "Skipping line 7: '\t' expected after '\"'\n",
            "Skipping line 11: '\t' expected after '\"'\n",
            "Skipping line 1: '\t' expected after '\"'\n",
            "Skipping line 7: '\t' expected after '\"'\n",
            "Skipping line 11: '\t' expected after '\"'\n",
            "Skipping line 1: '\t' expected after '\"'\n",
            "Skipping line 7: '\t' expected after '\"'\n",
            "Skipping line 11: '\t' expected after '\"'\n",
            "Skipping line 3: '\t' expected after '\"'\n",
            "Skipping line 3: '\t' expected after '\"'\n",
            "Skipping line 3: '\t' expected after '\"'\n",
            "Skipping line 3: '\t' expected after '\"'\n",
            "Skipping line 3: '\t' expected after '\"'\n",
            "Skipping line 3: '\t' expected after '\"'\n",
            "Skipping line 3: '\t' expected after '\"'\n",
            "Skipping line 3: '\t' expected after '\"'\n",
            "Skipping line 3: '\t' expected after '\"'\n",
            "Skipping line 3: '\t' expected after '\"'\n",
            "Skipping line 3: '\t' expected after '\"'\n",
            "Skipping line 3: '\t' expected after '\"'\n",
            "Skipping line 3: '\t' expected after '\"'\n",
            "Skipping line 3: '\t' expected after '\"'\n",
            "Skipping line 1: '\t' expected after '\"'\n",
            "Skipping line 1: '\t' expected after '\"'\n",
            "Skipping line 1: '\t' expected after '\"'\n",
            "Skipping line 1: '\t' expected after '\"'\n",
            "Skipping line 1: '\t' expected after '\"'\n",
            "Skipping line 1: '\t' expected after '\"'\n",
            "Skipping line 1: '\t' expected after '\"'\n",
            "Skipping line 1: '\t' expected after '\"'\n",
            "Skipping line 1: '\t' expected after '\"'\n",
            "Skipping line 1: '\t' expected after '\"'\n",
            "Skipping line 1: '\t' expected after '\"'\n",
            "Skipping line 1: '\t' expected after '\"'\n",
            "Skipping line 15: '\t' expected after '\"'\n",
            "Skipping line 15: '\t' expected after '\"'\n",
            "Skipping line 15: '\t' expected after '\"'\n",
            "Skipping line 15: '\t' expected after '\"'\n",
            "Skipping line 15: '\t' expected after '\"'\n",
            "Skipping line 15: '\t' expected after '\"'\n",
            "Skipping line 15: '\t' expected after '\"'\n",
            "Skipping line 15: '\t' expected after '\"'\n",
            "Skipping line 15: '\t' expected after '\"'\n",
            "Skipping line 15: '\t' expected after '\"'\n",
            "Skipping line 15: '\t' expected after '\"'\n",
            "Skipping line 15: '\t' expected after '\"'\n",
            "Skipping line 15: '\t' expected after '\"'\n",
            "Skipping line 15: '\t' expected after '\"'\n",
            "Skipping line 15: '\t' expected after '\"'\n",
            "Skipping line 15: '\t' expected after '\"'\n",
            "Skipping line 15: '\t' expected after '\"'\n",
            "Skipping line 1: '\t' expected after '\"'\n",
            "Skipping line 1: '\t' expected after '\"'\n",
            "Skipping line 1: '\t' expected after '\"'\n",
            "Skipping line 1: '\t' expected after '\"'\n",
            "Skipping line 1: '\t' expected after '\"'\n",
            "Skipping line 1: '\t' expected after '\"'\n",
            "Skipping line 1: '\t' expected after '\"'\n",
            "Skipping line 1: '\t' expected after '\"'\n",
            "Skipping line 1: '\t' expected after '\"'\n",
            "Skipping line 1: '\t' expected after '\"'\n",
            "Skipping line 7: '\t' expected after '\"'\n",
            "Skipping line 7: '\t' expected after '\"'\n",
            "Skipping line 7: '\t' expected after '\"'\n",
            "Skipping line 7: '\t' expected after '\"'\n",
            "Skipping line 7: '\t' expected after '\"'\n",
            "Skipping line 7: '\t' expected after '\"'\n",
            "Skipping line 7: '\t' expected after '\"'\n",
            "Skipping line 7: '\t' expected after '\"'\n",
            "Skipping line 7: '\t' expected after '\"'\n",
            "Skipping line 7: '\t' expected after '\"'\n",
            "Skipping line 7: '\t' expected after '\"'\n",
            "Skipping line 7: '\t' expected after '\"'\n",
            "Skipping line 7: '\t' expected after '\"'\n",
            "Skipping line 7: '\t' expected after '\"'\n",
            "Skipping line 7: '\t' expected after '\"'\n",
            "Skipping line 7: '\t' expected after '\"'\n",
            "Skipping line 7: '\t' expected after '\"'\n",
            "Skipping line 7: '\t' expected after '\"'\n",
            "Skipping line 7: '\t' expected after '\"'\n",
            "Skipping line 7: '\t' expected after '\"'\n",
            "Skipping line 7: '\t' expected after '\"'\n",
            "Skipping line 7: '\t' expected after '\"'\n",
            "Skipping line 7: '\t' expected after '\"'\n",
            "Skipping line 7: '\t' expected after '\"'\n",
            "Skipping line 7: '\t' expected after '\"'\n",
            "Skipping line 7: '\t' expected after '\"'\n",
            "Skipping line 7: '\t' expected after '\"'\n",
            "Skipping line 5: '\t' expected after '\"'\n",
            "Skipping line 5: '\t' expected after '\"'\n",
            "Skipping line 5: '\t' expected after '\"'\n",
            "Skipping line 5: '\t' expected after '\"'\n",
            "Skipping line 5: '\t' expected after '\"'\n",
            "Skipping line 5: '\t' expected after '\"'\n",
            "Skipping line 25: '\t' expected after '\"'\n",
            "Skipping line 25: '\t' expected after '\"'\n",
            "Skipping line 25: '\t' expected after '\"'\n",
            "Skipping line 25: '\t' expected after '\"'\n",
            "Skipping line 25: '\t' expected after '\"'\n",
            "Skipping line 25: '\t' expected after '\"'\n",
            "Skipping line 25: '\t' expected after '\"'\n",
            "Skipping line 25: '\t' expected after '\"'\n",
            "Skipping line 25: '\t' expected after '\"'\n",
            "Skipping line 25: '\t' expected after '\"'\n",
            "Skipping line 25: '\t' expected after '\"'\n",
            "Skipping line 25: '\t' expected after '\"'\n",
            "Skipping line 17: unexpected end of data\n",
            "Skipping line 17: unexpected end of data\n",
            "Skipping line 17: unexpected end of data\n",
            "Skipping line 17: unexpected end of data\n",
            "Skipping line 17: unexpected end of data\n",
            "Skipping line 17: unexpected end of data\n",
            "Skipping line 17: unexpected end of data\n",
            "Skipping line 17: unexpected end of data\n",
            "Skipping line 15: '\t' expected after '\"'\n",
            "Skipping line 17: '\t' expected after '\"'\n",
            "Skipping line 15: '\t' expected after '\"'\n",
            "Skipping line 17: '\t' expected after '\"'\n",
            "Skipping line 15: '\t' expected after '\"'\n",
            "Skipping line 17: '\t' expected after '\"'\n",
            "Skipping line 15: '\t' expected after '\"'\n",
            "Skipping line 17: '\t' expected after '\"'\n",
            "Skipping line 15: '\t' expected after '\"'\n",
            "Skipping line 17: '\t' expected after '\"'\n",
            "Skipping line 15: '\t' expected after '\"'\n",
            "Skipping line 17: '\t' expected after '\"'\n",
            "Skipping line 15: '\t' expected after '\"'\n",
            "Skipping line 17: '\t' expected after '\"'\n",
            "Skipping line 15: '\t' expected after '\"'\n",
            "Skipping line 17: '\t' expected after '\"'\n",
            "Skipping line 15: '\t' expected after '\"'\n",
            "Skipping line 17: '\t' expected after '\"'\n",
            "Skipping line 15: '\t' expected after '\"'\n",
            "Skipping line 17: '\t' expected after '\"'\n",
            "Skipping line 15: '\t' expected after '\"'\n",
            "Skipping line 17: '\t' expected after '\"'\n",
            "Skipping line 15: '\t' expected after '\"'\n",
            "Skipping line 17: '\t' expected after '\"'\n",
            "Skipping line 15: '\t' expected after '\"'\n",
            "Skipping line 17: '\t' expected after '\"'\n",
            "Skipping line 15: '\t' expected after '\"'\n",
            "Skipping line 17: '\t' expected after '\"'\n",
            "Skipping line 15: '\t' expected after '\"'\n",
            "Skipping line 17: '\t' expected after '\"'\n",
            "Skipping line 1: '\t' expected after '\"'\n",
            "Skipping line 1: '\t' expected after '\"'\n",
            "Skipping line 1: '\t' expected after '\"'\n",
            "Skipping line 1: '\t' expected after '\"'\n",
            "Skipping line 1: '\t' expected after '\"'\n",
            "Skipping line 1: '\t' expected after '\"'\n",
            "Skipping line 1: '\t' expected after '\"'\n",
            "Skipping line 1: '\t' expected after '\"'\n",
            "Skipping line 1: '\t' expected after '\"'\n",
            "Skipping line 1: '\t' expected after '\"'\n",
            "Skipping line 1: '\t' expected after '\"'\n",
            "Skipping line 5: '\t' expected after '\"'\n",
            "Skipping line 5: '\t' expected after '\"'\n",
            "Skipping line 5: '\t' expected after '\"'\n",
            "Skipping line 5: '\t' expected after '\"'\n",
            "Skipping line 5: '\t' expected after '\"'\n",
            "Skipping line 5: '\t' expected after '\"'\n",
            "Skipping line 5: '\t' expected after '\"'\n",
            "Skipping line 5: '\t' expected after '\"'\n",
            "Skipping line 5: '\t' expected after '\"'\n",
            "Skipping line 5: '\t' expected after '\"'\n",
            "Skipping line 5: '\t' expected after '\"'\n",
            "Skipping line 5: '\t' expected after '\"'\n",
            "Skipping line 3: '\t' expected after '\"'\n",
            "Skipping line 3: '\t' expected after '\"'\n",
            "Skipping line 3: '\t' expected after '\"'\n",
            "Skipping line 3: '\t' expected after '\"'\n",
            "Skipping line 3: '\t' expected after '\"'\n",
            "Skipping line 3: '\t' expected after '\"'\n",
            "Skipping line 3: '\t' expected after '\"'\n",
            "Skipping line 3: '\t' expected after '\"'\n",
            "Skipping line 3: '\t' expected after '\"'\n",
            "Skipping line 3: '\t' expected after '\"'\n",
            "Skipping line 1: '\t' expected after '\"'\n",
            "Skipping line 1: '\t' expected after '\"'\n",
            "Skipping line 1: '\t' expected after '\"'\n",
            "Skipping line 1: '\t' expected after '\"'\n",
            "Skipping line 1: '\t' expected after '\"'\n",
            "Skipping line 1: '\t' expected after '\"'\n",
            "Skipping line 1: '\t' expected after '\"'\n",
            "Skipping line 1: '\t' expected after '\"'\n",
            "Skipping line 1: '\t' expected after '\"'\n",
            "Skipping line 1: '\t' expected after '\"'\n",
            "Skipping line 5: '\t' expected after '\"'\n",
            "Skipping line 5: '\t' expected after '\"'\n",
            "Skipping line 5: '\t' expected after '\"'\n",
            "Skipping line 5: '\t' expected after '\"'\n",
            "Skipping line 5: '\t' expected after '\"'\n",
            "Skipping line 5: '\t' expected after '\"'\n",
            "Skipping line 5: '\t' expected after '\"'\n",
            "Skipping line 25: unexpected end of data\n",
            "Skipping line 25: unexpected end of data\n",
            "Skipping line 25: unexpected end of data\n",
            "Skipping line 25: unexpected end of data\n",
            "Skipping line 25: unexpected end of data\n",
            "Skipping line 25: unexpected end of data\n",
            "Skipping line 25: unexpected end of data\n",
            "Skipping line 25: unexpected end of data\n",
            "Skipping line 25: unexpected end of data\n",
            "Skipping line 25: unexpected end of data\n",
            "Skipping line 7: '\t' expected after '\"'\n",
            "Skipping line 7: '\t' expected after '\"'\n",
            "Skipping line 7: '\t' expected after '\"'\n",
            "Skipping line 7: '\t' expected after '\"'\n",
            "Skipping line 7: '\t' expected after '\"'\n",
            "Skipping line 7: '\t' expected after '\"'\n",
            "Skipping line 7: '\t' expected after '\"'\n",
            "Skipping line 7: '\t' expected after '\"'\n",
            "Skipping line 7: '\t' expected after '\"'\n",
            "Skipping line 3: '\t' expected after '\"'\n",
            "Skipping line 3: '\t' expected after '\"'\n",
            "Skipping line 3: '\t' expected after '\"'\n",
            "Skipping line 3: '\t' expected after '\"'\n",
            "Skipping line 3: '\t' expected after '\"'\n",
            "Skipping line 3: '\t' expected after '\"'\n",
            "Skipping line 3: '\t' expected after '\"'\n",
            "Skipping line 3: '\t' expected after '\"'\n",
            "Skipping line 3: '\t' expected after '\"'\n",
            "Skipping line 11: '\t' expected after '\"'\n",
            "Skipping line 11: '\t' expected after '\"'\n",
            "Skipping line 11: '\t' expected after '\"'\n",
            "Skipping line 11: '\t' expected after '\"'\n",
            "Skipping line 11: '\t' expected after '\"'\n",
            "Skipping line 11: '\t' expected after '\"'\n",
            "Skipping line 11: '\t' expected after '\"'\n",
            "Skipping line 11: '\t' expected after '\"'\n",
            "Skipping line 11: '\t' expected after '\"'\n",
            "Skipping line 11: '\t' expected after '\"'\n",
            "Skipping line 11: '\t' expected after '\"'\n",
            "Skipping line 11: '\t' expected after '\"'\n",
            "Skipping line 11: '\t' expected after '\"'\n",
            "Skipping line 11: '\t' expected after '\"'\n",
            "Skipping line 3: '\t' expected after '\"'\n",
            "Skipping line 3: '\t' expected after '\"'\n",
            "Skipping line 3: '\t' expected after '\"'\n",
            "Skipping line 3: '\t' expected after '\"'\n",
            "Skipping line 3: '\t' expected after '\"'\n",
            "Skipping line 3: '\t' expected after '\"'\n",
            "Skipping line 3: '\t' expected after '\"'\n",
            "Skipping line 3: '\t' expected after '\"'\n",
            "Skipping line 3: '\t' expected after '\"'\n",
            "Skipping line 27: '\t' expected after '\"'\n",
            "Skipping line 27: '\t' expected after '\"'\n",
            "Skipping line 27: '\t' expected after '\"'\n",
            "Skipping line 27: '\t' expected after '\"'\n",
            "Skipping line 27: '\t' expected after '\"'\n",
            "Skipping line 27: '\t' expected after '\"'\n",
            "Skipping line 27: '\t' expected after '\"'\n",
            "Skipping line 5: '\t' expected after '\"'\n",
            "Skipping line 5: '\t' expected after '\"'\n",
            "Skipping line 5: '\t' expected after '\"'\n",
            "Skipping line 5: '\t' expected after '\"'\n",
            "Skipping line 5: '\t' expected after '\"'\n",
            "Skipping line 5: '\t' expected after '\"'\n",
            "Skipping line 5: '\t' expected after '\"'\n",
            "Skipping line 3: '\t' expected after '\"'\n",
            "Skipping line 21: '\t' expected after '\"'\n",
            "Skipping line 27: '\t' expected after '\"'\n",
            "Skipping line 3: '\t' expected after '\"'\n",
            "Skipping line 21: '\t' expected after '\"'\n",
            "Skipping line 27: '\t' expected after '\"'\n",
            "Skipping line 5: '\t' expected after '\"'\n",
            "Skipping line 5: '\t' expected after '\"'\n",
            "Skipping line 5: '\t' expected after '\"'\n",
            "Skipping line 5: '\t' expected after '\"'\n",
            "Skipping line 5: '\t' expected after '\"'\n",
            "Skipping line 5: '\t' expected after '\"'\n",
            "Skipping line 5: '\t' expected after '\"'\n",
            "Skipping line 5: '\t' expected after '\"'\n",
            "Skipping line 5: '\t' expected after '\"'\n",
            "Skipping line 5: '\t' expected after '\"'\n",
            "Skipping line 5: '\t' expected after '\"'\n",
            "Skipping line 5: '\t' expected after '\"'\n",
            "Skipping line 5: '\t' expected after '\"'\n",
            "Skipping line 5: '\t' expected after '\"'\n",
            "Skipping line 11: '\t' expected after '\"'\n",
            "Skipping line 11: '\t' expected after '\"'\n",
            "Skipping line 11: '\t' expected after '\"'\n",
            "Skipping line 11: '\t' expected after '\"'\n",
            "Skipping line 11: '\t' expected after '\"'\n",
            "Skipping line 11: '\t' expected after '\"'\n",
            "Skipping line 11: '\t' expected after '\"'\n",
            "Skipping line 11: '\t' expected after '\"'\n",
            "Skipping line 11: '\t' expected after '\"'\n",
            "Skipping line 11: '\t' expected after '\"'\n",
            "Skipping line 11: '\t' expected after '\"'\n",
            "Skipping line 11: '\t' expected after '\"'\n",
            "Skipping line 11: '\t' expected after '\"'\n",
            "Skipping line 11: '\t' expected after '\"'\n",
            "Skipping line 1: '\t' expected after '\"'\n",
            "Skipping line 11: '\t' expected after '\"'\n",
            "Skipping line 1: '\t' expected after '\"'\n",
            "Skipping line 11: '\t' expected after '\"'\n",
            "Skipping line 1: '\t' expected after '\"'\n",
            "Skipping line 11: '\t' expected after '\"'\n",
            "Skipping line 1: '\t' expected after '\"'\n",
            "Skipping line 11: '\t' expected after '\"'\n",
            "Skipping line 1: '\t' expected after '\"'\n",
            "Skipping line 11: '\t' expected after '\"'\n",
            "Skipping line 1: '\t' expected after '\"'\n",
            "Skipping line 11: '\t' expected after '\"'\n",
            "Skipping line 1: '\t' expected after '\"'\n",
            "Skipping line 11: '\t' expected after '\"'\n",
            "Skipping line 1: '\t' expected after '\"'\n",
            "Skipping line 11: '\t' expected after '\"'\n",
            "Skipping line 1: '\t' expected after '\"'\n",
            "Skipping line 11: '\t' expected after '\"'\n",
            "Skipping line 1: '\t' expected after '\"'\n",
            "Skipping line 11: '\t' expected after '\"'\n",
            "Skipping line 1: '\t' expected after '\"'\n",
            "Skipping line 11: '\t' expected after '\"'\n",
            "Skipping line 9: '\t' expected after '\"'\n",
            "Skipping line 9: '\t' expected after '\"'\n",
            "Skipping line 9: '\t' expected after '\"'\n",
            "Skipping line 9: '\t' expected after '\"'\n",
            "Skipping line 9: '\t' expected after '\"'\n",
            "Skipping line 9: '\t' expected after '\"'\n",
            "Skipping line 9: '\t' expected after '\"'\n",
            "Skipping line 9: '\t' expected after '\"'\n",
            "Skipping line 9: '\t' expected after '\"'\n",
            "Skipping line 9: '\t' expected after '\"'\n",
            "Skipping line 9: '\t' expected after '\"'\n",
            "Skipping line 9: '\t' expected after '\"'\n",
            "Skipping line 9: '\t' expected after '\"'\n",
            "Skipping line 9: '\t' expected after '\"'\n",
            "Skipping line 1: '\t' expected after '\"'\n",
            "Skipping line 3: '\t' expected after '\"'\n",
            "Skipping line 9: '\t' expected after '\"'\n",
            "Skipping line 1: '\t' expected after '\"'\n",
            "Skipping line 3: '\t' expected after '\"'\n",
            "Skipping line 9: '\t' expected after '\"'\n",
            "Skipping line 1: '\t' expected after '\"'\n",
            "Skipping line 3: '\t' expected after '\"'\n",
            "Skipping line 9: '\t' expected after '\"'\n",
            "Skipping line 1: '\t' expected after '\"'\n",
            "Skipping line 3: '\t' expected after '\"'\n",
            "Skipping line 9: '\t' expected after '\"'\n",
            "Skipping line 1: '\t' expected after '\"'\n",
            "Skipping line 3: '\t' expected after '\"'\n",
            "Skipping line 9: '\t' expected after '\"'\n",
            "Skipping line 1: '\t' expected after '\"'\n",
            "Skipping line 3: '\t' expected after '\"'\n",
            "Skipping line 9: '\t' expected after '\"'\n",
            "Skipping line 1: '\t' expected after '\"'\n",
            "Skipping line 3: '\t' expected after '\"'\n",
            "Skipping line 9: '\t' expected after '\"'\n",
            "Skipping line 1: '\t' expected after '\"'\n",
            "Skipping line 3: '\t' expected after '\"'\n",
            "Skipping line 9: '\t' expected after '\"'\n",
            "Skipping line 1: '\t' expected after '\"'\n",
            "Skipping line 3: '\t' expected after '\"'\n",
            "Skipping line 9: '\t' expected after '\"'\n",
            "Skipping line 1: '\t' expected after '\"'\n",
            "Skipping line 3: '\t' expected after '\"'\n",
            "Skipping line 9: '\t' expected after '\"'\n",
            "Skipping line 1: '\t' expected after '\"'\n",
            "Skipping line 3: '\t' expected after '\"'\n",
            "Skipping line 9: '\t' expected after '\"'\n",
            "Skipping line 1: '\t' expected after '\"'\n",
            "Skipping line 3: '\t' expected after '\"'\n",
            "Skipping line 9: '\t' expected after '\"'\n",
            "Skipping line 1: '\t' expected after '\"'\n",
            "Skipping line 3: '\t' expected after '\"'\n",
            "Skipping line 9: '\t' expected after '\"'\n",
            "Skipping line 1: '\t' expected after '\"'\n",
            "Skipping line 3: '\t' expected after '\"'\n",
            "Skipping line 9: '\t' expected after '\"'\n",
            "Skipping line 7: '\t' expected after '\"'\n",
            "Skipping line 7: '\t' expected after '\"'\n",
            "Skipping line 7: '\t' expected after '\"'\n",
            "Skipping line 7: '\t' expected after '\"'\n",
            "Skipping line 7: '\t' expected after '\"'\n",
            "Skipping line 7: '\t' expected after '\"'\n",
            "Skipping line 7: '\t' expected after '\"'\n",
            "Skipping line 7: '\t' expected after '\"'\n",
            "Skipping line 7: '\t' expected after '\"'\n",
            "Skipping line 7: '\t' expected after '\"'\n",
            "Skipping line 1: '\t' expected after '\"'\n",
            "Skipping line 3: '\t' expected after '\"'\n",
            "Skipping line 7: '\t' expected after '\"'\n",
            "Skipping line 11: '\t' expected after '\"'\n",
            "Skipping line 1: '\t' expected after '\"'\n",
            "Skipping line 3: '\t' expected after '\"'\n",
            "Skipping line 7: '\t' expected after '\"'\n",
            "Skipping line 11: '\t' expected after '\"'\n",
            "Skipping line 1: '\t' expected after '\"'\n",
            "Skipping line 3: '\t' expected after '\"'\n",
            "Skipping line 7: '\t' expected after '\"'\n",
            "Skipping line 11: '\t' expected after '\"'\n",
            "Skipping line 1: '\t' expected after '\"'\n",
            "Skipping line 3: '\t' expected after '\"'\n",
            "Skipping line 7: '\t' expected after '\"'\n",
            "Skipping line 11: '\t' expected after '\"'\n",
            "Skipping line 1: '\t' expected after '\"'\n",
            "Skipping line 3: '\t' expected after '\"'\n",
            "Skipping line 7: '\t' expected after '\"'\n",
            "Skipping line 11: '\t' expected after '\"'\n",
            "Skipping line 1: '\t' expected after '\"'\n",
            "Skipping line 3: '\t' expected after '\"'\n",
            "Skipping line 7: '\t' expected after '\"'\n",
            "Skipping line 11: '\t' expected after '\"'\n",
            "Skipping line 1: '\t' expected after '\"'\n",
            "Skipping line 3: '\t' expected after '\"'\n",
            "Skipping line 7: '\t' expected after '\"'\n",
            "Skipping line 11: '\t' expected after '\"'\n",
            "Skipping line 1: '\t' expected after '\"'\n",
            "Skipping line 3: '\t' expected after '\"'\n",
            "Skipping line 7: '\t' expected after '\"'\n",
            "Skipping line 11: '\t' expected after '\"'\n",
            "Skipping line 1: '\t' expected after '\"'\n",
            "Skipping line 3: '\t' expected after '\"'\n",
            "Skipping line 7: '\t' expected after '\"'\n",
            "Skipping line 11: '\t' expected after '\"'\n",
            "Skipping line 1: '\t' expected after '\"'\n",
            "Skipping line 3: '\t' expected after '\"'\n",
            "Skipping line 7: '\t' expected after '\"'\n",
            "Skipping line 11: '\t' expected after '\"'\n",
            "Skipping line 5: '\t' expected after '\"'\n",
            "Skipping line 5: '\t' expected after '\"'\n",
            "Skipping line 5: '\t' expected after '\"'\n",
            "Skipping line 5: '\t' expected after '\"'\n",
            "Skipping line 5: '\t' expected after '\"'\n",
            "Skipping line 5: '\t' expected after '\"'\n",
            "Skipping line 5: '\t' expected after '\"'\n",
            "Skipping line 5: '\t' expected after '\"'\n",
            "Skipping line 5: '\t' expected after '\"'\n",
            "Skipping line 5: '\t' expected after '\"'\n",
            "Skipping line 5: '\t' expected after '\"'\n",
            "Skipping line 5: '\t' expected after '\"'\n",
            "Skipping line 11: '\t' expected after '\"'\n",
            "Skipping line 11: '\t' expected after '\"'\n",
            "Skipping line 11: '\t' expected after '\"'\n",
            "Skipping line 11: '\t' expected after '\"'\n",
            "Skipping line 11: '\t' expected after '\"'\n",
            "Skipping line 11: '\t' expected after '\"'\n",
            "Skipping line 11: '\t' expected after '\"'\n",
            "Skipping line 11: '\t' expected after '\"'\n",
            "Skipping line 7: '\t' expected after '\"'\n",
            "Skipping line 7: '\t' expected after '\"'\n",
            "Skipping line 7: '\t' expected after '\"'\n",
            "Skipping line 7: '\t' expected after '\"'\n",
            "Skipping line 7: '\t' expected after '\"'\n",
            "Skipping line 7: '\t' expected after '\"'\n",
            "Skipping line 7: '\t' expected after '\"'\n",
            "Skipping line 7: '\t' expected after '\"'\n",
            "Skipping line 7: '\t' expected after '\"'\n",
            "Skipping line 7: '\t' expected after '\"'\n",
            "Skipping line 7: '\t' expected after '\"'\n",
            "Skipping line 7: '\t' expected after '\"'\n",
            "Skipping line 7: '\t' expected after '\"'\n",
            "Skipping line 7: '\t' expected after '\"'\n",
            "Skipping line 7: '\t' expected after '\"'\n",
            "Skipping line 7: '\t' expected after '\"'\n",
            "Skipping line 7: '\t' expected after '\"'\n",
            "Skipping line 7: '\t' expected after '\"'\n",
            "Skipping line 7: '\t' expected after '\"'\n",
            "Skipping line 5: '\t' expected after '\"'\n",
            "Skipping line 5: '\t' expected after '\"'\n",
            "Skipping line 5: '\t' expected after '\"'\n",
            "Skipping line 5: '\t' expected after '\"'\n",
            "Skipping line 5: '\t' expected after '\"'\n",
            "Skipping line 5: '\t' expected after '\"'\n",
            "Skipping line 5: '\t' expected after '\"'\n",
            "Skipping line 5: '\t' expected after '\"'\n",
            "Skipping line 5: '\t' expected after '\"'\n",
            "Skipping line 5: '\t' expected after '\"'\n",
            "Skipping line 9: '\t' expected after '\"'\n",
            "Skipping line 9: '\t' expected after '\"'\n",
            "Skipping line 9: '\t' expected after '\"'\n",
            "Skipping line 9: '\t' expected after '\"'\n",
            "Skipping line 9: '\t' expected after '\"'\n",
            "Skipping line 9: '\t' expected after '\"'\n",
            "Skipping line 9: '\t' expected after '\"'\n",
            "Skipping line 9: '\t' expected after '\"'\n",
            "Skipping line 1: '\t' expected after '\"'\n",
            "Skipping line 1: '\t' expected after '\"'\n",
            "Skipping line 1: '\t' expected after '\"'\n",
            "Skipping line 1: '\t' expected after '\"'\n",
            "Skipping line 1: '\t' expected after '\"'\n",
            "Skipping line 1: '\t' expected after '\"'\n",
            "Skipping line 1: '\t' expected after '\"'\n",
            "Skipping line 1: '\t' expected after '\"'\n",
            "Skipping line 1: '\t' expected after '\"'\n",
            "Skipping line 1: '\t' expected after '\"'\n",
            "Skipping line 1: '\t' expected after '\"'\n",
            "Skipping line 5: '\t' expected after '\"'\n",
            "Skipping line 1: '\t' expected after '\"'\n",
            "Skipping line 5: '\t' expected after '\"'\n",
            "Skipping line 1: '\t' expected after '\"'\n",
            "Skipping line 5: '\t' expected after '\"'\n",
            "Skipping line 1: '\t' expected after '\"'\n",
            "Skipping line 5: '\t' expected after '\"'\n",
            "Skipping line 1: '\t' expected after '\"'\n",
            "Skipping line 5: '\t' expected after '\"'\n",
            "Skipping line 1: '\t' expected after '\"'\n",
            "Skipping line 5: '\t' expected after '\"'\n",
            "Skipping line 1: '\t' expected after '\"'\n",
            "Skipping line 5: '\t' expected after '\"'\n",
            "Skipping line 1: '\t' expected after '\"'\n",
            "Skipping line 5: '\t' expected after '\"'\n",
            "Skipping line 1: '\t' expected after '\"'\n",
            "Skipping line 5: '\t' expected after '\"'\n",
            "Skipping line 1: '\t' expected after '\"'\n",
            "Skipping line 5: '\t' expected after '\"'\n",
            "Skipping line 1: '\t' expected after '\"'\n",
            "Skipping line 5: '\t' expected after '\"'\n",
            "Skipping line 1: '\t' expected after '\"'\n",
            "Skipping line 5: '\t' expected after '\"'\n",
            "Skipping line 1: '\t' expected after '\"'\n",
            "Skipping line 5: '\t' expected after '\"'\n",
            "Skipping line 11: '\t' expected after '\"'\n",
            "Skipping line 11: '\t' expected after '\"'\n",
            "Skipping line 11: '\t' expected after '\"'\n",
            "Skipping line 11: '\t' expected after '\"'\n",
            "Skipping line 11: '\t' expected after '\"'\n",
            "Skipping line 11: '\t' expected after '\"'\n",
            "Skipping line 11: '\t' expected after '\"'\n",
            "Skipping line 11: '\t' expected after '\"'\n",
            "Skipping line 11: '\t' expected after '\"'\n",
            "Skipping line 11: '\t' expected after '\"'\n",
            "Skipping line 11: '\t' expected after '\"'\n",
            "Skipping line 11: '\t' expected after '\"'\n",
            "Skipping line 5: '\t' expected after '\"'\n",
            "Skipping line 5: '\t' expected after '\"'\n",
            "Skipping line 5: '\t' expected after '\"'\n",
            "Skipping line 5: '\t' expected after '\"'\n",
            "Skipping line 5: '\t' expected after '\"'\n",
            "Skipping line 5: '\t' expected after '\"'\n",
            "Skipping line 5: '\t' expected after '\"'\n",
            "Skipping line 5: '\t' expected after '\"'\n",
            "Skipping line 9: '\t' expected after '\"'\n",
            "Skipping line 9: '\t' expected after '\"'\n",
            "Skipping line 9: '\t' expected after '\"'\n",
            "Skipping line 9: '\t' expected after '\"'\n",
            "Skipping line 9: '\t' expected after '\"'\n",
            "Skipping line 9: '\t' expected after '\"'\n",
            "Skipping line 9: '\t' expected after '\"'\n",
            "Skipping line 9: '\t' expected after '\"'\n",
            "Skipping line 9: '\t' expected after '\"'\n",
            "Skipping line 9: '\t' expected after '\"'\n",
            "Skipping line 27: unexpected end of data\n",
            "Skipping line 27: unexpected end of data\n",
            "Skipping line 27: unexpected end of data\n",
            "Skipping line 27: unexpected end of data\n",
            "Skipping line 27: unexpected end of data\n",
            "Skipping line 9: '\t' expected after '\"'\n",
            "Skipping line 9: '\t' expected after '\"'\n",
            "Skipping line 9: '\t' expected after '\"'\n",
            "Skipping line 9: '\t' expected after '\"'\n",
            "Skipping line 9: '\t' expected after '\"'\n",
            "Skipping line 9: '\t' expected after '\"'\n",
            "Skipping line 9: '\t' expected after '\"'\n",
            "Skipping line 9: '\t' expected after '\"'\n",
            "Skipping line 9: '\t' expected after '\"'\n",
            "Skipping line 9: '\t' expected after '\"'\n",
            "Skipping line 9: '\t' expected after '\"'\n",
            "Skipping line 9: '\t' expected after '\"'\n",
            "Skipping line 9: '\t' expected after '\"'\n",
            "Skipping line 7: '\t' expected after '\"'\n",
            "Skipping line 7: '\t' expected after '\"'\n",
            "Skipping line 7: '\t' expected after '\"'\n",
            "Skipping line 7: '\t' expected after '\"'\n",
            "Skipping line 7: '\t' expected after '\"'\n",
            "Skipping line 7: '\t' expected after '\"'\n",
            "Skipping line 7: '\t' expected after '\"'\n",
            "Skipping line 7: '\t' expected after '\"'\n",
            "Skipping line 7: '\t' expected after '\"'\n",
            "Skipping line 7: '\t' expected after '\"'\n",
            "Skipping line 11: '\t' expected after '\"'\n",
            "Skipping line 11: '\t' expected after '\"'\n",
            "Skipping line 11: '\t' expected after '\"'\n",
            "Skipping line 11: '\t' expected after '\"'\n",
            "Skipping line 11: '\t' expected after '\"'\n",
            "Skipping line 11: '\t' expected after '\"'\n",
            "Skipping line 11: '\t' expected after '\"'\n",
            "Skipping line 5: '\t' expected after '\"'\n",
            "Skipping line 5: '\t' expected after '\"'\n",
            "Skipping line 5: '\t' expected after '\"'\n",
            "Skipping line 5: '\t' expected after '\"'\n",
            "Skipping line 5: '\t' expected after '\"'\n",
            "Skipping line 5: '\t' expected after '\"'\n",
            "Skipping line 9: '\t' expected after '\"'\n",
            "Skipping line 5: '\t' expected after '\"'\n",
            "Skipping line 9: '\t' expected after '\"'\n",
            "Skipping line 5: '\t' expected after '\"'\n",
            "Skipping line 9: '\t' expected after '\"'\n",
            "Skipping line 5: '\t' expected after '\"'\n",
            "Skipping line 9: '\t' expected after '\"'\n",
            "Skipping line 5: '\t' expected after '\"'\n",
            "Skipping line 9: '\t' expected after '\"'\n",
            "Skipping line 5: '\t' expected after '\"'\n",
            "Skipping line 9: '\t' expected after '\"'\n",
            "Skipping line 5: '\t' expected after '\"'\n",
            "Skipping line 9: '\t' expected after '\"'\n",
            "Skipping line 5: '\t' expected after '\"'\n",
            "Skipping line 9: '\t' expected after '\"'\n",
            "Skipping line 5: '\t' expected after '\"'\n",
            "Skipping line 9: '\t' expected after '\"'\n",
            "Skipping line 5: '\t' expected after '\"'\n",
            "Skipping line 5: '\t' expected after '\"'\n",
            "Skipping line 5: '\t' expected after '\"'\n",
            "Skipping line 5: '\t' expected after '\"'\n",
            "Skipping line 5: '\t' expected after '\"'\n",
            "Skipping line 5: '\t' expected after '\"'\n",
            "Skipping line 5: '\t' expected after '\"'\n",
            "Skipping line 5: '\t' expected after '\"'\n",
            "Skipping line 5: '\t' expected after '\"'\n",
            "Skipping line 1: '\t' expected after '\"'\n",
            "Skipping line 1: '\t' expected after '\"'\n",
            "Skipping line 1: '\t' expected after '\"'\n",
            "Skipping line 1: '\t' expected after '\"'\n",
            "Skipping line 1: '\t' expected after '\"'\n",
            "Skipping line 1: '\t' expected after '\"'\n",
            "Skipping line 11: '\t' expected after '\"'\n",
            "Skipping line 11: '\t' expected after '\"'\n",
            "Skipping line 11: '\t' expected after '\"'\n",
            "Skipping line 11: '\t' expected after '\"'\n",
            "Skipping line 11: '\t' expected after '\"'\n",
            "Skipping line 11: '\t' expected after '\"'\n",
            "Skipping line 11: '\t' expected after '\"'\n",
            "Skipping line 11: '\t' expected after '\"'\n",
            "Skipping line 11: '\t' expected after '\"'\n",
            "Skipping line 5: '\t' expected after '\"'\n",
            "Skipping line 5: '\t' expected after '\"'\n",
            "Skipping line 5: '\t' expected after '\"'\n",
            "Skipping line 5: '\t' expected after '\"'\n",
            "Skipping line 5: '\t' expected after '\"'\n",
            "Skipping line 5: '\t' expected after '\"'\n",
            "Skipping line 5: '\t' expected after '\"'\n",
            "Skipping line 5: '\t' expected after '\"'\n",
            "Skipping line 5: '\t' expected after '\"'\n",
            "Skipping line 3: '\t' expected after '\"'\n",
            "Skipping line 3: '\t' expected after '\"'\n",
            "Skipping line 3: '\t' expected after '\"'\n",
            "Skipping line 3: '\t' expected after '\"'\n",
            "Skipping line 3: '\t' expected after '\"'\n",
            "Skipping line 3: '\t' expected after '\"'\n",
            "Skipping line 3: '\t' expected after '\"'\n",
            "Skipping line 3: '\t' expected after '\"'\n",
            "Skipping line 3: '\t' expected after '\"'\n",
            "Skipping line 3: unexpected end of data\n",
            "Skipping line 3: unexpected end of data\n",
            "Skipping line 3: unexpected end of data\n",
            "Skipping line 3: unexpected end of data\n",
            "Skipping line 3: unexpected end of data\n",
            "Skipping line 3: unexpected end of data\n",
            "Skipping line 3: unexpected end of data\n",
            "Skipping line 3: unexpected end of data\n",
            "Skipping line 3: unexpected end of data\n",
            "Skipping line 9: '\t' expected after '\"'\n",
            "Skipping line 9: '\t' expected after '\"'\n",
            "Skipping line 9: '\t' expected after '\"'\n",
            "Skipping line 9: '\t' expected after '\"'\n",
            "Skipping line 9: '\t' expected after '\"'\n",
            "Skipping line 9: '\t' expected after '\"'\n",
            "Skipping line 9: '\t' expected after '\"'\n",
            "Skipping line 9: '\t' expected after '\"'\n",
            "Skipping line 9: '\t' expected after '\"'\n",
            "Skipping line 9: '\t' expected after '\"'\n",
            "Skipping line 3: '\t' expected after '\"'\n",
            "Skipping line 3: '\t' expected after '\"'\n",
            "Skipping line 3: '\t' expected after '\"'\n",
            "Skipping line 3: '\t' expected after '\"'\n",
            "Skipping line 3: '\t' expected after '\"'\n",
            "Skipping line 3: '\t' expected after '\"'\n",
            "Skipping line 3: '\t' expected after '\"'\n",
            "Skipping line 3: '\t' expected after '\"'\n",
            "Skipping line 3: '\t' expected after '\"'\n",
            "Skipping line 7: '\t' expected after '\"'\n",
            "Skipping line 9: '\t' expected after '\"'\n",
            "Skipping line 3: '\t' expected after '\"'\n",
            "Skipping line 7: '\t' expected after '\"'\n",
            "Skipping line 9: '\t' expected after '\"'\n",
            "Skipping line 3: '\t' expected after '\"'\n",
            "Skipping line 7: '\t' expected after '\"'\n",
            "Skipping line 9: '\t' expected after '\"'\n",
            "Skipping line 3: '\t' expected after '\"'\n",
            "Skipping line 7: '\t' expected after '\"'\n",
            "Skipping line 9: '\t' expected after '\"'\n",
            "Skipping line 3: '\t' expected after '\"'\n",
            "Skipping line 7: '\t' expected after '\"'\n",
            "Skipping line 9: '\t' expected after '\"'\n",
            "Skipping line 3: '\t' expected after '\"'\n",
            "Skipping line 7: '\t' expected after '\"'\n",
            "Skipping line 9: '\t' expected after '\"'\n",
            "Skipping line 3: '\t' expected after '\"'\n",
            "Skipping line 7: '\t' expected after '\"'\n",
            "Skipping line 9: '\t' expected after '\"'\n",
            "Skipping line 3: '\t' expected after '\"'\n",
            "Skipping line 7: '\t' expected after '\"'\n",
            "Skipping line 9: '\t' expected after '\"'\n",
            "Skipping line 3: '\t' expected after '\"'\n",
            "Skipping line 7: '\t' expected after '\"'\n",
            "Skipping line 9: '\t' expected after '\"'\n",
            "Skipping line 3: '\t' expected after '\"'\n",
            "Skipping line 7: '\t' expected after '\"'\n",
            "Skipping line 9: '\t' expected after '\"'\n",
            "Skipping line 15: '\t' expected after '\"'\n",
            "Skipping line 15: '\t' expected after '\"'\n",
            "Skipping line 15: '\t' expected after '\"'\n",
            "Skipping line 15: '\t' expected after '\"'\n",
            "Skipping line 15: '\t' expected after '\"'\n",
            "Skipping line 15: '\t' expected after '\"'\n",
            "Skipping line 15: '\t' expected after '\"'\n",
            "Skipping line 5: '\t' expected after '\"'\n",
            "Skipping line 7: '\t' expected after '\"'\n",
            "Skipping line 5: '\t' expected after '\"'\n",
            "Skipping line 7: '\t' expected after '\"'\n",
            "Skipping line 5: '\t' expected after '\"'\n",
            "Skipping line 7: '\t' expected after '\"'\n",
            "Skipping line 5: '\t' expected after '\"'\n",
            "Skipping line 7: '\t' expected after '\"'\n",
            "Skipping line 5: '\t' expected after '\"'\n",
            "Skipping line 7: '\t' expected after '\"'\n",
            "Skipping line 5: '\t' expected after '\"'\n",
            "Skipping line 7: '\t' expected after '\"'\n",
            "Skipping line 5: '\t' expected after '\"'\n",
            "Skipping line 7: '\t' expected after '\"'\n",
            "Skipping line 5: '\t' expected after '\"'\n",
            "Skipping line 7: '\t' expected after '\"'\n",
            "Skipping line 3: '\t' expected after '\"'\n",
            "Skipping line 3: '\t' expected after '\"'\n",
            "Skipping line 3: '\t' expected after '\"'\n",
            "Skipping line 3: '\t' expected after '\"'\n",
            "Skipping line 3: '\t' expected after '\"'\n",
            "Skipping line 3: '\t' expected after '\"'\n",
            "Skipping line 3: '\t' expected after '\"'\n",
            "Skipping line 3: '\t' expected after '\"'\n",
            "Skipping line 3: '\t' expected after '\"'\n",
            "Skipping line 3: '\t' expected after '\"'\n",
            "Skipping line 3: '\t' expected after '\"'\n",
            "Skipping line 3: '\t' expected after '\"'\n",
            "Skipping line 3: '\t' expected after '\"'\n",
            "Skipping line 1: '\t' expected after '\"'\n",
            "Skipping line 1: '\t' expected after '\"'\n",
            "Skipping line 1: '\t' expected after '\"'\n",
            "Skipping line 1: '\t' expected after '\"'\n",
            "Skipping line 1: '\t' expected after '\"'\n",
            "Skipping line 1: '\t' expected after '\"'\n",
            "Skipping line 1: '\t' expected after '\"'\n",
            "Skipping line 1: '\t' expected after '\"'\n",
            "Skipping line 1: '\t' expected after '\"'\n",
            "Skipping line 1: '\t' expected after '\"'\n",
            "Skipping line 1: '\t' expected after '\"'\n",
            "Skipping line 1: '\t' expected after '\"'\n",
            "Skipping line 1: '\t' expected after '\"'\n",
            "Skipping line 1: '\t' expected after '\"'\n",
            "Skipping line 1: '\t' expected after '\"'\n",
            "Skipping line 1: '\t' expected after '\"'\n",
            "Skipping line 1: '\t' expected after '\"'\n",
            "Skipping line 1: '\t' expected after '\"'\n",
            "Skipping line 1: '\t' expected after '\"'\n",
            "Skipping line 1: '\t' expected after '\"'\n",
            "Skipping line 1: '\t' expected after '\"'\n",
            "Skipping line 1: '\t' expected after '\"'\n",
            "Skipping line 1: '\t' expected after '\"'\n",
            "Skipping line 1: '\t' expected after '\"'\n",
            "Skipping line 1: '\t' expected after '\"'\n",
            "Skipping line 5: '\t' expected after '\"'\n",
            "Skipping line 5: '\t' expected after '\"'\n",
            "Skipping line 5: '\t' expected after '\"'\n",
            "Skipping line 5: '\t' expected after '\"'\n",
            "Skipping line 5: '\t' expected after '\"'\n",
            "Skipping line 5: '\t' expected after '\"'\n",
            "Skipping line 5: '\t' expected after '\"'\n",
            "Skipping line 5: '\t' expected after '\"'\n",
            "Skipping line 1: '\t' expected after '\"'\n",
            "Skipping line 1: '\t' expected after '\"'\n",
            "Skipping line 1: '\t' expected after '\"'\n",
            "Skipping line 1: '\t' expected after '\"'\n",
            "Skipping line 1: '\t' expected after '\"'\n",
            "Skipping line 1: '\t' expected after '\"'\n",
            "Skipping line 1: '\t' expected after '\"'\n",
            "Skipping line 1: '\t' expected after '\"'\n",
            "Skipping line 1: '\t' expected after '\"'\n",
            "Skipping line 27: '\t' expected after '\"'\n",
            "Skipping line 27: '\t' expected after '\"'\n",
            "Skipping line 27: '\t' expected after '\"'\n",
            "Skipping line 27: '\t' expected after '\"'\n",
            "Skipping line 27: '\t' expected after '\"'\n",
            "Skipping line 27: '\t' expected after '\"'\n",
            "Skipping line 27: '\t' expected after '\"'\n",
            "Skipping line 9: '\t' expected after '\"'\n",
            "Skipping line 9: '\t' expected after '\"'\n",
            "Skipping line 9: '\t' expected after '\"'\n",
            "Skipping line 9: '\t' expected after '\"'\n",
            "Skipping line 9: '\t' expected after '\"'\n",
            "Skipping line 9: '\t' expected after '\"'\n",
            "Skipping line 9: '\t' expected after '\"'\n",
            "Skipping line 9: '\t' expected after '\"'\n",
            "Skipping line 9: '\t' expected after '\"'\n",
            "Skipping line 9: '\t' expected after '\"'\n",
            "Skipping line 1: '\t' expected after '\"'\n",
            "Skipping line 1: '\t' expected after '\"'\n",
            "Skipping line 1: '\t' expected after '\"'\n",
            "Skipping line 1: '\t' expected after '\"'\n",
            "Skipping line 1: '\t' expected after '\"'\n",
            "Skipping line 1: '\t' expected after '\"'\n",
            "Skipping line 1: '\t' expected after '\"'\n",
            "Skipping line 1: '\t' expected after '\"'\n",
            "Skipping line 1: '\t' expected after '\"'\n",
            "Skipping line 1: '\t' expected after '\"'\n",
            "Skipping line 1: '\t' expected after '\"'\n",
            "Skipping line 1: '\t' expected after '\"'\n",
            "Skipping line 1: '\t' expected after '\"'\n",
            "Skipping line 7: '\t' expected after '\"'\n",
            "Skipping line 17: '\t' expected after '\"'\n",
            "Skipping line 7: '\t' expected after '\"'\n",
            "Skipping line 17: '\t' expected after '\"'\n",
            "Skipping line 7: '\t' expected after '\"'\n",
            "Skipping line 17: '\t' expected after '\"'\n",
            "Skipping line 7: '\t' expected after '\"'\n",
            "Skipping line 17: '\t' expected after '\"'\n",
            "Skipping line 7: '\t' expected after '\"'\n",
            "Skipping line 17: '\t' expected after '\"'\n",
            "Skipping line 7: '\t' expected after '\"'\n",
            "Skipping line 17: '\t' expected after '\"'\n",
            "Skipping line 7: '\t' expected after '\"'\n",
            "Skipping line 17: '\t' expected after '\"'\n",
            "Skipping line 7: '\t' expected after '\"'\n",
            "Skipping line 17: '\t' expected after '\"'\n",
            "Skipping line 7: '\t' expected after '\"'\n",
            "Skipping line 17: '\t' expected after '\"'\n",
            "Skipping line 7: '\t' expected after '\"'\n",
            "Skipping line 17: '\t' expected after '\"'\n",
            "Skipping line 7: '\t' expected after '\"'\n",
            "Skipping line 17: '\t' expected after '\"'\n",
            "Skipping line 7: '\t' expected after '\"'\n",
            "Skipping line 17: '\t' expected after '\"'\n",
            "Skipping line 7: '\t' expected after '\"'\n",
            "Skipping line 17: '\t' expected after '\"'\n",
            "Skipping line 7: '\t' expected after '\"'\n",
            "Skipping line 17: '\t' expected after '\"'\n",
            "Skipping line 3: '\t' expected after '\"'\n",
            "Skipping line 7: '\t' expected after '\"'\n",
            "Skipping line 3: '\t' expected after '\"'\n",
            "Skipping line 7: '\t' expected after '\"'\n",
            "Skipping line 3: '\t' expected after '\"'\n",
            "Skipping line 7: '\t' expected after '\"'\n",
            "Skipping line 3: '\t' expected after '\"'\n",
            "Skipping line 7: '\t' expected after '\"'\n",
            "Skipping line 3: '\t' expected after '\"'\n",
            "Skipping line 7: '\t' expected after '\"'\n",
            "Skipping line 3: '\t' expected after '\"'\n",
            "Skipping line 7: '\t' expected after '\"'\n",
            "Skipping line 3: '\t' expected after '\"'\n",
            "Skipping line 7: '\t' expected after '\"'\n",
            "Skipping line 3: '\t' expected after '\"'\n",
            "Skipping line 7: '\t' expected after '\"'\n",
            "Skipping line 3: '\t' expected after '\"'\n",
            "Skipping line 7: '\t' expected after '\"'\n",
            "Skipping line 3: '\t' expected after '\"'\n",
            "Skipping line 7: '\t' expected after '\"'\n",
            "Skipping line 3: '\t' expected after '\"'\n",
            "Skipping line 7: '\t' expected after '\"'\n",
            "Skipping line 3: '\t' expected after '\"'\n",
            "Skipping line 7: '\t' expected after '\"'\n",
            "Skipping line 1: '\t' expected after '\"'\n",
            "Skipping line 1: '\t' expected after '\"'\n",
            "Skipping line 1: '\t' expected after '\"'\n",
            "Skipping line 1: '\t' expected after '\"'\n",
            "Skipping line 1: '\t' expected after '\"'\n",
            "Skipping line 1: '\t' expected after '\"'\n",
            "Skipping line 1: '\t' expected after '\"'\n",
            "Skipping line 1: '\t' expected after '\"'\n",
            "Skipping line 1: '\t' expected after '\"'\n",
            "Skipping line 1: '\t' expected after '\"'\n",
            "Skipping line 1: '\t' expected after '\"'\n",
            "Skipping line 1: '\t' expected after '\"'\n",
            "Skipping line 1: '\t' expected after '\"'\n",
            "Skipping line 1: '\t' expected after '\"'\n",
            "Skipping line 1: '\t' expected after '\"'\n",
            "Skipping line 1: '\t' expected after '\"'\n",
            "Skipping line 1: '\t' expected after '\"'\n",
            "Skipping line 1: '\t' expected after '\"'\n",
            "Skipping line 1: '\t' expected after '\"'\n",
            "Skipping line 1: '\t' expected after '\"'\n",
            "Skipping line 1: '\t' expected after '\"'\n",
            "Skipping line 11: '\t' expected after '\"'\n",
            "Skipping line 11: '\t' expected after '\"'\n",
            "Skipping line 11: '\t' expected after '\"'\n",
            "Skipping line 11: '\t' expected after '\"'\n",
            "Skipping line 11: '\t' expected after '\"'\n",
            "Skipping line 11: '\t' expected after '\"'\n",
            "Skipping line 11: '\t' expected after '\"'\n",
            "Skipping line 11: '\t' expected after '\"'\n",
            "Skipping line 11: '\t' expected after '\"'\n",
            "Skipping line 11: '\t' expected after '\"'\n",
            "Skipping line 11: '\t' expected after '\"'\n",
            "Skipping line 11: '\t' expected after '\"'\n",
            "Skipping line 11: '\t' expected after '\"'\n",
            "Skipping line 11: '\t' expected after '\"'\n",
            "Skipping line 5: '\t' expected after '\"'\n",
            "Skipping line 5: '\t' expected after '\"'\n",
            "Skipping line 5: '\t' expected after '\"'\n",
            "Skipping line 5: '\t' expected after '\"'\n",
            "Skipping line 5: '\t' expected after '\"'\n",
            "Skipping line 5: '\t' expected after '\"'\n",
            "Skipping line 5: '\t' expected after '\"'\n",
            "Skipping line 5: '\t' expected after '\"'\n",
            "Skipping line 5: '\t' expected after '\"'\n",
            "Skipping line 5: '\t' expected after '\"'\n",
            "Skipping line 5: '\t' expected after '\"'\n",
            "Skipping line 5: '\t' expected after '\"'\n",
            "Skipping line 5: '\t' expected after '\"'\n",
            "Skipping line 5: '\t' expected after '\"'\n",
            "Skipping line 5: '\t' expected after '\"'\n",
            "Skipping line 5: '\t' expected after '\"'\n",
            "Skipping line 7: '\t' expected after '\"'\n",
            "Skipping line 7: '\t' expected after '\"'\n",
            "Skipping line 7: '\t' expected after '\"'\n",
            "Skipping line 7: '\t' expected after '\"'\n",
            "Skipping line 7: '\t' expected after '\"'\n",
            "Skipping line 7: '\t' expected after '\"'\n",
            "Skipping line 7: '\t' expected after '\"'\n",
            "Skipping line 7: '\t' expected after '\"'\n",
            "Skipping line 7: '\t' expected after '\"'\n",
            "Skipping line 7: '\t' expected after '\"'\n",
            "Skipping line 7: '\t' expected after '\"'\n",
            "Skipping line 7: '\t' expected after '\"'\n",
            "Skipping line 7: '\t' expected after '\"'\n",
            "Skipping line 3: '\t' expected after '\"'\n",
            "Skipping line 3: '\t' expected after '\"'\n",
            "Skipping line 3: '\t' expected after '\"'\n",
            "Skipping line 3: '\t' expected after '\"'\n",
            "Skipping line 1: '\t' expected after '\"'\n",
            "Skipping line 9: '\t' expected after '\"'\n",
            "Skipping line 1: '\t' expected after '\"'\n",
            "Skipping line 9: '\t' expected after '\"'\n",
            "Skipping line 1: '\t' expected after '\"'\n",
            "Skipping line 9: '\t' expected after '\"'\n",
            "Skipping line 1: '\t' expected after '\"'\n",
            "Skipping line 9: '\t' expected after '\"'\n",
            "Skipping line 1: '\t' expected after '\"'\n",
            "Skipping line 9: '\t' expected after '\"'\n",
            "Skipping line 1: '\t' expected after '\"'\n",
            "Skipping line 9: '\t' expected after '\"'\n",
            "Skipping line 1: '\t' expected after '\"'\n",
            "Skipping line 9: '\t' expected after '\"'\n",
            "Skipping line 1: '\t' expected after '\"'\n",
            "Skipping line 9: '\t' expected after '\"'\n",
            "Skipping line 1: '\t' expected after '\"'\n",
            "Skipping line 9: '\t' expected after '\"'\n",
            "Skipping line 1: '\t' expected after '\"'\n",
            "Skipping line 9: '\t' expected after '\"'\n",
            "Skipping line 1: '\t' expected after '\"'\n",
            "Skipping line 9: '\t' expected after '\"'\n",
            "Skipping line 1: '\t' expected after '\"'\n",
            "Skipping line 9: '\t' expected after '\"'\n",
            "Skipping line 1: '\t' expected after '\"'\n",
            "Skipping line 9: '\t' expected after '\"'\n",
            "Skipping line 1: '\t' expected after '\"'\n",
            "Skipping line 5: '\t' expected after '\"'\n",
            "Skipping line 1: '\t' expected after '\"'\n",
            "Skipping line 5: '\t' expected after '\"'\n",
            "Skipping line 1: '\t' expected after '\"'\n",
            "Skipping line 5: '\t' expected after '\"'\n",
            "Skipping line 1: '\t' expected after '\"'\n",
            "Skipping line 5: '\t' expected after '\"'\n",
            "Skipping line 1: '\t' expected after '\"'\n",
            "Skipping line 5: '\t' expected after '\"'\n",
            "Skipping line 1: '\t' expected after '\"'\n",
            "Skipping line 5: '\t' expected after '\"'\n",
            "Skipping line 1: '\t' expected after '\"'\n",
            "Skipping line 5: '\t' expected after '\"'\n",
            "Skipping line 1: '\t' expected after '\"'\n",
            "Skipping line 5: '\t' expected after '\"'\n",
            "Skipping line 1: '\t' expected after '\"'\n",
            "Skipping line 5: '\t' expected after '\"'\n",
            "Skipping line 13: '\t' expected after '\"'\n",
            "Skipping line 13: '\t' expected after '\"'\n",
            "Skipping line 13: '\t' expected after '\"'\n",
            "Skipping line 13: '\t' expected after '\"'\n",
            "Skipping line 13: '\t' expected after '\"'\n",
            "Skipping line 13: '\t' expected after '\"'\n",
            "Skipping line 13: '\t' expected after '\"'\n",
            "Skipping line 13: '\t' expected after '\"'\n",
            "Skipping line 13: '\t' expected after '\"'\n",
            "Skipping line 13: '\t' expected after '\"'\n",
            "Skipping line 13: '\t' expected after '\"'\n",
            "Skipping line 13: '\t' expected after '\"'\n",
            "Skipping line 13: '\t' expected after '\"'\n",
            "Skipping line 13: '\t' expected after '\"'\n",
            "Skipping line 13: '\t' expected after '\"'\n",
            "Skipping line 13: '\t' expected after '\"'\n",
            "Skipping line 1: '\t' expected after '\"'\n",
            "Skipping line 1: '\t' expected after '\"'\n",
            "Skipping line 1: '\t' expected after '\"'\n",
            "Skipping line 1: '\t' expected after '\"'\n",
            "Skipping line 1: '\t' expected after '\"'\n",
            "Skipping line 1: '\t' expected after '\"'\n",
            "Skipping line 1: '\t' expected after '\"'\n",
            "Skipping line 1: '\t' expected after '\"'\n",
            "Skipping line 1: '\t' expected after '\"'\n",
            "Skipping line 1: '\t' expected after '\"'\n",
            "Skipping line 1: '\t' expected after '\"'\n",
            "Skipping line 1: '\t' expected after '\"'\n",
            "Skipping line 1: '\t' expected after '\"'\n",
            "Skipping line 1: '\t' expected after '\"'\n",
            "Skipping line 1: '\t' expected after '\"'\n",
            "Skipping line 1: '\t' expected after '\"'\n",
            "Skipping line 1: '\t' expected after '\"'\n",
            "Skipping line 1: '\t' expected after '\"'\n",
            "Skipping line 1: '\t' expected after '\"'\n",
            "Skipping line 1: '\t' expected after '\"'\n",
            "Skipping line 3: '\t' expected after '\"'\n",
            "Skipping line 3: '\t' expected after '\"'\n",
            "Skipping line 3: '\t' expected after '\"'\n",
            "Skipping line 3: '\t' expected after '\"'\n",
            "Skipping line 3: '\t' expected after '\"'\n",
            "Skipping line 3: '\t' expected after '\"'\n",
            "Skipping line 3: '\t' expected after '\"'\n",
            "Skipping line 3: '\t' expected after '\"'\n",
            "Skipping line 3: '\t' expected after '\"'\n",
            "Skipping line 3: '\t' expected after '\"'\n",
            "Skipping line 3: '\t' expected after '\"'\n",
            "Skipping line 3: '\t' expected after '\"'\n",
            "Skipping line 3: '\t' expected after '\"'\n",
            "Skipping line 1: '\t' expected after '\"'\n",
            "Skipping line 3: '\t' expected after '\"'\n",
            "Skipping line 1: '\t' expected after '\"'\n",
            "Skipping line 3: '\t' expected after '\"'\n",
            "Skipping line 1: '\t' expected after '\"'\n",
            "Skipping line 3: '\t' expected after '\"'\n",
            "Skipping line 1: '\t' expected after '\"'\n",
            "Skipping line 3: '\t' expected after '\"'\n",
            "Skipping line 1: '\t' expected after '\"'\n",
            "Skipping line 3: '\t' expected after '\"'\n",
            "Skipping line 1: '\t' expected after '\"'\n",
            "Skipping line 3: '\t' expected after '\"'\n",
            "Skipping line 1: '\t' expected after '\"'\n",
            "Skipping line 3: '\t' expected after '\"'\n",
            "Skipping line 1: '\t' expected after '\"'\n",
            "Skipping line 3: '\t' expected after '\"'\n",
            "Skipping line 1: '\t' expected after '\"'\n",
            "Skipping line 3: '\t' expected after '\"'\n",
            "Skipping line 1: '\t' expected after '\"'\n",
            "Skipping line 3: '\t' expected after '\"'\n",
            "Skipping line 1: '\t' expected after '\"'\n",
            "Skipping line 3: '\t' expected after '\"'\n",
            "Skipping line 5: '\t' expected after '\"'\n",
            "Skipping line 5: '\t' expected after '\"'\n",
            "Skipping line 5: '\t' expected after '\"'\n",
            "Skipping line 5: '\t' expected after '\"'\n",
            "Skipping line 5: '\t' expected after '\"'\n",
            "Skipping line 5: '\t' expected after '\"'\n",
            "Skipping line 5: '\t' expected after '\"'\n",
            "Skipping line 5: '\t' expected after '\"'\n",
            "Skipping line 5: '\t' expected after '\"'\n",
            "Skipping line 5: '\t' expected after '\"'\n",
            "Skipping line 5: '\t' expected after '\"'\n",
            "Skipping line 5: '\t' expected after '\"'\n",
            "Skipping line 5: '\t' expected after '\"'\n",
            "Skipping line 5: '\t' expected after '\"'\n",
            "Skipping line 5: '\t' expected after '\"'\n",
            "Skipping line 5: '\t' expected after '\"'\n",
            "Skipping line 5: '\t' expected after '\"'\n",
            "Skipping line 5: '\t' expected after '\"'\n",
            "Skipping line 5: '\t' expected after '\"'\n",
            "Skipping line 19: '\t' expected after '\"'\n",
            "Skipping line 19: '\t' expected after '\"'\n",
            "Skipping line 19: '\t' expected after '\"'\n",
            "Skipping line 19: '\t' expected after '\"'\n",
            "Skipping line 19: '\t' expected after '\"'\n",
            "Skipping line 19: '\t' expected after '\"'\n",
            "Skipping line 19: '\t' expected after '\"'\n",
            "Skipping line 19: '\t' expected after '\"'\n",
            "Skipping line 1: '\t' expected after '\"'\n",
            "Skipping line 1: '\t' expected after '\"'\n",
            "Skipping line 1: '\t' expected after '\"'\n",
            "Skipping line 1: '\t' expected after '\"'\n",
            "Skipping line 1: '\t' expected after '\"'\n",
            "Skipping line 1: '\t' expected after '\"'\n",
            "Skipping line 1: '\t' expected after '\"'\n",
            "Skipping line 1: '\t' expected after '\"'\n",
            "Skipping line 1: '\t' expected after '\"'\n",
            "Skipping line 1: '\t' expected after '\"'\n",
            "Skipping line 1: '\t' expected after '\"'\n",
            "Skipping line 1: '\t' expected after '\"'\n",
            "Skipping line 1: '\t' expected after '\"'\n",
            "Skipping line 1: '\t' expected after '\"'\n",
            "Skipping line 1: '\t' expected after '\"'\n",
            "Skipping line 1: '\t' expected after '\"'\n",
            "Skipping line 1: '\t' expected after '\"'\n",
            "Skipping line 1: '\t' expected after '\"'\n",
            "Skipping line 1: '\t' expected after '\"'\n",
            "Skipping line 1: '\t' expected after '\"'\n",
            "Skipping line 1: '\t' expected after '\"'\n",
            "Skipping line 1: '\t' expected after '\"'\n",
            "Skipping line 1: '\t' expected after '\"'\n",
            "Skipping line 1: '\t' expected after '\"'\n",
            "Skipping line 1: '\t' expected after '\"'\n",
            "Skipping line 1: '\t' expected after '\"'\n",
            "Skipping line 1: '\t' expected after '\"'\n",
            "Skipping line 9: '\t' expected after '\"'\n",
            "Skipping line 1: '\t' expected after '\"'\n",
            "Skipping line 9: '\t' expected after '\"'\n",
            "Skipping line 1: '\t' expected after '\"'\n",
            "Skipping line 9: '\t' expected after '\"'\n",
            "Skipping line 1: '\t' expected after '\"'\n",
            "Skipping line 9: '\t' expected after '\"'\n",
            "Skipping line 1: '\t' expected after '\"'\n",
            "Skipping line 9: '\t' expected after '\"'\n",
            "Skipping line 1: '\t' expected after '\"'\n",
            "Skipping line 9: '\t' expected after '\"'\n",
            "Skipping line 1: '\t' expected after '\"'\n",
            "Skipping line 9: '\t' expected after '\"'\n",
            "Skipping line 1: '\t' expected after '\"'\n",
            "Skipping line 9: '\t' expected after '\"'\n",
            "Skipping line 1: '\t' expected after '\"'\n",
            "Skipping line 9: '\t' expected after '\"'\n",
            "Skipping line 1: '\t' expected after '\"'\n",
            "Skipping line 9: '\t' expected after '\"'\n",
            "Skipping line 19: '\t' expected after '\"'\n",
            "Skipping line 23: '\t' expected after '\"'\n",
            "Skipping line 25: '\t' expected after '\"'\n",
            "Skipping line 19: '\t' expected after '\"'\n",
            "Skipping line 23: '\t' expected after '\"'\n",
            "Skipping line 25: '\t' expected after '\"'\n",
            "Skipping line 19: '\t' expected after '\"'\n",
            "Skipping line 23: '\t' expected after '\"'\n",
            "Skipping line 25: '\t' expected after '\"'\n",
            "Skipping line 19: '\t' expected after '\"'\n",
            "Skipping line 23: '\t' expected after '\"'\n",
            "Skipping line 25: '\t' expected after '\"'\n",
            "Skipping line 19: '\t' expected after '\"'\n",
            "Skipping line 23: '\t' expected after '\"'\n",
            "Skipping line 25: '\t' expected after '\"'\n",
            "Skipping line 19: '\t' expected after '\"'\n",
            "Skipping line 23: '\t' expected after '\"'\n",
            "Skipping line 25: '\t' expected after '\"'\n",
            "Skipping line 19: '\t' expected after '\"'\n",
            "Skipping line 23: '\t' expected after '\"'\n",
            "Skipping line 25: '\t' expected after '\"'\n",
            "Skipping line 19: '\t' expected after '\"'\n",
            "Skipping line 23: '\t' expected after '\"'\n",
            "Skipping line 25: '\t' expected after '\"'\n",
            "Skipping line 19: '\t' expected after '\"'\n",
            "Skipping line 23: '\t' expected after '\"'\n",
            "Skipping line 25: '\t' expected after '\"'\n",
            "Skipping line 19: '\t' expected after '\"'\n",
            "Skipping line 23: '\t' expected after '\"'\n",
            "Skipping line 25: '\t' expected after '\"'\n",
            "Skipping line 19: '\t' expected after '\"'\n",
            "Skipping line 23: '\t' expected after '\"'\n",
            "Skipping line 25: '\t' expected after '\"'\n",
            "Skipping line 19: '\t' expected after '\"'\n",
            "Skipping line 23: '\t' expected after '\"'\n",
            "Skipping line 25: '\t' expected after '\"'\n",
            "Skipping line 19: '\t' expected after '\"'\n",
            "Skipping line 23: '\t' expected after '\"'\n",
            "Skipping line 25: '\t' expected after '\"'\n",
            "Skipping line 19: '\t' expected after '\"'\n",
            "Skipping line 23: '\t' expected after '\"'\n",
            "Skipping line 25: '\t' expected after '\"'\n",
            "Skipping line 17: '\t' expected after '\"'\n",
            "Skipping line 17: '\t' expected after '\"'\n",
            "Skipping line 17: '\t' expected after '\"'\n",
            "Skipping line 17: '\t' expected after '\"'\n",
            "Skipping line 17: '\t' expected after '\"'\n",
            "Skipping line 17: '\t' expected after '\"'\n",
            "Skipping line 17: '\t' expected after '\"'\n",
            "Skipping line 17: '\t' expected after '\"'\n",
            "Skipping line 17: '\t' expected after '\"'\n",
            "Skipping line 17: '\t' expected after '\"'\n",
            "Skipping line 17: '\t' expected after '\"'\n",
            "Skipping line 17: '\t' expected after '\"'\n",
            "Skipping line 15: '\t' expected after '\"'\n",
            "Skipping line 15: '\t' expected after '\"'\n",
            "Skipping line 15: '\t' expected after '\"'\n",
            "Skipping line 15: '\t' expected after '\"'\n",
            "Skipping line 15: '\t' expected after '\"'\n",
            "Skipping line 15: '\t' expected after '\"'\n",
            "Skipping line 15: '\t' expected after '\"'\n",
            "Skipping line 15: '\t' expected after '\"'\n",
            "Skipping line 15: '\t' expected after '\"'\n",
            "Skipping line 15: '\t' expected after '\"'\n",
            "Skipping line 15: '\t' expected after '\"'\n",
            "Skipping line 15: '\t' expected after '\"'\n",
            "Skipping line 1: '\t' expected after '\"'\n",
            "Skipping line 1: '\t' expected after '\"'\n",
            "Skipping line 1: '\t' expected after '\"'\n",
            "Skipping line 1: '\t' expected after '\"'\n",
            "Skipping line 1: '\t' expected after '\"'\n",
            "Skipping line 1: '\t' expected after '\"'\n",
            "Skipping line 1: '\t' expected after '\"'\n",
            "Skipping line 1: '\t' expected after '\"'\n",
            "Skipping line 1: '\t' expected after '\"'\n",
            "Skipping line 1: '\t' expected after '\"'\n",
            "Skipping line 5: '\t' expected after '\"'\n",
            "Skipping line 7: '\t' expected after '\"'\n",
            "Skipping line 5: '\t' expected after '\"'\n",
            "Skipping line 7: '\t' expected after '\"'\n",
            "Skipping line 5: '\t' expected after '\"'\n",
            "Skipping line 7: '\t' expected after '\"'\n",
            "Skipping line 5: '\t' expected after '\"'\n",
            "Skipping line 7: '\t' expected after '\"'\n",
            "Skipping line 5: '\t' expected after '\"'\n",
            "Skipping line 7: '\t' expected after '\"'\n",
            "Skipping line 5: '\t' expected after '\"'\n",
            "Skipping line 7: '\t' expected after '\"'\n",
            "Skipping line 5: '\t' expected after '\"'\n",
            "Skipping line 7: '\t' expected after '\"'\n",
            "Skipping line 5: '\t' expected after '\"'\n",
            "Skipping line 7: '\t' expected after '\"'\n",
            "Skipping line 5: '\t' expected after '\"'\n",
            "Skipping line 7: '\t' expected after '\"'\n",
            "Skipping line 5: '\t' expected after '\"'\n",
            "Skipping line 7: '\t' expected after '\"'\n",
            "Skipping line 5: '\t' expected after '\"'\n",
            "Skipping line 7: '\t' expected after '\"'\n",
            "Skipping line 5: '\t' expected after '\"'\n",
            "Skipping line 7: '\t' expected after '\"'\n",
            "Skipping line 5: '\t' expected after '\"'\n",
            "Skipping line 7: '\t' expected after '\"'\n",
            "Skipping line 5: '\t' expected after '\"'\n",
            "Skipping line 7: '\t' expected after '\"'\n",
            "Skipping line 5: '\t' expected after '\"'\n",
            "Skipping line 7: '\t' expected after '\"'\n",
            "Skipping line 5: '\t' expected after '\"'\n",
            "Skipping line 7: '\t' expected after '\"'\n",
            "Skipping line 5: '\t' expected after '\"'\n",
            "Skipping line 7: '\t' expected after '\"'\n",
            "Skipping line 1: '\t' expected after '\"'\n",
            "Skipping line 1: '\t' expected after '\"'\n",
            "Skipping line 1: '\t' expected after '\"'\n",
            "Skipping line 1: '\t' expected after '\"'\n",
            "Skipping line 1: '\t' expected after '\"'\n",
            "Skipping line 1: '\t' expected after '\"'\n",
            "Skipping line 1: '\t' expected after '\"'\n",
            "Skipping line 1: '\t' expected after '\"'\n",
            "Skipping line 1: '\t' expected after '\"'\n",
            "Skipping line 1: '\t' expected after '\"'\n",
            "Skipping line 1: '\t' expected after '\"'\n",
            "Skipping line 1: '\t' expected after '\"'\n",
            "Skipping line 1: '\t' expected after '\"'\n",
            "Skipping line 1: '\t' expected after '\"'\n",
            "Skipping line 1: '\t' expected after '\"'\n",
            "Skipping line 1: '\t' expected after '\"'\n"
          ]
        }
      ]
    },
    {
      "cell_type": "code",
      "source": [
        "# Extract a training & validation split\n",
        "validation_split = 0.2\n",
        "num_validation_samples = int(validation_split * len(samples))\n",
        "train_samples = samples[:-num_validation_samples]\n",
        "test_samples = samples[-num_validation_samples:]\n"
      ],
      "metadata": {
        "id": "xpcDnmRI1QFB"
      },
      "id": "xpcDnmRI1QFB",
      "execution_count": 82,
      "outputs": []
    },
    {
      "cell_type": "code",
      "source": [
        "train_labels = labels[0:18300]\n",
        "test_labels = labels[18300:22875]"
      ],
      "metadata": {
        "id": "NcpT5ZB63Lc2"
      },
      "id": "NcpT5ZB63Lc2",
      "execution_count": 99,
      "outputs": []
    },
    {
      "cell_type": "code",
      "source": [
        "print(num_validation_samples)"
      ],
      "metadata": {
        "colab": {
          "base_uri": "https://localhost:8080/"
        },
        "id": "Bi4M8w5d3dxo",
        "outputId": "434fc0f3-b31c-4d5c-8782-d7eccce6e252"
      },
      "id": "Bi4M8w5d3dxo",
      "execution_count": 96,
      "outputs": [
        {
          "output_type": "stream",
          "name": "stdout",
          "text": [
            "4575\n"
          ]
        }
      ]
    },
    {
      "cell_type": "code",
      "source": [
        "print(len(samples))"
      ],
      "metadata": {
        "colab": {
          "base_uri": "https://localhost:8080/"
        },
        "id": "gO2Fqh8q3m-m",
        "outputId": "1f73ac34-c1c5-4b7c-a033-7ec5c938bf6c"
      },
      "id": "gO2Fqh8q3m-m",
      "execution_count": 97,
      "outputs": [
        {
          "output_type": "stream",
          "name": "stdout",
          "text": [
            "22875\n"
          ]
        }
      ]
    },
    {
      "cell_type": "code",
      "source": [
        "print(len(samples)-num_validation_samples)"
      ],
      "metadata": {
        "colab": {
          "base_uri": "https://localhost:8080/"
        },
        "id": "EmryuInX3prp",
        "outputId": "370e13b3-b4fa-4c79-e2c7-d399b51ae73e"
      },
      "id": "EmryuInX3prp",
      "execution_count": 98,
      "outputs": [
        {
          "output_type": "stream",
          "name": "stdout",
          "text": [
            "18300\n"
          ]
        }
      ]
    },
    {
      "cell_type": "code",
      "source": [
        "print(len(train_labels))"
      ],
      "metadata": {
        "colab": {
          "base_uri": "https://localhost:8080/"
        },
        "id": "bpUP3F6O3UYg",
        "outputId": "c06a3f2a-8813-43ce-8223-7900443b04aa"
      },
      "id": "bpUP3F6O3UYg",
      "execution_count": 102,
      "outputs": [
        {
          "output_type": "stream",
          "name": "stdout",
          "text": [
            "18300\n"
          ]
        }
      ]
    },
    {
      "cell_type": "code",
      "source": [
        "print(len(test_labels))"
      ],
      "metadata": {
        "colab": {
          "base_uri": "https://localhost:8080/"
        },
        "id": "vef4WYYM3DTU",
        "outputId": "a0c05af9-85c9-4b0e-e2d0-5d9b966d4c02"
      },
      "id": "vef4WYYM3DTU",
      "execution_count": 100,
      "outputs": [
        {
          "output_type": "stream",
          "name": "stdout",
          "text": [
            "4575\n"
          ]
        }
      ]
    },
    {
      "cell_type": "code",
      "source": [
        "print(len(labels))"
      ],
      "metadata": {
        "colab": {
          "base_uri": "https://localhost:8080/"
        },
        "id": "GK5T8VTY3HIM",
        "outputId": "06d8da7b-ed10-4f9d-be86-8b75b6ed2479"
      },
      "id": "GK5T8VTY3HIM",
      "execution_count": 101,
      "outputs": [
        {
          "output_type": "stream",
          "name": "stdout",
          "text": [
            "22875\n"
          ]
        }
      ]
    },
    {
      "cell_type": "code",
      "source": [
        "print(samples)"
      ],
      "metadata": {
        "colab": {
          "base_uri": "https://localhost:8080/"
        },
        "id": "r3gquTwNZTBc",
        "outputId": "62e3c202-0b7e-4c51-caa9-39fbf303ac16"
      },
      "id": "r3gquTwNZTBc",
      "execution_count": 72,
      "outputs": [
        {
          "output_type": "stream",
          "name": "stderr",
          "text": [
            "IOPub data rate exceeded.\n",
            "The notebook server will temporarily stop sending output\n",
            "to the client in order to avoid crashing it.\n",
            "To change this limit, set the config variable\n",
            "`--NotebookApp.iopub_data_rate_limit`.\n",
            "\n",
            "Current values:\n",
            "NotebookApp.iopub_data_rate_limit=1000000.0 (bytes/sec)\n",
            "NotebookApp.rate_limit_window=3.0 (secs)\n",
            "\n"
          ]
        }
      ]
    },
    {
      "cell_type": "code",
      "source": [
        "print(labels)"
      ],
      "metadata": {
        "colab": {
          "base_uri": "https://localhost:8080/"
        },
        "id": "l7w8laL7ZZK-",
        "outputId": "0d0a8315-048f-47b8-b9a4-9a94b97d293b"
      },
      "id": "l7w8laL7ZZK-",
      "execution_count": 73,
      "outputs": [
        {
          "output_type": "stream",
          "name": "stdout",
          "text": [
            "[0, 1, 1, 2, 3, 4, 1, 5, 0, 0, 2, 1, 2, 1, 2, 1, 5, 0, 3, 4, 1, 2, 1, 2, 2, 2, 2, 1, 5, 0, 1, 2, 2, 1, 2, 1, 2, 1, 0, 0, 2, 2, 2, 2, 1, 2, 1, 2, 2, 1, 2, 1, 5, 0, 0, 0, 2, 1, 2, 1, 5, 0, 0, 1, 3, 4, 1, 2, 1, 3, 4, 3, 4, 5, 0, 0, 1, 2, 1, 2, 1, 2, 1, 2, 1, 0, 2, 1, 3, 1, 1, 0, 2, 1, 3, 4, 1, 2, 1, 5, 0, 2, 1, 2, 1, 2, 1, 2, 1, 2, 1, 5, 0, 0, 2, 1, 3, 4, 2, 1, 5, 0, 0, 2, 1, 3, 4, 1, 3, 4, 1, 5, 0, 1, 2, 1, 2, 1, 5, 0, 2, 2, 2, 2, 1, 2, 1, 2, 1, 5, 0, 1, 2, 5, 0, 2, 2, 2, 3, 4, 1, 1, 3, 4, 1, 3, 4, 1, 1, 5, 0, 0, 2, 2, 2, 1, 1, 1, 2, 5, 0, 2, 1, 2, 1, 2, 1, 5, 0, 0, 2, 2, 2, 2, 1, 2, 1, 2, 1, 5, 0, 0, 2, 1, 2, 1, 1, 2, 5, 0, 0, 2, 2, 2, 1, 2, 2, 1, 2, 1, 5, 0, 2, 1, 3, 4, 1, 2, 1, 2, 1, 3, 1, 5, 0, 2, 1, 2, 1, 5, 0, 0, 2, 2, 2, 1, 2, 1, 2, 1, 5, 0, 0, 2, 1, 1, 5, 0, 0, 2, 1, 3, 4, 1, 3, 5, 0, 2, 2, 2, 1, 1, 1, 0, 5, 0, 1, 2, 2, 2, 2, 1, 2, 1, 3, 1, 3, 1, 5, 0, 0, 1, 2, 1, 2, 5, 0, 1, 3, 4, 2, 1, 1, 5, 0, 1, 2, 1, 2, 1, 3, 4, 2, 1, 5, 0, 0, 2, 1, 0, 0, 1, 2, 2, 1, 5, 0, 0, 2, 1, 2, 1, 5, 0, 0, 2, 2, 1, 1, 3, 4, 5, 0, 2, 1, 2, 1, 5, 0, 0, 2, 1, 2, 1, 2, 1, 2, 1, 5, 0, 0, 2, 3, 1, 4, 2, 1, 5, 0, 0, 1, 2, 2, 1, 2, 1, 5, 0, 0, 2, 1, 2, 1, 5, 0, 1, 1, 2, 1, 5, 0, 0, 2, 2, 2, 1, 1, 1, 5, 0, 0, 1, 2, 2, 1, 5, 0, 1, 1, 2, 2, 1, 5, 0, 0, 2, 1, 1, 2, 5, 0, 2, 1, 1, 2, 5, 0, 2, 2, 1, 3, 1, 4, 1, 5, 0, 2, 2, 2, 2, 1, 1, 1, 5, 0, 0, 2, 2, 2, 2, 1, 2, 1, 2, 1, 5, 0, 2, 2, 1, 1, 0, 2, 2, 2, 1, 2, 1, 1, 2, 0, 0, 0, 2, 1, 2, 1, 2, 1, 5, 0, 2, 3, 4, 1, 5, 0, 0, 2, 1, 2, 1, 2, 1, 5, 0, 0, 2, 1, 2, 1, 3, 5, 0, 0, 2, 1, 3, 1, 2, 2, 1, 2, 1, 5, 0, 0, 2, 2, 1, 2, 1, 2, 1, 3, 5, 0, 0, 3, 4, 3, 4, 5, 0, 2, 1, 0, 0, 3, 4, 2, 1, 2, 1, 2, 1, 5, 0, 1, 2, 1, 2, 1, 2, 1, 5, 0, 1, 2, 1, 2, 5, 0, 0, 2, 1, 2, 1, 2, 1, 0, 2, 1, 2, 1, 2, 1, 5, 0, 0, 2, 1, 2, 1, 2, 1, 5, 2, 2, 2, 0, 1, 2, 1, 2, 1, 2, 1, 5, 0, 0, 1, 3, 4, 1, 3, 4, 1, 2, 5, 0, 2, 2, 2, 2, 2, 1, 2, 1, 2, 1, 5, 0, 0, 2, 3, 4, 2, 2, 2, 2, 1, 2, 1, 3, 1, 2, 1, 5, 0, 2, 1, 2, 1, 2, 1, 5, 0, 0, 2, 2, 2, 1, 1, 1, 5, 0, 0, 2, 2, 1, 1, 3, 4, 5, 0, 0, 2, 1, 1, 2, 2, 1, 5, 0, 2, 0, 2, 1, 3, 1, 4, 1, 5, 0, 0, 3, 4, 2, 1, 2, 1, 2, 1, 5, 0, 1, 2, 1, 5, 0, 2, 3, 4, 1, 2, 1, 1, 0, 2, 1, 3, 1, 0, 5, 0, 1, 2, 1, 2, 1, 1, 2, 5, 0, 5, 0, 1, 0, 0, 1, 2, 1, 5, 3, 4, 0, 0, 1, 2, 1, 1, 2, 3, 1, 1, 0, 0, 2, 2, 2, 2, 1, 2, 1, 2, 1, 5, 0, 3, 2, 1, 2, 1, 2, 1, 5, 2, 1, 2, 1, 0, 1, 2, 1, 2, 1, 2, 1, 0, 0, 2, 1, 2, 1, 2, 1, 5, 0, 2, 1, 3, 4, 1, 2, 1, 0, 5, 0, 2, 1, 2, 1, 1, 2, 1, 5, 0, 2, 1, 3, 4, 1, 2, 1, 5, 0, 0, 2, 2, 2, 1, 2, 1, 2, 1, 1, 2, 5, 0, 0, 2, 2, 3, 1, 2, 1, 2, 1, 3, 4, 5, 0, 2, 1, 2, 1, 2, 1, 0, 2, 1, 2, 1, 2, 1, 2, 1, 0, 5, 0, 2, 3, 1, 4, 2, 1, 5, 0, 2, 1, 0, 2, 2, 1, 2, 1, 5, 0, 0, 1, 3, 1, 2, 1, 5, 0, 0, 2, 1, 2, 1, 2, 1, 5, 0, 2, 2, 2, 1, 2, 1, 2, 1, 2, 1, 5, 0, 0, 2, 2, 2, 2, 1, 2, 1, 2, 1, 3, 4, 2, 1, 5, 0, 2, 1, 5, 0, 1, 2, 3, 1, 4, 1, 0, 3, 1, 5, 0, 2, 2, 1, 1, 2, 0, 0, 1, 2, 1, 3, 2, 1, 5, 0, 0, 2, 2, 1, 2, 1, 2, 1, 0, 2, 1, 3, 1, 4, 2, 1, 3, 4, 1, 2, 1, 0, 2, 1, 0, 0, 0, 3, 2, 2, 2, 1, 2, 1, 1, 5, 0, 0, 2, 2, 2, 2, 1, 1, 1, 2, 1, 5, 0, 0, 2, 1, 2, 1, 2, 1, 5, 0, 2, 1, 2, 1, 2, 1, 5, 0, 0, 2, 2, 2, 1, 2, 1, 1, 5, 0, 0, 2, 2, 2, 1, 2, 2, 1, 2, 1, 5, 1, 5, 0, 1, 2, 1, 2, 2, 1, 0, 0, 2, 1, 2, 1, 5, 0, 2, 2, 2, 0, 2, 1, 2, 1, 2, 1, 5, 0, 1, 2, 1, 1, 2, 1, 5, 0, 0, 2, 1, 2, 1, 3, 4, 1, 2, 1, 2, 2, 1, 5, 0, 2, 2, 2, 1, 2, 1, 1, 5, 0, 0, 1, 2, 1, 3, 4, 1, 2, 1, 3, 4, 1, 2, 1, 3, 4, 5, 0, 0, 2, 2, 2, 2, 1, 2, 1, 2, 1, 5, 0, 0, 1, 2, 5, 0, 0, 2, 2, 2, 2, 1, 2, 1, 2, 1, 3, 4, 1, 5, 0, 0, 2, 1, 3, 4, 0, 0, 2, 2, 2, 2, 1, 2, 1, 2, 1, 5, 0, 0, 1, 1, 1, 5, 0, 2, 2, 2, 2, 1, 1, 3, 4, 2, 2, 1, 5, 0, 0, 2, 2, 2, 2, 1, 2, 1, 2, 1, 5, 0, 0, 3, 4, 1, 3, 4, 1, 3, 4, 1, 5, 0, 0, 2, 2, 2, 2, 1, 2, 1, 2, 1, 3, 4, 1, 5, 0, 0, 2, 2, 2, 1, 1, 1, 5, 0, 0, 1, 2, 1, 3, 4, 1, 2, 5, 0, 1, 2, 1, 2, 1, 5, 0, 2, 1, 0, 2, 1, 2, 1, 2, 1, 0, 1, 2, 1, 5, 0, 1, 2, 1, 2, 2, 1, 2, 2, 2, 1, 1, 5, 0, 0, 2, 1, 2, 1, 5, 0, 0, 2, 1, 2, 1, 2, 1, 5, 0, 0, 2, 1, 5, 0, 0, 2, 1, 2, 1, 3, 4, 2, 1, 2, 1, 5, 0, 0, 2, 2, 2, 1, 2, 1, 5, 0, 2, 1, 2, 1, 2, 1, 3, 4, 5, 0, 2, 2, 2, 2, 1, 2, 1, 2, 1, 5, 0, 2, 2, 2, 1, 1, 1, 5, 0, 2, 1, 1, 2, 2, 1, 5, 0, 1, 2, 2, 1, 2, 1, 0, 0, 2, 1, 2, 2, 1, 5, 0, 2, 2, 2, 2, 2, 2, 5, 0, 2, 2, 2, 1, 0, 2, 1, 5, 0, 2, 3, 2, 3, 1, 4, 1, 4, 5, 0, 0, 2, 1, 1, 2, 3, 1, 4, 1, 5, 2, 1, 2, 1, 1, 1, 0, 5, 0, 2, 1, 2, 1, 2, 1, 5, 0, 2, 1, 2, 1, 2, 1, 3, 2, 0, 0, 1, 2, 2, 1, 0, 2, 2, 2, 3, 4, 2, 1, 2, 1, 2, 1, 1, 1, 3, 1, 4, 1, 5, 0, 0, 2, 1, 2, 1, 2, 1, 0, 2, 1, 2, 2, 1, 2, 1, 0, 0, 2, 2, 2, 2, 1, 2, 1, 2, 1, 5, 0, 0, 2, 1, 2, 1, 2, 1, 1, 5, 0, 0, 1, 1, 2, 2, 5, 0, 2, 1, 2, 1, 1, 2, 5, 0, 0, 2, 2, 1, 2, 1, 2, 1, 5, 0, 2, 3, 4, 1, 2, 1, 2, 1, 5, 1, 0, 0, 0, 2, 2, 2, 2, 1, 2, 1, 2, 1, 5, 0, 1, 2, 1, 2, 1, 0, 1, 2, 1, 3, 4, 5, 0, 0, 1, 1, 2, 1, 2, 2, 1, 5, 0, 2, 1, 2, 1, 2, 1, 2, 1, 5, 0, 0, 2, 2, 2, 1, 2, 1, 3, 4, 1, 1, 1, 1, 5, 0, 2, 2, 2, 2, 1, 1, 2, 1, 2, 1, 0, 5, 0, 2, 2, 1, 2, 3, 4, 1, 5, 0, 0, 2, 2, 2, 2, 1, 2, 1, 1, 5, 0, 0, 1, 2, 1, 3, 4, 5, 0, 2, 1, 2, 1, 1, 1, 2, 5, 0, 0, 3, 4, 1, 1, 2, 5, 0, 2, 2, 2, 2, 1, 2, 1, 2, 1, 5, 0, 1, 0, 2, 1, 2, 1, 3, 5, 0, 0, 1, 2, 1, 2, 1, 3, 4, 1, 5, 0, 2, 2, 2, 2, 2, 3, 1, 4, 2, 3, 1, 4, 1, 2, 3, 1, 5, 0, 2, 2, 2, 1, 2, 1, 5, 0, 2, 1, 1, 2, 1, 2, 1, 2, 1, 0, 0, 2, 1, 2, 3, 4, 0, 0, 2, 2, 2, 2, 2, 1, 2, 1, 2, 1, 3, 4, 1, 5, 0, 0, 2, 1, 3, 1, 4, 1, 5, 0, 1, 3, 1, 4, 2, 1, 5, 0, 0, 2, 1, 2, 1, 2, 1, 5, 0, 2, 1, 1, 2, 1, 2, 1, 1, 2, 1, 1, 1, 5, 5, 5, 5, 0, 2, 1, 0, 2, 1, 2, 1, 2, 1, 5, 0, 1, 1, 1, 0, 2, 2, 2, 2, 0, 0, 2, 2, 2, 2, 1, 1, 2, 1, 2, 5, 0, 0, 2, 2, 2, 2, 1, 1, 2, 1, 2, 5, 0, 0, 2, 3, 4, 1, 2, 1, 3, 4, 5, 0, 0, 2, 2, 2, 1, 2, 2, 1, 5, 0, 0, 1, 2, 1, 2, 5, 1, 3, 4, 1, 0, 1, 0, 1, 2, 1, 2, 5, 0, 0, 2, 2, 2, 2, 2, 1, 2, 1, 2, 1, 5, 0, 0, 2, 2, 2, 1, 2, 1, 1, 2, 1, 2, 5, 0, 1, 1, 2, 1, 2, 5, 0, 0, 1, 2, 1, 5, 0, 2, 1, 3, 4, 1, 2, 1, 5, 0, 0, 1, 2, 1, 2, 1, 2, 1, 2, 1, 5, 0, 0, 2, 2, 2, 1, 2, 1, 5, 0, 2, 1, 2, 1, 5, 0, 2, 1, 2, 1, 5, 0, 0, 2, 3, 4, 1, 5, 0, 2, 2, 2, 0, 2, 1, 3, 4, 2, 1, 3, 4, 2, 1, 3, 4, 1, 5, 0, 0, 2, 1, 5, 0, 2, 2, 2, 1, 1, 2, 5, 0, 0, 3, 2, 1, 2, 1, 5, 0, 0, 2, 1, 2, 1, 1, 2, 5, 0, 2, 2, 3, 4, 1, 3, 1, 2, 1, 5, 0, 1, 2, 1, 2, 1, 2, 1, 0, 0, 2, 2, 2, 1, 2, 1, 1, 5, 0, 0, 1, 2, 2, 2, 1, 1, 1, 5, 0, 0, 2, 2, 2, 2, 1, 2, 1, 3, 4, 1, 5, 0, 3, 4, 2, 2, 2, 0, 2, 1, 2, 1, 2, 1, 5, 0, 1, 3, 2, 2, 2, 1, 1, 1, 2, 1, 1, 1, 1, 2, 1, 1, 5, 0, 0, 2, 2, 2, 1, 1, 5, 0, 0, 2, 2, 2, 1, 1, 1, 5, 0, 0, 2, 1, 2, 1, 5, 0, 0, 2, 2, 2, 2, 1, 1, 3, 4, 1, 1, 2, 1, 5, 0, 2, 2, 1, 1, 0, 0, 2, 2, 1, 2, 1, 5, 2, 1, 0, 2, 1, 2, 1, 0, 0, 2, 2, 1, 2, 1, 2, 5, 0, 0, 2, 2, 2, 2, 1, 1, 2, 2, 1, 5, 0, 2, 2, 1, 1, 2, 1, 2, 5, 0, 0, 2, 1, 2, 1, 2, 1, 2, 1, 5, 0, 0, 2, 3, 4, 1, 2, 1, 5, 0, 2, 1, 2, 1, 5, 0, 0, 3, 1, 2, 1, 2, 3, 4, 5, 0, 0, 1, 2, 1, 2, 3, 1, 4, 5, 0, 2, 2, 1, 2, 2, 3, 4, 1, 1, 2, 5, 0, 0, 2, 1, 2, 1, 5, 0, 0, 1, 0, 0, 2, 2, 2, 2, 1, 2, 1, 2, 1, 5, 0, 0, 1, 2, 1, 2, 1, 3, 1, 3, 4, 3, 4, 5, 0, 0, 1, 2, 2, 1, 5, 0, 1, 5, 0, 0, 2, 2, 2, 2, 1, 2, 1, 2, 1, 5, 0, 0, 2, 2, 2, 1, 1, 1, 5, 0, 2, 1, 3, 1, 3, 1, 4, 5, 3, 0, 2, 2, 2, 2, 1, 2, 1, 2, 1, 5, 0, 1, 1, 2, 1, 5, 0, 2, 1, 2, 1, 5, 0, 2, 1, 2, 1, 2, 1, 2, 1, 5, 0, 3, 2, 2, 2, 1, 1, 2, 1, 5, 0, 2, 1, 1, 1, 2, 1, 5, 0, 0, 1, 2, 1, 2, 1, 2, 1, 5, 0, 0, 2, 2, 2, 1, 2, 1, 2, 1, 2, 5, 3, 4, 0, 0, 2, 1, 2, 1, 1, 5, 2, 3, 2, 1, 2, 2, 1, 2, 0, 1, 5, 1, 0, 1, 2, 2, 2, 2, 1, 2, 1, 2, 1, 5, 0, 0, 2, 2, 1, 1, 2, 1, 2, 5, 0, 0, 1, 2, 1, 1, 2, 1, 1, 2, 1, 5, 0, 0, 2, 3, 1, 2, 1, 2, 1, 2, 1, 5, 0, 2, 1, 1, 5, 0, 0, 1, 2, 2, 1, 3, 1, 5, 0, 0, 2, 2, 2, 2, 1, 2, 1, 2, 1, 5, 2, 1, 2, 1, 2, 1, 0, 5, 0, 0, 2, 1, 1, 5, 0, 2, 2, 2, 0, 2, 1, 2, 1, 1, 2, 1, 5, 0, 0, 2, 2, 2, 2, 1, 2, 1, 2, 1, 5, 0, 0, 2, 2, 1, 2, 1, 2, 1, 2, 1, 3, 1, 5, 0, 0, 2, 1, 2, 1, 5, 0, 0, 2, 2, 2, 2, 1, 2, 1, 2, 1, 1, 3, 4, 3, 4, 5, 0, 0, 2, 2, 2, 1, 1, 1, 5, 0, 0, 2, 1, 3, 4, 1, 5, 0, 2, 2, 2, 2, 1, 1, 1, 5, 0, 0, 2, 2, 2, 1, 2, 1, 3, 4, 3, 4, 1, 5, 0, 2, 2, 2, 2, 1, 2, 1, 2, 1, 5, 0, 2, 1, 5, 2, 0, 0, 1, 2, 2, 2, 2, 1, 2, 1, 2, 1, 3, 4, 5, 0, 0, 2, 2, 2, 2, 2, 1, 2, 1, 2, 1, 5, 0, 0, 2, 1, 1, 5, 0, 2, 1, 5, 0, 2, 2, 1, 1, 2, 1, 5, 0, 0, 2, 2, 2, 2, 1, 5, 0, 0, 2, 2, 2, 1, 2, 1, 2, 1, 2, 3, 4, 1, 5, 0, 2, 1, 5, 0, 0, 1, 3, 1, 0, 2, 2, 2, 1, 3, 4, 1, 1, 1, 5, 0, 2, 1, 2, 1, 1, 2, 1, 5, 0, 0, 1, 3, 4, 2, 1, 1, 2, 3, 4, 1, 5, 0, 2, 1, 1, 2, 1, 5, 2, 1, 0, 0, 0, 2, 3, 4, 1, 1, 2, 1, 4, 3, 2, 1, 5, 0, 1, 2, 1, 2, 1, 2, 1, 5, 0, 1, 0, 0, 0, 1, 1, 2, 2, 1, 0, 0, 2, 2, 2, 1, 1, 1, 1, 5, 2, 2, 2, 0, 2, 1, 2, 1, 2, 1, 5, 0, 2, 2, 2, 2, 2, 2, 1, 1, 1, 5, 0, 0, 2, 2, 2, 1, 1, 1, 5, 0, 2, 2, 2, 2, 1, 2, 1, 2, 0, 0, 2, 1, 3, 1, 4, 5, 0, 2, 2, 2, 1, 1, 2, 1, 5, 0, 5, 0, 0, 2, 2, 2, 1, 2, 1, 3, 4, 5, 0, 1, 3, 4, 2, 1, 0, 0, 2, 1, 2, 1, 2, 1, 5, 0, 2, 1, 2, 2, 1, 1, 5, 0, 0, 3, 4, 1, 2, 1, 2, 1, 2, 1, 1, 5, 0, 2, 2, 1, 2, 1, 2, 1, 1, 5, 0, 0, 2, 2, 1, 2, 1, 2, 1, 5, 0, 1, 2, 1, 5, 0, 0, 2, 2, 2, 2, 1, 1, 2, 1, 3, 4, 1, 2, 1, 5, 0, 0, 1, 2, 1, 2, 1, 2, 5, 0, 0, 2, 1, 2, 1, 1, 2, 5, 0, 2, 2, 2, 2, 1, 2, 1, 2, 1, 3, 4, 5, 0, 0, 2, 1, 2, 1, 2, 1, 5, 0, 0, 2, 2, 2, 3, 4, 2, 1, 2, 1, 5, 0, 1, 2, 1, 2, 1, 1, 2, 1, 2, 0, 0, 2, 1, 2, 1, 2, 1, 5, 0, 1, 0, 2, 3, 1, 2, 1, 1, 2, 3, 1, 4, 1, 0, 2, 1, 1, 2, 2, 1, 5, 3, 4, 0, 2, 1, 2, 1, 1, 5, 0, 2, 1, 2, 1, 2, 1, 5, 0, 0, 2, 2, 2, 2, 1, 2, 2, 1, 1, 0, 2, 2, 2, 1, 2, 1, 2, 5, 0, 2, 2, 2, 2, 2, 1, 1, 1, 5, 0, 2, 3, 4, 1, 0, 1, 5, 2, 1, 0, 0, 0, 2, 2, 2, 2, 1, 1, 2, 1, 1, 2, 1, 5, 0, 1, 2, 2, 1, 3, 1, 4, 5, 0, 2, 3, 4, 1, 2, 1, 5, 0, 1, 3, 4, 1, 0, 2, 2, 2, 0, 2, 1, 1, 2, 1, 2, 5, 0, 0, 2, 1, 2, 1, 5, 0, 0, 1, 2, 2, 1, 2, 1, 5, 0, 2, 2, 2, 1, 2, 1, 2, 1, 1, 0, 0, 2, 1, 2, 1, 2, 1, 5, 0, 2, 1, 2, 1, 5, 0, 0, 2, 2, 2, 2, 2, 1, 3, 4, 2, 1, 3, 4, 2, 1, 3, 4, 5, 0, 2, 1, 2, 1, 5, 0, 1, 2, 2, 1, 1, 5, 0, 2, 2, 2, 2, 2, 1, 2, 1, 2, 1, 3, 5, 0, 0, 1, 2, 1, 2, 1, 1, 2, 1, 5, 0, 2, 2, 2, 1, 1, 1, 0, 5, 0, 0, 2, 1, 2, 1, 3, 4, 5, 0, 0, 2, 2, 2, 1, 1, 2, 1, 2, 1, 5, 0, 2, 1, 3, 4, 1, 5, 0, 2, 2, 1, 2, 5, 0, 2, 0, 2, 3, 4, 1, 2, 1, 5, 0, 2, 1, 2, 1, 1, 2, 0, 1, 0, 0, 2, 2, 2, 3, 2, 1, 1, 2, 1, 1, 2, 1, 5, 0, 0, 1, 1, 1, 2, 2, 1, 0, 0, 2, 2, 2, 1, 2, 1, 2, 1, 5, 0, 2, 1, 2, 1, 5, 0, 0, 2, 2, 2, 1, 1, 1, 5, 0, 1, 2, 1, 3, 3, 3, 3, 5, 0, 0, 2, 2, 2, 1, 2, 1, 3, 4, 5, 0, 0, 1, 2, 1, 2, 1, 2, 1, 5, 0, 2, 2, 1, 2, 3, 4, 5, 0, 0, 2, 1, 2, 1, 2, 1, 5, 0, 2, 3, 4, 3, 4, 2, 1, 2, 1, 0, 0, 1, 0, 0, 2, 2, 2, 1, 1, 2, 3, 4, 1, 5, 0, 2, 2, 1, 2, 1, 3, 1, 4, 1, 5, 0, 0, 2, 2, 1, 1, 5, 0, 0, 2, 1, 2, 1, 3, 1, 4, 5, 0, 2, 2, 2, 1, 1, 0, 1, 5, 0, 2, 2, 1, 3, 4, 1, 5, 0, 0, 2, 2, 1, 2, 1, 5, 0, 0, 2, 1, 1, 2, 1, 5, 0, 0, 2, 2, 2, 1, 2, 1, 3, 4, 1, 5, 0, 2, 1, 2, 1, 1, 0, 0, 0, 2, 1, 1, 2, 2, 1, 5, 0, 0, 2, 1, 2, 1, 5, 0, 2, 2, 2, 1, 2, 1, 2, 2, 1, 5, 0, 1, 2, 2, 2, 2, 1, 2, 1, 2, 1, 5, 0, 0, 2, 2, 2, 1, 2, 2, 1, 1, 2, 5, 0, 2, 1, 2, 5, 0, 0, 2, 2, 2, 1, 2, 1, 5, 0, 2, 1, 0, 2, 1, 2, 2, 1, 1, 2, 0, 0, 2, 2, 2, 2, 1, 2, 1, 2, 1, 5, 0, 2, 1, 3, 4, 1, 2, 5, 0, 0, 2, 2, 2, 1, 1, 1, 5, 0, 0, 2, 2, 2, 2, 1, 2, 1, 2, 1, 5, 0, 2, 1, 2, 1, 2, 1, 2, 1, 2, 1, 0, 5, 0, 0, 2, 2, 2, 1, 1, 1, 5, 0, 2, 2, 2, 2, 1, 2, 1, 2, 1, 5, 0, 0, 1, 2, 1, 2, 1, 2, 1, 5, 0, 2, 3, 4, 1, 2, 1, 2, 1, 2, 1, 5, 0, 2, 2, 2, 1, 2, 1, 2, 1, 2, 1, 5, 0, 2, 1, 3, 4, 2, 1, 3, 4, 5, 0, 0, 2, 1, 5, 0, 0, 2, 2, 3, 2, 1, 2, 1, 3, 1, 5, 0, 0, 2, 2, 2, 1, 2, 1, 5, 0, 2, 2, 2, 2, 1, 2, 1, 2, 1, 5, 0, 2, 2, 2, 1, 2, 1, 2, 1, 5, 0, 2, 1, 2, 1, 2, 1, 5, 0, 2, 2, 2, 1, 1, 2, 1, 5, 0, 2, 1, 2, 1, 3, 0, 0, 2, 1, 3, 4, 5, 2, 1, 2, 2, 1, 0, 5, 0, 0, 2, 1, 2, 1, 2, 1, 5, 0, 2, 1, 2, 1, 2, 1, 5, 0, 0, 2, 2, 2, 2, 1, 2, 1, 2, 1, 5, 0, 2, 1, 2, 1, 5, 3, 4, 0, 1, 2, 1, 1, 2, 1, 2, 1, 5, 0, 2, 2, 2, 1, 1, 1, 0, 5, 0, 0, 2, 2, 2, 2, 1, 2, 1, 2, 1, 5, 0, 2, 2, 2, 1, 1, 1, 0, 0, 2, 1, 1, 2, 2, 1, 5, 3, 4, 0, 0, 2, 1, 2, 1, 2, 1, 5, 0, 2, 2, 2, 1, 2, 1, 5, 0, 0, 2, 2, 2, 2, 1, 2, 1, 2, 1, 5, 0, 2, 2, 2, 0, 1, 1, 1, 5, 0, 0, 1, 2, 1, 2, 1, 2, 1, 1, 2, 1, 5, 0, 0, 1, 2, 2, 1, 5, 0, 0, 2, 1, 2, 1, 5, 0, 2, 1, 2, 1, 0, 0, 2, 2, 2, 2, 1, 2, 1, 1, 5, 0, 2, 2, 1, 2, 2, 2, 2, 1, 5, 0, 0, 2, 1, 2, 1, 1, 2, 5, 0, 2, 1, 0, 0, 2, 2, 2, 2, 1, 1, 2, 1, 2, 1, 0, 0, 1, 1, 1, 0, 2, 2, 2, 1, 2, 1, 2, 1, 0, 0, 2, 2, 1, 2, 1, 1, 2, 1, 2, 5, 0, 0, 2, 2, 2, 2, 1, 2, 1, 1, 5, 0, 2, 2, 0, 1, 2, 2, 1, 5, 0, 0, 2, 2, 2, 2, 1, 2, 1, 3, 4, 1, 2, 1, 5, 0, 0, 2, 2, 2, 2, 1, 2, 1, 2, 1, 3, 4, 1, 3, 4, 5, 0, 0, 2, 2, 2, 2, 1, 2, 1, 2, 1, 5, 0, 0, 2, 3, 4, 1, 1, 2, 2, 1, 1, 2, 5, 0, 0, 2, 2, 2, 2, 1, 2, 1, 2, 1, 3, 4, 5, 0, 2, 2, 2, 2, 1, 2, 1, 2, 1, 5, 0, 1, 2, 1, 2, 3, 1, 5, 0, 0, 0, 2, 1, 3, 4, 2, 1, 5, 0, 2, 1, 2, 1, 5, 0, 0, 2, 1, 2, 2, 1, 2, 1, 5, 2, 0, 1, 1, 2, 1, 1, 5, 0, 0, 2, 1, 1, 2, 2, 1, 5, 0, 0, 2, 2, 2, 2, 1, 2, 1, 3, 4, 1, 2, 5, 0, 0, 2, 2, 2, 1, 1, 1, 5, 0, 2, 1, 3, 4, 1, 0, 5, 0, 2, 2, 1, 1, 2, 2, 1, 2, 1, 5, 0, 2, 1, 2, 1, 5, 0, 0, 2, 2, 2, 2, 1, 2, 1, 3, 1, 3, 1, 4, 1, 5, 0, 0, 2, 2, 2, 1, 2, 1, 2, 1, 5, 0, 2, 1, 2, 1, 1, 2, 1, 5, 0, 0, 2, 1, 3, 4, 1, 2, 1, 1, 2, 1, 2, 1, 5, 0, 0, 2, 2, 2, 1, 1, 1, 5, 0, 2, 1, 0, 1, 2, 5, 0, 1, 2, 2, 1, 0, 2, 1, 5, 0, 0, 2, 2, 2, 2, 1, 2, 1, 5, 3, 4, 0, 0, 2, 2, 2, 1, 1, 1, 5, 3, 0, 1, 2, 1, 2, 1, 2, 1, 5, 0, 0, 2, 2, 2, 2, 1, 3, 4, 2, 1, 3, 4, 2, 1, 3, 4, 5, 0, 0, 2, 2, 2, 1, 2, 1, 2, 1, 0, 0, 2, 1, 2, 1, 1, 2, 2, 1, 5, 0, 0, 2, 2, 2, 2, 1, 2, 1, 2, 1, 3, 4, 5, 0, 2, 3, 4, 1, 2, 1, 2, 1, 2, 1, 5, 0, 0, 2, 2, 2, 2, 1, 2, 1, 2, 1, 5, 0, 0, 2, 2, 1, 1, 5, 0, 1, 2, 1, 2, 0, 0, 0, 2, 2, 1, 1, 5, 0, 0, 2, 2, 2, 1, 2, 1, 2, 3, 1, 4, 1, 5, 0, 1, 2, 1, 2, 3, 3, 5, 0, 0, 2, 1, 2, 1, 5, 0, 2, 1, 2, 1, 3, 4, 1, 2, 1, 5, 0, 0, 1, 2, 1, 2, 1, 2, 3, 4, 1, 5, 0, 0, 2, 2, 2, 1, 2, 1, 2, 1, 5, 0, 2, 1, 1, 2, 1, 3, 4, 3, 4, 2, 5, 0, 2, 1, 0, 2, 1, 5, 0, 2, 1, 1, 2, 1, 5, 0, 2, 2, 2, 1, 1, 1, 5, 0, 2, 2, 2, 2, 1, 1, 2, 2, 1, 5, 0, 2, 1, 2, 1, 5, 0, 0, 2, 1, 2, 1, 5, 2, 2, 2, 0, 1, 1, 1, 2, 1, 5, 0, 0, 1, 3, 4, 1, 2, 1, 2, 1, 0, 2, 1, 2, 1, 2, 1, 2, 1, 2, 1, 2, 3, 4, 1, 5, 0, 2, 2, 2, 2, 1, 2, 1, 2, 1, 3, 4, 5, 0, 1, 1, 1, 2, 1, 2, 5, 0, 2, 2, 2, 1, 2, 1, 2, 1, 3, 4, 5, 0, 1, 2, 1, 2, 1, 3, 0, 2, 5, 0, 0, 2, 2, 2, 1, 2, 1, 3, 4, 5, 0, 0, 2, 1, 2, 1, 1, 2, 1, 1, 2, 1, 1, 2, 0, 3, 0, 2, 1, 1, 2, 5, 0, 0, 2, 2, 2, 2, 1, 2, 1, 2, 1, 5, 0, 0, 2, 1, 2, 1, 2, 1, 2, 1, 5, 0, 2, 1, 5, 0, 0, 2, 2, 2, 3, 4, 2, 1, 1, 2, 1, 5, 0, 2, 2, 2, 2, 1, 1, 1, 1, 5, 0, 0, 1, 1, 1, 1, 2, 1, 5, 0, 0, 2, 2, 2, 1, 1, 1, 5, 0, 0, 2, 1, 1, 2, 2, 1, 0, 2, 2, 2, 1, 1, 1, 5, 0, 0, 0, 2, 1, 2, 1, 2, 1, 1, 0, 2, 2, 1, 2, 2, 1, 2, 1, 2, 1, 5, 0, 0, 2, 1, 1, 2, 1, 5, 0, 0, 2, 1, 2, 1, 2, 1, 5, 0, 0, 2, 2, 2, 2, 1, 2, 1, 2, 1, 5, 0, 2, 3, 4, 1, 1, 2, 1, 1, 2, 1, 5, 0, 0, 2, 1, 2, 1, 2, 1, 5, 1, 2, 1, 0, 0, 2, 2, 2, 2, 3, 4, 1, 1, 2, 1, 2, 1, 5, 0, 2, 1, 2, 1, 0, 5, 0, 0, 2, 2, 2, 2, 1, 1, 2, 2, 1, 5, 0, 0, 1, 2, 1, 1, 2, 1, 1, 2, 1, 2, 1, 5, 0, 2, 2, 2, 1, 1, 1, 0, 1, 2, 2, 1, 0, 2, 1, 2, 1, 5, 0, 3, 4, 2, 2, 1, 3, 4, 3, 4, 1, 1, 5, 0, 2, 2, 1, 1, 3, 4, 5, 0, 0, 2, 1, 3, 4, 1, 2, 1, 1, 5, 0, 2, 1, 2, 1, 2, 1, 5, 0, 2, 2, 1, 3, 4, 2, 1, 1, 1, 1, 1, 5, 0, 2, 1, 0, 2, 1, 5, 0, 2, 1, 2, 1, 2, 1, 2, 1, 2, 1, 5, 0, 0, 2, 1, 1, 2, 5, 1, 1, 0, 1, 0, 2, 1, 1, 2, 1, 0, 0, 0, 2, 2, 2, 2, 1, 2, 1, 1, 2, 5, 0, 0, 2, 2, 1, 2, 2, 1, 2, 1, 1, 5, 0, 0, 2, 2, 2, 2, 1, 2, 1, 2, 1, 5, 0, 2, 1, 2, 1, 2, 1, 0, 1, 2, 2, 1, 1, 2, 1, 5, 0, 0, 2, 2, 2, 2, 1, 2, 1, 1, 2, 1, 5, 0, 1, 2, 1, 2, 1, 2, 1, 5, 0, 2, 2, 2, 1, 1, 1, 5, 0, 0, 2, 2, 1, 1, 2, 3, 1, 4, 5, 0, 0, 2, 2, 2, 2, 1, 1, 1, 3, 4, 1, 1, 2, 1, 1, 1, 5, 0, 2, 1, 2, 1, 2, 0, 2, 1, 2, 1, 0, 2, 2, 1, 1, 5, 0, 2, 1, 5, 0, 0, 2, 2, 2, 1, 1, 2, 1, 1, 3, 4, 5, 0, 2, 2, 2, 1, 2, 1, 2, 3, 4, 1, 2, 1, 5, 0, 0, 2, 2, 2, 1, 1, 5, 1, 1, 1, 0, 0, 0, 2, 2, 2, 2, 1, 1, 2, 2, 1, 5, 0, 2, 1, 1, 2, 1, 2, 2, 2, 3, 2, 5, 0, 2, 2, 2, 1, 1, 5, 0, 0, 1, 2, 3, 4, 1, 1, 2, 1, 1, 2, 1, 5, 0, 0, 2, 1, 2, 1, 2, 1, 5, 0, 0, 2, 1, 2, 1, 5, 0, 0, 2, 2, 2, 2, 1, 2, 1, 2, 1, 5, 0, 0, 2, 1, 2, 1, 2, 1, 5, 0, 0, 2, 2, 1, 1, 2, 1, 1, 5, 0, 0, 1, 2, 1, 2, 1, 5, 0, 0, 1, 2, 1, 2, 2, 2, 1, 2, 1, 2, 1, 3, 4, 5, 0, 2, 1, 2, 1, 2, 1, 2, 3, 1, 1, 0, 3, 1, 5, 0, 2, 1, 5, 0, 2, 1, 2, 1, 0, 2, 1, 2, 1, 2, 1, 0, 0, 0, 2, 1, 2, 1, 3, 4, 1, 5, 0, 0, 2, 2, 2, 1, 1, 1, 5, 0, 0, 2, 2, 2, 2, 1, 2, 1, 2, 1, 5, 0, 3, 1, 3, 1, 3, 1, 0, 2, 2, 2, 1, 2, 1, 2, 1, 5, 0, 2, 1, 2, 1, 2, 2, 1, 0, 0, 2, 1, 2, 1, 2, 1, 5, 0, 0, 2, 2, 2, 1, 1, 1, 5, 0, 0, 2, 2, 2, 1, 2, 1, 5, 0, 2, 1, 2, 1, 2, 1, 5, 0, 1, 0, 2, 1, 2, 1, 2, 1, 5, 0, 1, 2, 2, 1, 2, 1, 0, 5, 0, 2, 1, 2, 2, 5, 0, 1, 2, 1, 2, 1, 2, 1, 5, 0, 0, 2, 2, 1, 1, 5, 0, 0, 3, 4, 1, 2, 1, 2, 1, 2, 1, 5, 0, 2, 1, 2, 1, 2, 1, 0, 0, 2, 1, 2, 1, 3, 1, 5, 0, 2, 2, 2, 1, 1, 1, 2, 1, 5, 0, 0, 2, 2, 2, 2, 1, 2, 1, 3, 4, 1, 2, 1, 5, 0, 1, 2, 5, 0, 2, 1, 1, 1, 0, 0, 2, 2, 2, 2, 1, 2, 1, 2, 1, 5, 0, 1, 2, 2, 2, 1, 1, 1, 1, 5, 0, 0, 2, 1, 2, 1, 2, 1, 5, 0, 2, 1, 2, 1, 5, 0, 0, 1, 3, 1, 2, 1, 3, 4, 1, 5, 0, 0, 1, 2, 1, 2, 1, 2, 1, 5, 0, 0, 2, 2, 2, 2, 1, 2, 1, 2, 1, 5, 0, 0, 2, 2, 2, 2, 1, 2, 1, 2, 1, 5, 0, 2, 1, 2, 1, 0, 2, 1, 2, 1, 2, 1, 5, 0, 0, 2, 1, 2, 1, 5, 0, 0, 2, 2, 2, 1, 2, 1, 3, 4, 1, 5, 0, 0, 2, 1, 5, 0, 2, 1, 2, 1, 2, 1, 5, 0, 1, 3, 4, 2, 1, 1, 2, 3, 4, 1, 5, 0, 2, 2, 2, 1, 1, 1, 5, 0, 0, 2, 2, 2, 1, 1, 2, 1, 5, 0, 1, 1, 2, 5, 2, 0, 2, 1, 2, 1, 2, 1, 0, 1, 2, 2, 2, 2, 1, 2, 1, 2, 1, 5, 0, 2, 2, 2, 2, 1, 3, 4, 2, 1, 5, 0, 0, 2, 2, 1, 3, 4, 5, 0, 0, 2, 2, 2, 1, 1, 1, 5, 0, 0, 2, 2, 2, 1, 1, 1, 3, 4, 5, 0, 0, 2, 2, 1, 2, 1, 2, 1, 2, 2, 1, 5, 0, 1, 2, 1, 2, 1, 2, 1, 5, 0, 0, 2, 1, 2, 1, 2, 1, 2, 1, 0, 1, 2, 1, 2, 5, 0, 2, 1, 3, 1, 4, 5, 0, 2, 2, 1, 3, 4, 1, 5, 0, 0, 2, 2, 2, 2, 1, 3, 1, 4, 1, 1, 5, 0, 2, 1, 5, 0, 0, 2, 2, 2, 2, 1, 2, 1, 2, 1, 5, 0, 2, 2, 1, 2, 2, 2, 5, 0, 0, 2, 1, 2, 1, 5, 0, 0, 2, 2, 2, 2, 1, 3, 4, 2, 1, 3, 4, 2, 1, 3, 4, 5, 0, 0, 1, 1, 5, 2, 2, 5, 0, 2, 2, 1, 5, 0, 0, 2, 2, 2, 1, 2, 2, 1, 2, 1, 5, 0, 2, 1, 1, 3, 4, 1, 1, 5, 0, 1, 2, 1, 2, 1, 2, 2, 5, 0, 2, 1, 2, 1, 2, 1, 2, 1, 0, 3, 1, 5, 0, 1, 2, 1, 2, 1, 2, 1, 0, 5, 0, 0, 2, 2, 2, 2, 1, 2, 1, 1, 5, 0, 2, 1, 2, 2, 2, 1, 2, 1, 2, 1, 0, 0, 2, 2, 2, 2, 1, 2, 1, 2, 1, 5, 0, 3, 0, 2, 1, 2, 1, 2, 1, 5, 0, 2, 2, 1, 2, 1, 2, 3, 1, 0, 2, 2, 2, 2, 1, 2, 1, 2, 1, 5, 0, 0, 2, 1, 2, 1, 5, 0, 0, 2, 1, 2, 1, 2, 1, 2, 1, 3, 4, 1, 2, 1, 3, 1, 5, 0, 2, 1, 0, 5, 0, 2, 1, 5, 0, 0, 2, 1, 2, 1, 1, 2, 0, 0, 2, 1, 2, 3, 4, 5, 0, 1, 0, 0, 1, 2, 2, 2, 1, 2, 1, 2, 1, 2, 1, 5, 0, 2, 1, 2, 1, 2, 1, 0, 5, 0, 0, 2, 1, 5, 0, 0, 2, 2, 2, 2, 1, 2, 1, 2, 1, 5, 1, 0, 0, 2, 1, 1, 2, 2, 1, 1, 2, 5, 0, 2, 1, 2, 1, 2, 1, 3, 1, 4, 5, 0, 0, 1, 2, 1, 1, 2, 5, 0, 1, 2, 1, 2, 1, 2, 1, 5, 0, 0, 2, 1, 3, 1, 4, 5, 0, 0, 2, 2, 2, 1, 2, 1, 1, 2, 2, 1, 5, 0, 0, 2, 2, 2, 1, 1, 1, 5, 0, 2, 2, 1, 2, 1, 2, 1, 0, 0, 2, 1, 2, 3, 4, 2, 1, 5, 0, 1, 2, 2, 2, 3, 1, 2, 1, 0, 0, 2, 2, 2, 2, 1, 2, 1, 2, 1, 5, 0, 0, 2, 1, 2, 1, 2, 1, 5, 0, 2, 2, 2, 1, 0, 0, 2, 2, 2, 1, 2, 1, 5, 3, 4, 0, 2, 1, 2, 2, 3, 4, 1, 5, 1, 0, 1, 2, 0, 1, 2, 2, 2, 1, 1, 2, 1, 2, 1, 5, 2, 1, 2, 1, 2, 1, 0, 0, 2, 1, 2, 1, 5, 0, 0, 2, 2, 2, 1, 2, 1, 2, 1, 1, 5, 0, 0, 3, 4, 2, 3, 4, 1, 2, 5, 0, 1, 2, 1, 2, 2, 1, 1, 2, 5, 0, 2, 2, 1, 1, 2, 1, 5, 0, 0, 2, 2, 2, 2, 1, 2, 1, 2, 1, 5, 0, 0, 2, 2, 1, 1, 5, 0, 2, 1, 2, 1, 1, 5, 0, 0, 1, 2, 1, 2, 2, 1, 5, 0, 2, 2, 2, 1, 1, 1, 0, 5, 0, 1, 2, 2, 1, 5, 0, 0, 2, 1, 1, 2, 1, 2, 1, 5, 0, 1, 2, 2, 1, 2, 1, 0, 5, 0, 0, 2, 2, 1, 2, 1, 2, 1, 5, 0, 0, 2, 2, 2, 1, 1, 5, 0, 0, 2, 1, 1, 2, 1, 2, 1, 2, 5, 0, 2, 2, 1, 2, 1, 5, 0, 1, 2, 1, 0, 0, 0, 2, 1, 2, 1, 2, 1, 5, 0, 2, 1, 2, 1, 5, 0, 0, 2, 2, 2, 1, 2, 1, 5, 1, 2, 2, 2, 0, 2, 1, 1, 2, 2, 1, 5, 3, 4, 5, 0, 1, 2, 3, 1, 4, 2, 1, 1, 2, 5, 0, 2, 2, 2, 2, 1, 2, 2, 1, 2, 1, 2, 1, 5, 0, 0, 2, 2, 3, 1, 2, 1, 0, 3, 4, 1, 3, 4, 1, 3, 4, 1, 5, 0, 2, 1, 3, 4, 5, 0, 0, 1, 1, 3, 4, 5, 0, 1, 2, 1, 2, 1, 2, 1, 5, 0, 0, 1, 3, 2, 1, 5, 0, 2, 1, 2, 1, 5, 0, 2, 1, 1, 5, 0, 2, 1, 2, 1, 5, 0, 2, 1, 3, 4, 2, 5, 2, 0, 0, 2, 2, 2, 2, 1, 2, 3, 4, 1, 2, 1, 3, 4, 1, 3, 4, 5, 0, 0, 2, 2, 2, 1, 1, 1, 5, 0, 2, 2, 2, 1, 1, 5, 0, 2, 2, 2, 1, 1, 1, 5, 0, 1, 2, 2, 1, 2, 1, 1, 2, 2, 1, 2, 1, 5, 0, 2, 2, 2, 1, 1, 2, 1, 3, 1, 5, 3, 0, 1, 1, 2, 1, 1, 5, 0, 2, 2, 2, 2, 1, 2, 1, 2, 1, 0, 0, 2, 2, 1, 1, 3, 4, 5, 0, 0, 2, 2, 2, 2, 1, 2, 1, 2, 1, 5, 0, 0, 2, 2, 0, 1, 0, 0, 2, 2, 1, 1, 1, 5, 0, 0, 2, 2, 1, 2, 1, 3, 4, 2, 5, 0, 0, 2, 2, 2, 1, 3, 4, 1, 1, 5, 0, 2, 2, 2, 1, 2, 1, 3, 1, 5, 0, 1, 5, 0, 1, 2, 2, 2, 2, 5, 0, 0, 2, 2, 1, 2, 1, 2, 3, 4, 5, 0, 1, 2, 1, 2, 1, 2, 1, 5, 0, 2, 1, 2, 1, 2, 1, 5, 0, 0, 2, 2, 2, 2, 1, 2, 1, 2, 1, 5, 0, 0, 2, 2, 2, 1, 2, 1, 1, 5, 0, 2, 2, 1, 1, 5, 0, 2, 2, 2, 1, 2, 1, 2, 1, 5, 0, 0, 1, 1, 2, 1, 2, 1, 5, 0, 0, 2, 1, 1, 2, 1, 3, 4, 1, 0, 0, 2, 2, 1, 1, 5, 3, 4, 0, 0, 1, 2, 2, 1, 2, 1, 5, 0, 0, 2, 1, 2, 2, 2, 1, 5, 0, 0, 2, 2, 3, 4, 1, 2, 1, 2, 1, 5, 0, 0, 1, 2, 2, 1, 2, 1, 3, 4, 5, 0, 2, 2, 2, 2, 1, 5, 0, 1, 2, 1, 2, 1, 2, 1, 2, 1, 5, 0, 0, 2, 3, 4, 1, 2, 1, 2, 5, 0, 0, 2, 2, 2, 1, 2, 2, 1, 1, 5, 0, 2, 1, 2, 1, 2, 1, 2, 1, 5, 0, 1, 5, 0, 0, 2, 1, 2, 1, 3, 4, 5, 0, 2, 2, 2, 2, 4, 5, 0, 1, 2, 2, 2, 1, 2, 1, 2, 1, 3, 4, 5, 0, 2, 2, 1, 2, 5, 0, 2, 2, 1, 0, 2, 2, 5, 0, 0, 2, 2, 2, 1, 2, 1, 1, 5, 0, 1, 2, 1, 2, 1, 5, 0, 2, 2, 1, 2, 1, 2, 1, 2, 2, 1, 5, 0, 2, 1, 1, 2, 2, 1, 1, 2, 5, 0, 2, 1, 2, 1, 5, 0, 0, 2, 2, 2, 2, 1, 2, 1, 2, 1, 5, 0, 2, 2, 2, 1, 2, 1, 2, 1, 2, 1, 5, 0, 0, 2, 1, 2, 1, 1, 2, 5, 0, 0, 2, 2, 2, 2, 1, 2, 1, 5, 0, 2, 2, 2, 2, 0, 2, 1, 2, 1, 2, 1, 5, 0, 0, 2, 2, 2, 1, 1, 1, 5, 0, 0, 1, 2, 1, 2, 1, 2, 3, 4, 1, 5, 0, 2, 1, 1, 2, 1, 5, 0, 2, 2, 1, 5, 0, 0, 2, 2, 2, 1, 1, 2, 1, 1, 3, 4, 1, 5, 0, 2, 2, 1, 3, 1, 5, 2, 2, 0, 2, 1, 2, 1, 5, 0, 1, 0, 1, 2, 1, 5, 0, 2, 1, 2, 1, 5, 1, 0, 2, 2, 1, 1, 5, 0, 2, 1, 2, 1, 1, 3, 4, 5, 0, 2, 2, 2, 1, 1, 2, 1, 3, 4, 2, 1, 2, 1, 5, 0, 0, 2, 2, 2, 2, 1, 2, 1, 2, 1, 5, 0, 0, 2, 1, 2, 1, 1, 5, 0, 0, 2, 1, 2, 1, 2, 1, 5, 0, 0, 2, 2, 2, 1, 1, 1, 5, 0, 0, 2, 1, 2, 1, 3, 1, 5, 0, 0, 2, 1, 2, 1, 2, 1, 5, 0, 0, 2, 2, 2, 1, 2, 1, 5, 0, 0, 2, 2, 2, 2, 1, 2, 1, 1, 5, 0, 0, 2, 2, 2, 1, 2, 1, 3, 1, 4, 5, 0, 0, 2, 2, 2, 2, 1, 2, 1, 2, 1, 5, 0, 2, 2, 2, 2, 2, 1, 0, 0, 2, 2, 1, 2, 1, 5, 0, 1, 2, 1, 1, 2, 1, 3, 5, 2, 1, 2, 1, 2, 1, 5, 0, 0, 0, 2, 2, 1, 2, 1, 5, 0, 0, 3, 4, 1, 1, 5, 0, 2, 2, 2, 2, 1, 2, 1, 2, 1, 5, 0, 3, 4, 2, 1, 5, 0, 2, 2, 1, 2, 1, 5, 0, 2, 3, 4, 2, 1, 2, 1, 5, 0, 2, 2, 0, 1, 1, 2, 1, 1, 5, 0, 2, 2, 2, 2, 1, 2, 1, 1, 2, 5, 0, 0, 2, 1, 2, 1, 2, 1, 5, 0, 2, 2, 2, 2, 2, 1, 2, 1, 2, 1, 2, 1, 5, 0, 2, 1, 5, 0, 2, 2, 1, 2, 2, 2, 1, 2, 2, 2, 1, 0, 2, 2, 2, 0, 2, 1, 2, 1, 2, 1, 1, 5, 0, 0, 2, 2, 2, 1, 2, 1, 2, 1, 2, 1, 5, 0, 1, 2, 1, 2, 1, 3, 1, 4, 0, 0, 2, 1, 2, 1, 2, 1, 5, 0, 1, 2, 1, 2, 1, 3, 4, 1, 5, 0, 0, 2, 1, 2, 1, 2, 1, 5, 0, 0, 2, 1, 2, 1, 2, 1, 1, 0, 0, 2, 1, 1, 2, 1, 5, 0, 0, 2, 2, 2, 1, 1, 1, 5, 2, 1, 2, 1, 2, 1, 0, 2, 1, 1, 5, 0, 2, 1, 2, 1, 5, 0, 2, 2, 2, 0, 1, 2, 1, 2, 1, 5, 0, 2, 2, 1, 5, 0, 1, 1, 1, 1, 2, 1, 2, 1, 5, 0, 0, 2, 1, 2, 1, 2, 5, 0, 2, 1, 3, 4, 1, 5, 0, 0, 2, 1, 2, 1, 5, 0, 0, 2, 2, 2, 2, 1, 2, 1, 1, 2, 5, 0, 0, 3, 2, 1, 3, 4, 5, 0, 2, 2, 2, 2, 1, 1, 1, 5, 0, 0, 2, 2, 2, 2, 1, 2, 1, 2, 1, 5, 0, 0, 2, 2, 2, 2, 1, 2, 1, 2, 1, 5, 1, 0, 2, 2, 2, 2, 1, 2, 1, 2, 1, 0, 0, 1, 2, 3, 1, 2, 1, 5, 0, 2, 3, 4, 3, 4, 2, 1, 2, 1, 0, 2, 1, 2, 2, 1, 3, 1, 4, 5, 1, 0, 0, 2, 1, 1, 2, 1, 2, 1, 5, 0, 2, 2, 2, 2, 2, 1, 1, 1, 1, 1, 5, 0, 0, 2, 2, 2, 2, 1, 3, 4, 2, 1, 1, 2, 5, 0, 0, 2, 1, 2, 1, 2, 1, 5, 0, 0, 2, 1, 2, 1, 5, 0, 0, 2, 2, 2, 1, 1, 1, 5, 0, 0, 2, 2, 2, 2, 1, 2, 1, 2, 1, 3, 4, 1, 5, 0, 2, 1, 2, 1, 5, 0, 2, 2, 2, 2, 1, 1, 2, 1, 1, 2, 1, 5, 0, 2, 2, 2, 0, 1, 3, 4, 1, 3, 4, 1, 3, 4, 5, 0, 2, 1, 1, 5, 0, 0, 1, 2, 2, 1, 5, 0, 0, 2, 2, 2, 1, 1, 1, 5, 0, 1, 0, 0, 0, 2, 2, 3, 4, 2, 1, 5, 0, 0, 2, 1, 3, 4, 3, 4, 5, 0, 0, 2, 2, 2, 2, 1, 2, 1, 2, 1, 3, 4, 5, 0, 2, 1, 2, 3, 4, 3, 4, 1, 0, 5, 0, 0, 1, 1, 1, 1, 1, 0, 0, 2, 1, 2, 1, 2, 1, 5, 0, 2, 2, 2, 2, 1, 1, 1, 5, 0, 0, 2, 1, 3, 4, 2, 2, 1, 2, 1, 5, 2, 0, 1, 2, 1, 2, 1, 2, 1, 0, 0, 2, 2, 2, 2, 1, 1, 2, 1, 5, 0, 0, 2, 2, 2, 1, 2, 1, 2, 1, 5, 0, 0, 1, 2, 1, 2, 1, 2, 1, 5, 0, 2, 1, 1, 5, 0, 3, 0, 2, 2, 2, 2, 1, 2, 1, 2, 1, 5, 0, 2, 2, 1, 5, 0, 2, 2, 2, 0, 1, 1, 1, 5, 0, 0, 2, 1, 2, 1, 5, 0, 0, 2, 1, 2, 1, 2, 1, 3, 4, 2, 1, 5, 0, 1, 2, 1, 1, 2, 0, 0, 1, 2, 1, 2, 1, 0, 0, 2, 1, 2, 2, 1, 2, 2, 1, 2, 1, 5, 0, 2, 1, 2, 1, 2, 1, 5, 0, 0, 2, 1, 1, 2, 5, 0, 0, 2, 2, 1, 3, 1, 3, 1, 2, 1, 5, 0, 1, 2, 1, 3, 1, 4, 1, 5, 0, 2, 2, 2, 2, 1, 2, 1, 2, 1, 5, 1, 0, 0, 2, 2, 2, 2, 1, 2, 1, 1, 5, 0, 2, 2, 1, 2, 1, 3, 4, 1, 5, 0, 2, 1, 0, 1, 5, 0, 1, 5, 0, 0, 2, 1, 2, 1, 1, 5, 0, 0, 2, 2, 1, 1, 5, 0, 0, 1, 2, 1, 2, 1, 5, 0, 0, 2, 2, 1, 2, 1, 2, 1, 3, 4, 2, 1, 5, 0, 2, 2, 2, 2, 1, 2, 1, 2, 1, 5, 0, 0, 2, 1, 1, 2, 1, 2, 5, 0, 2, 1, 2, 1, 2, 1, 1, 2, 1, 2, 5, 0, 0, 2, 1, 3, 5, 0, 2, 2, 1, 2, 1, 2, 1, 2, 1, 5, 0, 1, 2, 2, 1, 1, 3, 1, 0, 0, 2, 1, 2, 3, 4, 1, 5, 2, 1, 2, 1, 2, 1, 2, 1, 2, 1, 0, 1, 5, 0, 1, 1, 2, 2, 1, 5, 0, 0, 2, 1, 2, 1, 2, 3, 4, 1, 5, 0, 2, 2, 1, 2, 1, 2, 1, 5, 0, 2, 3, 4, 2, 2, 2, 1, 2, 1, 1, 5, 0, 0, 2, 1, 3, 1, 4, 2, 1, 5, 0, 0, 2, 2, 2, 1, 1, 2, 1, 2, 5, 0, 0, 2, 1, 2, 1, 2, 1, 5, 0, 0, 2, 2, 2, 2, 1, 1, 2, 1, 1, 2, 5, 0, 0, 1, 2, 5, 0, 0, 2, 2, 1, 1, 5, 0, 0, 2, 2, 2, 1, 1, 1, 5, 0, 1, 2, 1, 2, 1, 5, 0, 2, 1, 2, 1, 2, 1, 2, 1, 2, 1, 3, 2, 1, 5, 0, 2, 2, 2, 2, 1, 2, 1, 2, 1, 5, 0, 0, 2, 1, 2, 1, 5, 0, 0, 3, 4, 1, 5, 0, 1, 1, 1, 0, 0, 2, 2, 2, 1, 1, 1, 5, 0, 2, 2, 1, 2, 1, 2, 1, 5, 0, 2, 2, 2, 1, 2, 1, 5, 0, 1, 2, 1, 2, 1, 5, 1, 0, 0, 2, 2, 2, 1, 1, 1, 5, 0, 0, 2, 2, 1, 1, 5, 0, 0, 2, 2, 1, 1, 5, 0, 0, 2, 2, 3, 4, 1, 2, 1, 2, 1, 5, 0, 1, 2, 2, 1, 1, 5, 0, 0, 2, 1, 1, 2, 1, 5, 0, 0, 2, 1, 2, 1, 2, 1, 5, 0, 2, 2, 2, 3, 4, 1, 2, 1, 1, 0, 2, 1, 2, 1, 2, 1, 5, 0, 0, 1, 1, 2, 1, 2, 2, 1, 2, 1, 3, 4, 5, 0, 2, 2, 2, 1, 2, 1, 2, 1, 1, 2, 1, 5, 0, 0, 2, 1, 2, 1, 2, 1, 3, 1, 4, 1, 5, 0, 1, 2, 1, 2, 1, 5, 0, 0, 1, 2, 1, 1, 2, 5, 0, 2, 1, 0, 2, 1, 1, 2, 1, 1, 1, 3, 1, 4, 1, 5, 0, 2, 1, 2, 1, 2, 1, 2, 1, 0, 5, 0, 2, 1, 2, 1, 2, 1, 0, 0, 2, 1, 2, 1, 2, 1, 3, 4, 5, 0, 2, 2, 2, 1, 2, 1, 5, 0, 3, 3, 3, 0, 3, 4, 1, 3, 4, 1, 3, 4, 1, 5, 0, 0, 2, 2, 2, 3, 4, 1, 2, 1, 2, 1, 2, 1, 5, 0, 2, 1, 1, 2, 1, 5, 0, 2, 2, 2, 0, 2, 1, 2, 1, 2, 1, 5, 0, 2, 2, 2, 2, 1, 2, 1, 2, 1, 5, 0, 2, 1, 2, 1, 2, 1, 5, 0, 0, 1, 2, 2, 1, 2, 1, 2, 1, 0, 2, 2, 2, 2, 1, 2, 1, 2, 1, 5, 0, 0, 1, 1, 2, 1, 1, 5, 0, 0, 2, 1, 2, 1, 5, 0, 2, 2, 2, 1, 2, 1, 2, 3, 4, 1, 5, 0, 2, 2, 2, 1, 2, 1, 3, 4, 1, 5, 0, 0, 2, 2, 2, 2, 1, 2, 1, 2, 1, 5, 0, 2, 2, 2, 2, 1, 2, 1, 3, 4, 1, 5, 0, 0, 2, 1, 2, 1, 3, 4, 2, 1, 5, 0, 1, 2, 1, 2, 1, 2, 1, 5, 0, 0, 1, 2, 1, 2, 5, 0, 0, 2, 2, 2, 1, 0, 2, 2, 2, 1, 1, 1, 1, 5, 0, 2, 1, 2, 1, 1, 2, 2, 1, 5, 0, 2, 2, 2, 2, 1, 2, 1, 1, 1, 5, 0, 3, 2, 1, 2, 1, 0, 0, 2, 2, 2, 1, 1, 2, 1, 3, 4, 1, 5, 0, 0, 2, 2, 2, 1, 2, 2, 1, 1, 2, 5, 0, 0, 2, 2, 2, 2, 1, 2, 1, 2, 1, 5, 0, 2, 1, 2, 1, 3, 4, 5, 0, 0, 1, 2, 1, 2, 1, 1, 1, 1, 0, 3, 4, 2, 1, 2, 1, 5, 0, 1, 2, 1, 5, 0, 0, 2, 2, 1, 2, 1, 2, 1, 1, 1, 2, 2, 5, 0, 1, 2, 1, 2, 1, 2, 1, 3, 4, 0, 0, 2, 2, 1, 1, 1, 5, 0, 0, 2, 2, 3, 4, 1, 2, 1, 5, 0, 0, 2, 2, 2, 2, 1, 2, 1, 2, 1, 5, 0, 0, 2, 2, 2, 1, 2, 1, 1, 2, 1, 1, 2, 1, 5, 0, 0, 2, 2, 1, 2, 1, 1, 2, 1, 3, 4, 1, 5, 0, 2, 2, 1, 1, 3, 1, 4, 5, 0, 0, 2, 1, 2, 1, 2, 1, 5, 0, 2, 1, 2, 1, 2, 1, 5, 0, 0, 0, 1, 1, 5, 0, 0, 2, 2, 2, 1, 1, 1, 5, 0, 2, 1, 2, 1, 3, 4, 2, 1, 5, 0, 1, 2, 1, 1, 2, 1, 2, 5, 0, 2, 2, 1, 2, 1, 5, 0, 2, 1, 2, 1, 5, 0, 0, 1, 2, 2, 3, 4, 1, 5, 0, 1, 0, 0, 2, 2, 2, 2, 1, 2, 1, 2, 1, 5, 0, 1, 1, 3, 1, 5, 0, 0, 2, 2, 2, 2, 1, 2, 1, 2, 1, 5, 0, 0, 2, 1, 2, 1, 2, 1, 5, 0, 0, 1, 3, 4, 5, 0, 2, 2, 2, 2, 1, 2, 1, 2, 1, 1, 2, 1, 0, 5, 0, 0, 2, 1, 2, 1, 2, 1, 3, 4, 1, 5, 0, 2, 1, 2, 1, 5, 0, 0, 2, 2, 1, 2, 1, 1, 1, 2, 3, 4, 1, 5, 0, 0, 2, 1, 2, 1, 5, 0, 0, 2, 2, 2, 2, 1, 1, 2, 1, 2, 1, 5, 0, 0, 2, 1, 2, 2, 0, 0, 2, 1, 2, 1, 0, 1, 0, 2, 1, 2, 1, 3, 4, 5, 0, 0, 1, 2, 1, 2, 1, 1, 2, 5, 1, 0, 2, 1, 2, 1, 5, 0, 2, 1, 2, 1, 1, 2, 5, 0, 0, 2, 2, 2, 1, 1, 1, 5, 0, 1, 2, 1, 2, 1, 1, 2, 5, 0, 0, 2, 2, 2, 1, 2, 2, 1, 2, 1, 5, 0, 0, 2, 2, 2, 1, 2, 1, 5, 0, 0, 2, 2, 2, 1, 2, 1, 2, 1, 2, 1, 5, 0, 1, 0, 0, 2, 1, 2, 1, 3, 1, 4, 1, 5, 0, 0, 2, 2, 2, 1, 1, 1, 5, 0, 2, 2, 1, 2, 1, 2, 1, 2, 1, 5, 0, 2, 1, 2, 1, 2, 2, 1, 2, 1, 5, 0, 0, 2, 1, 2, 1, 2, 1, 2, 1, 5, 0, 2, 2, 2, 1, 2, 1, 1, 2, 2, 1, 5, 0, 0, 1, 1, 1, 3, 1, 4, 1, 5, 0, 3, 2, 2, 1, 2, 1, 1, 5, 0, 2, 1, 2, 1, 5, 0, 0, 2, 1, 2, 1, 2, 1, 5, 0, 0, 2, 2, 2, 2, 1, 2, 1, 2, 1, 5, 0, 1, 2, 1, 3, 4, 5, 0, 0, 2, 1, 3, 4, 2, 1, 3, 4, 2, 1, 5, 0, 0, 2, 1, 2, 1, 2, 1, 5, 0, 1, 0, 0, 2, 2, 2, 1, 2, 1, 2, 2, 1, 5, 0, 1, 5, 0, 0, 1, 2, 1, 2, 1, 1, 2, 1, 5, 0, 0, 2, 2, 2, 1, 2, 1, 2, 1, 2, 1, 5, 0, 2, 1, 2, 1, 2, 1, 5, 0, 0, 1, 2, 2, 1, 1, 2, 1, 2, 1, 1, 2, 1, 0, 0, 1, 1, 1, 1, 3, 1, 5, 0, 0, 2, 1, 2, 2, 1, 5, 0, 0, 2, 1, 2, 1, 2, 1, 3, 4, 5, 0, 0, 2, 1, 2, 1, 2, 1, 5, 0, 0, 1, 2, 1, 2, 1, 2, 5, 0, 0, 2, 2, 2, 1, 3, 4, 1, 1, 2, 1, 5, 0, 2, 2, 2, 1, 2, 1, 5, 0, 2, 1, 2, 1, 5, 0, 0, 2, 2, 2, 1, 2, 1, 1, 3, 1, 4, 5, 0, 2, 1, 2, 1, 5, 0, 0, 2, 1, 2, 3, 4, 1, 5, 0, 0, 2, 1, 2, 1, 0, 0, 2, 1, 2, 1, 3, 4, 1, 3, 4, 5, 0, 2, 1, 2, 2, 3, 4, 5, 0, 2, 1, 1, 0, 1, 1, 5, 0, 2, 2, 2, 1, 1, 1, 1, 0, 0, 2, 2, 2, 1, 2, 1, 5, 0, 2, 1, 2, 2, 1, 2, 1, 0, 0, 2, 3, 4, 3, 4, 1, 1, 2, 5, 0, 2, 1, 2, 1, 2, 1, 0, 0, 2, 2, 2, 1, 1, 1, 3, 4, 5, 0, 2, 2, 3, 4, 1, 2, 1, 2, 1, 1, 5, 0, 0, 1, 2, 1, 3, 1, 3, 1, 2, 1, 2, 1, 5, 0, 0, 2, 1, 2, 1, 3, 4, 3, 4, 5, 0, 2, 2, 2, 1, 2, 1, 2, 2, 1, 3, 4, 1, 0, 2, 1, 2, 1, 5, 0, 0, 2, 2, 2, 2, 1, 2, 1, 2, 1, 5, 0, 0, 2, 2, 2, 2, 1, 2, 1, 2, 1, 3, 4, 1, 5, 2, 2, 2, 1, 2, 1, 0, 5, 0, 2, 1, 3, 3, 1, 4, 1, 2, 1, 5, 0, 0, 2, 2, 2, 1, 1, 0, 2, 1, 2, 2, 1, 2, 1, 5, 0, 2, 1, 3, 4, 2, 1, 5, 0, 0, 2, 1, 1, 1, 2, 1, 2, 1, 5, 0, 2, 1, 2, 1, 5, 0, 2, 1, 3, 1, 0, 1, 2, 1, 5, 0, 1, 2, 2, 2, 2, 2, 1, 2, 1, 2, 1, 5, 0, 0, 2, 1, 2, 1, 1, 2, 1, 5, 0, 1, 2, 1, 0, 0, 0, 2, 2, 2, 2, 1, 1, 1, 5, 0, 1, 2, 1, 2, 1, 5, 0, 0, 2, 2, 2, 2, 1, 2, 1, 2, 1, 5, 0, 1, 3, 4, 2, 1, 0, 0, 2, 2, 2, 2, 1, 1, 2, 2, 1, 5, 0, 0, 3, 4, 2, 2, 2, 3, 4, 2, 1, 2, 1, 2, 1, 3, 4, 5, 0, 2, 1, 2, 1, 2, 1, 2, 1, 3, 4, 5, 0, 2, 1, 2, 1, 2, 1, 5, 0, 0, 2, 2, 2, 2, 1, 2, 1, 2, 1, 5, 0, 0, 3, 2, 3, 4, 2, 1, 2, 1, 2, 1, 2, 1, 0, 0, 2, 2, 2, 2, 1, 1, 2, 2, 5, 0, 2, 1, 3, 1, 5, 0, 2, 2, 2, 1, 2, 1, 2, 1, 2, 1, 5, 0, 1, 0, 2, 1, 5, 0, 2, 1, 2, 1, 5, 0, 0, 2, 1, 2, 1, 2, 1, 5, 1, 2, 1, 0, 2, 2, 1, 1, 2, 1, 2, 5, 0, 2, 1, 2, 1, 2, 1, 2, 1, 3, 5, 0, 0, 2, 2, 2, 1, 2, 2, 1, 2, 1, 5, 0, 0, 2, 1, 2, 1, 5, 0, 1, 2, 1, 2, 1, 5, 0, 0, 2, 2, 2, 1, 2, 2, 1, 3, 1, 4, 2, 1, 5, 0, 0, 2, 2, 2, 2, 1, 2, 1, 5, 0, 0, 1, 2, 1, 1, 2, 1, 5, 0, 0, 2, 2, 2, 2, 1, 2, 1, 2, 1, 5, 0, 0, 2, 1, 3, 4, 2, 1, 3, 4, 1, 5, 0, 1, 1, 5, 0, 1, 2, 1, 5, 2, 0, 2, 1, 1, 2, 1, 2, 1, 5, 0, 1, 2, 1, 2, 1, 3, 4, 1, 0, 5, 0, 0, 2, 2, 2, 3, 2, 1, 1, 3, 4, 3, 1, 4, 1, 5, 0, 0, 2, 1, 1, 5, 0, 0, 2, 1, 2, 1, 3, 4, 5, 0, 0, 1, 1, 2, 2, 1, 5, 0, 2, 1, 2, 1, 2, 1, 0, 2, 2, 2, 3, 4, 1, 2, 2, 1, 2, 1, 5, 0, 2, 1, 2, 1, 2, 1, 3, 1, 4, 5, 0, 0, 2, 3, 4, 2, 1, 2, 1, 5, 0, 0, 2, 1, 2, 1, 5, 0, 0, 2, 2, 5, 0, 0, 2, 1, 1, 2, 5, 0, 2, 2, 2, 1, 2, 1, 3, 4, 5, 0, 0, 2, 2, 2, 3, 4, 2, 1, 2, 1, 2, 1, 5, 0, 0, 2, 1, 5, 0, 0, 2, 2, 2, 1, 2, 1, 2, 1, 5, 0, 2, 1, 2, 1, 1, 2, 3, 4, 1, 5, 0, 0, 2, 2, 2, 2, 1, 2, 1, 3, 4, 1, 2, 5, 0, 2, 1, 2, 1, 1, 5, 0, 0, 2, 1, 2, 1, 2, 1, 5, 0, 1, 2, 1, 2, 1, 3, 4, 3, 4, 5, 0, 0, 2, 2, 2, 3, 4, 2, 1, 2, 1, 2, 1, 5, 0, 2, 2, 2, 2, 1, 1, 2, 1, 5, 0, 0, 2, 2, 1, 1, 3, 4, 5, 0, 2, 2, 2, 2, 1, 2, 1, 2, 1, 5, 0, 0, 2, 1, 2, 1, 5, 0, 0, 2, 2, 1, 5, 1, 0, 0, 2, 2, 2, 1, 2, 1, 0, 2, 2, 2, 1, 1, 0, 2, 1, 3, 4, 1, 5, 0, 1, 0, 2, 0, 0, 2, 1, 2, 1, 2, 1, 5, 0, 2, 3, 4, 2, 1, 2, 1, 2, 1, 2, 1, 5, 0, 0, 2, 1, 2, 1, 5, 0, 2, 1, 1, 2, 3, 5, 0, 0, 0, 2, 1, 2, 1, 5, 0, 2, 2, 3, 3, 4, 2, 1, 2, 1, 5, 0, 0, 2, 2, 2, 1, 2, 1, 3, 1, 5, 0, 0, 2, 2, 2, 2, 1, 2, 1, 3, 4, 5, 0, 2, 1, 2, 1, 5, 0, 0, 2, 2, 2, 2, 1, 2, 1, 2, 1, 5, 0, 3, 4, 2, 2, 2, 1, 1, 2, 1, 5, 1, 0, 2, 0, 2, 2, 2, 1, 2, 1, 2, 1, 3, 4, 5, 0, 0, 2, 2, 2, 1, 2, 1, 5, 0, 1, 2, 1, 5, 0, 2, 2, 2, 2, 2, 1, 0, 0, 1, 2, 2, 2, 2, 1, 2, 1, 1, 2, 5, 0, 0, 2, 2, 1, 3, 4, 1, 3, 4, 1, 2, 5, 0, 2, 2, 2, 2, 1, 2, 1, 2, 1, 0, 0, 2, 1, 2, 1, 2, 1, 3, 1, 4, 5, 0, 2, 2, 2, 1, 1, 2, 1, 5, 0, 2, 2, 1, 1, 2, 1, 2, 1, 5, 0, 1, 2, 1, 1, 2, 1, 5, 0, 2, 2, 1, 2, 1, 2, 1, 5, 0, 2, 2, 3, 0, 0, 0, 2, 2, 2, 1, 2, 1, 2, 1, 2, 5, 0, 0, 2, 1, 2, 1, 1, 0, 2, 2, 2, 1, 2, 1, 3, 1, 4, 5, 0, 0, 2, 1, 2, 1, 2, 1, 5, 0, 0, 2, 2, 2, 1, 2, 1, 1, 0, 0, 3, 4, 2, 1, 3, 1, 5, 0, 0, 2, 2, 2, 2, 1, 2, 1, 2, 1, 5, 0, 0, 2, 2, 2, 2, 1, 2, 1, 2, 1, 1, 5, 0, 0, 2, 2, 2, 2, 1, 2, 1, 3, 4, 2, 1, 3, 4, 5, 0, 2, 1, 2, 1, 2, 1, 5, 0, 0, 2, 2, 2, 1, 2, 1, 1, 2, 2, 1, 3, 4, 5, 0, 0, 2, 2, 2, 2, 1, 2, 1, 2, 1, 5, 0, 0, 2, 1, 2, 1, 5, 0, 2, 2, 2, 1, 2, 1, 5, 0, 0, 3, 4, 3, 4, 2, 1, 1, 2, 2, 1, 2, 1, 5, 0, 1, 2, 1, 5, 0, 1, 2, 1, 2, 2, 1, 5, 0, 2, 2, 2, 1, 2, 2, 1, 2, 1, 5, 0, 2, 1, 2, 2, 1, 2, 2, 1, 5, 0, 0, 2, 1, 2, 1, 2, 1, 5, 0, 2, 1, 2, 1, 3, 4, 0, 2, 1, 3, 0, 1, 5, 0, 2, 3, 2, 2, 2, 1, 1, 1, 5, 0, 2, 1, 3, 4, 1, 2, 1, 5, 0, 0, 2, 2, 2, 2, 2, 1, 2, 1, 2, 1, 2, 1, 5, 0, 2, 2, 2, 2, 1, 2, 1, 2, 1, 5, 0, 2, 2, 2, 1, 1, 1, 5, 0, 0, 2, 2, 1, 2, 1, 1, 5, 3, 1, 4, 0, 0, 2, 1, 1, 2, 2, 1, 5, 0, 2, 2, 2, 2, 1, 2, 1, 2, 1, 5, 0, 1, 2, 1, 2, 1, 2, 1, 2, 0, 5, 0, 0, 2, 2, 2, 1, 2, 1, 5, 0, 0, 2, 2, 2, 1, 1, 1, 5, 0, 0, 1, 2, 1, 2, 1, 2, 1, 1, 1, 5, 0, 0, 2, 2, 2, 1, 1, 1, 1, 3, 1, 5, 0, 0, 2, 2, 2, 1, 1, 1, 5, 0, 0, 2, 2, 1, 1, 5, 0, 0, 2, 1, 2, 1, 2, 1, 5, 0, 0, 2, 2, 2, 1, 1, 1, 5, 0, 1, 1, 2, 5, 0, 0, 1, 2, 2, 1, 5, 0, 0, 2, 2, 2, 2, 1, 2, 1, 2, 1, 3, 4, 1, 5, 0, 2, 2, 2, 0, 2, 1, 2, 1, 2, 1, 5, 0, 1, 2, 3, 1, 4, 1, 2, 0, 5, 0, 0, 2, 1, 2, 1, 2, 1, 5, 0, 0, 2, 2, 1, 2, 1, 2, 1, 3, 1, 4, 5, 0, 0, 2, 1, 2, 1, 2, 1, 1, 5, 0, 2, 1, 2, 1, 2, 1, 2, 1, 2, 1, 5, 0, 2, 1, 0, 5, 0, 1, 1, 1, 5, 0, 1, 2, 1, 2, 1, 2, 1, 5, 0, 2, 1, 2, 1, 5, 0, 2, 1, 2, 1, 1, 2, 1, 5, 0, 0, 2, 2, 2, 1, 1, 1, 5, 0, 0, 1, 1, 1, 3, 4, 2, 1, 5, 0, 0, 2, 2, 2, 2, 1, 2, 1, 2, 1, 5, 1, 1, 1, 1, 5, 0, 1, 5, 0, 0, 2, 2, 2, 3, 4, 1, 2, 1, 2, 1, 2, 1, 5, 0, 0, 1, 2, 1, 2, 2, 1, 2, 1, 2, 1, 1, 5, 0, 0, 1, 2, 1, 2, 1, 2, 5, 0, 0, 2, 2, 2, 2, 1, 2, 1, 2, 1, 5, 0, 2, 1, 2, 1, 1, 2, 2, 1, 5, 0, 2, 1, 2, 1, 2, 1, 5, 0, 0, 1, 2, 1, 2, 1, 5, 0, 2, 2, 2, 1, 2, 1, 5, 0, 0, 2, 2, 3, 4, 1, 2, 1, 3, 4, 5, 0, 2, 1, 3, 4, 1, 2, 1, 2, 1, 5, 0, 1, 2, 1, 2, 1, 2, 1, 5, 0, 2, 1, 2, 1, 5, 2, 1, 2, 1, 0, 1, 5, 0, 2, 1, 2, 1, 2, 1, 1, 1, 1, 5, 0, 2, 1, 0, 1, 1, 2, 2, 1, 5, 0, 1, 1, 5, 0, 1, 2, 1, 3, 1, 4, 0, 0, 0, 2, 2, 2, 2, 1, 2, 1, 1, 3, 1, 3, 1, 5, 0, 0, 2, 2, 2, 2, 1, 2, 1, 1, 2, 1, 5, 0, 0, 2, 1, 2, 1, 3, 4, 5, 0, 1, 2, 1, 1, 2, 1, 2, 5, 0, 0, 1, 2, 1, 2, 1, 2, 2, 2, 2, 2, 3, 4, 0, 2, 1, 2, 2, 1, 5, 0, 0, 2, 1, 2, 1, 2, 1, 3, 4, 5, 0, 2, 1, 5, 0, 2, 1, 5, 0, 0, 2, 2, 2, 1, 2, 1, 1, 2, 1, 5, 3, 4, 0, 0, 1, 2, 1, 2, 2, 1, 5, 1, 2, 1, 1, 2, 0, 5, 0, 0, 2, 2, 2, 1, 2, 1, 2, 1, 3, 4, 2, 1, 5, 0, 2, 3, 2, 1, 0, 2, 2, 2, 1, 1, 2, 1, 5, 0, 2, 1, 2, 1, 5, 0, 2, 1, 2, 1, 2, 5, 0, 2, 1, 3, 1, 3, 1, 5, 0, 0, 2, 1, 2, 1, 5, 0, 0, 2, 2, 2, 2, 1, 2, 1, 3, 4, 1, 2, 1, 5, 0, 0, 2, 2, 2, 1, 1, 1, 2, 1, 3, 4, 5, 0, 1, 2, 1, 2, 2, 1, 5, 0, 2, 1, 2, 1, 2, 1, 5, 0, 0, 2, 1, 2, 1, 2, 1, 5, 0, 0, 2, 2, 2, 1, 1, 1, 5, 0, 2, 1, 5, 0, 0, 2, 2, 2, 2, 1, 2, 1, 1, 2, 1, 5, 0, 1, 2, 5, 0, 2, 2, 2, 1, 2, 1, 5, 0, 2, 1, 2, 1, 5, 0, 0, 2, 2, 2, 2, 1, 1, 1, 3, 4, 5, 0, 0, 2, 2, 1, 2, 2, 1, 2, 1, 5, 0, 0, 2, 2, 2, 2, 1, 2, 1, 2, 1, 5, 0, 2, 2, 1, 2, 1, 2, 1, 5, 0, 0, 2, 2, 2, 1, 1, 2, 1, 3, 4, 5, 0, 0, 2, 2, 2, 2, 1, 3, 4, 2, 1, 2, 1, 3, 4, 5, 0, 2, 1, 2, 1, 5, 0, 2, 1, 2, 5, 0, 0, 1, 1, 2, 5, 0, 0, 2, 1, 0, 0, 3, 4, 1, 0, 0, 2, 2, 2, 1, 1, 1, 5, 0, 2, 2, 2, 2, 1, 2, 1, 3, 2, 3, 4, 1, 5, 0, 2, 1, 1, 2, 2, 1, 2, 1, 2, 1, 5, 0, 1, 1, 5, 0, 1, 2, 2, 1, 0, 5, 0, 0, 2, 2, 2, 1, 1, 1, 5, 0, 2, 1, 3, 1, 0, 2, 2, 2, 1, 2, 1, 1, 2, 5, 0, 0, 3, 2, 2, 2, 2, 1, 2, 1, 2, 1, 5, 3, 0, 2, 1, 1, 2, 1, 3, 4, 1, 2, 1, 5, 1, 0, 0, 2, 2, 2, 3, 4, 1, 1, 1, 5, 0, 2, 1, 2, 1, 3, 1, 0, 3, 4, 5, 0, 2, 2, 2, 2, 1, 2, 1, 3, 2, 1, 3, 4, 5, 0, 2, 1, 1, 2, 1, 2, 1, 2, 1, 2, 1, 2, 2, 1, 3, 4, 1, 1, 3, 4, 1, 3, 4, 2, 5, 0, 1, 2, 1, 2, 1, 2, 1, 5, 0, 0, 2, 2, 1, 2, 3, 4, 2, 1, 2, 5, 0, 1, 0, 1, 2, 1, 5, 0, 2, 2, 2, 1, 1, 2, 1, 5, 0, 0, 2, 1, 1, 2, 5, 0, 0, 2, 2, 1, 3, 4, 1, 2, 1, 2, 1, 2, 1, 3, 4, 5, 2, 1, 0, 1, 0, 0, 1, 2, 2, 2, 1, 2, 1, 2, 2, 1, 5, 0, 0, 2, 2, 1, 1, 5, 0, 2, 2, 2, 2, 1, 2, 1, 2, 1, 5, 0, 2, 1, 1, 2, 1, 5, 0, 0, 2, 1, 2, 1, 2, 1, 5, 0, 0, 3, 1, 4, 1, 2, 1, 5, 0, 3, 0, 2, 2, 2, 1, 2, 1, 2, 1, 1, 2, 1, 5, 0, 2, 1, 2, 1, 2, 1, 2, 1, 2, 1, 2, 1, 0, 0, 2, 2, 2, 2, 1, 2, 1, 2, 1, 5, 0, 0, 2, 2, 2, 1, 1, 2, 1, 2, 1, 5, 0, 2, 2, 2, 1, 2, 1, 5, 0, 2, 1, 3, 1, 2, 1, 3, 1, 4, 5, 0, 0, 2, 1, 1, 2, 1, 2, 1, 5, 0, 2, 1, 1, 2, 0, 5, 0, 0, 1, 2, 5, 0, 0, 2, 2, 1, 2, 1, 2, 2, 1, 3, 4, 1, 5, 0, 1, 2, 2, 1, 5, 0, 0, 2, 2, 1, 2, 1, 2, 1, 5, 1, 0, 0, 1, 2, 1, 3, 4, 2, 1, 2, 1, 5, 0, 0, 2, 1, 0, 0, 2, 2, 2, 2, 1, 1, 2, 1, 2, 1, 5, 0, 1, 2, 1, 5, 0, 0, 2, 1, 2, 1, 2, 1, 5, 0, 0, 1, 2, 1, 2, 1, 5, 0, 0, 1, 2, 1, 2, 1, 2, 5, 0, 0, 2, 1, 1, 2, 2, 1, 2, 1, 5, 0, 2, 2, 2, 0, 1, 1, 2, 1, 5, 0, 0, 2, 1, 3, 1, 2, 1, 3, 1, 2, 1, 2, 2, 1, 1, 2, 3, 5, 0, 0, 2, 2, 1, 1, 5, 0, 0, 2, 1, 2, 2, 5, 0, 2, 1, 0, 5, 2, 2, 2, 0, 2, 1, 2, 1, 2, 1, 5, 0, 0, 1, 2, 1, 2, 3, 4, 5, 0, 0, 2, 2, 2, 1, 1, 2, 1, 5, 0, 2, 1, 1, 1, 1, 1, 5, 0, 1, 1, 2, 1, 2, 2, 1, 3, 4, 5, 0, 2, 2, 2, 1, 1, 1, 5, 0, 0, 2, 2, 2, 1, 2, 1, 3, 5, 0, 0, 2, 1, 2, 1, 5, 0, 0, 2, 2, 1, 5, 0, 1, 1, 2, 1, 1, 0, 0, 2, 2, 2, 2, 1, 2, 1, 2, 1, 5, 0, 0, 2, 1, 2, 1, 5, 0, 0, 3, 2, 2, 2, 1, 1, 1, 5, 0, 0, 2, 2, 2, 1, 1, 1, 1, 5, 0, 2, 2, 2, 2, 1, 2, 1, 2, 1, 3, 4, 5, 2, 1, 1, 2, 0, 1, 0, 1, 2, 1, 5, 0, 0, 2, 2, 1, 1, 3, 4, 5, 0, 2, 3, 0, 2, 1, 2, 1, 5, 0, 0, 2, 2, 2, 1, 1, 1, 5, 0, 0, 2, 1, 2, 1, 2, 1, 5, 0, 0, 2, 2, 2, 3, 4, 1, 1, 1, 1, 5, 0, 0, 2, 1, 3, 1, 2, 1, 5, 0, 0, 1, 1, 2, 2, 3, 1, 3, 4, 1, 3, 4, 5, 0, 2, 2, 1, 2, 3, 4, 1, 2, 1, 5, 0, 2, 1, 2, 1, 2, 1, 1, 0, 2, 2, 2, 2, 1, 2, 1, 2, 1, 5, 0, 2, 2, 2, 2, 1, 2, 3, 4, 2, 1, 5, 0, 2, 2, 1, 1, 2, 1, 2, 1, 2, 1, 5, 0, 2, 1, 1, 2, 2, 1, 5, 1, 2, 0, 5, 0, 0, 2, 1, 3, 4, 1, 5, 0, 0, 2, 2, 1, 1, 1, 2, 5, 0, 2, 1, 2, 2, 3, 1, 0, 0, 2, 2, 2, 2, 1, 1, 1, 5, 0, 0, 2, 2, 2, 1, 2, 2, 1, 2, 1, 1, 5, 3, 4, 0, 2, 2, 2, 2, 1, 1, 2, 1, 0, 5, 0, 0, 1, 2, 1, 2, 1, 5, 0, 0, 2, 1, 5, 0, 2, 1, 5, 0, 0, 0, 2, 2, 2, 2, 1, 2, 1, 2, 1, 5, 0, 0, 1, 2, 2, 1, 3, 4, 1, 2, 1, 5, 0, 0, 2, 1, 2, 1, 2, 1, 2, 1, 5, 0, 2, 2, 2, 2, 1, 2, 1, 2, 1, 5, 0, 2, 1, 2, 1, 0, 0, 2, 2, 2, 2, 1, 2, 1, 2, 1, 5, 1, 0, 0, 2, 1, 2, 1, 2, 1, 5, 0, 0, 2, 2, 3, 4, 1, 2, 2, 1, 3, 4, 5, 0, 1, 2, 1, 5, 0, 0, 2, 1, 2, 1, 2, 1, 5, 0, 0, 2, 1, 2, 1, 2, 1, 5, 0, 0, 1, 2, 5, 0, 0, 2, 2, 2, 1, 1, 1, 5, 0, 1, 2, 1, 2, 0, 5, 2, 1, 0, 0, 2, 1, 2, 1, 3, 1, 4, 5, 0, 2, 1, 3, 4, 2, 1, 5, 0, 0, 1, 2, 1, 2, 1, 5, 0, 2, 2, 2, 3, 4, 1, 2, 1, 2, 1, 5, 0, 0, 2, 2, 2, 1, 2, 1, 1, 2, 2, 1, 5, 0, 0, 1, 2, 5, 0, 0, 1, 2, 2, 1, 5, 0, 1, 5, 0, 2, 1, 2, 1, 2, 1, 5, 0, 2, 1, 1, 2, 2, 1, 2, 1, 5, 0, 5, 0, 0, 1, 1, 2, 3, 4, 2, 1, 5, 0, 2, 3, 4, 2, 1, 2, 1, 2, 1, 0, 2, 2, 1, 2, 1, 2, 1, 5, 0, 2, 2, 1, 1, 2, 1, 2, 1, 3, 4, 5, 0, 2, 2, 2, 1, 1, 2, 5, 0, 0, 2, 1, 3, 4, 1, 2, 1, 0, 2, 1, 2, 1, 2, 2, 1, 5, 0, 2, 1, 5, 0, 2, 2, 2, 2, 1, 1, 1, 1, 0, 0, 2, 2, 2, 1, 2, 1, 3, 4, 5, 0, 2, 1, 0, 2, 1, 2, 1, 2, 1, 5, 0, 0, 1, 2, 2, 1, 1, 2, 5, 0, 2, 1, 2, 1, 1, 5, 0, 2, 1, 3, 3, 5, 0, 0, 2, 1, 3, 1, 4, 1, 5, 0, 0, 2, 1, 2, 1, 5, 0, 0, 2, 1, 2, 1, 2, 1, 5, 0, 0, 2, 2, 2, 1, 1, 1, 5, 0, 0, 2, 2, 2, 1, 2, 1, 5, 0, 3, 0, 2, 2, 2, 1, 2, 1, 2, 1, 2, 4, 1, 5, 0, 2, 2, 2, 1, 2, 1, 5, 0, 1, 2, 1, 2, 1, 5, 0, 0, 2, 2, 2, 2, 1, 1, 1, 1, 5, 0, 2, 2, 2, 2, 1, 2, 1, 2, 1, 5, 0, 0, 2, 2, 2, 1, 1, 1, 5, 0, 0, 2, 2, 2, 2, 1, 2, 1, 2, 1, 5, 0, 2, 2, 2, 1, 2, 1, 2, 1, 2, 1, 5, 0, 2, 1, 5, 0, 0, 2, 1, 1, 2, 1, 2, 1, 3, 4, 1, 5, 0, 0, 2, 2, 2, 2, 1, 2, 1, 2, 1, 5, 0, 2, 1, 1, 3, 5, 0, 0, 2, 1, 2, 1, 5, 0, 2, 1, 5, 0, 2, 1, 0, 1, 2, 1, 1, 2, 2, 1, 2, 1, 5, 0, 0, 2, 2, 2, 1, 2, 1, 2, 1, 2, 1, 5, 0, 0, 2, 2, 2, 1, 2, 1, 5, 0, 0, 2, 2, 2, 1, 1, 2, 1, 2, 1, 5, 0, 2, 1, 2, 1, 3, 4, 3, 4, 1, 0, 0, 1, 2, 1, 2, 2, 1, 5, 3, 1, 4, 0, 0, 2, 2, 2, 2, 1, 2, 1, 3, 4, 1, 2, 1, 3, 4, 1, 3, 1, 3, 4, 5, 2, 2, 0, 2, 2, 1, 2, 1, 3, 4, 1, 2, 1, 3, 1, 2, 1, 5, 0, 0, 2, 2, 2, 1, 2, 1, 3, 1, 5, 0, 0, 2, 1, 2, 1, 2, 1, 5, 0, 0, 2, 2, 1, 1, 5, 0, 0, 1, 2, 3, 4, 1, 3, 4, 1, 5, 0, 0, 2, 2, 2, 1, 1, 1, 3, 4, 5, 0, 0, 2, 1, 2, 1, 5, 0, 2, 1, 2, 1, 2, 2, 5, 0, 3, 4, 2, 1, 2, 1, 2, 1, 0, 2, 1, 1, 1, 2, 1, 5, 0, 0, 2, 1, 2, 1, 3, 4, 2, 1, 5, 0, 0, 2, 2, 2, 1, 2, 2, 1, 2, 1, 5, 0, 0, 2, 1, 2, 1, 1, 5, 0, 2, 1, 1, 2, 1, 2, 2, 1, 1, 2, 1, 2, 5, 0, 2, 1, 1, 2, 1, 2, 1, 0, 0, 0, 2, 2, 2, 1, 1, 1, 1, 5, 0, 0, 2, 2, 2, 2, 2, 1, 2, 1, 2, 1, 5, 0, 2, 2, 2, 1, 5, 0, 0, 2, 1, 2, 1, 3, 4, 3, 4, 5, 0, 2, 1, 2, 1, 3, 4, 5, 0, 2, 1, 2, 2, 0, 0, 2, 1, 2, 1, 5, 0, 2, 1, 2, 0, 2, 1, 2, 1, 2, 1, 2, 1, 5, 0, 2, 1, 0, 2, 3, 2, 1, 0, 0, 1, 1, 2, 3, 1, 2, 2, 1, 5, 0, 0, 2, 2, 2, 2, 1, 2, 1, 2, 1, 5, 0, 2, 1, 1, 2, 1, 5, 0, 0, 2, 1, 2, 1, 5, 0, 0, 1, 2, 1, 2, 2, 1, 5, 0, 2, 2, 2, 1, 2, 1, 2, 1, 0, 2, 1, 2, 2, 1, 1, 1, 5, 0, 0, 2, 2, 2, 1, 2, 1, 2, 1, 2, 1, 2, 1, 3, 1, 4, 5, 0, 0, 2, 2, 2, 2, 1, 1, 1, 1, 5, 0, 0, 2, 1, 5, 0, 3, 4, 1, 2, 1, 2, 1, 0, 5, 0, 0, 2, 2, 2, 2, 1, 1, 2, 1, 2, 5, 0, 0, 2, 2, 2, 1, 2, 1, 2, 1, 2, 5, 0, 0, 2, 1, 3, 4, 1, 1, 2, 1, 5, 0, 1, 2, 2, 0, 0, 0, 2, 1, 2, 1, 1, 3, 4, 1, 5, 0, 2, 1, 1, 2, 2, 0, 2, 1, 2, 2, 0, 2, 1, 2, 1, 5, 0, 0, 2, 2, 2, 2, 1, 2, 1, 2, 1, 5, 0, 0, 2, 2, 2, 2, 1, 2, 1, 3, 2, 1, 5, 0, 2, 1, 3, 4, 1, 2, 1, 1, 5, 0, 1, 2, 1, 1, 2, 1, 1, 2, 1, 5, 0, 0, 2, 2, 1, 2, 0, 0, 0, 2, 1, 2, 1, 5, 0, 2, 2, 2, 1, 2, 1, 1, 5, 0, 0, 1, 2, 1, 0, 2, 1, 0, 5, 0, 0, 2, 2, 2, 3, 4, 1, 1, 1, 1, 5, 0, 1, 2, 2, 1, 1, 2, 1, 2, 1, 0, 5, 0, 2, 2, 2, 2, 1, 2, 1, 3, 4, 1, 5, 0, 2, 2, 2, 1, 2, 3, 4, 1, 2, 1, 2, 1, 5, 0, 1, 2, 2, 1, 2, 1, 1, 0, 0, 0, 2, 2, 1, 3, 4, 2, 1, 5, 1, 0, 0, 2, 2, 1, 2, 1, 3, 4, 1, 2, 5, 0, 0, 1, 2, 1, 5, 0, 0, 2, 2, 2, 1, 1, 1, 5, 0, 0, 2, 2, 2, 2, 1, 1, 2, 1, 1, 2, 1, 5, 0, 2, 2, 2, 1, 2, 1, 2, 1, 5, 0, 2, 2, 1, 0, 0, 2, 1, 2, 1, 2, 1, 5, 0, 0, 2, 1, 3, 4, 1, 3, 1, 4, 5, 0, 0, 2, 2, 2, 2, 1, 1, 2, 1, 2, 1, 5, 0, 2, 1, 1, 2, 1, 5, 0, 2, 1, 1, 2, 0, 5, 0, 0, 2, 2, 2, 1, 1, 1, 0, 2, 2, 2, 1, 2, 1, 5, 0, 0, 1, 2, 1, 2, 1, 2, 1, 5, 0, 0, 2, 1, 3, 1, 4, 1, 1, 2, 2, 1, 5, 0, 0, 2, 2, 2, 1, 1, 1, 5, 0, 2, 2, 2, 2, 1, 2, 1, 1, 3, 1, 5, 0, 0, 3, 4, 1, 5, 0, 1, 1, 1, 0, 2, 2, 2, 0, 0, 2, 2, 2, 2, 1, 3, 4, 1, 2, 2, 1, 5, 0, 2, 1, 1, 1, 2, 0, 0, 1, 2, 2, 1, 2, 1, 5, 0, 1, 2, 1, 5, 0, 2, 2, 2, 1, 1, 1, 0, 2, 2, 2, 1, 1, 5, 0, 0, 2, 2, 2, 1, 1, 1, 5, 0, 2, 1, 2, 1, 1, 5, 0, 0, 2, 1, 2, 1, 5, 2, 2, 2, 1, 1, 1, 0, 5, 0, 0, 2, 1, 1, 2, 1, 3, 1, 5, 0, 0, 2, 2, 2, 2, 1, 2, 1, 2, 1, 5, 0, 0, 2, 2, 2, 2, 1, 2, 1, 3, 4, 2, 1, 3, 4, 1, 5, 0, 3, 2, 2, 0, 2, 1, 2, 1, 3, 4, 3, 4, 5, 0, 0, 2, 1, 5, 2, 0, 2, 2, 1, 2, 2, 1, 2, 1, 5, 0, 2, 2, 2, 2, 1, 2, 1, 3, 4, 5, 0, 0, 2, 2, 1, 1, 5, 2, 1, 2, 1, 0, 5, 0, 2, 1, 2, 3, 4, 1, 2, 1, 5, 0, 0, 2, 2, 2, 2, 1, 2, 1, 2, 1, 5, 0, 0, 2, 1, 2, 1, 3, 4, 5, 0, 0, 2, 2, 2, 2, 1, 2, 1, 2, 1, 5, 0, 2, 1, 2, 1, 2, 1, 5, 0, 0, 2, 1, 2, 1, 5, 0, 3, 0, 2, 2, 1, 1, 1, 5, 0, 0, 2, 2, 2, 2, 1, 2, 1, 2, 1, 5, 0, 1, 0, 5, 2, 5, 0, 2, 2, 2, 2, 1, 1, 1, 5, 0, 0, 2, 2, 2, 2, 1, 2, 1, 2, 1, 5, 0, 0, 2, 2, 2, 2, 1, 2, 1, 2, 1, 5, 0, 0, 2, 2, 2, 3, 1, 4, 2, 1, 2, 1, 2, 1, 5, 0, 0, 2, 2, 2, 1, 1, 1, 5, 0, 0, 2, 1, 2, 1, 2, 1, 5, 0, 1, 2, 1, 3, 1, 5, 0, 2, 1, 2, 1, 2, 1, 0, 0, 0, 2, 2, 2, 2, 1, 2, 1, 3, 4, 1, 5, 0, 1, 0, 1, 2, 1, 1, 2, 0, 0, 0, 1, 2, 2, 1, 3, 1, 2, 1, 5, 0, 2, 2, 1, 2, 1, 1, 5, 0, 2, 3, 4, 1, 2, 1, 2, 1, 0, 0, 2, 1, 2, 3, 4, 1, 5, 0, 2, 2, 2, 2, 1, 2, 1, 2, 1, 5, 0, 0, 2, 1, 1, 2, 1, 2, 1, 5, 0, 2, 0, 1, 2, 1, 5, 0, 2, 1, 2, 1, 2, 2, 0, 0, 1, 2, 1, 5, 0, 2, 1, 1, 2, 1, 5, 0, 0, 2, 2, 2, 2, 1, 2, 1, 2, 1, 5, 0, 0, 1, 2, 1, 3, 4, 3, 4, 2, 5, 0, 0, 2, 2, 2, 1, 1, 1, 5, 0, 0, 2, 2, 2, 2, 1, 1, 2, 1, 2, 5, 0, 2, 1, 2, 1, 5, 0, 2, 1, 2, 1, 5, 0, 0, 2, 2, 2, 1, 1, 1, 5, 0, 2, 1, 2, 2, 1, 2, 1, 5, 0, 1, 2, 1, 2, 1, 2, 1, 5, 0, 2, 1, 3, 1, 5, 2, 1, 1, 2, 3, 1, 4, 1, 2, 0, 5, 0, 2, 1, 3, 4, 1, 2, 1, 5, 0, 0, 2, 1, 2, 1, 1, 2, 1, 0, 1, 2, 1, 0, 1, 2, 2, 1, 2, 1, 0, 0, 2, 1, 3, 4, 1, 5, 0, 0, 2, 2, 2, 2, 1, 3, 4, 2, 1, 5, 0, 2, 2, 1, 2, 1, 3, 1, 2, 1, 5, 1, 2, 1, 2, 1, 0, 2, 5, 0, 0, 2, 2, 1, 2, 1, 3, 4, 5, 0, 3, 0, 2, 2, 2, 1, 2, 2, 1, 1, 2, 5, 0, 2, 0, 1, 1, 5, 0, 0, 2, 2, 2, 2, 1, 2, 1, 2, 1, 5, 0, 2, 1, 2, 1, 2, 1, 5, 0, 2, 1, 2, 1, 1, 5, 0, 2, 2, 2, 0, 1, 2, 2, 1, 2, 1, 5, 0, 0, 2, 2, 1, 1, 5, 0, 0, 2, 2, 2, 1, 2, 1, 5, 0, 1, 0, 0, 2, 2, 2, 2, 1, 2, 1, 1, 5, 0, 0, 2, 1, 2, 3, 4, 5, 2, 0, 2, 1, 5, 0, 0, 2, 1, 1, 2, 1, 2, 5, 0, 0, 2, 2, 2, 2, 1, 1, 2, 2, 1, 5, 0, 0, 2, 1, 1, 2, 1, 1, 2, 1, 5, 0, 2, 2, 2, 1, 2, 1, 2, 1, 5, 2, 1, 2, 1, 2, 1, 0, 5, 0, 0, 2, 1, 2, 1, 2, 1, 3, 4, 1, 2, 1, 5, 0, 0, 2, 2, 2, 2, 1, 2, 1, 2, 1, 5, 0, 0, 2, 1, 2, 1, 2, 1, 5, 0, 1, 5, 0, 2, 1, 2, 1, 0, 2, 1, 2, 1, 5, 0, 1, 0, 2, 2, 2, 1, 2, 1, 5, 0, 2, 1, 2, 1, 0, 2, 1, 3, 1, 4, 1, 0, 5, 0, 0, 2, 3, 4, 2, 1, 2, 1, 5, 0, 0, 2, 2, 1, 1, 5, 0, 1, 2, 2, 2, 1, 2, 1, 2, 1, 5, 0, 2, 1, 2, 1, 5, 0, 2, 1, 2, 1, 5, 0, 0, 2, 1, 3, 1, 4, 2, 1, 5, 0, 2, 2, 1, 2, 1, 5, 0, 0, 1, 2, 1, 1, 2, 1, 2, 1, 5, 0, 2, 1, 2, 1, 2, 1, 0, 0, 2, 2, 2, 1, 1, 3, 4, 1, 2, 2, 1, 0, 0, 2, 1, 2, 1, 5, 0, 0, 2, 2, 2, 1, 1, 1, 5, 0, 2, 3, 1, 2, 1, 3, 4, 1, 0, 3, 5, 0, 1, 1, 0, 0, 2, 2, 2, 1, 1, 2, 1, 2, 1, 3, 4, 2, 5, 0, 2, 1, 2, 1, 0, 1, 0, 1, 0, 5, 0, 0, 2, 2, 2, 1, 2, 1, 2, 1, 5, 0, 0, 2, 1, 2, 1, 2, 1, 1, 2, 5, 0, 0, 2, 1, 2, 1, 2, 1, 5, 0, 2, 1, 2, 1, 5, 0, 1, 1, 1, 1, 1, 0, 2, 1, 2, 1, 2, 1, 2, 1, 2, 1, 5, 0, 2, 2, 2, 2, 1, 2, 1, 2, 1, 0, 0, 2, 2, 2, 2, 1, 2, 1, 2, 1, 5, 0, 2, 2, 1, 2, 1, 3, 2, 1, 5, 0, 0, 2, 2, 2, 2, 2, 1, 2, 1, 5, 0, 2, 1, 2, 1, 2, 1, 3, 1, 5, 0, 0, 3, 2, 1, 2, 1, 5, 0, 0, 1, 2, 2, 1, 3, 1, 4, 5, 0, 2, 1, 1, 2, 2, 1, 2, 1, 5, 0, 2, 1, 3, 4, 2, 1, 2, 1, 0, 2, 1, 2, 1, 3, 4, 1, 2, 1, 5, 0, 1, 2, 2, 2, 2, 1, 2, 1, 1, 3, 4, 1, 5, 0, 0, 2, 2, 2, 2, 1, 2, 1, 3, 4, 1, 5, 0, 0, 2, 2, 1, 1, 5, 0, 1, 2, 1, 3, 4, 2, 1, 2, 1, 5, 0, 0, 2, 2, 2, 1, 1, 1, 5, 0, 0, 2, 2, 2, 1, 1, 1, 3, 2, 2, 2, 2, 2, 5, 0, 1, 2, 1, 2, 1, 2, 1, 5, 3, 4, 0, 0, 2, 2, 2, 1, 1, 1, 5, 0, 2, 1, 2, 1, 2, 1, 5, 0, 1, 2, 0, 5, 0, 0, 2, 2, 2, 2, 1, 1, 2, 1, 1, 2, 1, 5, 0, 0, 2, 2, 1, 2, 2, 2, 1, 1, 2, 1, 5, 0, 2, 1, 3, 1, 0, 5, 0, 2, 1, 2, 5, 0, 0, 2, 2, 2, 1, 2, 1, 3, 4, 5, 0, 0, 2, 1, 3, 4, 1, 2, 3, 4, 2, 1, 5, 0, 2, 2, 2, 1, 2, 1, 5, 0, 0, 2, 2, 2, 2, 1, 2, 1, 5, 0, 1, 2, 5, 0, 0, 2, 2, 2, 1, 1, 1, 5, 0, 2, 1, 2, 1, 5, 0, 2, 1, 2, 1, 2, 1, 5, 0, 0, 0, 2, 1, 1, 2, 1, 3, 4, 1, 2, 1, 2, 1, 5, 0, 0, 2, 2, 2, 2, 1, 2, 1, 2, 1, 3, 4, 1, 5, 0, 0, 2, 2, 2, 1, 1, 2, 1, 5, 0, 1, 2, 1, 3, 4, 2, 1, 2, 1, 5, 0, 2, 2, 0, 2, 1, 2, 2, 1, 2, 1, 5, 0, 2, 1, 3, 1, 4, 1, 2, 1, 5, 0, 0, 2, 2, 2, 1, 1, 5, 1, 5, 0, 2, 2, 2, 2, 1, 1, 2, 1, 2, 1, 5, 0, 2, 1, 2, 1, 5, 0, 1, 2, 1, 2, 1, 2, 1, 5, 0, 0, 2, 2, 2, 1, 2, 3, 4, 1, 2, 1, 5, 0, 0, 2, 2, 2, 2, 1, 2, 1, 2, 1, 5, 0, 0, 2, 2, 2, 2, 1, 2, 1, 2, 1, 3, 1, 1, 5, 0, 2, 2, 2, 2, 2, 1, 3, 4, 1, 2, 1, 5, 0, 2, 1, 0, 2, 1, 5, 0, 0, 2, 1, 2, 1, 5, 0, 1, 2, 2, 1, 5, 0, 2, 1, 2, 1, 3, 1, 5, 0, 2, 1, 3, 4, 1, 2, 5, 0, 0, 2, 1, 2, 1, 3, 4, 5, 0, 1, 1, 1, 2, 1, 0, 3, 5, 0, 0, 2, 1, 2, 1, 2, 5, 0, 0, 2, 2, 2, 1, 2, 1, 2, 1, 5, 0, 2, 2, 2, 1, 1, 1, 2, 5, 0, 1, 2, 1, 2, 1, 2, 1, 5, 1, 2, 1, 2, 1, 0, 0, 2, 1, 2, 1, 1, 0, 1, 2, 1, 0, 0, 1, 2, 1, 2, 1, 2, 1, 2, 1, 2, 1, 5, 0, 2, 2, 2, 2, 3, 2, 1, 2, 1, 2, 1, 2, 1, 0, 2, 2, 1, 2, 1, 2, 1, 3, 4, 1, 5, 0, 2, 1, 2, 1, 5, 0, 1, 5, 0, 0, 2, 1, 2, 1, 5, 0, 2, 2, 2, 2, 1, 2, 1, 2, 1, 5, 0, 1, 2, 2, 1, 1, 2, 1, 5, 0, 0, 2, 1, 2, 1, 2, 1, 5, 0, 1, 3, 1, 3, 1, 2, 1, 2, 1, 0, 2, 2, 1, 1, 5, 0, 0, 2, 2, 3, 4, 1, 2, 1, 2, 1, 5, 0, 0, 2, 2, 2, 1, 2, 2, 1, 1, 2, 5, 0, 1, 3, 4, 2, 1, 2, 3, 1, 5, 0, 0, 2, 1, 3, 4, 1, 2, 1, 2, 1, 5, 0, 2, 1, 1, 5, 0, 0, 2, 2, 2, 1, 2, 1, 1, 5, 0, 0, 2, 2, 1, 1, 5, 0, 2, 1, 5, 0, 2, 1, 2, 1, 3, 4, 5, 0, 2, 1, 2, 1, 2, 1, 2, 1, 2, 1, 0, 0, 1, 3, 4, 1, 3, 4, 2, 1, 1, 2, 5, 3, 4, 1, 2, 0, 1, 5, 0, 2, 2, 2, 1, 2, 1, 5, 0, 1, 0, 0, 2, 2, 2, 2, 1, 2, 1, 2, 1, 5, 0, 2, 1, 2, 3, 1, 0, 0, 1, 1, 2, 2, 1, 3, 4, 3, 4, 5, 0, 2, 2, 2, 1, 1, 1, 5, 0, 0, 1, 2, 5, 0, 1, 2, 1, 2, 1, 2, 1, 5, 0, 2, 2, 2, 2, 1, 0, 0, 2, 1, 2, 1, 5, 0, 0, 2, 2, 2, 1, 1, 1, 5, 0, 0, 2, 2, 2, 2, 1, 2, 2, 1, 2, 1, 5, 0, 0, 2, 2, 2, 1, 2, 1, 1, 3, 4, 5, 0, 1, 2, 1, 0, 2, 1, 2, 1, 0, 2, 2, 2, 1, 1, 1, 5, 2, 2, 2, 1, 1, 1, 0, 5, 0, 2, 1, 3, 4, 5, 0, 0, 2, 1, 5, 0, 0, 2, 1, 3, 4, 5, 0, 0, 2, 1, 2, 1, 2, 1, 5, 0, 1, 0, 2, 0, 1, 3, 1, 4, 1, 5, 0, 0, 2, 2, 2, 1, 2, 1, 2, 1, 2, 3, 4, 5, 0, 0, 2, 2, 1, 3, 4, 1, 5, 0, 2, 2, 2, 1, 1, 1, 5, 0, 1, 2, 1, 1, 2, 1, 2, 5, 0, 2, 2, 2, 2, 1, 1, 1, 5, 0, 0, 2, 2, 2, 1, 1, 1, 5, 0, 0, 1, 2, 1, 2, 1, 2, 5, 0, 0, 1, 2, 2, 1, 2, 1, 2, 0, 0, 2, 2, 1, 1, 5, 0, 2, 1, 2, 1, 2, 1, 1, 2, 1, 5, 0, 2, 2, 2, 1, 1, 1, 5, 0, 0, 3, 4, 1, 1, 2, 3, 4, 5, 0, 0, 1, 2, 1, 2, 1, 2, 1, 5, 0, 2, 2, 2, 1, 1, 3, 4, 1, 1, 2, 1, 2, 1, 0, 0, 2, 1, 1, 2, 5, 0, 0, 2, 2, 2, 2, 1, 2, 1, 2, 1, 5, 0, 0, 2, 2, 2, 1, 1, 1, 5, 0, 1, 3, 4, 2, 1, 2, 1, 2, 1, 5, 0, 0, 2, 2, 2, 2, 1, 2, 1, 2, 1, 5, 0, 1, 2, 2, 1, 0, 5, 0, 0, 2, 2, 0, 2, 1, 2, 1, 1, 1, 1, 2, 1, 5, 2, 1, 0, 1, 3, 4, 2, 1, 2, 1, 5, 0, 0, 2, 1, 5, 0, 0, 2, 2, 2, 2, 1, 1, 2, 1, 2, 1, 5, 0, 2, 1, 3, 4, 1, 1, 1, 5, 0, 2, 2, 2, 2, 1, 2, 1, 5, 0, 1, 0, 1, 3, 4, 5, 0, 2, 2, 2, 1, 2, 1, 5, 0, 5, 0, 2, 1, 0, 2, 3, 4, 2, 1, 2, 1, 5, 0, 1, 2, 1, 2, 1, 2, 1, 5, 0, 0, 3, 4, 1, 2, 1, 5, 0, 0, 1, 2, 1, 1, 1, 2, 1, 2, 1, 5, 0, 0, 2, 2, 1, 2, 2, 1, 5, 0, 3, 4, 2, 1, 2, 1, 1, 1, 2, 1, 5, 0, 0, 2, 2, 1, 1, 1, 3, 4, 2, 0, 2, 1, 1, 2, 5, 0, 2, 1, 2, 1, 2, 1, 2, 1, 0, 0, 2, 2, 3, 4, 2, 1, 2, 1, 2, 1, 3, 4, 0, 1, 2, 2, 2, 1, 2, 1, 2, 1, 1, 5, 0, 0, 2, 1, 5, 0, 2, 2, 1, 5, 0, 0, 2, 1, 1, 2, 1, 2, 0, 0, 2, 1, 2, 1, 2, 1, 0, 0, 2, 1, 2, 1, 2, 3, 4, 5, 0, 2, 1, 1, 0, 2, 1, 2, 1, 2, 1, 0, 5, 0, 2, 2, 2, 0, 1, 2, 2, 1, 2, 1, 3, 4, 5, 0, 2, 1, 2, 3, 4, 3, 0, 2, 1, 2, 1, 3, 1, 1, 1, 5, 0, 2, 2, 3, 1, 1, 1, 5, 0, 0, 2, 1, 2, 1, 2, 1, 5, 0, 0, 1, 1, 2, 1, 5, 0, 2, 1, 2, 1, 2, 1, 5, 0, 0, 2, 1, 2, 1, 5, 0, 0, 2, 2, 1, 2, 1, 2, 1, 5, 0, 0, 1, 1, 5, 0, 2, 1, 1, 2, 1, 2, 2, 1, 5, 0, 0, 2, 2, 2, 2, 1, 2, 1, 2, 1, 5, 0, 2, 2, 2, 0, 2, 1, 2, 1, 3, 4, 2, 1, 5, 0, 0, 2, 2, 2, 1, 1, 1, 5, 0, 2, 1, 1, 2, 1, 5, 0, 0, 2, 2, 2, 2, 1, 2, 1, 2, 1, 5, 0, 0, 2, 2, 2, 2, 1, 2, 1, 2, 1, 5, 2, 1, 2, 1, 2, 1, 0, 5, 0, 2, 1, 2, 1, 2, 1, 5, 0, 0, 2, 2, 2, 1, 1, 1, 5, 0, 0, 1, 3, 1, 4, 1, 2, 1, 0, 0, 2, 2, 2, 1, 2, 1, 1, 2, 1, 2, 1, 5, 0, 0, 2, 2, 2, 2, 1, 2, 1, 2, 1, 5, 0, 3, 4, 2, 2, 1, 3, 4, 5, 0, 0, 2, 1, 5, 0, 2, 1, 2, 1, 5, 0, 2, 2, 1, 2, 1, 2, 1, 2, 1, 5, 0, 2, 1, 2, 1, 2, 1, 2, 2, 5, 0, 0, 2, 2, 1, 2, 1, 5, 0, 2, 2, 2, 2, 1, 1, 1, 5, 0, 0, 2, 2, 2, 1, 1, 1, 5, 0, 1, 2, 1, 2, 1, 0, 1, 2, 1, 1, 2, 1, 2, 1, 5, 2, 1, 3, 1, 2, 1, 2, 1, 1, 3, 1, 0, 0, 0, 2, 1, 5, 0, 2, 1, 2, 1, 2, 1, 5, 0, 2, 1, 1, 2, 1, 2, 1, 5, 0, 2, 2, 1, 1, 5, 0, 0, 2, 2, 2, 2, 1, 2, 1, 2, 3, 4, 1, 5, 0, 0, 3, 4, 2, 2, 2, 1, 1, 1, 5, 0, 2, 1, 2, 1, 2, 1, 5, 0, 2, 2, 1, 1, 1, 0, 2, 1, 2, 1, 5, 0, 0, 2, 2, 1, 2, 1, 5, 0, 0, 3, 1, 4, 1, 2, 1, 2, 1, 5, 0, 2, 1, 1, 2, 1, 2, 5, 0, 0, 2, 2, 2, 1, 2, 1, 2, 1, 5, 0, 1, 1, 2, 5, 0, 0, 2, 1, 2, 1, 5, 0, 0, 2, 1, 2, 1, 2, 1, 5, 0, 0, 2, 1, 1, 5, 0, 0, 2, 2, 2, 1, 1, 1, 2, 1, 5, 0, 1, 1, 2, 1, 5, 0, 0, 2, 1, 2, 1, 2, 1, 5, 0, 0, 2, 2, 2, 2, 1, 2, 1, 2, 1, 0, 3, 0, 2, 2, 2, 2, 1, 2, 2, 1, 1, 0, 0, 2, 1, 2, 1, 5, 0, 0, 2, 2, 1, 2, 2, 1, 3, 1, 3, 1, 5, 0, 2, 1, 5, 0, 1, 0, 0, 2, 2, 1, 3, 1, 4, 2, 1, 2, 1, 2, 1, 5, 0, 2, 2, 2, 1, 2, 1, 2, 1, 2, 1, 5, 0, 1, 2, 1, 3, 4, 1, 0, 5, 1, 2, 0, 2, 2, 1, 2, 1, 0, 0, 3, 4, 1, 2, 1, 2, 1, 0, 1, 2, 1, 1, 2, 1, 5, 0, 2, 2, 2, 1, 1, 0, 0, 2, 2, 2, 2, 1, 2, 1, 2, 1, 5, 0, 0, 2, 2, 2, 1, 2, 1, 3, 4, 5, 0, 2, 2, 2, 1, 1, 1, 5, 0, 0, 0, 2, 1, 2, 2, 1, 5, 0, 0, 1, 2, 1, 1, 3, 4, 1, 5, 0, 0, 2, 2, 2, 1, 3, 4, 1, 3, 4, 5, 0, 0, 2, 1, 2, 1, 2, 1, 5, 0, 0, 2, 1, 3, 4, 0, 0, 2, 3, 4, 2, 1, 2, 1, 2, 1, 5, 0, 0, 2, 2, 1, 1, 2, 1, 5, 3, 4, 0, 0, 1, 3, 4, 2, 1, 2, 1, 5, 0, 0, 2, 1, 5, 1, 5, 0, 5, 0, 0, 2, 1, 2, 1, 5, 0, 1, 2, 1, 1, 2, 2, 1, 3, 4, 5, 0, 0, 2, 1, 5, 0, 1, 2, 1, 2, 1, 2, 1, 2, 5, 0, 0, 2, 2, 2, 2, 1, 2, 1, 2, 1, 3, 4, 5, 0, 2, 1, 4, 3, 4, 1, 2, 2, 1, 2, 1, 5, 0, 0, 2, 1, 2, 1, 2, 1, 2, 2, 1, 5, 0, 0, 2, 2, 2, 1, 2, 1, 5, 0, 2, 0, 1, 1, 2, 1, 1, 2, 1, 5, 0, 1, 2, 1, 2, 1, 0, 1, 1, 1, 2, 1, 1, 5, 0, 0, 2, 2, 2, 3, 1, 1, 2, 1, 3, 2, 1, 1, 5, 0, 0, 2, 2, 2, 2, 1, 2, 1, 2, 1, 5, 0, 0, 2, 1, 3, 1, 5, 0, 3, 4, 1, 2, 1, 2, 1, 1, 2, 1, 2, 0, 0, 2, 1, 1, 3, 4, 1, 5, 0, 0, 2, 1, 2, 1, 5, 0, 2, 1, 2, 1, 2, 1, 3, 5, 0, 2, 1, 1, 5, 2, 1, 0, 0, 2, 2, 2, 2, 1, 1, 2, 1, 2, 1, 5, 0, 0, 2, 1, 1, 2, 1, 5, 0, 2, 2, 3, 1, 1, 1, 0, 5, 0, 0, 2, 2, 1, 3, 1, 2, 1, 3, 3, 5, 0, 0, 2, 2, 2, 1, 2, 1, 2, 1, 1, 5, 0, 0, 2, 2, 2, 1, 1, 1, 5, 0, 2, 2, 1, 3, 2, 1, 3, 1, 1, 5, 2, 1, 1, 0, 1, 0, 2, 1, 2, 1, 2, 1, 0, 0, 2, 1, 3, 2, 1, 2, 1, 5, 0, 0, 2, 2, 2, 1, 1, 1, 5, 0, 2, 1, 3, 4, 1, 5, 0, 2, 1, 5, 2, 0, 2, 1, 5, 3, 4, 3, 4, 0, 0, 2, 2, 2, 1, 1, 1, 5, 0, 0, 2, 1, 3, 1, 5, 0, 0, 2, 1, 5, 0, 0, 2, 2, 2, 2, 1, 2, 1, 2, 1, 3, 4, 5, 0, 2, 1, 3, 1, 5, 0, 2, 1, 3, 1, 1, 2, 3, 4, 1, 3, 1, 4, 1, 5, 0, 0, 2, 1, 2, 1, 2, 1, 5, 0, 2, 2, 1, 1, 5, 0, 0, 2, 1, 5, 1, 0, 1, 2, 0, 0, 2, 1, 2, 1, 2, 3, 4, 1, 5, 0, 2, 2, 2, 1, 1, 1, 1, 1, 1, 3, 4, 1, 5, 0, 2, 2, 1, 2, 1, 1, 2, 5, 0, 0, 2, 2, 3, 1, 2, 1, 2, 3, 1, 5, 0, 0, 1, 2, 1, 3, 1, 1, 4, 5, 0, 2, 2, 2, 2, 1, 1, 1, 5, 0, 0, 2, 2, 2, 2, 1, 3, 4, 1, 3, 4, 1, 2, 1, 2, 1, 3, 4, 1, 5, 0, 1, 2, 2, 1, 5, 0, 3, 4, 1, 0, 0, 3, 1, 4, 1, 2, 1, 2, 1, 5, 0, 0, 2, 2, 1, 1, 5, 0, 1, 2, 2, 1, 5, 0, 1, 2, 1, 2, 2, 1, 1, 1, 1, 0, 2, 2, 2, 2, 1, 2, 1, 2, 1, 5, 1, 5, 0, 2, 2, 2, 1, 2, 1, 5, 0, 0, 1, 2, 1, 2, 1, 2, 1, 5, 0, 0, 2, 2, 2, 2, 1, 2, 1, 2, 1, 5, 0, 0, 2, 2, 2, 2, 1, 2, 1, 2, 1, 5, 0, 2, 1, 2, 1, 5, 0, 0, 2, 1, 2, 1, 5, 0, 2, 2, 2, 0, 2, 1, 2, 1, 2, 1, 5, 1, 0, 2, 3, 4, 1, 3, 4, 5, 0, 0, 2, 2, 1, 2, 1, 2, 1, 3, 4, 5, 0, 2, 2, 2, 2, 1, 2, 1, 2, 1, 5, 0, 2, 2, 1, 2, 5, 0, 2, 1, 0, 0, 2, 1, 2, 1, 2, 1, 3, 4, 3, 4, 5, 0, 3, 4, 3, 1, 3, 1, 2, 1, 3, 4, 1, 5, 0, 0, 2, 2, 2, 1, 1, 1, 3, 4, 5, 0, 0, 1, 2, 1, 5, 0, 2, 1, 1, 2, 1, 1, 3, 4, 5, 0, 0, 2, 2, 2, 1, 2, 1, 2, 1, 2, 1, 3, 4, 1, 5, 0, 0, 2, 1, 3, 4, 1, 5, 0, 0, 2, 1, 2, 1, 5, 0, 1, 2, 1, 5, 0, 0, 2, 2, 2, 1, 2, 1, 3, 4, 1, 5, 0, 0, 2, 1, 2, 1, 2, 1, 2, 1, 5, 0, 1, 0, 0, 2, 2, 2, 1, 2, 1, 2, 1, 3, 4, 5, 0, 2, 2, 1, 2, 1, 5, 0, 3, 4, 0, 2, 2, 2, 1, 2, 1, 1, 2, 2, 1, 5, 0, 0, 2, 1, 2, 2, 1, 2, 1, 2, 1, 5, 0, 0, 1, 5, 2, 2, 2, 1, 1, 1, 2, 1, 0, 5, 0, 2, 1, 2, 1, 2, 1, 3, 4, 5, 0, 2, 2, 2, 1, 2, 1, 5, 0, 0, 1, 2, 2, 2, 1, 1, 2, 1, 5, 0, 1, 0, 0, 2, 2, 2, 1, 1, 1, 5, 0, 0, 2, 1, 2, 1, 2, 1, 1, 2, 1, 0, 0, 2, 2, 2, 1, 3, 4, 1, 1, 1, 5, 0, 2, 1, 2, 1, 2, 1, 5, 0, 2, 2, 2, 1, 5, 0, 0, 1, 2, 2, 1, 2, 1, 5, 0, 0, 2, 2, 2, 2, 1, 2, 1, 1, 2, 5, 0, 2, 2, 1, 2, 1, 5, 0, 2, 1, 0, 0, 2, 2, 2, 1, 1, 1, 5, 0, 0, 2, 2, 2, 1, 1, 1, 5, 0, 0, 1, 2, 2, 1, 1, 2, 5, 0, 1, 2, 1, 2, 1, 5, 0, 0, 2, 2, 2, 1, 2, 1, 5, 0, 3, 4, 1, 2, 1, 2, 1, 2, 1, 2, 1, 5, 0, 0, 2, 2, 2, 1, 2, 1, 2, 1, 2, 1, 5, 0, 2, 2, 2, 1, 1, 1, 5, 0, 2, 1, 2, 1, 2, 1, 1, 5, 0, 2, 2, 2, 1, 2, 1, 2, 1, 5, 0, 0, 2, 1, 2, 1, 2, 1, 5, 0, 0, 2, 2, 2, 1, 2, 2, 1, 2, 1, 5, 0, 3, 4, 1, 2, 1, 2, 1, 5, 0, 0, 2, 1, 2, 1, 2, 1, 5, 0, 1, 5, 0, 2, 1, 2, 1, 5, 0, 2, 2, 1, 2, 1, 2, 1, 5, 0, 2, 2, 2, 1, 1, 2, 0, 0, 2, 2, 2, 1, 2, 1, 1, 3, 4, 1, 5, 0, 0, 2, 1, 2, 1, 2, 1, 2, 1, 5, 0, 0, 2, 3, 4, 1, 2, 2, 1, 2, 5, 0, 0, 2, 1, 2, 2, 3, 1, 1, 0, 0, 2, 2, 2, 1, 2, 2, 1, 1, 2, 5, 0, 0, 2, 1, 1, 5, 0, 1, 5, 0, 2, 2, 2, 2, 1, 1, 2, 1, 2, 1, 5, 2, 1, 1, 0, 2, 1, 0, 0, 2, 2, 2, 2, 1, 2, 1, 2, 1, 5, 0, 0, 2, 1, 2, 1, 3, 4, 1, 5, 0, 2, 1, 2, 1, 2, 1, 5, 0, 0, 2, 2, 3, 1, 2, 1, 2, 1, 5, 0, 2, 1, 2, 1, 5, 0, 0, 2, 1, 2, 1, 5, 0, 2, 2, 2, 1, 1, 2, 1, 0, 5, 0, 2, 1, 2, 1, 5, 0, 0, 2, 1, 2, 1, 2, 1, 2, 1, 5, 0, 0, 2, 2, 2, 2, 1, 2, 1, 2, 1, 5, 0, 1, 2, 1, 0, 2, 3, 5, 0, 0, 2, 1, 2, 1, 2, 1, 5, 0, 2, 1, 2, 1, 2, 1, 0, 0, 2, 2, 2, 1, 1, 1, 5, 0, 0, 2, 2, 1, 3, 4, 1, 2, 1, 5, 2, 1, 2, 1, 2, 1, 1, 1, 0, 2, 1, 0, 2, 1, 2, 1, 2, 0, 0, 2, 2, 2, 1, 1, 1, 5, 0, 0, 2, 2, 1, 2, 1, 5, 0, 2, 2, 2, 3, 0, 2, 1, 2, 1, 2, 1, 3, 1, 5, 0, 0, 2, 1, 3, 4, 2, 1, 5, 0, 0, 1, 3, 4, 5, 0, 2, 1, 2, 1, 2, 1, 3, 4, 2, 1, 0, 5, 0, 0, 2, 2, 2, 2, 1, 2, 1, 2, 1, 5, 0, 3, 1, 3, 1, 2, 1, 2, 1, 0, 1, 5, 1, 1, 1, 1, 5, 0, 0, 2, 1, 2, 1, 5, 0, 2, 2, 2, 1, 3, 4, 1, 5, 0, 2, 1, 1, 2, 1, 0, 5, 0, 0, 2, 1, 2, 1, 5, 0, 0, 2, 1, 5, 0, 2, 1, 2, 0, 2, 0, 1, 5, 0, 0, 1, 3, 4, 1, 2, 1, 2, 1, 2, 1, 2, 1, 5, 0, 2, 2, 2, 2, 1, 2, 1, 3, 4, 1, 5, 0, 0, 0, 2, 1, 2, 1, 2, 1, 2, 1, 2, 1, 1, 2, 1, 5, 0, 1, 2, 2, 1, 0, 1, 2, 1, 2, 1, 2, 1, 2, 1, 5, 0, 2, 1, 3, 4, 2, 1, 1, 2, 1, 5, 0, 1, 2, 1, 2, 1, 2, 1, 5, 0, 1, 2, 1, 2, 1, 2, 1, 0, 0, 2, 1, 2, 1, 2, 1, 3, 1, 5, 0, 0, 2, 2, 2, 2, 1, 2, 1, 3, 4, 2, 1, 5, 0, 0, 2, 2, 1, 2, 1, 3, 4, 5, 0, 2, 1, 2, 1, 5, 0, 0, 2, 1, 2, 1, 2, 1, 1, 2, 5, 2, 1, 2, 1, 2, 1, 0, 0, 0, 2, 2, 2, 2, 1, 2, 1, 2, 1, 1, 3, 4, 5, 0, 2, 3, 4, 2, 2, 1, 4, 1, 1, 2, 1, 5, 0, 0, 1, 5, 0, 2, 1, 2, 1, 2, 1, 5, 0, 2, 1, 2, 1, 0, 1, 5, 0, 2, 1, 3, 4, 1, 0, 0, 0, 2, 3, 4, 1, 3, 4, 1, 2, 1, 2, 1, 5, 0, 0, 2, 2, 2, 1, 1, 1, 5, 0, 0, 2, 2, 2, 2, 1, 2, 1, 2, 1, 5, 0, 0, 2, 2, 1, 1, 1, 1, 2, 1, 5, 0, 2, 2, 2, 1, 1, 2, 5, 0, 2, 3, 4, 2, 1, 5, 0, 2, 1, 2, 1, 2, 5, 1, 2, 1, 0, 5, 0, 0, 2, 2, 2, 1, 1, 2, 1, 5, 0, 0, 1, 2, 1, 2, 1, 5, 0, 2, 1, 1, 1, 3, 4, 1, 0, 2, 1, 1, 1, 2, 2, 2, 0, 1, 5, 0, 0, 2, 1, 1, 1, 5, 0, 2, 1, 2, 1, 2, 1, 2, 1, 0, 2, 2, 2, 2, 1, 2, 1, 2, 0, 0, 2, 2, 2, 1, 1, 2, 1, 1, 5, 0, 0, 2, 3, 4, 1, 2, 2, 5, 0, 1, 2, 2, 1, 2, 1, 1, 5, 0, 0, 2, 1, 3, 4, 1, 0, 0, 2, 2, 2, 1, 2, 1, 3, 4, 1, 5, 0, 0, 2, 2, 2, 1, 2, 1, 2, 1, 5, 0, 0, 2, 2, 2, 2, 1, 2, 1, 2, 1, 5, 0, 1, 2, 0, 1, 2, 1, 2, 1, 2, 1, 5, 0, 0, 2, 1, 3, 4, 1, 5, 0, 0, 2, 2, 2, 2, 1, 2, 1, 2, 1, 5, 0, 2, 1, 2, 1, 3, 4, 3, 1, 3, 5, 0, 0, 2, 2, 2, 2, 1, 1, 2, 1, 2, 1, 2, 2, 1, 3, 4, 5, 0, 1, 1, 5, 0, 0, 2, 2, 2, 2, 1, 2, 1, 2, 1, 5, 0, 0, 2, 1, 2, 1, 5, 0, 1, 2, 1, 2, 1, 5, 0, 0, 2, 1, 1, 2, 5, 0, 2, 2, 1, 1, 2, 2, 2, 0, 2, 2, 1, 2, 3, 4, 1, 2, 1, 5, 0, 0, 2, 2, 2, 1, 1, 1, 5, 0, 1, 0, 2, 1, 5, 0, 2, 1, 2, 1, 1, 5, 0, 0, 2, 2, 2, 2, 1, 2, 1, 2, 1, 5, 2, 2, 2, 1, 1, 2, 2, 1, 0, 5, 0, 2, 2, 2, 2, 1, 1, 1, 1, 5, 0, 2, 1, 2, 1, 2, 1, 0, 1, 2, 1, 1, 5, 0, 1, 1, 2, 0, 0, 0, 2, 1, 5, 0, 2, 1, 0, 0, 2, 2, 2, 1, 1, 5, 0, 2, 2, 2, 1, 2, 5, 0, 0, 2, 2, 2, 2, 1, 2, 1, 2, 1, 5, 0, 2, 2, 2, 2, 1, 1, 5, 0, 2, 1, 2, 1, 2, 1, 5, 2, 1, 2, 1, 0, 5, 0, 0, 2, 1, 2, 1, 2, 1, 3, 4, 5, 0, 0, 2, 2, 2, 1, 2, 1, 5, 0, 0, 2, 2, 2, 2, 1, 2, 1, 2, 1, 5, 0, 0, 1, 2, 2, 1, 2, 1, 5, 0, 0, 2, 1, 2, 1, 2, 1, 5, 0, 0, 2, 1, 3, 4, 2, 1, 2, 1, 3, 4, 5, 0, 0, 2, 2, 2, 1, 2, 1, 1, 2, 1, 1, 2, 5, 0, 2, 1, 2, 1, 2, 1, 5, 0, 0, 2, 1, 1, 2, 5, 0, 2, 1, 2, 1, 2, 1, 0, 5, 0, 1, 2, 1, 2, 2, 1, 2, 1, 5, 0, 0, 2, 1, 3, 4, 1, 2, 1, 2, 5, 0, 2, 1, 1, 1, 2, 5, 0, 1, 2, 1, 1, 5, 0, 0, 2, 2, 2, 1, 1, 1, 5, 0, 1, 1, 2, 1, 1, 2, 1, 2, 1, 3, 5, 0, 2, 1, 3, 4, 2, 1, 0, 2, 1, 5, 0, 2, 1, 2, 1, 2, 1, 2, 1, 0, 5, 0, 0, 1, 1, 2, 1, 2, 1, 5, 0, 0, 2, 2, 2, 1, 2, 1, 2, 3, 4, 1, 5, 1, 0, 0, 1, 1, 1, 2, 1, 2, 1, 1, 2, 1, 5, 0, 0, 2, 2, 2, 1, 1, 2, 1, 1, 1, 2, 1, 5, 0, 0, 2, 2, 2, 2, 1, 2, 1, 2, 1, 5, 0, 2, 1, 0, 2, 1, 0, 2, 2, 2, 1, 5, 0, 0, 2, 1, 2, 1, 2, 5, 0, 0, 2, 2, 2, 2, 1, 2, 1, 1, 5, 0, 0, 1, 2, 1, 5, 0, 2, 3, 4, 3, 4, 3, 4, 1, 2, 1, 2, 3, 4, 5, 0, 0, 1, 2, 0, 0, 1, 2, 2, 1, 1, 3, 4, 1, 1, 5, 0, 0, 1, 1, 1, 3, 4, 5, 1, 0, 0, 2, 2, 2, 2, 3, 4, 1, 2, 2, 2, 2, 5, 2, 2, 2, 0, 1, 2, 3, 0, 0, 1, 2, 3, 4, 1, 5, 0, 0, 2, 2, 2, 1, 2, 1, 3, 4, 5, 0, 2, 2, 0, 2, 2, 2, 1, 3, 4, 2, 1, 1, 3, 4, 2, 1, 5, 0, 0, 3, 2, 2, 2, 2, 1, 1, 5, 0, 0, 1, 2, 2, 2, 1, 1, 1, 5, 0, 0, 2, 1, 2, 1, 2, 1, 1, 0, 0, 2, 1, 2, 1, 2, 1, 2, 1, 5, 0, 0, 2, 2, 2, 1, 2, 1, 1, 2, 1, 5, 0, 0, 1, 2, 1, 2, 1, 5, 0, 2, 2, 2, 1, 2, 1, 5, 0, 1, 2, 1, 1, 5, 0, 1, 1, 1, 1, 0, 0, 2, 2, 2, 2, 1, 2, 1, 2, 1, 5, 0, 0, 2, 2, 2, 1, 1, 3, 4, 5, 0, 0, 1, 2, 2, 1, 2, 1, 2, 1, 5, 0, 2, 1, 1, 0, 1, 3, 4, 2, 1, 2, 1, 2, 1, 0, 2, 1, 2, 1, 2, 1, 2, 1, 5, 0, 2, 1, 1, 2, 5, 0, 2, 1, 2, 1, 2, 2, 1, 5, 0, 1, 2, 1, 2, 1, 2, 1, 2, 1, 2, 5, 0, 1, 0, 0, 2, 1, 5, 0, 0, 2, 1, 1, 2, 1, 2, 5, 0, 0, 2, 2, 2, 2, 1, 3, 4, 1, 2, 1, 2, 1, 5, 0, 2, 1, 2, 1, 5, 0, 2, 2, 1, 1, 2, 2, 1, 5, 0, 0, 2, 1, 1, 2, 1, 5, 0, 0, 1, 2, 1, 3, 4, 1, 2, 1, 2, 1, 2, 1, 0, 0, 2, 2, 1, 1, 2, 1, 0, 0, 2, 1, 2, 1, 5, 0, 2, 2, 2, 2, 1, 2, 1, 2, 1, 5, 0, 2, 1, 2, 1, 2, 1, 3, 4, 1, 2, 5, 0, 2, 1, 2, 1, 2, 2, 5, 0, 0, 2, 1, 2, 1, 5, 0, 0, 2, 1, 2, 1, 3, 4, 1, 5, 0, 0, 2, 2, 2, 1, 1, 2, 5, 0, 0, 2, 2, 2, 3, 4, 1, 1, 1, 0, 2, 2, 2, 2, 1, 2, 1, 2, 1, 5, 0, 0, 2, 1, 2, 1, 5, 0, 1, 2, 2, 1, 5, 0, 2, 1, 1, 1, 5, 0, 2, 3, 1, 4, 5, 0, 2, 2, 2, 1, 2, 1, 2, 1, 2, 1, 0, 2, 2, 1, 1, 2, 1, 5, 0, 2, 2, 0, 2, 1, 2, 1, 2, 1, 2, 1, 3, 4, 5, 0, 0, 3, 4, 2, 1, 2, 1, 2, 1, 5, 0, 0, 2, 2, 2, 2, 1, 1, 1, 1, 5, 0, 2, 1, 2, 1, 1, 2, 2, 1, 5, 0, 0, 2, 1, 2, 1, 2, 1, 5, 0, 0, 1, 2, 2, 1, 5, 0, 2, 2, 2, 1, 1, 3, 4, 1, 1, 0, 2, 0, 0, 2, 2, 2, 1, 2, 1, 5, 2, 1, 0, 2, 1, 5, 0, 2, 1, 2, 3, 0, 2, 5, 0, 0, 2, 1, 2, 1, 2, 1, 5, 0, 2, 2, 2, 0, 2, 1, 2, 1, 2, 1, 5, 0, 2, 1, 1, 3, 4, 1, 5, 0, 0, 2, 1, 2, 1, 2, 1, 5, 0, 0, 2, 2, 1, 2, 2, 1, 2, 1, 2, 1, 5, 0, 0, 1, 1, 2, 1, 5, 0, 0, 2, 2, 2, 1, 1, 1, 5, 0, 0, 2, 1, 2, 1, 5, 0, 0, 2, 2, 2, 1, 2, 3, 4, 2, 1, 1, 2, 3, 1, 4, 5, 0, 0, 1, 2, 1, 2, 1, 5, 0, 0, 2, 2, 2, 2, 1, 2, 1, 2, 1, 5, 0, 0, 2, 2, 2, 2, 1, 1, 2, 2, 1, 5, 0, 2, 2, 2, 2, 1, 1, 2, 2, 1, 0, 5, 0, 0, 2, 2, 1, 1, 3, 1, 4, 1, 5, 0, 2, 2, 2, 2, 1, 2, 1, 2, 1, 5, 0, 0, 2, 1, 2, 1, 2, 1, 5, 0, 2, 2, 2, 1, 1, 0, 0, 2, 1, 2, 1, 3, 1, 5, 0, 0, 2, 1, 2, 1, 2, 1, 5, 0, 2, 2, 2, 2, 3, 4, 1, 1, 2, 1, 5, 0, 0, 2, 1, 2, 1, 5, 0, 2, 1, 5, 0, 3, 4, 0, 1, 1, 2, 1, 2, 5, 0, 2, 2, 1, 2, 1, 2, 1, 2, 1, 5, 3, 0, 2, 1, 0, 0, 2, 2, 2, 2, 1, 2, 1, 2, 1, 5, 0, 0, 2, 1, 2, 1, 5, 0, 0, 2, 2, 1, 1, 5, 0, 2, 2, 2, 0, 1, 1, 1, 5, 0, 0, 2, 1, 2, 1, 2, 1, 5, 0, 0, 2, 2, 2, 2, 1, 2, 1, 2, 1, 2, 1, 5, 3, 0, 2, 1, 1, 2, 5, 0, 1, 2, 1, 1, 0, 0, 2, 2, 2, 1, 1, 1, 5, 0, 0, 2, 1, 3, 4, 3, 4, 2, 1, 5, 0, 2, 1, 1, 2, 5, 0, 2, 1, 1, 2, 1, 5, 0, 0, 2, 1, 2, 1, 3, 1, 5, 0, 2, 2, 1, 1, 2, 1, 5, 0, 1, 2, 1, 2, 1, 5, 0, 2, 1, 5, 0, 0, 2, 2, 2, 1, 2, 2, 1, 2, 1, 5, 0, 2, 2, 2, 1, 2, 1, 5, 0, 2, 1, 1, 5, 0, 0, 2, 2, 2, 2, 1, 1, 2, 1, 1, 3, 4, 0, 0, 2, 2, 2, 1, 5, 1, 0, 2, 2, 2, 2, 1, 2, 1, 1, 2, 5, 0, 2, 1, 0, 2, 1, 2, 0, 2, 1, 3, 4, 2, 2, 1, 2, 3, 4, 5, 0, 2, 2, 2, 1, 1, 1, 0, 2, 2, 2, 1, 2, 1, 5, 0, 0, 2, 2, 2, 1, 2, 1, 3, 1, 2, 1, 0, 2, 1, 5, 0, 0, 2, 2, 2, 1, 1, 1, 5, 0, 2, 1, 2, 1, 0, 0, 0, 2, 2, 2, 1, 2, 1, 2, 1, 5, 0, 2, 2, 1, 2, 1, 2, 1, 0, 0, 2, 2, 2, 1, 2, 2, 1, 1, 2, 5, 0, 2, 2, 2, 2, 1, 2, 1, 1, 5, 0, 0, 1, 5, 0, 2, 2, 2, 2, 1, 2, 1, 2, 1, 1, 5, 0, 0, 2, 1, 2, 1, 5, 2, 1, 2, 1, 1, 0, 2, 1, 0, 2, 2, 1, 2, 1, 0, 0, 2, 1, 1, 2, 3, 5, 0, 2, 1, 2, 1, 5, 0, 0, 2, 2, 2, 1, 1, 1, 3, 5, 0, 0, 2, 2, 2, 2, 1, 2, 1, 2, 1, 3, 1, 5, 0, 2, 2, 2, 1, 2, 1, 3, 4, 5, 0, 1, 2, 1, 2, 5, 0, 0, 0, 2, 1, 2, 1, 1, 2, 5, 0, 0, 2, 2, 2, 2, 1, 2, 1, 2, 1, 5, 0, 0, 1, 2, 2, 3, 4, 2, 1, 5, 0, 0, 3, 4, 1, 2, 2, 1, 3, 1, 4, 5, 0, 0, 2, 2, 2, 2, 1, 2, 1, 2, 1, 1, 2, 5, 0, 0, 2, 1, 5, 0, 2, 1, 2, 1, 1, 2, 1, 5, 0, 1, 1, 1, 1, 5, 2, 2, 2, 5, 0, 0, 1, 2, 2, 2, 2, 2, 2, 1, 1, 2, 1, 1, 2, 1, 1, 3, 1, 4, 4, 1, 4, 5, 0, 2, 1, 2, 1, 2, 1, 0, 5, 0, 1, 1, 2, 2, 1, 1, 2, 5, 0, 0, 2, 1, 5, 0, 0, 2, 2, 2, 1, 1, 1, 5, 0, 1, 3, 1, 3, 1, 0, 2, 2, 2, 1, 1, 2, 1, 2, 2, 1, 5, 0, 2, 1, 5, 0, 2, 2, 1, 2, 1, 5, 0, 3, 4, 2, 1, 2, 1, 0, 5, 0, 1, 2, 1, 5, 0, 2, 2, 2, 1, 1, 1, 0, 5, 0, 0, 2, 1, 1, 3, 1, 5, 0, 0, 2, 2, 2, 1, 1, 1, 5, 0, 0, 2, 1, 2, 1, 3, 4, 1, 5, 0, 2, 2, 2, 2, 1, 5, 0, 0, 1, 2, 2, 1, 1, 2, 1, 5, 0, 0, 1, 2, 1, 3, 4, 1, 2, 1, 1, 2, 5, 0, 0, 3, 1, 3, 1, 2, 1, 2, 1, 5, 0, 2, 1, 2, 1, 1, 2, 5, 0, 0, 1, 1, 2, 1, 2, 0, 5, 0, 2, 2, 2, 2, 5, 0, 2, 1, 1, 2, 1, 0, 5, 0, 1, 1, 1, 1, 0, 0, 2, 1, 1, 2, 2, 3, 2, 1, 2, 1, 5, 1, 1, 1, 0, 2, 2, 1, 3, 4, 5, 0, 0, 2, 1, 0, 1, 2, 1, 2, 1, 2, 1, 5, 0, 0, 2, 2, 2, 1, 1, 1, 5, 0, 0, 2, 1, 2, 1, 2, 1, 3, 4, 2, 1, 3, 1, 5, 0, 1, 2, 2, 1, 2, 1, 3, 1, 5, 0, 0, 2, 2, 2, 2, 1, 2, 1, 2, 1, 5, 0, 0, 2, 2, 1, 2, 1, 2, 1, 2, 1, 2, 3, 4, 5, 0, 0, 2, 2, 2, 1, 2, 1, 3, 4, 1, 5, 0, 2, 2, 1, 2, 2, 0, 1, 2, 2, 1, 3, 1, 3, 5, 0, 2, 2, 2, 0, 2, 1, 2, 1, 2, 1, 5, 0, 0, 1, 2, 1, 2, 1, 2, 1, 5, 0, 2, 2, 2, 0, 1, 2, 2, 1, 3, 4, 2, 1, 5, 0, 2, 2, 2, 2, 1, 2, 1, 2, 1, 5, 0, 2, 2, 2, 1, 2, 1, 5, 0, 0, 2, 2, 2, 1, 2, 1, 3, 1, 4, 5, 0, 3, 4, 1, 5, 0, 2, 2, 2, 3, 4, 3, 4, 2, 1, 2, 3, 0, 0, 1, 2, 1, 2, 1, 5, 0, 0, 2, 2, 2, 1, 2, 1, 2, 2, 1, 3, 4, 5, 0, 2, 3, 4, 2, 1, 2, 1, 5, 0, 2, 2, 2, 2, 1, 2, 1, 1, 2, 1, 2, 1, 1, 5, 0, 0, 2, 2, 2, 2, 1, 2, 1, 2, 1, 5, 0, 2, 2, 2, 2, 1, 2, 1, 0, 0, 2, 2, 2, 2, 1, 2, 1, 2, 1, 5, 0, 2, 1, 5, 0, 1, 0, 1, 0, 2, 2, 0, 2, 1, 2, 1, 3, 5, 0, 0, 2, 1, 2, 1, 2, 1, 5, 0, 0, 2, 1, 2, 1, 5, 0, 0, 2, 2, 2, 1, 2, 1, 3, 4, 1, 5, 0, 0, 1, 1, 2, 1, 1, 3, 4, 2, 1, 2, 1, 5, 0, 1, 1, 2, 1, 2, 1, 2, 1, 5, 0, 0, 2, 2, 2, 2, 1, 2, 1, 2, 1, 5, 0, 2, 1, 2, 1, 5, 0, 2, 3, 4, 1, 5, 0, 2, 1, 2, 5, 0, 0, 2, 1, 2, 1, 2, 1, 5, 0, 1, 1, 2, 1, 0, 0, 2, 1, 2, 1, 5, 0, 3, 0, 2, 2, 1, 2, 1, 2, 1, 3, 1, 5, 0, 2, 1, 2, 1, 2, 1, 0, 2, 2, 2, 2, 1, 2, 2, 1, 5, 0, 2, 2, 2, 2, 1, 2, 1, 2, 1, 0, 5, 0, 2, 1, 1, 2, 3, 4, 5, 0, 2, 1, 2, 1, 2, 1, 2, 1, 2, 1, 2, 1, 5, 0, 2, 1, 1, 1, 2, 3, 4, 2, 1, 5, 0, 0, 2, 2, 2, 1, 2, 2, 1, 5, 0, 2, 1, 2, 1, 2, 1, 0, 5, 0, 0, 2, 1, 0, 0, 3, 4, 1, 1, 2, 1, 1, 2, 2, 1, 3, 4, 0, 2, 2, 2, 2, 1, 2, 1, 2, 1, 5, 0, 2, 1, 5, 0, 0, 2, 1, 1, 2, 5, 0, 2, 1, 2, 1, 1, 2, 5, 0, 2, 1, 2, 2, 1, 5, 0, 1, 2, 1, 2, 1, 2, 1, 0, 5, 0, 1, 2, 1, 3, 4, 1, 5, 0, 2, 1, 2, 1, 5, 0, 0, 1, 3, 1, 4, 2, 1, 5, 0, 0, 2, 1, 2, 0, 2, 1, 3, 1, 1, 5, 0, 0, 2, 1, 2, 1, 2, 3, 1, 2, 2, 0, 1, 1, 1, 1, 5, 0, 2, 2, 2, 1, 1, 1, 5, 0, 2, 1, 2, 1, 0, 2, 2, 2, 0, 2, 1, 2, 1, 2, 1, 5, 0, 1, 0, 1, 5, 0, 1, 1, 2, 0, 5, 0, 0, 2, 1, 2, 1, 2, 1, 3, 1, 4, 1, 5, 0, 0, 2, 2, 2, 3, 1, 4, 2, 1, 2, 1, 2, 1, 5, 0, 0, 2, 2, 1, 3, 4, 2, 1, 2, 3, 4, 2, 1, 5, 0, 1, 2, 1, 2, 1, 1, 2, 1, 0, 0, 2, 2, 2, 2, 1, 2, 1, 2, 1, 5, 0, 0, 2, 2, 2, 1, 2, 1, 3, 4, 5, 2, 1, 1, 2, 1, 0, 0, 2, 2, 2, 1, 1, 1, 5, 0, 2, 2, 1, 2, 1, 2, 2, 1, 5, 0, 0, 2, 2, 2, 2, 1, 2, 1, 2, 1, 5, 0, 2, 1, 3, 4, 1, 1, 5, 0, 0, 2, 2, 2, 1, 2, 1, 5, 0, 0, 2, 2, 2, 1, 1, 1, 5, 0, 0, 2, 2, 2, 2, 1, 2, 1, 3, 4, 1, 2, 1, 3, 4, 5, 0, 2, 1, 2, 2, 2, 1, 2, 1, 2, 1, 1, 1, 2, 1, 5, 0, 1, 1, 0, 2, 2, 2, 1, 2, 1, 1, 2, 1, 5, 0, 0, 2, 1, 2, 1, 2, 1, 1, 2, 2, 1, 2, 1, 2, 1, 5, 0, 0, 2, 2, 3, 1, 3, 2, 1, 2, 1, 5, 0, 0, 2, 2, 1, 1, 5, 0, 0, 2, 2, 1, 2, 1, 5, 0, 1, 2, 1, 2, 1, 2, 1, 2, 1, 5, 0, 1, 2, 2, 1, 2, 1, 1, 2, 1, 1, 1, 2, 1, 1, 2, 1, 5, 1, 0, 2, 1, 3, 4, 1, 3, 4, 1, 3, 4, 2, 0, 1, 5, 0, 0, 2, 1, 1, 1, 2, 5, 0, 2, 1, 1, 5, 0, 0, 2, 1, 3, 4, 1, 2, 1, 5, 0, 0, 2, 1, 1, 2, 1, 3, 1, 4, 5, 0, 2, 1, 1, 0, 0, 2, 2, 1, 1, 1, 5, 0, 0, 2, 2, 2, 2, 1, 2, 1, 3, 4, 2, 1, 5, 0, 0, 2, 2, 1, 5, 0, 0, 1, 2, 2, 2, 1, 1, 2, 1, 2, 3, 4, 1, 2, 1, 2, 1, 2, 1, 5, 0, 0, 1, 2, 2, 1, 2, 1, 5, 0, 1, 2, 1, 2, 1, 2, 1, 5, 0, 1, 1, 0, 5, 0, 2, 2, 2, 1, 1, 1, 5, 0, 1, 0, 1, 1, 1, 1, 0, 1, 2, 2, 2, 2, 1, 1, 1, 1, 5, 0, 0, 2, 2, 2, 1, 1, 0, 0, 2, 2, 1, 3, 4, 2, 1, 2, 1, 0, 2, 2, 2, 1, 2, 1, 5, 0, 1, 2, 1, 2, 1, 0, 0, 2, 2, 2, 2, 1, 2, 1, 3, 1, 4, 5, 0, 0, 2, 1, 2, 1, 5, 0, 0, 2, 2, 2, 2, 1, 2, 1, 2, 1, 3, 4, 1, 5, 0, 0, 1, 0, 2, 2, 2, 1, 1, 1, 1, 0, 0, 2, 2, 2, 2, 1, 2, 1, 2, 1, 5, 0, 0, 2, 2, 1, 5, 0, 0, 2, 2, 2, 1, 1, 2, 5, 0, 1, 2, 2, 2, 2, 1, 2, 1, 2, 1, 5, 0, 0, 2, 1, 3, 1, 2, 1, 2, 1, 5, 0, 2, 2, 2, 1, 2, 1, 1, 2, 1, 5, 0, 0, 2, 2, 2, 1, 2, 1, 1, 2, 2, 1, 5, 0, 0, 2, 2, 3, 2, 1, 2, 1, 3, 1, 5, 0, 0, 2, 2, 2, 2, 1, 2, 1, 2, 1, 3, 4, 5, 0, 0, 1, 2, 3, 4, 1, 5, 0, 0, 2, 1, 2, 1, 5, 0, 0, 2, 1, 2, 1, 2, 1, 5, 0, 2, 1, 2, 1, 2, 1, 5, 0, 0, 2, 2, 2, 1, 2, 1, 3, 4, 5, 0, 2, 2, 2, 1, 2, 1, 3, 4, 5, 0, 0, 2, 2, 2, 1, 1, 1, 5, 1, 0, 0, 0, 2, 1, 3, 4, 5, 0, 0, 1, 2, 1, 2, 3, 4, 1, 2, 1, 5, 0, 0, 1, 2, 2, 1, 5, 0, 0, 2, 2, 1, 1, 5, 0, 0, 2, 1, 2, 1, 2, 1, 3, 1, 5, 0, 1, 2, 2, 1, 2, 1, 5, 0, 2, 2, 2, 1, 1, 1, 5, 0, 0, 2, 2, 2, 2, 1, 2, 1, 2, 1, 5, 0, 0, 3, 4, 2, 1, 1, 2, 3, 4, 5, 0, 1, 0, 2, 1, 2, 1, 1, 2, 1, 5, 0, 2, 2, 2, 3, 5, 0, 2, 1, 2, 1, 0, 0, 2, 2, 3, 4, 2, 1, 5, 0, 0, 1, 2, 1, 5, 0, 1, 2, 2, 1, 2, 1, 0, 5, 0, 1, 1, 2, 1, 2, 1, 5, 0, 2, 2, 1, 2, 1, 2, 1, 5, 0, 0, 2, 1, 2, 1, 5, 0, 0, 2, 2, 2, 1, 2, 1, 1, 2, 1, 1, 2, 1, 5, 0, 0, 2, 2, 2, 1, 2, 1, 1, 1, 1, 5, 0, 0, 2, 1, 2, 1, 5, 3, 4, 0, 0, 1, 2, 3, 1, 4, 1, 2, 1, 5, 0, 1, 1, 1, 2, 1, 5, 0, 0, 2, 1, 2, 2, 1, 3, 4, 1, 1, 2, 1, 3, 4, 3, 4, 1, 2, 1, 5, 0, 2, 2, 2, 1, 2, 2, 1, 2, 3, 4, 1, 5, 0, 2, 1, 3, 1, 5, 0, 0, 2, 1, 2, 1, 2, 1, 5, 0, 0, 2, 2, 2, 1, 2, 1, 1, 2, 2, 1, 3, 1, 5, 0, 0, 2, 1, 2, 1, 3, 4, 2, 1, 2, 1, 5, 0, 0, 2, 1, 2, 1, 3, 4, 5, 0, 1, 5, 0, 2, 1, 2, 1, 2, 1, 5, 0, 0, 2, 2, 1, 1, 5, 0, 0, 2, 1, 3, 1, 5, 0, 2, 2, 2, 0, 1, 2, 1, 2, 1, 2, 5, 0, 2, 2, 1, 3, 4, 5, 0, 0, 1, 1, 2, 1, 0, 2, 1, 2, 1, 5, 0, 0, 2, 2, 2, 1, 2, 1, 5, 0, 0, 1, 1, 1, 5, 0, 0, 2, 2, 2, 1, 1, 2, 3, 1, 4, 1, 5, 0, 0, 2, 2, 2, 1, 2, 1, 2, 1, 2, 5, 3, 4, 1, 0, 0, 2, 1, 1, 2, 5, 0, 0, 1, 2, 2, 1, 2, 1, 5, 0, 1, 2, 1, 2, 2, 3, 4, 5, 0, 1, 2, 2, 2, 2, 1, 2, 1, 2, 1, 5, 0, 0, 2, 1, 2, 1, 2, 2, 5, 0, 0, 2, 2, 2, 1, 1, 1, 5, 0, 0, 2, 2, 2, 1, 2, 1, 5, 0, 0, 2, 2, 2, 1, 1, 1, 2, 5, 0, 2, 2, 1, 2, 1, 2, 1, 2, 0, 2, 2, 2, 1, 1, 1, 5, 0, 0, 2, 2, 2, 1, 1, 5, 0, 1, 2, 1, 2, 2, 1, 5, 0, 0, 0, 1, 2, 2, 1, 2, 1, 5, 0, 2, 2, 2, 2, 2, 1, 2, 1, 2, 1, 0, 0, 2, 2, 2, 1, 1, 1, 5, 0, 0, 2, 2, 1, 2, 1, 2, 1, 3, 4, 3, 4, 5, 0, 2, 1, 2, 1, 5, 2, 1, 1, 1, 1, 0, 0, 2, 2, 2, 2, 1, 2, 1, 2, 1, 5, 0, 0, 2, 1, 2, 1, 2, 1, 5, 0, 0, 2, 1, 2, 1, 2, 1, 5, 0, 3, 4, 1, 2, 2, 1, 3, 1, 5, 0, 1, 1, 2, 5, 0, 0, 2, 1, 2, 1, 5, 0, 0, 2, 2, 2, 2, 1, 2, 1, 2, 1, 5, 0, 2, 1, 2, 1, 2, 1, 0, 5, 0, 1, 3, 1, 5, 0, 0, 2, 2, 2, 1, 1, 1, 5, 0, 3, 0, 2, 1, 2, 1, 2, 1, 5, 0, 3, 4, 1, 0, 5, 0, 2, 1, 2, 1, 2, 1, 2, 1, 1, 5, 0, 0, 2, 2, 2, 1, 1, 1, 5, 0, 2, 1, 0, 2, 0, 2, 1, 1, 3, 1, 4, 5, 0, 0, 2, 2, 1, 5, 0, 0, 2, 1, 1, 2, 3, 5, 0, 2, 2, 2, 1, 2, 2, 2, 1, 2, 2]\n"
          ]
        }
      ]
    },
    {
      "cell_type": "code",
      "source": [
        "print(len(samples))"
      ],
      "metadata": {
        "colab": {
          "base_uri": "https://localhost:8080/"
        },
        "id": "OYQfE4SQz2Af",
        "outputId": "0662395d-072e-4a9f-da8f-26a4d3091452"
      },
      "id": "OYQfE4SQz2Af",
      "execution_count": 74,
      "outputs": [
        {
          "output_type": "stream",
          "name": "stdout",
          "text": [
            "22875\n"
          ]
        }
      ]
    },
    {
      "cell_type": "code",
      "source": [
        "print(len(labels))"
      ],
      "metadata": {
        "colab": {
          "base_uri": "https://localhost:8080/"
        },
        "id": "maLNnF0A0Cir",
        "outputId": "7cafaae6-65c1-4985-a061-4fd9d5e1c61a"
      },
      "id": "maLNnF0A0Cir",
      "execution_count": 75,
      "outputs": [
        {
          "output_type": "stream",
          "name": "stdout",
          "text": [
            "22875\n"
          ]
        }
      ]
    },
    {
      "cell_type": "code",
      "source": [
        "print(class_dict)"
      ],
      "metadata": {
        "colab": {
          "base_uri": "https://localhost:8080/"
        },
        "id": "dDGlH0wmZbvj",
        "outputId": "90db7ec2-de6e-4c5f-c09c-1651d411c1f9"
      },
      "id": "dDGlH0wmZbvj",
      "execution_count": 76,
      "outputs": [
        {
          "output_type": "stream",
          "name": "stdout",
          "text": [
            "{'position': 0, 'evidence': 1, 'claim': 2, 'counterclaim': 3, 'rebuttal': 4, 'concluding statement': 5, 'lead': 0}\n"
          ]
        }
      ]
    },
    {
      "cell_type": "code",
      "source": [
        "class_names = []\n",
        "for key in class_dict:\n",
        "  print(key)\n",
        "  class_names.append(key)"
      ],
      "metadata": {
        "colab": {
          "base_uri": "https://localhost:8080/"
        },
        "id": "mVFJFQrO0Q6a",
        "outputId": "87ebd51c-384e-4b56-911b-cd7446205840"
      },
      "id": "mVFJFQrO0Q6a",
      "execution_count": 79,
      "outputs": [
        {
          "output_type": "stream",
          "name": "stdout",
          "text": [
            "position\n",
            "evidence\n",
            "claim\n",
            "counterclaim\n",
            "rebuttal\n",
            "concluding statement\n",
            "lead\n"
          ]
        }
      ]
    },
    {
      "cell_type": "code",
      "source": [
        "print(class_names)"
      ],
      "metadata": {
        "colab": {
          "base_uri": "https://localhost:8080/"
        },
        "id": "LVJnqYqZ0nQr",
        "outputId": "d4fb95ff-c319-459d-b297-4bbfee992142"
      },
      "id": "LVJnqYqZ0nQr",
      "execution_count": 80,
      "outputs": [
        {
          "output_type": "stream",
          "name": "stdout",
          "text": [
            "['position', 'evidence', 'claim', 'counterclaim', 'rebuttal', 'concluding statement', 'lead']\n"
          ]
        }
      ]
    },
    {
      "cell_type": "code",
      "source": [
        "#lead_df = train_df[train_df['discourse_type']=='Lead']"
      ],
      "metadata": {
        "id": "AETzVzfHGUnV"
      },
      "id": "AETzVzfHGUnV",
      "execution_count": null,
      "outputs": []
    },
    {
      "cell_type": "code",
      "source": [
        "print(lead_df)"
      ],
      "metadata": {
        "colab": {
          "base_uri": "https://localhost:8080/"
        },
        "id": "2jEWnUP0Gu-r",
        "outputId": "f3dd11f6-60af-4ba1-8922-dd5e1e4a29a8"
      },
      "id": "2jEWnUP0Gu-r",
      "execution_count": null,
      "outputs": [
        {
          "output_type": "stream",
          "name": "stdout",
          "text": [
            "                  id  ...                                   predictionstring\n",
            "0       423A1CA112E2  ...  1 2 3 4 5 6 7 8 9 10 11 12 13 14 15 16 17 18 1...\n",
            "14      6B4F7A0165B9  ...  5 6 7 8 9 10 11 12 13 14 15 16 17 18 19 20 21 ...\n",
            "21      E05C7F5C1156  ...  0 1 2 3 4 5 6 7 8 9 10 11 12 13 14 15 16 17 18...\n",
            "33      50B3435E475B  ...  3 4 5 6 7 8 9 10 11 12 13 14 15 16 17 18 19 20...\n",
            "42      DBF7EB6A9E02  ...  9 10 11 12 13 14 15 16 17 18 19 20 21 22 23 24...\n",
            "...              ...  ...                                                ...\n",
            "144240  8F4B595CF9E7  ...  0 1 2 3 4 5 6 7 8 9 10 11 12 13 14 15 16 17 18...\n",
            "144252  6B5809C83978  ...                       0 1 2 3 4 5 6 7 8 9 10 11 12\n",
            "144261  408A7D3D2EEC  ...  0 1 2 3 4 5 6 7 8 9 10 11 12 13 14 15 16 17 18...\n",
            "144270  AFEC37C2D43F  ...  0 1 2 3 4 5 6 7 8 9 10 11 12 13 14 15 16 17 18...\n",
            "144284  4C471936CD75  ...  0 1 2 3 4 5 6 7 8 9 10 11 12 13 14 15 16 17 18...\n",
            "\n",
            "[9305 rows x 8 columns]\n"
          ]
        }
      ]
    },
    {
      "cell_type": "code",
      "source": [
        "lead_df.shape"
      ],
      "metadata": {
        "colab": {
          "base_uri": "https://localhost:8080/"
        },
        "id": "MmDFIf9-Gx8f",
        "outputId": "c8bbffc2-bd19-484d-873c-bd7cc584055d"
      },
      "id": "MmDFIf9-Gx8f",
      "execution_count": null,
      "outputs": [
        {
          "output_type": "execute_result",
          "data": {
            "text/plain": [
              "(9305, 8)"
            ]
          },
          "metadata": {},
          "execution_count": 65
        }
      ]
    },
    {
      "cell_type": "code",
      "source": [
        "sample = lead_df.iloc[0,:]"
      ],
      "metadata": {
        "id": "YZp-Jd8vG1t8"
      },
      "id": "YZp-Jd8vG1t8",
      "execution_count": null,
      "outputs": []
    },
    {
      "cell_type": "code",
      "source": [
        "print(sample)"
      ],
      "metadata": {
        "colab": {
          "base_uri": "https://localhost:8080/"
        },
        "id": "reDKeVAwHLHX",
        "outputId": "6779102b-c957-4632-d9f9-4e6059baf610"
      },
      "id": "reDKeVAwHLHX",
      "execution_count": null,
      "outputs": [
        {
          "output_type": "stream",
          "name": "stdout",
          "text": [
            "id                                                         423A1CA112E2\n",
            "discourse_id                                            1622627660524.0\n",
            "discourse_start                                                     8.0\n",
            "discourse_end                                                     229.0\n",
            "discourse_text        Modern humans today are always on their phone....\n",
            "discourse_type                                                     Lead\n",
            "discourse_type_num                                               Lead 1\n",
            "predictionstring      1 2 3 4 5 6 7 8 9 10 11 12 13 14 15 16 17 18 1...\n",
            "Name: 0, dtype: object\n"
          ]
        }
      ]
    },
    {
      "cell_type": "code",
      "source": [
        "lead_length = len(lead_df)"
      ],
      "metadata": {
        "id": "D_GsGrPeHQYI"
      },
      "id": "D_GsGrPeHQYI",
      "execution_count": null,
      "outputs": []
    },
    {
      "cell_type": "code",
      "source": [
        "print(lead_length)"
      ],
      "metadata": {
        "colab": {
          "base_uri": "https://localhost:8080/"
        },
        "id": "0JMWXnVaHWmE",
        "outputId": "38651bee-a993-4544-c3e4-2a656ee00e8f"
      },
      "id": "0JMWXnVaHWmE",
      "execution_count": null,
      "outputs": [
        {
          "output_type": "stream",
          "name": "stdout",
          "text": [
            "9305\n"
          ]
        }
      ]
    },
    {
      "cell_type": "code",
      "source": [
        "# This is the example\n",
        "# samples = []\n",
        "labels = []\n",
        "class_names = []\n",
        "class_index = 0\n",
        "for dirname in sorted(os.listdir(data_dir)):\n",
        "    class_names.append(dirname)\n",
        "    dirpath = data_dir / dirname\n",
        "    fnames = os.listdir(dirpath)\n",
        "    print(\"Processing %s, %d files found\" % (dirname, len(fnames)))\n",
        "    for fname in fnames:\n",
        "        fpath = dirpath / fname\n",
        "        f = open(fpath, encoding=\"latin-1\")\n",
        "        content = f.read()\n",
        "        lines = content.split(\"\\n\")\n",
        "        lines = lines[10:]\n",
        "        content = \"\\n\".join(lines)\n",
        "        samples.append(content)\n",
        "        labels.append(class_index)\n",
        "    class_index += 1\n",
        "\n",
        "print(\"Classes:\", class_names)\n",
        "print(\"Number of samples:\", len(samples))"
      ],
      "metadata": {
        "colab": {
          "base_uri": "https://localhost:8080/",
          "height": 234
        },
        "id": "PIfXXDIG5DLF",
        "outputId": "d66bd50f-41ae-4ea7-b789-1be844804f3e"
      },
      "id": "PIfXXDIG5DLF",
      "execution_count": null,
      "outputs": [
        {
          "output_type": "error",
          "ename": "NameError",
          "evalue": "ignored",
          "traceback": [
            "\u001b[0;31m---------------------------------------------------------------------------\u001b[0m",
            "\u001b[0;31mNameError\u001b[0m                                 Traceback (most recent call last)",
            "\u001b[0;32m<ipython-input-56-f75001623a19>\u001b[0m in \u001b[0;36m<module>\u001b[0;34m()\u001b[0m\n\u001b[1;32m      3\u001b[0m \u001b[0mclass_names\u001b[0m \u001b[0;34m=\u001b[0m \u001b[0;34m[\u001b[0m\u001b[0;34m]\u001b[0m\u001b[0;34m\u001b[0m\u001b[0;34m\u001b[0m\u001b[0m\n\u001b[1;32m      4\u001b[0m \u001b[0mclass_index\u001b[0m \u001b[0;34m=\u001b[0m \u001b[0;36m0\u001b[0m\u001b[0;34m\u001b[0m\u001b[0;34m\u001b[0m\u001b[0m\n\u001b[0;32m----> 5\u001b[0;31m \u001b[0;32mfor\u001b[0m \u001b[0mdirname\u001b[0m \u001b[0;32min\u001b[0m \u001b[0msorted\u001b[0m\u001b[0;34m(\u001b[0m\u001b[0mos\u001b[0m\u001b[0;34m.\u001b[0m\u001b[0mlistdir\u001b[0m\u001b[0;34m(\u001b[0m\u001b[0mdata_dir\u001b[0m\u001b[0;34m)\u001b[0m\u001b[0;34m)\u001b[0m\u001b[0;34m:\u001b[0m\u001b[0;34m\u001b[0m\u001b[0;34m\u001b[0m\u001b[0m\n\u001b[0m\u001b[1;32m      6\u001b[0m     \u001b[0mclass_names\u001b[0m\u001b[0;34m.\u001b[0m\u001b[0mappend\u001b[0m\u001b[0;34m(\u001b[0m\u001b[0mdirname\u001b[0m\u001b[0;34m)\u001b[0m\u001b[0;34m\u001b[0m\u001b[0;34m\u001b[0m\u001b[0m\n\u001b[1;32m      7\u001b[0m     \u001b[0mdirpath\u001b[0m \u001b[0;34m=\u001b[0m \u001b[0mdata_dir\u001b[0m \u001b[0;34m/\u001b[0m \u001b[0mdirname\u001b[0m\u001b[0;34m\u001b[0m\u001b[0;34m\u001b[0m\u001b[0m\n",
            "\u001b[0;31mNameError\u001b[0m: name 'data_dir' is not defined"
          ]
        }
      ]
    },
    {
      "cell_type": "code",
      "source": [
        "essays = []\n",
        "leads = []\n",
        "train_samples = []\n",
        "lead_length = 200\n",
        "class_names = []\n",
        "class_index = 0\n",
        "for i in range(0,lead_length-1):\n",
        "  essay_id = lead_df.iloc[i,0]\n",
        "  discourse_id = lead_df.iloc[i,1]\n",
        "  discourse_start = lead_df.iloc[i,2]\n",
        "  discourse_end = lead_df.iloc[i,3]\n",
        "  try:\n",
        "      essay = retrieveEssay(essay_id)\n",
        "      discourse = retrieveDiscourse(essay_id,discourse_id,discourse_start,discourse_end)\n",
        "      essays.append(essay)\n",
        "      train_samples.append(essay)\n",
        "      leads.append(discourse)\n",
        "      class_names.append(essay_id)\n",
        "      class_index += 1\n",
        "  except:\n",
        "      print(essay_id)"
      ],
      "metadata": {
        "colab": {
          "base_uri": "https://localhost:8080/"
        },
        "id": "n5rH3VAQHcGL",
        "outputId": "9e418b79-bb25-4f93-b2db-a627bb8f7ac5"
      },
      "id": "n5rH3VAQHcGL",
      "execution_count": null,
      "outputs": [
        {
          "output_type": "stream",
          "name": "stdout",
          "text": [
            "D0CBBD43827C\n",
            "4B30291A725D\n",
            "D14A82EE41BF\n",
            "743904BAD7E5\n",
            "D5D31918A943\n",
            "006FCE4404E3\n",
            "75A181667B98\n",
            "9CDD382C7FD0\n",
            "E7C2FE6B860D\n",
            "8FE8D9C4D122\n",
            "E3C8416D1A46\n",
            "F83073754B6E\n",
            "C2842810D3F4\n",
            "0027FC00C35B\n",
            "2C66292169DC\n",
            "B0A19F407570\n"
          ]
        }
      ]
    },
    {
      "cell_type": "code",
      "source": [
        "essays_test = []\n",
        "leads_test = []\n",
        "test_samples = []\n",
        "test_names = []\n",
        "test_index = 0\n",
        "for i in range(220,240):\n",
        "  essay_id = lead_df.iloc[i,0]\n",
        "  discourse_id = lead_df.iloc[i,1]\n",
        "  discourse_start = lead_df.iloc[i,2]\n",
        "  discourse_end = lead_df.iloc[i,3]\n",
        "  try:\n",
        "      essay = retrieveEssay(essay_id)\n",
        "      discourse = retrieveDiscourse(essay_id,discourse_id,discourse_start,discourse_end)\n",
        "      essays_test.append(essay)\n",
        "      test_samples.append(essay)\n",
        "      leads_test.append(discourse)\n",
        "      test_names.append(essay_id)\n",
        "      test_index += 1\n",
        "  except:\n",
        "      print(essay_id)"
      ],
      "metadata": {
        "colab": {
          "base_uri": "https://localhost:8080/"
        },
        "id": "lhOtpdB_Nwvd",
        "outputId": "c34129a5-4211-4e0d-e8a6-f718ea4ab883"
      },
      "id": "lhOtpdB_Nwvd",
      "execution_count": null,
      "outputs": [
        {
          "output_type": "stream",
          "name": "stdout",
          "text": [
            "40FA776C577A\n",
            "CE4D858F94BF\n",
            "CA35ACF73786\n"
          ]
        }
      ]
    },
    {
      "cell_type": "code",
      "source": [
        "print(essays)"
      ],
      "metadata": {
        "colab": {
          "base_uri": "https://localhost:8080/"
        },
        "id": "Pb4_mufdKCPu",
        "outputId": "70795a81-daa1-42f3-91c6-0c3a8d5fe1a1"
      },
      "id": "Pb4_mufdKCPu",
      "execution_count": null,
      "outputs": [
        {
          "output_type": "stream",
          "name": "stdout",
          "text": [
            "['modern humans today are always on their phone they are always on their phone more than 5 hours a day no stop all they do is text back and forward and just have group chats on social media they even do it while driving they are some really bad consequences when stuff happens when it comes to a phone some certain areas in the united states ban phones from class rooms just because of itwhen people have phones they know about certain apps that they have apps like facebook twitter instagram and snapchat so like if a friend moves away and you want to be in contact you can still be in contact by posting videos or text messages people always have different ways how to communicate with a phone phones have changed due to our generationdriving is one of the way how to get around people always be on their phones while doing it which can cause serious problems thats why theres a thing thats called no texting while driving thats a really important thing to remember some people still do it because they think its stupid no matter what they do they still have to obey it because thats the only way how did he savesometimes on the news there is either an accident or a suicide it might involve someone not looking where theyre going or tweet that someone sent it either injury or death if a mysterious number says im going to kill you and they know where you live but you dont know the persons contactit makes you puzzled and make you start to freak out which can end up really badly', 'the ability to stay connected to people we know despite distance was originally brought to fruition by the use of letters this system was found to be rather slow and new pathways were searched for until the invention of the telegram the people thought it was an invention of the millennia but after time it too was thought of as slow until the invention of the telephone today a telephone is in the hand or pocket of a majority of the seven billion people on planet earth however this device is taken to areas that it is irresponsible and dangerouswithin a vehicle capable of traveling upwards of one hundred miles per hour any possible distraction can become fatal spontaneously the most common of these distractions is a cell phone with its capabilities to connect us to anyone also in ownership of one it is easy to pick it up whenever it sounds in that split second of reaching over for a phone eyes no longer on the road it is impossible to no an exact location of anything making an extremely dangerous action for the myriad of possibilities that lead to serious injury cell phones should stay in the current state they are in regards of the law but taken as a more serious offenseconversely people may believe that laws in present need to change becoming less restrictive people have the right to communicate with whom they wish when or wherever they may choose to do so the problem becomes apparent that this is a selfish process of thought people arent thinking of those they share the road with laws currently in place are not to punish people making poor choices they are an attempt to keep people safe', 'the first reason why the use of cell phones shouldnt be allowed while operating a vehicle because there are high chances of vehicle collisions happening most vehicle collisions happen when the driver is texting or under the influence of alcohol when people who drives while texting spend more time looking at their phone than the road causing poor carfollowing ability and lateral lane control while under the influence of alcohol it can cause you to lose concentration and it can also hinder your ability to make rational decisionsas stated before these are some examples of what can cause vehicle collisionsthe second reason why you shouldnt operate a cell phone while driving because of slow reaction timereaction time is the measure of how quickly an organism can respond to a particular stimulus when your spending time at your phone and finally look up to see youre about to get into an accident it would already be too late reaction times with no activity were between one and two seconds reaction times while using a cellphone were at least three to four seconds on top of that drivers were more likely to miss the flashing light altogether when using a cellphone cellphones effects the nervous system when a person is drivingthe last reason you shouldnt drive while using a cellphone because it can cause fatal injuries that might have longterm or shortterm affects the affects can be physical emotional or psychological one of the most common physical effect is whiplash whiplash is caused by a sudden movement of the neck whiplash is usually caused by rear end automobile collisions one emotional effect can be anxiety which can cause difficulties in certain situations involving driving the last effect is psychological which can cause ptsd most car accidents are the results of ptsd but can also be caused by any traumatic experience ptsd can affect a persons ability to function normallypeople who goes through this will sometimes show a wide range of symptoms including anger fear shock nervousness and feeling of mistrust or guilt', 'over half of drivers in todays society have this horrible habit of texting and driving this has to stop immediately texting and driving puts peoples lives at risk this simple act has caused many fatalities over that last years fortunately the government have put a new law to deal with this problem with our generations problem of texting and driving i strongly feel that texting and driving is dangerous and should be prohibiteddiving more into detail texting and driving is hazardous and life threatening just imagine youre on the road driving to your friends house and someone shoots you a text you look down not even for 5 seconds then you accidents swerve into the next lane hitting a car there are so many different scenarios that could go wrong in that situation your life is over just because you couldnt wait to text your friend the consequences that texting and driving comes with just isnt worth itthe cost of a life shouldnt be worth a text message snapchat or instagram dm direct message texting and driving has taken many lives in a recent article i read it said 2017 us cell phone and driving statistics in 2012 3328 people were killed in distractionrelated crashes about 421000 people were injured in crashes involving a distracted driver in 2017 11 of drivers under age 20 involved in fatal accidents were reported to be distracted at the time of the crash this cannot go on any longer we must do something to stop these numbers from increasingluckily the government has enforced a brand new law called hands freethis law states drivers cannot have a phone in their hand or touching any part of their body while talking on their phone while driving if you dont follow these laws they can fine you fifty to one hundred and fifty dollars i feel that this action was necessary and justified to better protect our society', 'being on your device and driving could be an overly dangerous choice in life many people around the world are injured by this situation every day it could lead to accidents and altercations in addition it would even cost you your licences the most detrimental outcome is death there are far more outcomes to operating a motor vehicle while being on a cell phone drivers should not be able to use cell phones in any capacity while operating a motor vehicleone leading cause to motor vehicle accidents is being on your cell phone it could lead to accidents and altercations yourself and the passengers are more at risk to bodily injuries and harm these bodily injuries and harm can range anywhere from mild to critical condition in an motor vehicle accident there is more than one involved there is another person or group of people that could have the exact same conditions than the driver on the cell phone in an example of an altercations you could be more prone to damaging an building or such an direct result of an event in place a fee or very large payment would need to be made secondly another consequence could be having your license takenwhen you have violated a driving law there will always be an consequence rather it being jail time injuries or more your license will be subjected to suspension a suspended license defines as you are not able to drive until they are reinstated the process can take anywhere from a short period of time or even a long period of time the average time for a suspended license is sixty daysfor some people if it is not your first offense they may even take your license for good furthermore there is another cause to driving while being on your cell phoneafter all the consequences the most detrimental is death many people happen to pass away due to a motor vehicle car accident not all people pass away at the crash site some has a condition mild to critical that causes them to die around 16million people a year die in motor vehicle accidents out of the 16 million 1 out of 4 pass away because drivers are on their cell phone that includes the driver and the unlucky few that may have been in the car around or in another car passing away from a motor vehicle accident can be prevented by simply waiting until you have reached a stopping point or your at your destination to pick up your phonein conclusion drivers should not be able to use cell phones in any capacity while operating a motor vehicle it can cause accidents and altercations suspension of license and even death prevention is simply not being able to use your phone while operating a motor vehicle take a moment to focus on the road', 'when we are driving it can be exceedingly difficult to focus on the surroundings around us and easy to forget that you are sharing the road with other people and not just yourself other drivers take notice when drivers are on their phones whether they want to or not because of the danger they can cause erratic driving is something that we all get worked up about because it can make us late or can be inconvenient to us drivers also tailgate you because they cant keep the constant speed because they are on their phones sometimes pedestrians are killed because people are on their phones and dont pay attention to their surroundings we may not intend to end someones life but we made the poor decision to drive and text so now we must live with that for the rest of our lifeeveryday people die in car accidents because we use cell phones while driving according to my research the number one leading car accidents are distracted drivers research shows that being on your phone while driving can cause the risk 4x more of a horrible crash because we use cell phones more often now we use our phones knowing the danger it could cause because we want to keep in touch with people they also think that the handfree is a safe thing to use because they are driving with two hands instead of holding the phonedriving with cell phones should be banned because of the many car accidents that they cause it causes someones insurance to rise and it causes concerns to peoples health i think people are more concerned with their conversation than with their own safety and the safety of others research has proven that people who use cell phones while driving are more prone to because an accident people who use cell phones while driving does not have enough focus and mentally capacity to carry out a potentially dangerous activity like driving it also can be stressful and dangerous while driving because it can cause emotional reactions that could lead to tragedy', 'in case drivers on cell phones have more mischances at that point drivers ought to be precluded from utilizing them drivers on cell phones do have more mishaps hence drivers ought to be disallowed from utilizing cell phones to create this contention you must clarify and protect both of its premises and they require very diverse contentionsa few investigations recommend that talking on a cell phone whereas driving is viably like driving whereas impeded in reality a ponder at the college of utah that compared tanked drivers to drivers on cell phones indeed found that cell phone drivers displayed more noteworthy impedance than inebriated drivers ouch a costly mineral called coltan may be a component of cell phones it can stand up to warm and store an electrical charge its found basically in locales of the equitable republic of congo and the mining and generation preparation regularly includes childyouth work and natural dangers', 'i say dont think it is smart to be on your phone while driving because it can cause accidents there are 16 million car crashes a year because people are driving with their phones out if more people put down their phones then they can know whats going on around them to slow the death rate down there are 10 percent of teens that die in car crashes because they are on their phones they are distracted by the internet or people texting them more then there life', 'drivers who are distracted by their phone while driving have an increased risk of crashing crashes affect both the crasher and any possible crashing victims everything from physical pain to emotional pain as well as financial pain can be felt after a crash 3287 deaths happen every day due to fatal car crashes on average 9 of these fatalities are related to distracted driving due to the inability to test if a crash was due to distracted driving it is believed that the recorded number of distracted driving incidents is greatly underrecordedover 80 of drivers admit to not paying attention to the road while they are doing blatantly hazardous behaviors while driving the listed activities are not always the driver interacting with their phone however it is safe to assume that interacting with their phone is one of the many hazardous activities these drivers admitted to doing distracted driving is now considered to be the new drunk driving since it follows the same psychological pattern with recent studies of phone addiction showing some of the same signs as drug addiction people are having a harder time ignoring their phone it is no coincidence that car crashes are the number one killer of teens in the us and that 1619 year olds have a three times higher chance to be involved in a fatal crash than any other age group while studies show that teens and younger children are the most addicted to their phoneswhile it is dangerous to be interacting with your phone while driving some people have no choice in the matter reasons for this can range from work related texts or phone calls to family matters some states are trying what is called a hands free law that makes it illegal for a driver to hold their phone while they are driving it also states that a driver cannot read or watch videos on their phone while driving because of this law there have been multiple accessories made that allow drivers to mount their phones in their car so that they can send voice messages or speech to text messages the law along with the accessories allow these types of drivers to access their phones though very limited and keep up to date with their important concerns', 'at this point youre thinking to yourself why the freak did this happen a couple hours later you found out an adult was on his phone texting and driving before the wreck happened which is the most selfish thing to do while driving putting your life and others lives in danger just so you can send a stupid text to your girlboyfriend is completely selfish i firmly believe that we need stricter phone laws to in jail peopletexting while driving is in the top five causes for deaths and yet many states do not have laws against it we need to stand together united and encourage our congressmen to pass laws in order to combat this distractionand be mature and adultlike and discuss ways to not further endanger each othercellphones are brain washing us to think we always need it but i know we can break free from this horrible device with a little hard work we can make a change whats more important to you a notification or somebodys life our congressmen need to listen to our voices and make bills an laws and reforms to make the roads safer for everyone we as people need to come together an decide what to do to make things happen we dont know how much more accidents have to happen in order to push it into effect', 'look around you all you see is people from all ages staring at a device all day which is a phone people are always stuck on their phones that it seems they can never let it go whileworking at schoolcleaningand driving some things caused by using your phone while driving are car accidents irresponsible people driving or you can get a feephones can be such a distraction to everyone at anytime including while driving which is a safety hazard a major cause of deaths in the us is motor vehicle accidents because of phone usage most of the time about 33700 people die in motor vehicle each year shown on cdc this means that some of the accidents are from phone usage and other factors but if people stop using their phones while driving their could be less accidents in the future in the article mobile phones and driving safety it stated thatin a 2011 study it was reported that over 90 of college students surveyed texts initiatereplyor read while driving it proves that even adults can be immature that they use their phones while driving even when knowing the possible consequences they may have if people continue to use phones while driving then the rate of death will get higher and people would think that nothing will happen to them while using their phonesmany people may say that teens are the ones driving irresponsibly by using their phones when operating a vehicle in reality everyone from every age is irresponsibly driving according to an article of  teen driver source in 2015 42 percent of high school students who drove in the past 30 days reported sending a text or email while drivingthe other half were most likely adults in which adults should set younger people an influence because they learn from them in another passage on science daily stated that adults are always on their phone while driving with young kids either by sending a text reading texts on social media or their just distracted driving i believe that the adults should be more cautious including the teens but adults tend to have younger kids with them in the carboth the adults and teens are guilty of driving on their phones but they should learn sooner to avoid any type of tragedyeach state in the us has their own laws to protect their people since some dont listen the people in charge of the state theyve made laws for people who drive careless about 43 states have prohibited drivers to text or even be on their phones facts  statistics about texting and driving even though not all states have been prohibited of being on their phones almost all of them have which is a good difference in some states if the police stops you for the first time for texting and driving you can get a fee depending where you live for example georgia has a fee of 150 florida has one of 30and new jersey has one of 400 the fee law is a good option because if they stop you a second time then you could have jail time if you didnt learn the first time from the fee if the us keeps making stricter laws of being on the phone while driving then the people will learn', 'driving and texting is something very common but a serious problem with detrimental effects the main detrimental effect could be physical when a person texts and drives a person could cause an accident which could not only endanger themselves but it could endanger othersaccording to the national safety council cell phone use while driving leads to 16 million crashes each year these are deaths added to this already hectic world that could have been easily avoidednot only can texting while driving affect a person physically but it can also affect a person mentallywhile physical damage to a vehicle or physical injury to a person can often be resolved in a matter of days or weeks emotional damage may last a lifetime author and blogger rebecca goldfarb recently categorized the types of emotional damage as shock anger guilt anxiety and depression and even posttraumatic stress goldfarb added many people who are involved in an accident as either the driver or as the victim often need to receive professional care if the difficult emotions are lasting longer than expectedthe final way in which driving while distracted may negatively affect a person is financially according to the website big az big media there are six types of costs that may happen following a car accident the first two immediate financial costs involve the repair of personal property and the costs with healthcare and medical treatment the second two financial costs involve possible legal fees and an increase to car insurance finally the last two costs involve the loss of employment income and benefits and the possible cost of a career change if the person cannot return to their job', '', 'throughout the years teenagers have been eager to turn 16 driving is a nerve wrecking and exciting experience at the same time there is a good upside about driving and that would be being able to go out to places without having to pay and the time period you can stay out for is how long you desire even though there is a good side there is a bad side as well this would have to be the large amount of people that are not cautious around their surroundings and many lives have been taken away due to this i would have to agree with the idea that says that phones should not be used while driving  my reasons for this are that peoples lives are taken away a phone is a big distraction and it is a law you have to followmy first reason on why phones should not be used while driving is because too many lives are taken everyday utilizing a phone while driving takes many lives every second of our daily lives about 16 million lives a year end up in critical conditions or worse dead a phone call or text can wait but being impatient can result in deaths this impatiences creates danger to the person driving and everyone around them too many lives are taken by near accidents crashes distractions and running of lights caused by usage of phones by operating moving vehicles many more lives could be safer if people chose to wait for their usage of phones after being off the roadmy second reason on why phones should not be used while driving is because too many distractions are already on the road without adding a phone as another reason once again using a phone while driving creates too many distractions for the driver and everyone around is left in danger for example phones can create delays on stop lights which can create simple accidents the glare of a bright phone on a dark night can actually interfere with the sight of the driver and can cause loss of control or misguidance to swerving as well as sudden loud sounds from a phone can actually scare or frighten a driver straight to a crash occuping phones while driving is one of the biggest reasons for caused crashes all overmy third and final reason for not using phones while driving is because a new law recently has been released on how using phones on the road is no longer permitted anymore the new law was put in to ensure more safety due to all the distractions caused by phones since it is a new law a new law means that it is expected to be followed a new set out rule it is for the safety of people and everyone surrounding people will get punished if the new law is not followed and in my opinion i would say that it is one of the greatest laws forced the new law will minimize the amount of crashes caused by phones on the road all over and save many more lives and everyone arounda phone should not ever be used while a person is driving for any type of situation it can wait my reasons once again like i said before is that many lives are taken away it is also a big distraction and last would be that it is a new law a phone is really entertaining and that is something people do not want behind the wheel because then it can become a distraction', 'in this day in age of technological advancement mankind has quickly adapted to using devices such as cellphones it has gotten to the point where we constantly use it for everything we do there seems to be many good qualities about the cellphone which humans seem to keep all are attention on that in turn causes problems with our surroundings such as being on the phone and driving a vehiclethere is no denying that cellphones take up all of our attention there are just so many things that we are able to do that makers have put in it it is just to ensure that we never get bored while also waiting for the next phone with technological superiority to be released likewise with driving it takes up all of our focus to make sure we dont get into a car wreck in a way driving and being on a cellphone are very similar in regards to how much attention we give it so when putting both together the ending result are what you would expect it to be catastrophiccellphones and driving take up a lot of focus and because of that we constantly are switching from looking at our phones to paying attention to the road and oncoming traffic ahead assuming there is any that is they do not balance out well and people can easily get into car accidents as a result this most notably happens when a person is trying to text and drive at the same time it was this very reason why texting and driving has been made illegal to ensure the safety of fellow drivers you would think the problems lay with teenagers doing it but adults have a higher statistic level when it comes to this providing more fatality rates to go up add that in with alcohol and there is no telling what will happenin the end we just should not use our phones while we drive it quickly turns into a habit once we start and it will not end well it can also result in being arrested if caught by a local police officer we should get everything out of the way before we start driving or stop and park somewhere before we engage into the activities on our phone there are plenty of safe ways to use a phone while inside of a vehicle we just choose the most dangerous route', 'to start things off i believe that there is a time and place for being on your phone with behind the wheel if you are at a red light and you dont have to type or just have to answer a call or change a song i believe that is an acceptation to the rule of being on your phone since we are in the time and age were we have bluetooth in cars and can connect to our phones so it makes it easier to call and or answer calls texting and driving is a must stop because you may think that you will be fine and can multitask but in reality you are putting you and the other drivers in danger no ones parents should have to attend their childs funeral because they died from texting and driving or because someone else was texting and driving there are many reasons not to use a phone while driving but there are also exceptions to this rule now you may not agree with me on this but this to me is the best actions to do because people will not stop with getting on their phones while driving but at least we could limit it to just a few ways that they could get on it while being behind the wheelsecondly with technology still evolving in this day like now they are getting driverless cars that may be the next big step in the world of vehicles now with these cars we dont need to worry about the needs of driving cars if there is no steering wheelevery day about 11 teens die due to texting and driving in the united states but with todays technology they are trying to help stop texting and driving but everything we do doesnt seem to be helping and or stopping teens from texting behind the wheel some people still might not agree with me on what i believe is important but if you just give it some years maybe just maybe it may be possible in todays society that no one can get hurt from texting and drivinglastly although its a big problem for people to stop texting and driving its not a ban in every state in the united states its said that only 39 states put a ban for novice drivers because it isnt the biggest deal for some people to be able to text and drive which i know doesnt sound great but its kind of the truth in a way i personally have no experience of this because i cant drive but i see people who do drive and do this and its not like its every time it mainly at red lights you see them doing it now out the 39 states 20 of them ban it for school bus drivers alsoits taken the usa almost 14 years and people still dont listen to no texting and driving', 'according to the national safety council reports cell phone use while driving leads to 16 million crashes each year 390000 injuries occurred caused by cell phone use and driving nearly 6000 pedestrians are killed because of this as well phones should not be used while driving not only because the dangers that occur but also because the people that are harmed or killed and it couldve been preventedits rare that the driver ever gets hurt its always the person they hit or theyve caused a lot of damage cell phones are a huge distraction while driving a vehicle your not paying attention to the road in front of you because something has caught your eye below the dashboard something that couldve waited until you arrived at your destination sometimes you have to ask yourself is it really that important2018 an estimate of 15 million car accidents in the us cell phone use while driving resulted in 3000 to 6000 people getting killed or injured each year all because someone couldnt leave their phone leave for awhile now they have to deal with peoples lawyers and insurance company just everything that couldve been avoided creating unnecessary problems for yourselfmay 29 2019 a new law was created it prohibits people driving to not use their cell phones if a person was to disregard this law the result would be paying a 50 fine for first offense thats one way to avoid the dangers and consequences of texting and driving another one is to make a mental note for yourself that the text can wait the message doesnt have to be answered right way if its that important pull over', 'phone use while driving has become extremely common in this day and age almost everyone thats driven a car has done it and they know it a lot of people do it but that obviously doesnt make it right of course lots of things have come out so that we wont have the phone in our hands while driving but who said that having a phone in your hand is the only problem phones cause for distractions accidents and possibly even jail timethe last thing that you want while driving is to get distracted i think i could say the same thing for a passenger have you ever been in a car with someone and they start looking at their phonehave they ever got on the phone and laughed so hard that they close their eyes while driving its not a good feeling to be in a situation such as that cause you worry about your life handsfree calls are good but just because they dont have a phone in their hand does not mean a person still cannot get distracted due to the use of a phonedistraction due to phones could result in multiple things one of the things it can result in is pedestrians getting hurt in the state of georgia pedestrians are given the rightofway when crossing a marked crosswalk pedestrians are required to yield the rightofway to oncoming vehicles when crossing the street without a marked crosswalk if drivers arent paying attention then they might just hit a pedestrian and it might just be on the driver drivers could be so distracted due to cell phones that they run a stop light and end up hitting a pedestrianone of the main reasons for car wrecks in the united states is not driving under the influence or speeding the main cause for car wrecks in america is distracted driving people dont realize how easily a person could get in a car wreck looking at a text or notification on your phone could take your eyes off the road for almost 5 seconds 5 seconds doesnt sound like a lot of time but it really doesnt even take a full second for a car wreck to actually happenwhen using your phone while driving you should ask yourself a few questions do i', 'in todays day and age technology has drastically increased people now days seem to rely on their devices more than anything people surely cant get their eyes off the devices for more than at least a minute they look at the phone while walking eating at a dinner table or even in class while their supposed to be learning but the main problem that is occurring is people texting on their phone while driving an automobile this brings up the question if drivers should or shouldnt be able to use their cellphones in any capacity while operating a vehiclein my perspective i believe drivers shouldnt be able to use their cellphones while driving for starters youre taking your eyes off the road this is extremely dangerous because it only takes five seconds minimal amount of your time taken away from the road for an extreme accident to occur for example if u is driving at 55mph while texting or looking at your phone within them seconds you could have easily got into a car accident with major injuries this reason is only one reason you shouldnt be able to use your cellphone while drivinganother reason that you shouldnt be able to use your cellphone while driving is it puts your life at risk and put other innocent lives at risk when you make the decision to text and drive you make the decision to risk the lives of those around you and your life as well that simple action of answering a quick text or even glancing at a text means that you are selfishly putting other peoples lives in danger it is one thing to put your own life in danger but it is unfair and unnecessary to risk the lives of others these innocent people young children friends in your car pedestrians and fellow drivers did absolutely nothing wrong and are forced to have their lives at risk solely due to a poor decision that you madethe last and final reason is that its illegal regardless of the all the harm caused by texting and driving it is also illegal in many states fines and punishments for texting and driving range greatly depending on the state that you live in for some states the fine is merely 20 however in others it can be up to 500 and if the action of texting and driving ends in injuring any other individuals you can actually end up in jail depending on the severity of the injury this right here is just the icing on the cake as to why you should stop texting and driving', 'even though phones have caused a lot of accidents and deaths i believe that certain uses of the phones should be allowed while driving sometimes people get emergency phone calls and emergency text that they need to see in order to try and fix the situation if it is a fixable situation some people also have their phone for uses of gps and other informational services not all people use their phones as a distraction while driving some people just need it at the timeeven though i believe that using your phone while driving is a good idea there are many cons to this idea a lot of car accidents had to do with the involvement of teens and adults using their cellular device phones have cause a lot of deaths not just in america but across the world i believe there should be more laws made that does not ban phones but put restrictions on them like time restrictions example a law that prevents you from using your phone after 800 pm or a law that prevents you from using your phone on certain streets', 'the amount of car accidents due to drivers being distracted by their phones is at 16 million per year this is mostly texting and driving or being on social media while operating a vehicle actively using phones while driving should be restricted because of the danger to the driver passengers and the pedestrians that are around most of the drivers that are making these mistakes are teenagers that dont know better teen drivers or new drivers in general should take a proper drivers ed class thatll teach them proper drivers etiquette this will inform them of the dangers of texting and driving and teach them techniques to avoid temptationalthough the use of cell phones should be restricted it shouldnt be completely prohibited drivers often use their phones for gps in this day and age if phones are permanently prohibited then drivers wont be able to use their mobile map it navigates the driver to where they need to go apps have been programmed so that drivers can use their gps handsfree they also input a feature that will speak the directions out loud so the driver doesnt feel the constant need to pick their phone up and read the directions all the driver has to do is input their destination in before the vehicle starts moving phones while driving doesnt need to be prohibitedsome people will argue that the usage of any phones can start any car accident while that is true it is highly unlikely and implausible although texting and driving is the cause of many car accidents its not the cause for all of them phones cannot be blamed for every car accident that happens in fact drunk driving is the cause for 31 of car accidents that occur in the country taking away the cell phone completely from use in the vehicle will have a poor effect on the drivers who need gps to go to new places and dont end up lost it will lead to drivers needing maps which are often hard to read and hard to keep track of', 'according to edgar snyder  associates nearly 390000 injuries occur each year from accidents caused by texting while driving the national safety council reports that cell phone use while driving leads to 16 million crashes each year the outcome of texting while driving is not that important to where lives should be taken to send a text if its that important then why not just pull over in the article on edgar snyder  associates it also states that 10 percent of all teen motor vehicle crash fatalities in 2016 involved distracted driving the risk is increasing every time a person pulls out there cell phonein the article that was posted on usa today it stated that us pedestrians death totaled nearly 6000 in 2017 for the second straight year amid signs that walkers and distracted drivers do not mixalso it states that texting while driving is more risky in a urban environments teens that text and drive are more likely to get into an accident than an adult that is even though both are risky studies show that being young while doing it is worse than being older while doing it the issue at hand is affecting everyone texting while driving or just being on your phone is a bad mix and innocent children and adults are suffering because of ittexting while driving can result in many punishments like monetary fines criminal charges and jail or prison time according to legalmatch texting while driving is a moving traffic violation and may be a criminal misdemeanor in certain jurisdictionsalsojail or prison time if the offense has resulted in bodily injury to another driver jail or prison time may be imposed the more you get caught texting and driving the worse the punishment will be it could start off with a simple fine and the next time you could be serving jail time finally if you have been hurt due to someones else mistakes you are entitled to compensation at which you can sue themin conclusion drivers should not be able to use cell phones in any capacity while operating a vehicle the outcome of this can hurt the drivers mentally physically and even emotionally if they take someones life in the processtexting while driving is now one of the most reason drivers are getting fined as technology advances peoples urge to use their cellphones are growing tremendously it is not worth it to risk your life for a flash of entertainment that isnt going anywhere anytime soon there actually incorporating technology into the vehicleshttpswww edgarsnyder comcaraccidentcauseofaccidentcellphonecellphonestatistics html httpswww usatoday comstorymoneycars20180228pedestrianfatalities376802002httpswww legalmatch comlawlibraryarticletextingwhiledrivinglaws html', 'one of the main reasons that make using cell phones while driving very dangerous is that using the cell phone reduces a drivers reaction time in traffic on busy roads the amount of time that one talks before reacting to a situation in most cases determines whether someone gets to continue living it is very dangerous to text and call while driving but texting while driving is more dangerous because the driver must constantly keep looking at the phone screen in order to type or read the messages studies show that people who text while driving tend to accelerate more slowly after stepping on the brakes this can cause irregularities for another driver leading to possible accidents and since their eyes are more on the text than the road drivers who choose to text while driving have a much higher chance of hitting a pedestrian than those not distracted in driving', 'driving while being on the phone is very dangerous no one should be operating a vehicle and using technology it can ruin your life people dont think before they do stuff and it doesnt always end good you might think you can pay attention to the road and drive at the same time but you never know until its too late many wrecks have been caused by people texting and driving you could look up at the road one second too late and take someones lifemost teens are addicted to their phone and right when it buzzes they grab it and check it they cant even drive without them you could swerve while on your phone stop too late or never see the person walking just like that someones hurt and its your fault driving is a serious thing you dont have to just worry about your life but the other peoples on the roads life too not everyone can see the same thing so all your attention needs to be on the road', 'before cell phones were invented car accidents were shockingly low compared to the numbers we see today texting and driving are six times more likely to cause an accident than driving intoxicated over 16 million crashes a year in the us are linked to cell phone distraction there needs to be something done to stop thisif someone is caught texting and driving there should be a worse punishment than a small ticket people are putting people in danger every single day doing this approximately 660000 people are using their phones right now while driving texting and driving are considered the most dangerous activity to do while driving nearly 390000 injuries a year are caused from texting and driving texting causes a 400 increase of distraction while drivingeven people that text and drive want something to be done about it 94 percent of drivers support a ban on texting while driving and 74 of drivers support a ban of handheld cell phone use while driving a aaa poll showed that 94 of teen drivers know about the cell phone laws and the dangers of doing it and 35 admitted to doing it 21 percent of all teen accidents are caused by cell phone usage teens are 4 times likely to get into an accident or a near miss than an adult when talking or texting on a cell phone 3166 people were killed by distracted driving in 2017 15341 people between the age of 1529 have been involved in fatal accidents involving cell phone usage', 'cellphones are becoming some peoples addiction to the point they risk there life just to text i think the only way you should be able to use your phone and drive is if your handsfree using it calling and music should be the only thing you should be able to do there is no excuse to risk your life or anyone elses life just for a text messagepeople are way too caught in their phone that they need to put it up when they drive georgia has passed a law stating your phone can not be touching you when in your vehicle you may not even make a phone call unless your car has the handsfree option i honestly think this is the perfect for people it helps control people and make roads saferi believe you should be able to listen to your music on your phone when driving and even make calls but texting should be off limits you have to look at your phone to long and take your eyes off the road which is extremely unsafe this should be reason enough not to do such things', 'many states have made the use of cell phones while driving illegal due to the number of accidents that are related to conducting calls and texting many states have also created laws to ban handheld mobile phone use cell phone usage has become the leading cause of distracted driving drivers can easily become distracted decreasing the drivers awareness on the road leading to more car accidents iagree with cell phones being banned while drivingi believe that driving while using a cell phone should be banned because of the drastic increase in accidents on one occasion my mom was hit from behind because the person in the car behind her was texting on a cell phone fortunately my mom was not seriously hurt because the driver behind her was not driving at a high speed if the driver in the car behind my mom was driving at a higher speed my mom could have been severely injured or killed banning cell phone usage while driving enables a driver to remain focused and to keep the appropriate amount of distance between vehiclesa driver cant focus on the road or other vehicles while consistently talking or texting on a cell phone studies have proven that drivers who use cell phones while driving are more prone to cause accidentscell phone usage while driving has caused car insurance premiums to increase my moms car insurance increased an additional 15 a month this year that additional 15 can go towards gas to get us back and forth to school work church etc her car insurance agent advised her that rates have increased across the board distracted driving was the main reason for the increase i earned my learners permit this year my mom is afraid to teach me how to drive because of her fear of distracted driving i will be attending a defensive driving school to learn how to drive my mom is not looking forward to adding me as a driver on her car insurance because her premium is going to increase drasticallyshe often complains about distracted driving contributing to higher car insurance rates i dont bother my mom about teaching me how to drive for now she takes me wherever i need to go im about to graduate from high school and it is my intent to attend college or go to the military i have to learn how to drive very soon but im really not looking forward to itsociety has become more connected to cell phones more than ever cell phones provide a lot of convenience from communicating with relatives and friends checking emails paying bills taking pictures recording videos listening to music you name it however talking or texting on cell phones while driving simply dont mix and has become a huge issue in the past few yearseverybody has their own opinion regarding cell phone usage while operating a vehicle but ibelieve that using cell phones while driving should not be allowed using a cell phone while driving has the driver focusing on the phone instead of the road this increases the time it takes for a driver to react effectively in case of an emergency the driver should pull over in a safe zone and then call for assistance the main reason for most car accidents in todays society is driving while using a cell phonei urge my family friends and anyone reading this essay to take the att it can wait pledge against distracted driving at www itcanwait com join the millions who have pledged to drive distraction freefrom checking emails to posting on social media behind the wheel all of it can wait as of today over32083847 pledges have been made pledge nowworks cited', 'texting and driving is something common a lot of people do now a day there are so many problems with cellphone usage while driving many people think its okay to use their phones while driving but i personally think it is not okay for people to text and drive some people rather risk their lifes than to be careful about their surrounding and how one car accident can cause so much damage all because that one person wanted to be on their phone it doesnt just have to be texting it can be in general by just being on your phone people get way too distracted by cellphone usagecellphones make a big impact on people who knew that cellphones can be that addicting it doesnt matter where you are you turn your head and you see someone on their phone because it is so addicting it almost like having a coffee addiction when you see people crossing a cross walk you insatiately see a phone in someones hands and half of the time there not looking at where there going they just walk and walk until they run into somethings cellphones are a huge addiction in todays society for everyone including teenagers you see cellphones almost everywhere you going you will be shocked about how many people use their phones a daywhen youre driving and youre on your cellphone is really risky it can cause many problems as in you cashing into someone else or you can go off the road and get in an accident there have been many different accidents because people want to be on their phone and not focus on the road texting and driving can many deaths as well people die of being in car accidents when the driver is texting people dont look on the outside of how many tragic thinks can happen in a blink of an eye it can be life changing too because you never know what can happen or go wrong many people dont know how much damage can happen people die vision lost no arm no leg an arm etc none of this is replaceable but every material thing can be thats what people dont understand people need to be careful of their surroundings and be careful who you have in the carpeople have habits of looking at their phones once they hear a ring they right away have to go see what it was or who it was thats where the distraction comes from and that were people get into trouble with officers or car accidents etc because they get distracted by the ring of a phone there is always pros and cons about things people being on the phone some of the pros are if you have the sound on it is always good for important in the case of an emergency you always have something on the side or if someone else calls you and it is an emergency some of the cons is that people use it for other purposes which is to text snapchat twitter instagram etc and they think they can multi task but some people cant thats why its better to put the phone down and let social media wait before there is an accidentits better to save your life and some elses', 'another reason i believe that it is dangerous for you to be on your phone and driving is because this is now another way to get arrested by this i mean now if youre riding with your phone in sight the police is liable to arrest you by doing this youre risking your freedom not only are you risking your freedom youre also putting others in harms way by this i mean what if someone is walking in the cross walk and you happen to be on your phone and accidentally hit someone then not only is that more charges but thats also you injuring an innocent bystanderthere are also good reasons why you should be able to have your phone while driving for example when going to a place and not knowing the directions your phone has a built in navigation system to help you get there you dont always have to have your phone in your hand you can buy the stand where your phone can sit on that way you can see both your phone and the roadso it isnt always bad having your phone while drivinganother good reason to have your phone while driving is because what if there is an emergency and that is the only way someone can contact you you dont have to hold your phone you can always get bluetooth and or wireless headphones by doing this you are preventing accidents from happening and your also preventing yourself and or anyone else from being in danger not only that but you are also able to focus on both the road and the situation that may be happening', 'many people claim having a phone while driving isnt dangerous nowadays accidents happen due to cell phones we live in an age when many of us are excited by a call or text that we cant wait to answer texting while driving is a hotly debated topic that often divides opinion it goes without saying that driving with a mobile phone is one of the most important issues facing us today the following essay takes a look at both sides of the argumentto start with our population on reasons why accidents happen are because of cell phones first of all it is worth considering that phones shouldnt be allowed on peoples hands while driving secondly drivers must have their phones on a phone holder to prevent getting pulled over and prevent an accident thirdly you must be focused while driving if you have passengers on board because youre putting their lives at risk therefore you shouldnt be holding your phoneanother factor to consider is not just your cell phone but anything that distracts you like food advertisements etc can cause an accident last but not least that text or call can waitaccording to experts more than 3000 teens die to texting while driving research has found that driving while texting is six times more dangerous than drunk drivers there are those who argue that phones should be allowed while driving for example if an emergency occurs and someone is trying to get a hold of you you would need your cell phone to stay in contact another example is if you are lost you can call someone for directions there is always a solution to everything like having a car holder and putting gps rather than calling someonealthough most drivers are in the age of driving teens arent supposed too teens have led to one of the reasons accidents happen despite the fact that they arent supposed to be driving they are very irresponsible on the other hand adults are supposed to teach their kids the right way to drive to always drive focus never look at other accidents deals in the street while driving always look ahead however teens should drive with an adult past 7 pm', 'the us department of transportation reported that cell phones are involved in 16 million vehicle crashes each year it has caused half a million injuries and around 6000 deaths annually texting while driving is even more dangerous than driving while under the influence of alcohol people should put their devices down and focus on the roads and surrounding carseveryday around 11 teens die in crashes caused by texting and driving it only takes 3 seconds for a crash to occur after a driver becomes distracted by their cell phone or anything else holding a device while driving slows their reaction time by 49 car wrecks have killed nearly 32999 people yearly and injuring around 2239000 peopleas of july 12018 in georgia the hands free law was passed the hands free law means that drivers will no longer be allowed to have a phone in their hand or supported by any part of their body texting while driving is highly illegal and its good to see the states law being put in to action', 'when it goes off whenever theyre driving whether its a text social media or a call curiosity gets the best of them and they feel as if they have to look at that very moment to stop and read this message you would have to take your eyes off of the road longer than the time of the one second it takes to look at the rearview mirror it is very dangerous to type or read while driving it isnt safe on the road so it is not just your own life you are riskingi think that the use of a cell phone while driving should be banned in all states because it is already against the law in some states it is a distraction to drivers the use of cell phones in all ways while driving is already illegal in twelve states across the country if someone is caught using their phone while driving drivers may be faced with a ticket and a fine the first california cell phone law bans any cell phone or wireless phone use while driving and if you are under the age of 18 you are banned from using a hands free device the cell phone laws do not affect passengers of the vehicle this law only applies to the driver of the vehiclehandheld cell phones can only be used if there is an emergency cell phones and driving in todays society weve all become attached to our cell phones it does not matter how good you are at multitasking it should be banned and against the lawfirst with texts social media and any written phone alert', 'one of the reasons a person should not be allowed to use their phone while driving is that the risk of getting into a car crash is raised those who text and drive are 23 more likely to be in a car crash than those who do not text and drive in 2016 3450 people were killed in distractionrelated crashes many states ban the use of phones behind the wheel for this reason if people did not use their phone behind the wheel the number of deaths and injuries would drop drasticallythe states that prohibit cell phone usage behind the wheel are california connecticut delaware georgia hawaii illinois maryland nevada new hampshire new jersey new mexico new york oregon vermont washington and west virginia in georgia drivers are not allowed to touch any kind of electronic device with any part of their body this law has been put into effect because of the more than 1500 deaths from distracted driving in georgia in 2016people should not be able to use their phones while driving the use of phones behind the wheel puts many lives at risk many states have already banned the use of phones behind the wheel', 'over the last few years there have been many records of death andor injury from being on your phone and driving there are many laws in place to stop this act from happening but just like with everything else theres no way to fully stop it many people have different opinions on the subject in this essay i will be explaining the two sides good and the bad how dangerous is it to operate a vehicle and a phone at the same timesix thousand people die each year in the us due to texting and driving cell phone use should be prohibited why you operate any piece of machinery things malfunction and can go wrong with your full attention on them dont give any room for error you arent only putting yourself into danger but everyone else around you as well anything you do besides watching the road and focusing on your surroundings is putting your life at risk anything can happen in two seconds without your eyes on the road think about how many times you almost got into an accident due to someone else not paying attention but youre fine because you were a phone takes that away from youtheres not a good side to texting and driving theyve made many alternatives to not having to touch your phone while driving but still being able to operate it we all have a virtual human on our phones who tells us directions or calls who we want based on us saying things like hey siri they make phone holders for your dash but thats sill dangerous because you shouldnt take your eyes off the road anytime the vehicle is in motion everyone uses a cellphone while driving because they feel like they must be in a rush to get a text sent or etc it isnt safe to be distracted by anything while driving let alone something so addicting already like a cellphone', 'it has always been a big concern on being on your phone while driving there are many bad outcomes from being on your phone while driving you could possibly swerve off the road crash into someone or zoning out and not knowing what is going to happen next many people repeatedly still be on their phones while driving while knowing what the outcome could lead to and still not caring phones are a huge distraction while driving and no one seems to care what happens afterbeing on your phone while driving is not something that should be normalized it can lead to one major problem which is having an accident when it comes to car crashes and the cause of the crash is someone being distracted is never a good look on the driver many people can lose their life they can come out alive from the accident but can still be traumatized to the point where they do not want to ever get in a car again 26 of most accidents are from texting while drivinganother cause of being on the phone while driving is a possibility of swerving off the road no one ever wants to experience being a car alone and next thing you know your trying to get back control of your car from not being focused on the road the outcome can be bad to the point where you do not know where you are may have lost your phone and have no way of getting out because you are stuck there have been nearly 39000 accidents caused from swerving while being on your phone this could all be avoided if you just stay of your phonefinally you could zone out while on the road when you are driving your focus is the road zoning out while driving and your phone can be a pretty ugly situation you could possibly be intoxicated and not knowing why you on your phone and get carried away and zone out for a quick second and next thing you know you are in an accident there are many ways to get an accident but the common reason of accidents happening is drivers being on their phone', 'the use of phones and cars serve many purposes such as communicating with others playing games and using the many different internet based featureswe use cars as a means of travel others to modify and race and make them look cool in every day jobs like firefighters and police use cars to patrol neighborhoods and to travel to the location they are called to for delivery like packages and food we use cars and phones for most of the things we do in modern society but get in some accidents or cause accidents with cars and we get hurt because of these accidents physically and financially but they can be avoided taking precautions like insurance and driving safe and keep your car maintenance high or good  according to httpswww insurancejournal comnewsnational20180824499107 htmthe death toll for 2018is 18720 and an additional 21 million people who have sustained serious injuries due to car accidents in the first six months of 2018 texting and driving should not be aloud because it can kill people and its bad that it happens  people have lost their lives because of a text which is sad one moment your here next youre not you could be driving one day and text while driving with a blink of an eye you could be gone the laws and punishment the law should be to not be on your cell phone while driving or if youre are on it make sure its on speaker phone or have somebody text on your phone to whoever the punishment should be a fine or community service but no serious punishment because it was an accident  but if it was on purpose then should have jail time why because it was done intentionally and they knew exactly what they were doing  its a accident most of the time but the point is that it happens which we cant prevent car accidents but we can decrease themand for coverage for your car like insurance cost sometimes a lot of money it really depends on the insurance company and the benefits from that company  but its worth it and dont text and drive it may cost you a lot of money or your life its important to keep your eyes on the road at all times and to pay attention from crashing or getting crashed into we have highway patrol and police with speeding guns to prevent crashes people cause by speeding or not paying attention  we also have cameras to catch these things that cause accidents and they work most of the time but doesnt reduce accidents', 'studies have proved that drivers who use cell phones while driving are more prone to cause accidents the national safety council reports that cellphone use while driving leads to 16 million crashes each year nearly 390000 injuries occur each year caused by from by texting 1 out of every 4 car accidents in the united states is caused by texting and driving while using a cell phone while drunk and driving in both cases a person does not have enough focus and mentally capacity to carry out a potentially dangerous activity like driving banning cellphones while driving will keep a safe distance from accidents texting while driving and other cell phone use while driving facts and statistics show that this multitasking behind the wheel is becoming a lifethreatening norm talking or texting while driving or checking or sending social media posts takes eyes and brains off the task of driving coupled with inexperience and lack of driving skills cell phone use can be especially deadly for teen driversanother reason and perhaps a more tangible reason to ban the usage of cell phones while driving is to prevent car insurance from rising in society money is tight when it comes to doing different things with the way the economy is now if you can try being careful because the money you put towards careless accident that can be prevented can be put toward a light bill etc the more the number of tickets you attract against your name the higher the insurance will be in recent studies companies are paying close attention to the link between cell phone use and car accidents and many auto insurance websites warn of distracted drivingopponents whose work depends on a cell phone like lawyers or businessmen say that they always have to be available to answer the phone to keep their business running however because of their habits they can create dangerous and hazardous situations like a collision or an accident business issues can be stressful and dangerous while driving because it can cause emotional reactions that can lead to tragedybecause of the conversation they might get upset and this can lower their driving ability that can lead to lose control over the car so if people dont make a decision to put away their cell phones their routine can harm innocent people', 'today the majority of humans use their cell phones on a daily basis over the years humans have developed new ways to communicate with others in throughout their lives as the years progress technology has been a part of our lives and we cannot function without it we have adapted to technology so much we use it in our everyday but technology does not always make a positive impact on our lives we just need to know how to use itwe use our phones so much its beginning to be too much we use it when we walk eat etc but most dangerously when we are driving our phones cause a big distraction that we do not pay attention to anything we do using our phones while we drive can lead to small big or even fatal accidents not just on the driver but also anyone who is nearby according to edgar snyder approximately 660000 drivers attempt to use their phones while behind the wheel in fact using our phones and driving is the leading cause of death for teenagers today nearly 390000 injuries occur every year because of accidents caused by using our phones and drivingafter numerous accidents and injuries most teenagers are pledging not to text and drive the percentage of injuries involving the subject has dropped and is still dropping teenagers and other people have been spreading awareness to prevent any more car injuries involving phones technology will always be a part of our lives and will continue to become more advanced but society needs to learn to use it responsibly', 'cell phones are a big part of peoples lives most people need their phones with them at all times the use of cell phones have took a toll on many people lives phones are definitely a distraction to people especially when they are driving using a cellular device while driving a vehicle is dangerous to your life and other innocent lives aroundsince 2010 there have been 14 states that have banned the use of cell phones while driving driving while using your phone can cause the driver to forget to turn on blinkers or maybe watch for people merging lanes studies show that drivers on there phones are the cause of about 6 percent of accidents in the us killing about 2600 and injuring 330000 people each yearresearchers also say that the cost of accidents caused by use of cellphones is about 43 billion so not only is the use of cell phones while driving a vehicle dangerous it also costs billions due to the accidents it causes', 'people driving while looking at their phones has become an epidemic and is a big cause of a lot of accident primarily involving teens who are so distracted by their phones that they are not paying any attention to the road with the growing number of car accidents happening they have put into place the handsfree law so that it is now illegal to be on your phone while operating a vehicleif you are driving while driving a vehicle there is no good excuse for using your phone because anything that is on your phone can wait till after youre are done driving and the car is in park and everyone is safe and not in danger looking away from the road for even just 2 seconds can be the difference between life and death because one moment the roads might be clear and the next you could be rolled over trapped in your car', 'in the day of age 25 of car crashes involve driving while using phones that is a huge number and already 1 reason why you shouldnt drive while using a phone i will give you some reasons why you shouldnt drive with phonesfatal injury or death is one reason you are in a big metal vehicle in which case can crash when crashed multiple things could happen to you burning crushed stabbed is few of the things that can injure or kill you your not affecting youself but affecting people who probably got hit while you crashed you might have or had killed themanother is jail time or bieng sued if you had hit a person another car or property damage you can get arrested for that the fine cost could go up to 500000 and a jail time for a minimum of 2 yearslastly is hurting your family and friends say youre a father and your wife calls you you have your best friend in the next seat and your kid in the back out of nowhere a truck comes and you tbone into the truck your kid has a brokin rib and your best friend is dead do you really want that to happen', 'phones help us in many ways when it comes to driving they help navigate us in unknown areas and it is a great form of contact in case of emergencies although it tends to be distracting technology has advanced that we can have our eyes on the road while communicating with othersover the years technology has evolved rapidly so that it could make life easier for us such as bluetooth bluetooth is a setting on a smart device like a phone where you can connect wirelessly with another piece of hardware like headphones so if someone tries to call you while driving all you have to do is press the button on your headphones and you will have the ability to call or hang up the phonephones can be a great use of navigation with sources like google maps it has replaced all normal paper maps for when its time to enter a new area not only were the original maps were a disturbance to drivers but your phone can literally tell you how when and where to take you whether it is warning you about construction or when to turn left or right your phone is there to help for this uncanny situationcommunication is very important in this day in age so if you were scheduled for an appointment but you are late due to traffic or for an emergency situation you can use your phone during that situation and explain why you need to reschedule not only that but if you arrive at a destination but having trouble finding a person you need to pick up you can just give them a call and tell them to start heading outside', 'using a cell phone is a big distraction not only to you but to others to everyone has to pay attention to the road just like you will have to it can cause you to swerve stop on brakes to hard not pay attention to your surroundings and last but you least it will cause a wreck you can put others in dangers from your use to the roadhaving 4 mirrors in total is the reason for a car without mirrors you will be driving and have nothing to look forward to and also backwards looking forward is the way to go because if you keep looking at whats beside you and behind you will cause a lot of commotion in traffic if that can cause commotion imagine what looking down at your cell phone can do and what trouble it can put you inexplaining all this to the police is a big mess when the situation can be resolved by just focusing on the road and whats in front of you more importantly is your life and you staying alive if you need your gps to get somewhere its best you buy a phone holder to hold the phone up on your window or just buy a gps from a nearby store', 'should you be permitted to drive a vehicle while using a device in this case you shouldnt because it comes with many risks while youre on the road you put yourself in danger while putting other drivers in danger as well you risk your life with others on the line tooto begin with its a big distraction on the road when you choose to text and drive youre threatening every single driver around you and placing more value on that text message than yourself and your fellow drivers you tend to check your phone so much which can cause you to crash with someone else but also take the focus of your surroundings while driving it takes your focus away from safe driving one single text can make a blink of an eye change your life of someone elses life also when youre engulfed in a texting conversation its easy to forget youre sharing the road with other people it also takes your hands off the steering wheel to answer one single textanother reason that driving while using a device should be allowed is because it is illegal you get pulled over and get a ticket but also if caught many times can cause those digits tickets to go up which means big money tickets it can also rise in auto insurance rates it can lead up to prison time as well is it worth risking your freedommore so is it worth the emotional damage a car accident causes to everyone involvedalso it leads to getting your license suspended the consequences youll face for texting and driving are similar to those youd get for another one of the most serious driving offenses which is a duia third reason that using a device while driving shouldnt be allowed is because it can have huge risks sending or replying to a text requires that you remove at least one hand from the steering wheel so that you can grip your phone and thumb in a reply so not only are you multitasking and not focusing your eyes from the road but youre also trying to deftly use your phone with one hand while at the same time steer your vehicle so not only do you risk crashing with other vehicles but also losing the steering wheel which is the control of driving the vehicle', 'today the majority of people own and operate cell phones on a daily basis many debate on whether people should or should not be able to use cell phones in any capacity while operating a vehicle over time the usage of cell phones has increased drastically fatal accidents cause an unwanted feeling in the end using your cell phone while operating a vehicle puts other drivers in harms way this can be prevented with the simple creation of car gadgets or simply putting your phone on do not disturb or just shut it offin my opinion phone usage in any capacity of moving vehicles should be prohibited a one minute text or even just being on your phone is not worth your life or anyone elses according to bran law firm almost 200000 people die from fatal injuries every year this is equivalent to about one person every three minutes national averages report about 37000 crashrelated fatalities every year this breaks down to about 101 deaths per day in the united states when you are driving a vehicle your main goal is to focus on the roads and everything going on around youmany accidents in america are caused by teens and bad drivers amongst accidents an average of nine teens ages 1619 are killed every day from motor vehicle injuries 2739 drivers ages 1520 are killed and an additional 228000 are injured in crashes a total of 4054 teens between the ages of 1319 die in car accidents 81 of teens killed in car accidents are passengers there are many ways to prevent teen accidents or accidents in general enrolling in driving school it creates great practice from someone who has amazing driving skills dont ever drive drowsy being sleepy can impair their judgment vision handeye coordination and reaction times as much as alcohol and drugs a study by aaa and the national sleep foundation found that individuals regardless of age whove slept two hours or less within 24 hours shouldnt be driving at all and four or five hours of sleep in 24 hours will still leave drivers substantially impairedtoday there are many gadgets that can help the decrease in accidents on instamotor it discusses 5 best gadgets to comply with handfree driving one gadget is scosche magic mount these very inexpensive mounts are available in a variety of attachment methods from adhesive dash mounts to windshield suction cups to adjustable arm mounts and more the best part of the magic mount is that it uses strong magnets to securely hold any phone to its surface weve roadtested these mounts ourselves over thousands of miles and find them to be plenty secure even over rough roads despite the firm grip the magic mount is typically small and unobtrusive so it wont look like a small robot is trying to steal your car when its not in useanother useful gadget is called the motorola roadster pro incar speakerphone if you really dont like the idea of having to pull your phone out of your pocket or purse every time you get into the car to secure it to your dash or windshield however and you dont have bluetooth handsfree calling integrated into your cars audio system there is another class of gadgets that will serve you well the twoway bluetooth incar speakerphone these devices typically clip to your sun visor though some mount to other locations and act as a traditional office speakerphone except that theyre linked to your cell by bluetooth and theyre in your car this means even cars without integrated bluetooth can have the comfort and convenience of handsfree calling without ever touching your phone at all', 'texting while driving is one of the worrying trends in the society both teenagers and adults have developed a habit of using cell phones while driving texting while driving causes distraction and increases their chance of getting involved in car accidents such concerns have been raised by various government authorities in trying to prevent such occurrence new laws have been enacted making cell phones use in cars illegal however not many people follow these laws most people text and drive assuming they can pay attention to other cars texting while driving is dangerous for many reasonscell phone use while driving is the major cause of fatal accident leaving to deaths despite these consequences people are still fixated on their phones that are dangerous to not only the driver but also to other road users according to the recent road statistics more than 22 percent of fatal road accidents are caused by teenagers using their cellphones while driving also the distraction of the roads is cause by teenagers who have confidence that they can text or be on the phone while driving over more than 5000 people have died last year due to texting these accidents are mostly caused by young adults of the age 21 and underfurthermore currently there are only 35 states the us have completely banned texting for all its road users but this isnt enough to stop the problem laws that were banning texting while driving will save many peoples lives with it being that more than 5000 people died in the last year caused by distracted drivers its very important that the government should take stricter action to try to decrease the deaths caused by theses distracted drivers it is necessary for the government to enact unifying laws and stricter punishments for those who text while drivingon the other hand these news laws need to ban texting while driving for everyone not just for young adults because it has similar effects on everyone who does it there should be objection to laws for texting while driving i feel as if each states needs to have similar laws against texting while driving for example massachusetts laws on texting should be a role model for all of the other states massachusetts has the strictest laws on road safety punishment for those found texting while driving should be so stiffened to push people to dig deeper into their pockets to pay more the fine alone is enough stricter regulations should include license suspension to make people keep off their phones while driving', 'one reason why you should not have cell phones is because a lot things can happen which is bad for example you can be arguing with somebody on the phone and not see that the light turned red and keep going and a truck come and hit you arguing while texting can get you into a really bad situation also while texting you will take your eyes off the road and just like that somebody can cross the street or you can run into something if the call or text is urgent just pull the car over so you can reply or answer and nobody gets hurtcell phones are really distractive in way that you think you can drive and text but really you are in a bad crash your brain can tell you to do one thing at a time and when you try and do both you panic and that can cause a crash both driving and texting needs concentrations so when you try to focus on both your mind gets overwhelmed and you crash once you get in the car just put the phone away and out of sight focusing on the road is the main key on the road than textingtexting while driving is very dangerous you need your hands for texting so that requires you to take your hand of the wheel and the car can not be controlled not having a controlled car can lead to accidents being distracted is the main point by how dangerous texting and driving is texting and driving is so dangerous that is way more severe than a drunk driver', 'therefore people should be able to use their phones while drivingcellular devices can be used for many things in a vehicle such as emergency calls these calls may be work related if you have a on call job for example being an on call doctor you would need your phone no matter the circumstances if the hospital needs you there are other emergencies like if your child was calling because heshe were to be stranded somewhere phones may be needed for all types of emergencieswhile driving vehicles many use their cell phones for gps gps is used for getting to unknown locations not only is it used to get to unknown places many also use it to get from unknown places gps can help in so many ways it helps when youre lost and need to find your way aroundcell phones can also be used for daily reminders to get you through the day when driving these reminders can tell you if you have to be at a place at a certain time for example these reminders can remind you if you are losing track of time and have to pick your child up from school they can also help if you have errands you need to run and forget what you have to do these reminders and agenda helps you accomplish goals on a daily', 'is it really that important a text is not more important than your own life so what is you lose you job or your boyfriendgirlfriend or an interview there is always a better job and lover but no such thing as a life thats better than yours just one look can change everything states in the united states are making laws that prevent you from having your phone in your hands lap or chest while texting while driving is illegal in 47 states its hasnt stopped some drivers from doing so not only are they putting their own life on the line they risk others too so the next time you coming from work late night in your feelings texting your ex how you want them back blasting marvins room and jungle by drake just remember that you cant get your ex back when you arent able to walk or worse deceasedtexting while driving is a serious matter lives are at risk due to someone wanting to send just one letter to their friend since when was texting your friend more important than living to see them again some dont even text they just scroll on instagram to see whats happening if we still had flip phones and no touch screen people would just answer a call which is better but still risky because you take your focus off the road texts arent gonna kill you if you dont text back your mom will understandin 47 states texting while driving is illegal but only few have made it illegal to have your phone in your hand or on you body while driving the state of georgia july 4th when they inforced that law they racked up more that 35000 tickets in one day and that says a lot if every state did the same they would most likely accumulate one million 500 thousand tickets in one day thats a lot of lives on the line but people act as if they are masters of texting and driving little do they knowphones are a problem in the car car crashes have rocketed up dramatically since phones have been introduced 2007 was the time the iphone came to be and that was the beginning of something great to turn into a disaster i read in an article that said american will participate in almost 42 hours a week of seated leisure activities by 2030 people dont pay attention where they are going or what they are doing when they are on their phone because they looking down and so focused on their phone i bet if the world was ending most would even know unless they saw it on their phone but by the time they knew it would be too late phones are one worst cause of death due to the lack of attention to everything else on this earth', 'cell phones are all around the world driving is very common around the world too texting while driving is illegal in the united states it is very dangerous even driving while on the phone is very dangerous it can cause accidents it can lead to death sometimes the after effect are worse some people may need their device as part of their profession using a device while driving shouldnt be allowedaccording to reports distracted driving is the number one cause of car collisions the most distracting thing was cellphones a person trying to send a text or answer his or her phone is the leading cause for car accidents httpsseriousaccidents comlegaladvicetopcausesofcaraccidentsdeaths from car accidents caused by texting and driving are insane there are about 3500 deaths each year in 2015 there was over 400000 injuries from texting and driving that is more than drunk driving pedestrians are killed more than vehicle operators nearly 6000 pedestrians were killed by distracted drivers on their phones httpswww millerandzois comtextingdrivingstatistics htmlthe after effects of a car accidents is sometimes worse than the actual accident being injured cause stress sometimes people cant sleep at night because they get dreams and they dont want to relive that traumatic experience the lack of sleep can cause more issues with healthon the other hand using devices while you drive if its your job is acceptable driving people around such as uber and lyft is an exception because you have to be on your phone for directions being a business owner or a lawyer is very difficult because you have to able to answer your phone', 'using your phone while driving is illegal because it distracts people from the road driving and using your phone is very dangerous because you are taking your attention off the road which can increase your risk of crashing into someone or something this is why drivers should not be able to use their phones while drivingusing your phone while driving is very dangerous and can increase the chance of an accident jurrasticaly in 2010 a study was shown that 26 of all crashes were related to using your phone while driving this shows a quarter of accidents come from people who are distracted by their phones instead of paying attention to the road using your phone while driving can not only put the drivers life in danger but everyone around the driver too this is just one reason why you shouldnt be able to use your phone while operating a motor vehiclea second reason to not use while driving is that it reduces your brain activity while driving so even if you are using your phone and paying attention to the road your brain still doesnt work as well while driving the brain isnt meant for multitasking and texting or holding your phone and talking to someone is a lot of work for your brain so it slows down the brain activity you are using towards driving and puts it more towards you using your mobile device this will reduce your reaction time and your full judgement these are just some of the reasons why you shouldnt use your phone while driving', 'lets start with texts social media and any other written phone alert to stop and read this message or update you would have to take your eyes off of the road for longer than the recommended time of the one second it takes to check the rearview mirror it is extremely dangerous to type or read while driving it is a hazard to everyone on the road so it is not just your own life you are riskingas for making phone calls this too should be banned i do understand that sometimes your spouse may call needing you to stop somewhere on the way home or you think it may be an emergency if that is the case then pull over to the side of the road take the call and then return to driving if the call can wait return it later if it cant wait you can always stop briefly there should be no reason to pick up your phone while driving your careven handsfree devices that allow us to talk on the phone while driving with both hands on the wheel are still a hazard studies have shown that while talking to someone on the phone your brain is putting a lot of its energy into the conversation this means that less of your brain is focused on driving the car yes that could also mean a conversation with someone in the car is dangerous but you add in bad reception how uncomfortable the handsfree earpieces are to wear and the annoyance of static or wind and you have a worse distraction', 'texting and driving is against the law its very dangerous and has caused many accidents and deaths in the world being distracted on your phone while driving is not only unsafe for you it also puts other people around you in danger you might think you have everything under control but you never know what might happen paying attention to the road is so important and the first priority you can never give full attention to the road while being on your phonetexting and driving is dangerous in the world because you can lose control and cause a incident due to texting and driving 16 million people a year have been killed or seriously injured statistically we can see that texting and driving is one of the top causes of car accidents in the worldif you know the data on texting and driving you wouldnt want to take the risk the person your trying to contact is not worth the consequence of taking someones life or your ownone of the many consequences for texting and driving is a fine you will have to pay if you get caught texting and driving is against the law in all 50 states any driving courses you may taking the dangerous of texting and driving are stressed even if you it was unintentional you will be charged with murder if you kill someone while texting and driving the law should be very important incentive to not text and drivethe guilt you will feel from taking a life by texting and driving could be unbearable knowing that you killed someone from texting and driving would be so devastational the fact that you could of prevented the accident by just paying attention to the road makes the accident so much harder to deal with distracted driving incidents are easy to avoid just dont use your phone while driving thinking about the damage you would cause from a car accident will make you pay attention to the roaddistracted driving is dangerous for everyone around you there are many consequence to texting and driving fatal accidents is the worst outcome of them all', 'my opinion is that they should not be able to use cell phones in any situation while operating a vehicle i think this for multiple reasons such as they can get into an accident they could harm someone else and they could easily take a life out of this worldmy first reason why i think they should not be allowed to use cell phones is because it could lead to a car accident with someone else for example on the news 24 website the driving states this i was trying to get my phone on the bed behind me it was ringing i did this while i was driving im sorry about this i should have stopped the truck this shows that many people dont think about their surroundings within the reality and rather have their phonesmy second reason why is because they could harm someone else it is proven that nearly 39000 injuries happen during accidents that involve the use of cell phones for example an article on livestrong com states  traffic crashes are the leading cause of death for american teens and when it comes to distracted driving young people are among the most likely to text and talk behind the wheel this proves that many accidents harm other people when the collision happens or within the next few days after the collisionwhile some may say they need it for if their family is having an emergency and they had to make a quick phone call you should still need to think about others and your surroundings and not just yourself', 'today many people both own and operate cell phones on a daily basis so much so that many have developed the tendency to do so while operating a vehicle this current trend of behavior among drivers has caused a series of debates as to whether or not one should be allowed to use their phone while driving due to the many risks that come with a distracted driver thus why drivers should not be allowed to operate cell phones while operating a vehiclewhile operating a vehicle it is important for drivers to stay focused on the road however cell phones are one of the most common causes of distracted driving related accidents the most common causes of distracted driving according to 4 reasons why you shouldnt text and drive by b city of bryan five seconds is the minimal amount of time your attention is taken away from the road when youre texting and driving in addition it generally only takes a driver about five seconds to travel the length of a football field when traveling around 55mph this means that when drivers become distracted by their cell phones they create a large window of opportunity for disaster to strikein most cases people think that they can keep their eyes on the road while operating their cell phone at the same time in contrast drivers who allow themselves to get distracted by their cell phones increase their chances of getting into an accident as well as putting themselves and many others lifes at risk for example a distracted driver is 23 times more likely to be in anhearing 2accident than a nondistracted driver national highway transportation safety administration to continue texting while driving is to blame for 1600000 accidents per year 330000 injuries per year and 11 teen deaths every day national safety council harvard center for risk analysis study institute for highway safety fatality facts therefore it is proven that a distracted automobilist is a hazard for not only themselves but also other motorists and pedestriansfurthermore due to all the costly risks that come with texting and driving such action has been made illegal in many states andrei zakhareuski from driving tests proclaims that those who are caught will be issued a citation by a policeman who will most likely be quite perturbed at the drivers ignorance and poor decision after witnessing the devastating effects of texting and driving at accident sites and believes that   a text message that reads ok isnt worth a couple hundred dollar fine not to mention those involved in a distracted driving related accident risk jail time and most certainly an increase in insurance rates according to 10 pragmatic reasons that will make you stop texting and driving today if texting and driving is included in the police report for an accident or wreck for which you are held responsible youll notice an even more significant rate increase in some cases your policy might be dropped completely such a spike in cost or dropping of a policy would severely impact a driver hence texting while driving is not worth the riskwith the current trend of texting and driving and all its risks included drivers should not be allowed to operate cell phones while operating a vehicle for texting while driving takes a drivers attention off the road and endangers the lives of any passengers other motorists andhearing 3pedestrians moreover texting while driving increases a drivers chances of getting into an accident as follows once involved in a texting and driving related accident either a drivers cost of a premium will skyrocket or he or she will get dropped from their policy to conclude it is not safe nor wise for an automobilist to operate a cell phone while operating a vehicleworks citedzakhareuski andrei 10 pragmatic reasons to stop texting and driving today driving tests 1 may 2019 httpsdrivingtests orgbeginnerdrivers10reasonsyoushouldnttextanddrivelohmann raychelle c why shouldnt i text while driving safety  preparedness sharecare httpswww sharecare comhealthsafetypreparednesstextwhiledrivingb city of bryan 4 reasons why you shouldnt text and drive city of bryan texas 8 januaray 2020 httpswww bryantx gov4reasonswhyyoushouldnttextanddrive', 'driving a motor vehicle requires a driver to be aware at all times of what is going on around them they need to be able to react at a moments notice if a driver is using a cell phone they will not be placing their full attention on driving and accidents can happen when a driver is distracted not only do they put their life in danger but they also endanger the lives of those on the roads with them', 'car accidents seem to have been increasing due to the uproar of phones more people have become distracted whether its texting or driving youre on a phone call or just being on social media while driving and with all these action being done while driving its causing a lot of deaths in car accidents according to the national safety council 12 million car crashes in 2013 involved drivers being on the phone with 314000 of those incidents involved text messages using the phone while driving is reckless and needs to come to an absolute stopas more and more people gain more access to a phone texting and driving or using the phone regardless has almost become normal young drivers are the most at risk because using the the phone while driving distracts the brains and eyes from driving since technology will further blossom in the near future the best way for teens to learn and prevent car crashes is advice from parents parents should talk to their young teen drivers about the safety of driving so they can prevent a car accident of worst parents should also avoid calling and texting their child while driving to insure the safety of their teenits not just teen drivers at risk when theyre using their phone while driving adults are at a high risk too in fact adults are put at a higher risk because studies have shown adults are more likely to use their phone and drive due to them thinking that since they have more experience behind the wheel adults are equally responsible behind the wheel just as much as a teen is when it comes to using a phone in 2012 over 3000 people died in car accidents with someone in either car being a distracted driver if anything adult drivers should be held more to a higher standard simply because they are older and have to lead by example for up and coming drivers who learn how to drive by watching whatever adult drives them around let only it may be more dangerous to an adult driver because 9 times out of 10 they are driving with a passenger or even worse a someones child or a child of their own when driving adults should be more careful while being on the phone and driving because they never know whos watching them', 'cell phones a tool widely used in our society today a cell phone has many purposes it can be used for communication entertainment and information most people have their own cellular devices all around its extremely useful but can also be very distracting leading to mishaps occurring lots of people like you and i have a horrible habit of using our phones while operating dangerous machinery like automotives which increases the risk of accidents occurring laws should restrict the usage of cell phones use while driving on the road to prevent accidents from transpiringdistractions lead to mishaps happening more often increasing the risk of injury to oneself and others around them many people use their cell phones while driving in fact 1 out of 3 people text while driving and texting while driving increases the risk of crashing by 23 times nhtsa 2019 sometimes drivers get distracted but the maximum amount of time a driver can safely divert their attention from the road from is two seconds it takes a driver five seconds  on average  to send a text message and 82 of american teens have a cell phone 52 of these teens note that they talk on the phone while driving and 32 text on the road teensafe 2019 everyday there is an accident and everyday 11 teens die in crashes caused by texting and driving teensafe 2019 this loss of life can be avoided if there are regulations limiting the usage of cell phoneslaws should be kept in place to help prevent the usage of cell phones while driving with these laws unnecessary loss of life can be avoided and accidents prevented every time someone is distracted on the road it increases the risk of a fatal accident many people out there all around should be safe and smart about driving and the more they do the more lives are not at riskwork citeddrivingtests org 2019 driving statistics the ultimate list of driving stats 2019 driving statistics the ultimate list of car accident stats 2019 drivingtests orgdrivingstatisticsnhtsa teen driving nhtsa 23 july 2019 www nhtsa govroadsafetyteendriving', 'first ask yourself if the text or notification you received is more important than your life or than the people on the road with you if not put down the phone and wait until you are at a light or until you get to your destination no notifications are worth someones life or yours you can look at the news or on the internet and see just how many young adults lives are cut short because they wanted to text someone back or make a snap all of that can wait seeing the statistics the death rates even some peoples friends dead because they couldnt wait to text someone back or make a snap just because you got away with it once doesnt mean you should keep trying to do it because all it takes is a couple seconds and then you or someone else is hurt or deadsecondly in 2018 according to the national highway traffic safety administration distracted driving was involved in 2841 motor vehicle crash fatalities among those killed 1730 drivers 605 passengers 400 pedestrians and 77 bicyclists all these deaths could have been avoided if the person could have just waited until they stopped or until they got to their destination your parents tell you to text or call before you start driving for a reason so they wont lose their child or see their child hurt cell phone use behind the wheel reduces the amount of brain activity associated with driving by 37 percent so this shows that texting can make you forget important things you are supposed to do before or while drivinglastly typing text messages reduces a drivers ability to adequately direct attention to the roadway to respond to important traffic events and to control a vehicle within a lane and with respect to other vehicles this shows that the couple of seconds you take to text or look at your phone can take away the attention you are required to have on the road to ensure safety texting while driving could make you miss that there is construction going on someone is walking or etc parents should not call while their children are driving they should call before or after they arrive at their destination if their child is called he is going to look at their phone and some might answer but all it could take is a look and boom the car goes into another lane or they hit someone or another car', 'a cell phone helps drivers with immediate roadside assistance in case of a serious car accident cell phones allow drivers to get directions turn by turn with the helping of gps technology phone cameras are very important in a case of a hit and run accident it allows a person to take a picture of the license plate some insurance companies may require a picture of an accident traffic reports update on a phone in minutes accidents highway closings and also an estimated travel time to their destinationan activity that grabs the attention from a driver is distracted driving being distracted on the road causes fatal crashes many jurisdictions worldwide have made calling an illegal acthowever lots of vehicles have handsfree devices some may say that handsfree activities are not safe handsfree still drags away the attention from a driver on the road distracted driving currently cell phones are the leading cause of distracted driving when operating a cell phone while driving increases hospitalization rate fourtimes higher texting increases the rate to 23more likely to have a car accidentpersonally i think cellphones should not be used in any capacity while operating a vehicle there are many accidents caused by the use of a cell phone a person who operates a cell phone while driving is not only putting his or herself in danger but also others on the road and pedestrians using a cell phone while operating a vehicle is selfish because the lack of control a person has on the road', 'cell phones were introduced in the united states market in the decade of 1980 and their usage instantly grew during the next two decades everyday people die in car accidents because they use cell phones while driving according to research cell phones are leading factors that cause accidents studies show that a cell phone put drivers at a four time greater risk of a crush despite the danger people still use cell phones because they want to be always available and keep in touch with other people also they think that a handfree set is safe because they can drive using two hands moreover they use arguments that cell phones are necessary in emergency situations although some people support using cell phones while driving there is evidence that they are dangerous and people should avoid talking while drivingopponents whose work depends on a cell phone like lawyers or businessmen say that they always have to be available to answer the phone to keep their business running however because of their habits they can create dangerous and hazardous situations like a collision or an accident business issues can be stressful and dangerous while driving because it can cause emotional reactions that can lead to tragedy because of the conversation they might get upset and this can lower their driving ability that can lead to losing control over the car so if people dont make a decision to put away their cell phones their routine can harm innocent peopleopponents say that a handsfree set is safe because people can drive using two hands however handsfree devices dont eliminate the risk of causing an accident and even may it worsen by suggesting that the behavior is safe researches show that using a headset can be as dangerous as holding a phone because the conversations distract drivers from focusing on the road scientists had proven that people talking over the phone image of the person who they are talking to and that doesnt interfere with driving the problem is when a car swerves unexpectedly or pedestrians step into traffic and the mind lacks the processing power to react in time so the problem isnt in holding the wheel and cell phone at the same time which may cause an accident because of lack manoeuvre it is because of conversation and lack of reaction at the particular timeopponents say that cell phones are good because they give an opportunity to make a call in case of emergency however it is an illusion of safety because when people need it the most either they cant find it or reach it because they are stuck in a car people shouldnt fully depend on cell phones because they are not reliable and the trusty solution for the difficult situation is onstar onstar is a service that in case of an accident or an emergency will contact you if you are not able to answer they will contact the police department hospital and fire service giving them your exact gps location therefore nowadays cell phones are unnecessary devices because they are unreliable in emergency situations while on star is always prepared to help you in an accident', 'the new hands free law is a law where no one can hold their phone while driving this has effected people with older cars and even newer cars to this day as this law is in set people have to connect their phone to bluetooth to be able to talk on the phone for example if youre driving and someone calls you have to have your phone connected to bluetooth to be able to talk in some cases this can be bad for the driver and other people driving on the road also if your phone isnt connected to bluetooth while youre driving there can be a high risk of a crash when youre connecting your phone to bluetooth in some cases there could also be an emergency call you have to answer and people that dont have bluetooth in their car can be effected by this law the hands free law shouldnt be a lawalthough the government thinks the hands free law is going to help the risk of crashes the hands free law could be much less safe than using your hands incredibly they also spent less time watching the road even when they were texting by voice stated in the text free is no safer to use while driving the texas am transportation institute studied people driving a closed course under three conditions while texting by hand while texting by voice and by not texting at all it seems as if texting by voice should be safer than looking at your phone but studies show that texting by voice and by looking at your phone the reaction time is still the samethe hands free law can affect you in a positive or negative way yes talking on the phone while your driving is a dangerous distraction many studies have shown that the level of distraction has more to do with the intensity of the conversation stated in the total bans may be impractical debate studies show an in depth conversation that requires a good deal of thought causes a higher level of distraction than a relatively short the time and the length of the phone call is what is dangerous', 'you should not speak with your mobile phone while driving you will be distracted by telephone conversation this is similar to driving while you are drunk if you talk on the phone while driving the reaction may be delayed if accidental driving hazards occur or you will never feel danger until too late more and more research shows the danger of distracting and hands free phones do not seem to bring much improvement if any there are more incidents of speaking on the phone than text messages but this may be due to the fact that the the phone is widely used compared to text messages', 'although cell phones have not been around for a very long time they have become a key part of our lives people use their cell phones for just about everything such as texting talking schedule planning int ernet surfing etc sometimes we can even do two or more of theset hings at the same t ime unfortunately people are also choosing the wrong time to be using their cell phones while they are driving as a society we have become so focused on how much we can do at one t ime that we are willing to risk our personal safety as well as the safety of others because we can t put down our cell phonesusing a handheld cell phone while driving is dangerous to the drive r themselves for a couple of good reasons when driving sometimes it is difficult to focus on t he road which makes it easy to forget that the roads are shared by everyone and not for your exclusive use other drivers on the road take notice of drivers on their cell phoneswhether they want to or not because of the hazards they creat e err atic driving is something that we all get quite worked up about especially if it makes us late or is otherwise a direct inconvenience to usas scott clark veteran web business strategist and the owner of the consult ancybuzzm aven labs says  he came wit hin inches of a bad accident because of a young driver being on the phone and crossing three lanes of t ra ffic at 45 mph drivers are also tailgating you because of again the inability to maintain a constant speed because they are on the phone clark warns of the rusty red camaro tailgating the minivan full of kids drivers who use cell phones while driving are also highly dangerous to pedestr iansfurthermore there are number of traditional ways that distracts drivers attentionthey include talking to passengers lighting and smoking a cigarette eating drinking etc it is pertinent to mention that attention of driver distracted through cell phones means driving and communicating at the same time that increases threats to safety drivers has also to operate both vehicle and cell phone simultaneously that also distract attention leading to dangerous accidents and in some cases resulting in death of driver and passengers in other words cell phones reduce drivers performance', 'many people like to use their phone while driving for many reasons whether its for changing the music or to yell at the gps when you get lost sometimes there are emergency phone calls that make you feel like they cant wait especially with the growth of technology drivers are most likely to grab their cellphones many of these reasons are the main cause of car accidents that happen in todays world with distractions from the road drivers are most likely to swerve into the other lane or crash into another therefore drivers should not be able to use cell phones in any capacity while operating a vehicle for the safety of others and for themselvesdue to a report of accidents that happened in 2018 about 40000 people lost their lives to car crashes and 4637 of those people died in the crash due to cell phone usage texting and driving can cause about 5 times as many accidents as drunk driving technology has grown and so has the usage of cellphones nowadays people use their phone to locate the nearest coffee shop or to watch their shows the thing is they watch it at the most inappropriate time instead of focusing on the road the driver puts all their attention towards the phone causing them to swerve into the other lane or hit another car thats slowing down on the highway in the state of georgia there was a bill that was passed known as the house bill 673 this bill is also known as the hands free law   this law basically says that under no condition should the cellphone be in the drivers hand at any time the consequence of this bill is a fine of 50150 depending on the offence google with this bill passed many more civilians will be able to not use their phone and be less likely to get into accidents because if the driver gets caught with it they will have to pay a fine and get a point on their licensetexting and driving is not only risky but can put the driver and other drivers on the road lives on the line just because a driver can get away with texting and driving once doesnt mean it wont catch up to them one day based on a real event a teen killed a father and his 10 year old daughter after she ran a red light because she was allegedly texting teensafe com the teen was sentenced to 4 year probation and had to do community service not only could the driver take ones life and be scarred but could also do damage to their family members that is why there are clubs and teen meets that talk about the danger of texting and driving and most of the teachers have experience the horror themselves or had lost a loved one due to an event like the mother of a teen in washington who died after she was allegedly distracted by an incoming text while driving teensafe com the mother now helps teens understand the dangers and uses a video that recreates her daughters crash to illustrate the horror', 'in todays society people have and use cell phones cell phones have become an addiction people cant seem to put them down some people feel that people should not use their phones while driving their cars i feel this way too using cell phones while driving have negative consequences in two ways one cell phones distract the driver two cell phones are unsafeto begin with phones can easily distract the person whos driving the car the reason is that when that person is driving his car and when a notification ringer goes off the driver would rush to his phone to see what came up when this happens he would then lose focus on the road and might kill someone whenever someone is driving his car he needs to focus on the road at all times distract driving is one of the main reasons why theres more car accidents in this country especially georgia when the government starts enforcing no phones while driving this will help end distractive driving and less car accidents would happen in cities and on the highway cell phones distracting the drivers is one of the main points why people should not use their phones while driving a carnext drivers who use their phones while driving can be unsafe for the driver and other people who are around them the reason is that when drivers are driving they need to check their surroundings to make sure they do not hit someone or something in the case of using a phone while driving can cause many deaths from getting run over hit from the car or from a car crash this is really important that people need to be aware of what theyre doing because if they make one mistake it can cause a lot of lives safety is really important when it comes to using a phone because people can save lives if they put the phone down and focus on the road so that everyone can create a safer environment for people who want to drive their car most deaths are caused by car accidents due to using the phone while driving because people do not think about being safe not only for themselves but also the passengers who are in the car with them safety is one thing people need to take a stand on because drivers need to realize that if they do not put the phone down then it could create more deaths and less safety in the area', 'many habitants of planet earth have and use their cellular device as second nature cellphones while useful in the sense of communication entertainment and business transactions can be dangerous tools of distraction behind the wheel an example of this would be the statistics based on vehicular manslaughter and other effects of the car accidents that are recorded each year tens of thousands of americans are victims of car accidents every year with the distraction of cellphones being the lead cause for fender benders every year governments officials and representatives are faced with the same issue and must constantly find a solution to the issue of cellphone use behind the wheel the main question being whether cell phone use should be allowed at all while operation heavy machinerythat being said it would be for the better of humanity if cellphones be allowed only when at a complete stop with the vehicle in park the reason why the allowance would be more beneficial than the stripping of the whole ability is because of the instinctual nature of humans to do what seems good even if it is forbidden this can be seen in the book of genesis where eve chooses the forbidden fruit over every other fruit in the garden due to the thought that she would never be able to taste that specific fruit if she were to obey gods orders this shows the weakness in man that even if he or she should be shunned smitten banished or punished in any way by the highest power man shall carry out the forbidden just to have a form of secret libertythis liberty would remain in the citizens mindsets if they had the ability of freedom that would be disguised by regulations the perception of a freedom is a more effective way to regulate the general population that the prohibition of the acts that are the root of a problem such as the case of the dangers of texting and driving the first regulation would include the full stop of a vehicle ensuring that the driver is not endangering the lives of everybody else when they need their phone the second part of the new rule would call for the mandatory parking of the car so that the car has no potential to endanger the other lives on the road these rules would send the message that the nation needs to stay focused on the task of driving and should refrain from getting distracted by phone usethe task of driving is a boring task thus the temptation of using a device to make the job of travel less monotonous becomes more alluring to the driver therefore the use of cell phones should still be partially allowed for those who ride the road every day to ask for the privilege be taken all together would cause uproar and rebellion but to give that chance to change a song on the phone or to reroute the gps software on the phones leaves a margin of freedom for the civilians who are forced to follow the policy without those exact laws every nation will continue to face accidents and become yet another percentage on the yearly submission of the quota for accidents and deaths caused using cell phones', 'should people have the privilege andor the right to be able to have their phone out inside the car while there are some good reasons why you should have the right there are some things that people just cant helpwe already cant stop all the people that use their phones while they drive and now a days more and more people are getting addicted to their phones almost making it impossible to put down even while just having a simple dinner let alone putting it down while there driving most people dont even realize that there even doing it and most care now a days have the bluetooth or people sell bluetooth devices so you can be on call and drive while you drive making it better for the people but as tested on mythbusters changes a little but still distracts you in some sort of way people also know there way around things already and sometimes work or no most of the times it works but some of the times it doesnt under a code of law because there are not enough laws in places or fine print and they can just say oh well its like a bluetooth but it wasnt type of stuff and the court cant do anything about itthis is what i think about the phones calls and driving is may not be clear cause there really is no answer to this question for me personally i dont care what they do or say all i care about is if our people our safe there really is no reason for people to be not allowed to have there phones in a car or make calls or answer them maybe there should a cam in every car that shows whenever your texting and driving or have your phone up against your ear just so if the other person that gets hit they have the cam to see if there were texting or on a call whenever you are driving and get into accident hopefully no but still you would have the prove that they were on it meaning the phone or notthey cops think they can just lie as well but with that cam they cant lie or anything even know they shouldnt even if its an exsaturration it still means something in the court of law it could either mean good or bad for the person testifying what they did or didnt do and with that cam there is no more lying anymore and takes away more problems like for example whowhat happened before the crash how many people were really in the car and finally how they got hit and out of the car if camera is in correct placement in every car sadly they all have to be in different placement in each variety of car', 'your main concern while your driving is that you obey the law and dont get in any wrecks your cellphone should not be your main concern while you are driving because it causes wrecks because your not paying attition to the road most wreck are because of people on their cellphones about 421000 people are injured in wrecks caused by texting and driving texting and driving are the number one reason for wrecks in the ustexting and driving has its pros and cons one pro is that you could get a text about an emergency and you could possibly save someones life another pro is that if your lost then you can look up where you have to go or get directions some of the cons are that you can get in wrecks get injured and even die because you were texting and driving you should be able to be on your phone is there is bad traffic or if your at a red light', 'in these times it is essential to have one even poor people can have an electronic device with that being said they are always in peoples faces everywhere you go when were walking shopping even when people are working they have their phones out but if your job requires this its ok people always tend to be distracted by their devices which leads to them blindly making mistakes that could have easily been avoided if their head wasnt stuck in a phone with that being said the question for today is should phones be allowed while driving in an automobilei personally dont think that phones should be allowed while driving unless you have your phone propped up in your car and youre using it for directions therefore youre in a place of need for your device otherwise i dont think you should be recklessly texting and driving because that doesnt only put you and your passengers in danger of crashing but also everyone else on the road around you these types of fatal accidents always happen because people think they can be aware enough to be on their phone and drive an estimated amount of about 391000 people were injured in texting and driving related crashes in 2017 this goes to show that you should always be careful because i am pretty sure everyone of those 300 thousand people didnt plan on getting into an accident before it happenedtexting and driving is dangerous it kills hundreds of people every year especially since there are new drivers every year teen drivers are usually the ones who text and drive the most which is another reason why teen crashes are at an alltime high that doesnt mean adults dont do it i personally know someone who was always on their phone when they were drivingtexting talking or just catching up on social media which is so irrelevant while you are driving this person didnt learn until they crashed their car by rear ending a truck and can you guess why this incident happened it was because she was talking on her phone while it happenedbeing on your phone and driving can be avoided with all the technology we are starting to have now now we have tools that can hold your phone in a visible position without distracting your view from the road and you dont have to hold it modern vehicles are also being made with built in screens which is like its own phone in the car which you can operate while parked and some features while you are driving society is constantly upgrading so that incidents like these can stop happening so much because they are so preventful we as a society are starting to put our phones down especially because if you are seen by a police officer with a phone in your hand while youre driving you can instantly get pulled over and get a ticket', 'drivers should not be able to use cell phones while driving you shouldnt be on your phone while driving it causes all types of tragic deaths the best way to stop it is to enforce the no use law people die almost every day from this when you drive and text it causes accidents and deaths people have a hard time with texting and driving they just have to pick up the phone that instant to me i fill like electronics are evil to humans because since they dropped the first phone the death rates has increaseusing your phone and driving is just like drinking and driving i saw my mother actually texting and driving and she slam on brakes it was very scary at the moment because we were young people just love to do that im not going to lie if the phone call is important to me i am going to answer it but i will try to pull off of the road first i do not want to cause an accident and hurt myself or someone else just to answer a call or text that can wait', '', 'a common killer in america today is driving while looking at your cell phone drivers feel like it is more important to see who texted them instead of looking at the road which causes fatal accidents drivers must keep the eyes on the road to look for issues and problems in the road or to see if the light is green which as why there are campaigns supporting no driving while texting movement with a speech it can wait signifying that any text that comes through your phone can waitin 2015 reportedly 391000 injuries were caused from drivers looking at cell phones and texting while driving the statistics shows that drivers should never be allowed to look down at their phone while driving and if caught the driver should receive a ticket not only are you putting yourself in danger but others as well when look down for even one second the consequences will be fatalfurthermore the it can wait campaign started by the phone company att in 2010 to raise awareness by spreading this message this message was put on billboards tv commercials and cereal boxes a phone company wanted drivers to know that looking at your cell phone while driving can wait for when you are not drivingin conclusion drivers should not be able to look at their phones while driving for it can prove quite dangerous and fatal if its done the the text can wait until the vehicle is not is parked in a suitable parking spot drivers should not even have look at the phone the phone should be out of reach and out of sight of the driver while they are drivingsources httpswww teensafe comdistracteddriving100distracteddrivingfactsandstatistics2018', 'using your phone while driving is of the most common ways people die or get others killed in america with this problem nobody thinks that it could be them thats dead and on the news from using their phone while driving there are countless reasons why this needs to come to an end in our societymany states have acted on the matter and have a hands free ban while driving nobody ever needs to use their phone while driving you are supposed to be concentrated at all times while behind the wheel one of the main reasons people are still disregarding this rule is because theyre using their phone most times throughout the day and cant be without even while driving the national safety council reports that phone use while driving causes approximately 16 crashes in a single year also that 1 in every 4 car crashes has to do with phone usage while driving laws that were placed on these problems are slowly but surely getting rid of this problem over time', 'nowadays when you are walking or even driving you see a lot of people with a smartphone thats because 6162 of our population has one there are a lot of reasons why people are on their cellphones while driving as well there are pros and cons of driving while texting throughout many years the stats of accidents while on their phone has also increasedeach year there are approximately 16 million car accidents throughout the united states many of those are accidents due to texting and driving almost 400000 injuries a year this means 1 out of 4 car accidents are due to distractions while texting and driving there is an average of 3287 deaths a day just by usage of cellphones while driving stats show that the average age of accidents occur during young ages 1730 years of age in a survey people were asked how many people text and drive and their answer was pretty shocking reporting more than 80 of the people has or done while drivingas to all the things there are pros and cons but in this topic there are cons and thoughts what people think are pros nowadays technology is an everyday usage us being away or not checking our phones consistently makes us feel the need to be plugged in the majority of the scenes where people do this act end up in a car crash hurting yourself or even getting killed is not the only danger you take you also put other peoples life in danger in some cases you could hit someone hurt them really badly or even kill them remembering what you did to the other person would not be your only punishment you could go to jail and spend a long time in their just for the distraction of a couple seconds some of the reasons why people think its a good thing is because they feel the need to be communicated with the world just in case something bad happens or basically if something bad happens on their way and feels the need to communicate it with someone or has an emergency there are also many more reasons why people are on their phoneevery person has a different excuse or reason why they are texting and driving but in overall there are some that are the most common of them all you would imagine that being on a phone call would be top 3 or 5 but its not that commun seeing people on a phone call one of the main reasons its obviously texting another big reason is facebook snapchat any social media a big reason is the camera women just be taking pictures or videos of themselves while on the other side guys have the trend to speed or drive recklessly and record it to show it off you also have people who find it entertaining to shop online or be reading the news as well as checking the weather when people are really bored while driving or get stuck in traffic for a long period of time they are also watching videos or even movies', 'the call or text can wait because you have to take your eyes off the road to answer or reply many times when youre texting and driving you misspell words and then you have to go back and correct it so therefore when you go back and correct it your eyes are still off the road this also means you are risking your life and someone elses life by being on the phone  in addition this leads to my next reasoncell phones are a distraction they are a distraction because if you get a notification youre going to look for your phone you can look down for 1 second and anything can happen also when people talk on the phone they are distracted they have a tendency to look ways that they arent supposed to and they drive crazy', 'as a result cell phones have caused automobile accidents which have unfortunately led to deathsin my opinion drives should not be able to use cell phones if they are held in ones hand however they should be allowed to use cell phones in hands free mode as follows while operating a vehicle1 to talk andor talk text via bluetooth 2 to use maps andor a navigation system and 3 for entertainment purposes such as listening to music and the ability to watch movies especially during cross county traveltalking and texting while driving has become a hot topic in recent years mainly because of more and more humans using cell phones on a daily basis and the rise in traffic accidents due to talking andor texting i will agree that drivers can get distracted while talking on the cell phone while using their handsi will also agree that drivers can get distracted by using their hands to text because the driver is constantly looking up and down which results in loss of concentration and attention to other drivers and to the road however a solution to the problem would be to mandate that all drives must use hands free mode via bluetooth or you will be in violation of the law and can get a traffic ticket if seen using your handsbefore the cell phone humans used actual paper maps to navigate the worlduntil the early 2000s when cell phones came with satellite navigation via goggle maps software and apps such as mapquest and waze which allow the driver to get directions to their destinations via the cell phonenavigation systems usually speak to the driver via the sound system in the vehicle which allow the driver to not use their handshowever there are times that drivers use their hands to see the maps therefore resulting in a traffic accidents a solution to this issue would be to require all drivers to use the hands free mode while using navigation systemsthe internet has allowed for cell phones to have the ability to play radio stations from all over the country and not just local radio stationsthe internet has also allowed for humans to download their favorite music to their cell phones which they can then listen to the music via the phonethe internet has also given humans the ability to watch television and movies via the cell phone by using apps such as youtube and netflixmusic has probably least likely to cause drivers to get distractedhowever movies have most likely caused traffic accidents because the driver looks up and down at the screen losing concentration while drivinga solution to this problem would be that the driver can only listen to music while driving and only the passengers can watch movies while the driver is driving which are all hands free solutionsin conclusion it is my opinion that drivers should be able to use cell phones in the capacity of hands free mode while operation a vehiclethe actual cell phone device is really not the issue that causes traffic accidents it is basically the user lacking concentration not paying attention and not using hands free mode that causes traffic accidents', 'cell phones have been around for years but just in the past few they have become hazardous due to people using them in cars while operating them they have cause death serious injuries and damage to personal and government property i believe phones should not be used in vehicles without a handfree bluetooth system or passenger who can speak while you focus on whats in front of you theres no age group or sex that hasnt been the cause of an accident due to their cell phones there are many reasons technology shouldnt be allowed in vehicles while behind the wheel there just as bad as drinking and driving cellphones are not okay while operating a vehiclesince technology has took thousands are at risk of crashing and dying the us department of transportation reported that cell phone use while driving kills 3000 to 6000 people every year texting while driving is a contributing cause in 25 of all car accidents  resulting in almost 400000 physical injuries texting while driving causes 5 times as many accidents than drunk driving phones have caused a chaotic distraction across america how many more people must die before we give up on using cell phones and drivingnot only does this distraction of cellphones while driving kill but its costing a fortune of money that doesnt help our economy distracted driving and its economic impact highway crashes cost 871 billion a year  277 billion in physical damage and another 594 billion in societal harm such as traffic congestion and lost productivity according to the agency our country is trillions of dollars in debt and this doesnt help over one and half trillion dollars is because of distracted drivers', 'people are constantly using their phones for different things there are many great uses for phones we use them for work to contact some even to watch videos and school research phones are one thing we tend to keep in our hands however this hasnt proven to be to the best choice nhtsa say that at least 1000 people are injured because of phone usage while driving a vehicle in this paper i will be talking about why i think we shouldnt use cellphones while drivingit has been proven that cell phone usage leads to deaths motor vehicles crash daily and usually there are many fatalities as a result of cell phone usage most accidents are caused by teen drivers that just have to pick up their phone while driving the main casualties are pedestrians in the year of 2018 alone around 400000 people were injured or killed it is sad that lives are destroyed by one senseless act such as picking up a phone while drivingdrivers that are seen and caught risk very serious punishment the average cellphone while driving violation cost about 300 per incident this violation also comes with a minimum of four points towards your license this can cost you in other ways as well such as higher insurance premiums once you receive fifteen points your license is revoked and you are now left with finding other means of transportation if you are found guilty of hitting someone you can face one to twenty years in prison one second of picking up a cellphone may lead to lifetime of miserydriving while using a cellphone may lead to a lifelong change with many effectsimagine for just one moment a teen has friends or even siblings in the car with them suddenly the phone rings the teen looks away from the road to answer or check the text message hits a pothole loses control of the vehicle and in now in oncoming traffic the vehicle crashes killing some of the passenger if not all involvedyou now have several different families that have been united by a tragedy that shouldnt have been drivers in the oncoming traffic may be injured as well and now have a lifetime of bills or life changing injuries and scars to hunt them of the day that some teen made a conscious choice to pick up a cellphone and drive one moment is all it ever takes to change a lifeas you can see from the research people are affected by distracted drivers you risk serving jail time and giving up your freedom you can lower the causalities by simple not operating your vehicle while on a cellphone people would worry less and feel safer if they were assured that you are being responsible and choose not to text or talk while drivingworks cited', 'starting in the 1996 cell phones became very important to peoples everyday life cell phones started as huge bulky items that were not able to fit in a pocket now they are an everyday item that is carried in someones pocket purse etc after they became wireless they played a ever bigger role in life cell phones were starting to be used in cars for gps and playing music through bluetooth people started to take advantage of using a cell phone while driving and things went down from there people should be able to use their cell phones while driving for navigation to wherever they are going  to contact anyone for an emergency and hands free answering phone callsgps navigation system is one of the main reason people use their cell phones while driving if driving from georgia to new york with a map or using road signs because you cant use cell phones while driving you are going to make a lot of mistakes and many uturns using a cell phone for navigation is the best way to get to your destination the fastest and easiest according to baldwin ellis  cell phones allow users to call for directions when they cannot find their destinations furthermore many cell phones have gps technology that provide turnbyturn directions to any destination and maps that provide realtime traffic information ellis this shows that gps navigation on cell phones are helpful to show real information going on around the area and send you a better route while using the gps you can also talk on the phone while gps gives you directions on where to go at the same timemost people like to talk to people on the phone while driving whenever your phone rings its an instinct to go reach for it and pick it up its more safe to listen and talk to the person on the phone through the car than holding the phone up to your ear and driving with one hand with bluetooth in a car you wouldnt be breaking the hands free law according to  benefits to having bluetooth in your car article the bluetooth capabilities you end up with will save you from receiving a ticket and also making it easier for you to keep your hands on the wheel this shows that bluetooth is the key to not breaking any law your state made about hands free using bluetooth can also help with texting and driving instead of picking up your phone and texting some back you can use bluetooth the say your message and send text out loud according to  benefits to having bluetooth in your car article many offer bluetooth capabilities which will help to alleviate the temptation of manually texting  dont even think of reach for your phone when you hear you got a text just get bluetooth in your car its better to get bluetooth than being in a car accident for texting and drivingyou will need your phone while driving if something serious happened or is happening and you need emergency services quick without your phone you would be stuck out on the road during the day or even night with no one to help most people definitely dont like to stop for people even when they see theyre in trouble according to nhtsas office of emergency medical services  emergency telephone calls presented to the switchboard in may 2017 was 845674 an average of 273 thousand per day this shows that many people use their phone to call ems when any type of situation or car crash happens', 'as hard as it is to take your eyes away from your phone it needs to happen sending a simple text is not worth a life it can be extremely crucial especially when it comes to texting and driving millions of people have died and killed others due to this epidemic texting and driving has been the leading cause of car accidents in the recent yearstexting and driving is probably the most common in the death of teens not only is it dangerous to the person driving but to all of the cars surrounding the person that is driving the vehicle in agreement with many people texting and driving is similar if not identical to drunk driving using your cellular device impairs your vision and causes you to lose focus on the road we as a nation should make stricter laws enforcing no texting and driving or creating a system that disables your phone the moment you pull out of the drivewayeven though texting and driving is a wellknown known issue our young and older adult are blind to the consequences of it as a result of texting becoming so popular the percentage rate of the deaths due to these types of accidents have rapidly increased texting and driving puts so many unknowing people at risk people think that being connected to other is more important than focusing on the road ahead while being behind the wheel of a moving vehicle drivers should never direct their attention to their cellphones or any other mobile device', 'todays life all around is being heavily influenced by technology almost everyone owns a piece of technology of some sort whether it being a cell phone or computer people are so accustomed to using it they they are even willing to risk the safety of themselves and whoever else is caught in between yes this is about cell phone usage while driving phone use while driving should be banned because it is a safety hazard for the driver andor passengers involved and is comparable to driving under the influencefirst drivers should not be able to use their cell phones in a vehicle because it is a safety hazard is trading your life for a text message really worth it studies have shown that many deaths and injuries on the road are caused by distracted drivers usually the distractions end up being simple texts and notifications that can wait better to respond late than neverdrivers should be banned from using cell phones while driving because it is comparable to drunk driving now that is said because both distracted and drunk drivers share the same trait they both do not show enough mental focus to manage a vehicle both driving types have become an epidemic in todays era and some are even going as far as saying that distracted driving is even more dangerous drivers who text while operating the vehicle are 8 times more likely to crash than drunken drivers according to a fox news 13 study', 'todays generation phones are becoming an issue on the roads and putting peoples lives at riskphones should not be allowed to be touched or played on as you are on the roads so that you are fully aware of whats going on in your surroundings and also not taking your eyes off the roads texting while driving may ruin yours or another persons lifethere are a lot of risks that could happen and put your life or someone elses lives in danger most people pick up the phone because they say its important but even then the phone would be a distraction take a moment to sit and think about how many accidents occur because of a text now think about in old times when texting while driving was not a problem at allauthorities put down strict detailed laws about having your phone in your hand while driving each offence doubles every time you get caught but this law was hardly effective because no one is taking the safer advice to insure the safety of yourself and others on the roads the fines would turn into something more serious and if you got into a wreck injuring another person you could more than likely spent some jail timei know phones shouldnt be allowed to be messed with while you are driving because imagine if it were you in the situation and getting into a wreck all because someone was paying attention to their phone and not the road you could lose it all in a blink of an eye or you could make someone else lose everything dont be that person because either one there are causes and effects to your actions even if you didnt get hurt  you probably hurt someone else that has family that loves them like crazy', 'the issue of driving while the person is on the cell phone and is a major issue in georgia and all the other states of america many accidents are happening daily and people are losing their lives this way many fatal accidents happened and even small kids lose their lives the law has been made in georgia that requires hands free driving that means people can drive and talk on the phone without touching the phone the law is still not as helpful as expected because many people ignore law many peoples mind is still distracted and many people still use their hands for navigation the first reason is many people are still ignoring the law because the charges are very low if they get caught the insurance rates are nit going to hike much for them auto correct mishaps are hiking and people are texting even if it is not legal it is more dangerous than drinking and driving the law must be strict and have a penalty that must be 1000 dollars or get arrested just in case of emergency driver should pull over and talk on the side if the road the second reason is many people have stressful jobs and they attend a conference call or any stressful situations in the family front while driving this can distract their mind from driving and even the handsfree driving law cant be helpful to prevent car wrecks in this situation the law should be made very strictly that person can talk hands free for only few minutes and eliminates other conversations while driving only important conversations should be allowed this law can save so many pedestrians too who runs into a car wreck daily one example is of an old lady in atlanta she was run over by a driver in the evening and he didnt even stop after words two weeks ago according to the news the lady ended up dying on the street right on the spot the third reason i have is people do not talk over the phone always but people can use their phone for navigation music and apps so those things are also distracting the law should be made by the government that they can tract the minimum usage while driving and even if they must set up the navigation they can pull over and do it so they can pull over to the side to use the phone and should be made on the interstate and the street in conclusion the usage of the cell phone in the car cant be eliminated totally because cellphones are for emergency use by only communicating important things and concentrate on driving it can turn into a car wreck and pedestrians can get into an accident', 'cell phones have caused so many deaths or even fatal car accidents over the past in an article by teensafe com it states that in 2015 391000 injuries were caused in distracted driving related accidents this means that in 2015 there were a total of 9 people killed by distracted driving a day imagine you driving down the road not even knowing what the person next to you behind you may be doing maybe their texting on their phone answering a call or even trying to set up their gps and then all of a sudden boom your into a major car accident that could be the death of you cellphones are very dangerous and will continue to be throughout the years and comingso many teens dream of having their own cars some are lucky enough to actually be gifted it to them by their parents the only scary part about it is that some teens dont understand the responsibility behind driving a vehicle without their parents or having someone to make sure they are driving safely in an article posted by teenssafe com it states each day11 teens die in crashes caused by texting and driving that means 11 teens are dead each die due to a simple text sent or received while driving imagine if you had a teen child who drove their own vehicle they could fall into being those 11 people who die a day honestly anyone could fall into that category its not just only teensusing your phone while driving is life risking and very dangerous especially when the person behind the wheel is irresponsible just imagine losing a loved one due to someone who couldnt wait to send a text message till they go to their destination in my opinion a cellphone or any form of technology should be out of anyone who is operating a vehicle hand maybe you wait to get home or wherever you must go to send a message its always better safe than sorry not only are the people operating the vehicle the ones in danger but sometimes even the passengers or the person in the other cars can be harmed or sometimes even end up dead', 'there is no doubt that with how advanced technology has become in the past few years or so people have really advanced the technological possibilities people have now started to make some of the ais artificial intelligence like alexa and google home there are even some cars that allow you to ask it questions in order to find out the weather or finding the fastest route to take to work along with all of these technological advancements comes the ability to hook the phone up to a car using bluetooth now should drivers be able to use their phones in the car while drivingthere are some really good uses for using the bluetooth phone hookup for one in georgia people are not allowed to drive if they have their phone in their hand this is where the bluetooth phone hookup comes in handy because you can do in the car phone calls to work or to somewhere else this feature can come in really handy because if someone takes a day off of work and someone from their work calls them and starts to ask questions they can answer those questions right then and there that way if someone was ever needed to give someone some advice in their place of work they could just click a button and give them the advice over the phonethere is also another use for the phone hookup to the car feature and that is so that someone can get notified if they do happen to have a family emergency this is so that if someone does happen to have a family emergency and they are in the car already all they have to do is drive over to where the family emergency actually is this is so that you can get notified if something bad does happen to someones family member they wont have to wait until they get home to find out what happenedonce again being that when they do find out instead of having to leave the house again to go and see what happened because this person is actually out and about all they have to do is go to the place of the emergency this may be one of the sadder ways that a phone can be used for while driving but it still is one of the more important thingsthe next reason for why people should be able to use their phone while driving is what if someone has to call the police using the bluetooth phone hookup feature that most cars have nowadays someone can call up the police and say that they need assistance with something for instance lets say that someone has a very strong feeling that they are being stalked on the way home from work or somewhere else so they can then call the police for their assistance this can also be a real life saver because this can also be used if someones water breaks on the way to the hospital that way someone can go ahead and let the hospital know what is happening so someone wont have to wait so in short phones can be used to save someones life', 'according to the national safety council 2019 textingwhiledriving report the average cellphone related deaths is roughly 1600000 accidents per year the top two most common distractions of automobile drivers are talking on a cell phone and sending text messagesnationally the state of georgia ranks number four by expert market research www expertmarket com with an average of 1327 fatal crashes caused by cell phoneshowever the number of accidents caused by cell phone use while driving is severely under reported by the national highway traffic safety administration nhtsa www nhtsa govdistracteddriving the issues of cellphone related problems with fatal crashes caused by cell phones continue to grow when you consider the victims who have either died or experienced severe injuries by vehicle operators who have struck bystanders due to a simple message or posteven though the statistics cause concern advocates for public safety feel that cell phone use while driving can be lifesaving for onsite emergencies roadside assistance and even responding to amber alerts both sides have valid arguments that have increased major phone carriers and companys like apple inc have creating phone features such as voice activated handsfree calling do not disturb and disable while driving to help minimize the possibility of anything cellphone related occurring', 'cell phones can be a big distraction in your driving skills the minute you look down at your phone is the minute your life can be taken away you should have an hoaster in your car for your phone so that it wont in your hands the phone should never be in your hands while you are driving the car the road is too dangerous to not be focus on the road you should an 100 focus on the road at all time the only time that you should be on your phone is for the gps or if it is very important your life is way more important than being on the phone scrolling on social media or sending a text why do you think in georgia the cops are enforcing that you must have a phone hoaster to use your phone it is getting serious from all these accidents from the drivers been distracted on the road', 'one way that we can solve this problem is we can put blue tooth radios in our cars so that if someone calls you there would be a way to answer your phone without picking it up most of the newer cars have a bluetooth radio in them so you dont have to buy one although older model cars dont have them you can buy them and install them over half of the accidents in the us happen because of people being or checking their phones', 'there are many accidents when it comes to driving the main cause is distracted driving and that mostly happens due to cell phone use many people have gotten injured or have passed away due to car accidents that come from texting while driving this means that out of every other cause phones are more dangerous than drinking and driving texting is the main type of distraction when it comes to driving texting can cause you lose awareness of your surroundingsto combat cell phone use while driving many states have outlawed the use of cell phones while driving completely this is meant to protect you and others inside you car and others on the road states such as georgia have laws that require you to not use you your phone at all this is strictly enforced by police officers in the statebreaking these laws could get you a fine or jail time this is one of the main things police officers look for when people are driving on the streetsthere are many things you should do on the road when you have your phone with you one of the main things you can do is to put your phone on do not disturb this can help you focus and make you pay attention when it comes to your surroundings not bringing your phone can also help a lot this makes sure that you wont be distracted at all', 'you shouldnt be on your phone in the car because you can get distracted from the road and in up doing something or crashing also if you have someone else in the car with you you will end up putting their life at risk there life shouldnt be in the hands of someone who focus on their phone more than driving texting  driving is more debilitating to your reaction time than driving while under the influence of alcohol that shows that what you are doing on your phone you will be more on that then driving and have more of a chance of crashing or getting in a wrecknow we will be talking about the punishment for being on your phone while driving monetary fines these can range from as low as 20 up to 500 depending on the state is it really worth almost 500 just so you can send that message next is in some states texting while driving can result in criminal misdemeanor charges finally if the offense has resulted in bodily injury to another driver jail or prison time may be imposed you can end up going to jail and or prison just for being on your phone these thing are given to you because of the dangers of being on your phone while driving people who chose to be on their phone while driving are choosing to put other people in danger because you want to see who texted you', 'most of everybody have a cell phone most people life go around a cell phone cell phone causes many problems while driving you can look away for one minute and end up having an accident the national safety council report 16 million crashes every year almost 390000 injuries occur each year from accidents while texting and drivingtexting while driving has become a very big problem in today worlds people check they phones every 5 minutes and faster than that when they are driving texting and driving dont just affect you when you driving it effect the other people in the car and the person you had the accident with the average amount of time a driver takes to type out a text message is 5 seconds if youre driving 55 mph and look down to text for five seconds youve already driven the length of a football field 11 teenagers die every day due to texting and driving teenagers are 400 more likely to get into an accident from texting and driving atts teen driver survey found that 97 of teenagers think its dangerous while 43 of them engage in the activity anyway', 'your friend is driving you home from a party it was the best time of your life you feel drowsy not able to think straight you notice your friend is texting while driving you come to your senses and ask if he can pull over he declines you black out what feels like a couple of minutes later you wake up and notice you were in a coma you ask where your friend is and hes been dead for 2 years this all could have been prevented if he just put his phone down and took you home safe and soundin 2018 deaths related to cell phone use in cars accidents was 4637 in the us alone should you be able to text and driveyour friend is driving you home from a party it was the best time of your life you feel drowsy not able to think straight you notice your friend is texting while driving you come to your senses and ask if he can pull over he declines you black out what feels like a couple of minutes later you wake up and notice you were in a coma you ask where your friend is and hes been dead for 2 years this all could have been prevented if he just put his phone down and took you home safe and soundin 2018 deaths related to cell phone use in cars accidents was 4637 in the us alone should you be able to text and driveyour friend is driving you home from a party it was the best time of your life you feel drowsy not able to think straight you notice your friend is texting while driving you come to your senses and ask if he can pull over he declines you black out what feels like a couple of minutes later you wake up and notice you were in a coma you ask where your friend is and hes been dead for 2 years this all could have been prevented if he just put his phone down and took you home safe and soundin 2018 deaths related to cell phone use in cars accidents was 4637 in the us alone should you be able to text and driveyour friend is driving you home from a party it was the best time of your life you feel drowsy not able to think straight you notice your friend is texting while driving you come to your senses and ask if he can pull over he declines you black out what feels like a couple of minutes later you wake up and notice you were in a coma you ask where your friend is and hes been dead for 2 years this all could have been prevented if he just put his phone down and took you home safe and soundin 2018 deaths related to cell phone use in cars accidents was 4637 in the us alone should you be able to text and driveyour friend is driving you home from a party it was the best time of your life you feel drowsy not able to think straight you notice your friend is texting while driving you come to your senses and ask if he can pull over he declines you black out what feels like a couple of minutes later you wake up and notice you were in a coma you ask where your friend is and hes been dead for 2 years this all could have been prevented if he just put his phone down and took you home safe and soundin 2018 deaths related to cell phone use in cars accidents was 4637 in the us alone should you be able to text and driveyour friend is driving you home from a party it was the best time of your life you feel drowsy not able to think straight you notice your friend is texting while driving you come to your senses and ask if he can pull over he declines you black out what feels like a couple of minutes later you wake up and notice you were in a coma you ask where your friend is and hes been dead for 2 years this all could have been prevented if he just put his phone down and took you home safe and sound', 'however because of their habits they can create dangerous and hazardous problem like a collision or an accident so if people dont make a decision to put away their cell phone while driving they can harm innocent people instead of your eyes locking or glancing at your phone they should be lock on watching their speed and the road', 'using your phone and driving doesnt only put the driver in danger but the passengers as well a life should be way more important than a text message or notification a person could look away for a split second and a crash could happen right in that moment when someone is on their phone and driving theyre very much capable of drifting off just a minor slip up could turn into a major accidentif an accident was to occur due to someone being on their phone while driving that person is more than likely going to be the one responsible distracted driving has become more normal in todays society most people often use their phones while driving because they feel capable of doing so that same reason could be a cause of a death due to an accident it would be much easier to avoid accidents if everyone started off their phones while drivingtaking your eyes off of the road for two seconds increases your risk of crashing people feel as if theyre experienced drivers and that they know what theyre doing thats whats using their phones while driving comes into place they might just be experienced but those around them may not be those around them just might crash because they were the one in their phone', 'people are putting a lot at risk by texting while driving because your not gonna be as focused on the road as if your texting on the phone doing that can highly put risk a lot of peoples life due to the fact of your reaction time is minimized say your driving on the freeway 60 mph and your on the phone your gonna be 50 on the road and 50 on the phone doing that puts so much risk and could potentially end someones lifedeath can be something that can happen if your texting and driving because not being focused can always lead to worst scenarios there are model predicting that text messaging are involved in 616 of all car accidents in the us with that being said theres a chance an accident happening and thats very dangerous people just need to put there phones down and focus more on the road before it potentially ends bad for themsome ways of preventing this would be to tell family friends and organizations to which you belong about the importance of driving without distractions also take information to your kids schools and ask that it be shared with students and parents doing this will be so much awareness and can help so much when texting and driving and safe many lives no one should text and drive and if you need to text or talk on the phone pull over to a safe place set rules for yourself and help someone out ', 'for this reason i think you should always be handsfree while driving no matter whatthink about even at 60kmh your car is travelling at more than 16 metres per second so in those few moments your eyes were on a screen rather than the road you moved far enough to not see a motorcycle a pedestrian or someone braking suddenly in front of youyou being on your phone while driving you put your life potentially at risk and other drivers causing us to have accidents that could have been avoided but now is a serious problem because someone may be hurt a text message or skipping a song is worth more than your life or someones else therefore will driving always keep your hands on the wheel and eyes on the roadin addition being on the phone while driving causes a twosecond distraction increasing the chances of you being in a car crash for instance mobile phone use while driving increases your risk of accident by up to 400 per cent points out that in 2016 alone police in nsw charged 39000 people for doing so 100 drivers a day are busted for it in nsw and vic just put your phones down and focus on the road you dont want to be the person who may have killed someone loved one you never know at the time if it may be more then one person was in the car at the time of the accident and someone may have gotten injured now you have to take responsibility in that situation when it all could have been avoided if you have chosen not to use your phone while drivinggenerally speaking everyone knows right from wrong doing anything in general that may distract you even in less of a second is just something you shouldnt do innocent people have been killed or severely injured due to these kinds of things now someone may have just taken their last breath of fresh air someone may have taken their last steps and is now paralyzed this has been something that has been a problem for a while and should have been put a stop to itin the end we all make our own decisions but deep down we know which one is right no one wants to live with that guilt in their mind for the rest of their life knowing they were the reason someones family or friend passed away dont be the reason be the person who does the right thing and making it safer on the road for peoplework cited httpswww carsguide com aucaradvicewhyyoureallyshouldntuseyourmobilephonewhiledriving33062', 'losing the privilege to drive can be upsetting all the work thats put in just to get the privilege to drive driving is a privilege that we earn and lose this essay discusses the ways to lose and keep the privilege to drive there are multiple ways to lose the privilege of driving but one way is by using a electronic device while behind the wheel most people believe that drivers should not be able to use cell phonestextingetc while operating a vehicledriving while talking on the phone can get others and the driver hurt one example could be hydroplaning hydroplaning is caused by traction and sliding on a film of water using one hand for driving and the other hand for the phone while its raining is a creation of an accident and getting the privilege to drive taken away your driving privileges would be taken away because the driver has a phone in their hand and its not allowed to have a phone in the vision of the driver behind the wheelanother example would be of course texting and driving because once again there is a phone in the hand of the driver instead of both hands on the wheel and no one paying attention to the road this could lead to an accident because many drivers dont know where theyre going and the car could lose control driving with a device in your hand is a distraction because your attention should be focusing on your surroundings and the vehicles on the roadto keep from getting hurt and jeopardizing your life and the life of othersdrivers should follow the hands free law the hands free law is a proposed driving law that states that a driver shall not record or broadcast a video on any mobile phones ipads computers or touching any part of their bodies while operating a vehicle even with the hands free technology drivers are not allowed to write read or send any messages or emails but voice to text is allowed voice to text is a form of speech synthesis that converts text into spoken voice output or when the speaker can speak into their device and it translates their words into a text so that the speaker is able to answer the text message or any other important subject', 'many people use cellphones on a daily basis while driving a car this is a common practice for some teenagers and is a form of distracted driving known as texting and driving in many states it is illegal to text and drive there have been laws adopted in many states to prevent people from texting and driving while in a vehicle even though people do it drivers should not be able to use cellphones in any compacity while operating a vehicle because it takes their eyes away from the road the use of a cellphone while driving is very dangerous careless and cause crashes that hurt and kill peopleadditionally when driving a car the driver should be alert and paying attention to their surroundings the driver should not be dialing sending a text or reading facebook because it stops the drivers concentration from the road texting while driving is the cause of more than 58 of crashes involving teen drivers life is more important than im close or an omg text it takes five seconds to send a text and five seconds to be the cause of a crash that can hurt or endanger the lives of other people the national safety council reports that cellphone use while driving leads to 16 million crashes each year and nearly 390000 injuries occur each year from accidents caused by texting and driving one out of every four car accidents in the united states is caused by texting and drivingfurthermore in georgia laws have been made prohibiting the use of cellphones while driving a vehicle it is illegal to hold a cellphone in your hand or on any part of your body and if violators get caught you will have to pay a large fine the law should be enough to stop people from driving and using their cellphones but its not on the news in cobb county the police dresses up as utility workers at various intersections to catch violators using their phones and most of the time they catch a lot of drivers and give out traffic citationsin conclusion no one should be on their phone while driving because it is a risk to them and other drivers on the road cellphones are a wonderful invention and one of the greatest inventions made by man but texting while driving is very dangerous and can cause death to other drivers this can also result into being convicted of murder and life in prisonreferences1 hafner josh drop that phone its now illegal to hold your mobile device while driving in georgia usa today gannett satellite information network 3 july 2018 www usatoday comstorynewsnationnow20180702georgiahandsfreelawbansholdingphonewhiledriving7527520022 hg org www hg orglegalarticlestextingwhiledriving40319', '', 'when we think of cell phones we think of a device that we cant live without a cell phone is something so essential to our lives that when we use them we tune everything else out we constantly stay on our cellphones to distract us from the problems that are happening in the real world we use our phones everywhere we go but we never watch our surroundings when driving it is important to know your surrounding but when youre distracted by messages and phone calls and social media it puts the passengers and your life at riskeveryday people die in car accidents because they use cell phones while driving according to research cell phones are leading factors that cause accidents studies show that a cell phone put drivers at four times greater risk of a crash despite a danger people still use cell phones because they want to be always available and keep in touch with other people also they think that handsfree set is safe because they can drive using two hands moreover they use arguments that cell phones are necessary for emergency situations although some people support using cell phones while driving there is evidence that they are dangerous and people should avoid talking while driving', 'people driving while looking at their phones has become an epidemic and is a big cause of a lot of accident primarily involving teens who are so distracted by their phones that they are not paying any attention to the road with the growing number of car accidents happening they have put into place the handsfree law so that it is now illegal to be on your phone while operating a vehicleif you are driving while driving a vehicle there is no good excuse for using your phone because anything that is on your phone can wait till after youre are done driving and the car is in park and everyone is safe and not in danger looking away from the road for even just 2 seconds can be the difference between life and death because one moment the roads might be clear and the next you could be rolled over trapped in your car', 'technology has brought us together and it is still developing for even more we have electricity that fuels the car we have cellphones that control tvs and we have a computer that does things humans have hard time doing when technologies combine they make our lives easier likewise using a cellphone while driving is okaypeople may argue that using a cellphone while driving is dangerous but any technology if used wrong can be deadly to not only ourselves but lives around us therefore people should be able to use cellphone while driving but in a manner that is reasonable using gps global positioning system to guide your way or to listen to music is a good example of using cellphones safelyusing a gps system on your phone while driving helps us to get to our destination easier and lets us focus on the road better if we did not have a gps and we were to look for signs to go anywhere we would be very much likely to get distracted or get tired quickly yes it is true that we can replace our phones gps with a gps device but again if the driver is not misusing cellphones it is essentially getting the same job done also because smartphones are easier to control and easier to interact quick than a gps device it will reduce the frustration of the driverlistening to music can help the driver focus better it can also wake up a tired driver up by blasting some music however a gps device cannot do that with its monotone robotic voice it would make the driver get even more bored another reason why a smartphone cannot be replaced by gps device or why we should be able to use our cellphone is that in the case of an emergency drivers can easily access a smartphone and call for help while if you had a gps device not so much', 'to some being on the phone while driving is not a big deal at all while to others it is yet while for those certain people who think cellphone use while driving is not a big deal the statistics would suggest otherwise so far in the year 2018 it has been reported that over 58 of car accidents have been caused by or are linked to cellphone usethis alone would suggest that even for those who do not look at cellphone use while driving as a big deal that it obviously is one as a result of this the hands free law which has been around in some states for decades was recently added and enforced in many other states including georgia in july of 2018 the hands free law suggests that an driver who is caught driving with their phone in their hand will receive a ticket with a fine however you are allowed to use exactly one finger to navigate whatever it is you need on your device while this is an exception is it really much of a difference its still time b being devoting to something other than drivingwhile it is unfortunate for those who are capable of multitasking and are able to drive safely while using their phone overall it is much more beneficial to everyones safety if phones are just removed from the equation all together although unfortunately there are still millions of people who constantly break the laws each day and will continue to jeopardize everyones safety for their own personal satisfaction by using their devices while driving however i believe there are many more steps we could take to help decrease the cellphone use while driving some apps and even cellphones are working to prevent the usage while driving by adding improvements that can monitor when people have began to drive and will lock the phone automatically while some just will block usage unless you are a passenger this program is very helpful and a great encouragement but that still doesnt change the fact that the apps that people tend to use while driving arent doing anything of that sortin many situations people only understand the severity of things once they happen there are two different people int he world the better safe than sorry and the oh nothing will never happen i know what im doing people there are definitely not enough of the better safe then sorry people  as humans we think our problems are more important than others and that is definitely not what driving is about  driving is about watching your surroundings at all times and anything that distracts you from it is something you shouldnt be doingin conclusion cellphones and driving are just a bad combination that definitely has proven not to mix well yet sadly for some it is too large of a task to put the phone down and focus on the road while police and some software developers are doing everything they can to limit the use of cellphones in the car we will continue to see the problem for a while however it has been reported that in georgia since implementing the hands free law there has been a pretty significant decrease in accidents caused by cellphone usage noting that from january to june the percentage of accidents caused by cellphones was 67 but from july when the law was added up to now november accidents caused by cellphone use has dropped to just 39 in the state of georgia', 'in 2018 4637 people died in car crashes due to cell phone use in my opinion i say that people should not use their cell phone while driving people lose their lives everyday just because of a single text or phone call researchers have come to a conclusion that using your phone while driving is 6x dangerous than driving drunk if you answer or check a text that could take about 5 seconds but if you are traveling 65 mph while doing that who knows what can happen in those seconds 94 percent of drivers support a ban on texting while driving 74 percent of drivers support a ban on handheld cell phone use the fact that those numbers do not equal out are problem and this is why i do not agree that people should be allowed to use their phone while drivingtexting while driving is a problem now more than it has ever been as 69 percent of us drivers between the ages of 18 and 64 admitted to using their cell phone while driving during the previous month texting increases a crash by 23 times its a habit that must be stopped across age groups and geographic locations alike 40 percent of teens state that theyve been in the car with a car with someone who was diving when using their cell phone in a way that put them in some kind of danger while the maximum amount of time a driver can safely can change their attention from the road from is two seconds it takes a driver five seconds on average to send a text message besides talking to your teen regularly about this issue and setting a good example by not using your cell phone while driving yourself there are other simple ways to monitor your teens phone use while theyre behind the wheel start by activating smartphone features that help prohibit texting while driving we need to take advantage of technology utilizing apps that allow you as the parent more transparency into your childs whereabouts and driving habitsin my opinion i think people should turn their phones off while driving in this generations words dont mean anything signs dont mean anything there are signs everywhere that say dont text and drive but due to the research nobody is listening companies are trying to go around this rule by making a profit what i mean by that is we say dont text and drive but heres an example apple air pods you simply tap your ear and say text so and so and in an instant your message has been sent to whoever i dont think thats safe either in no way is texting and driving safe even if you try to make it easier in my opinion there is no way that it can be safe if you take your eyes off the road for even a second the most dreadful things could happen to many people die for that one text back that could have waited until you stopped or could have waited until you got to a red light many teenagers dont know that you could ruin your in literally 5 secondsthere is one case in which your life can be saved when texting and driving there is a law called the hands free law texting and driving could either be paid with your life or a ticket in georgia the texting and driving ticket is the highest in the nation if you get caught in georgia that is a 150 ticket for violating the distracted driving law as well as one point on your driving record the highest ticket you could be fined to is 1000 in iowa i think youre better off just following the hands free law more money you get to keep in your pocket then to think about if youre texting and driving theres a possibility of you losing your life and a possibility of you killing someone else', 'should you be able to use your phone while driving i say you shouldnt because it can cause some of the scariest moments that youll ever dreamt of it will put your life at risk and the passengers life as well and you will become a danger to those around while being addictive to your tech especially in the eraputting yourself in threat was it worth it just think about it you are literally giving death an option regardless of how fast you think you can look at your phone without getting in a car accident believe it or not it only takes less than five seconds for everything to change one out of four cars get into an accident and you could be one of them over 330000 accidents are caused by the driver using their phone while driving i know you dont want to die like that or young when your life is ahead of you think about your friends and family that care for you dont be selfish to them all because you wanted to text and drive because it will kill younot only your putting yourself in harm but youre also placing the passenger life in danger as matter of fact their lives are just as important as yours so you shouldnt be careless over 37000 people die in accidents and which 20 of it were the other people in the car i am sure that they didnt want to be a part of those database and being in the position to where their life could be end with a terrible outcome it can cause them to be paralyzed to where they would rather had die in the accident because you the driver decided to not care about the other person in the car by you not being responsible you took everything away from them they will never be active how they were before the accident ever againtexting while driving has done a lot of damage its one of the most dangerous ways to die each year over 200000 had been a car wreck and that number is slowly inclining having teenagers on the road makes it even worse especially in the generation we live in today where its a social media word and everyone is on it nonstop you cant even leave your phone down for not even five mins it must stop cause while we are in this era it will only take a huge downturn', 'fatality is an occurrence of death by accident sure you do not mean harm when you are texting your friend while you are driving but once that sudden stop or movement you did not see causes you to crash you could possibly die or kill someone else no one behind the wheel of a vehicle expects it to be their last time driving however approximately 660000 people are attempting to use their phones while driving according to the national safety council cell phone use leads to 16 million crashes each year on the road nearly 390000 injuries were caused by accidents attributed to texting and driving in 2016 3450 fatalities were caused by texting and driving texting and driving accident statistics also one over four car crashes in the united states are caused by texting and driving in conclusion texting and driving is dangerous to lives of deathtexting and driving is just dangerous as driving under the influence some people would agree that driving while drunk is most common and dangerous thing you can do however the national safety council states that someone texting while driving is six times more likely to cause an accident than someone driving drunk on the road therefore it is more common for people to be distracted by their phones to cause an accident than driving under the influence is reaction times decrease by 35 when texting and driving compared to the 12 decrease when driving under the influence of alcohol steering control while distracted in 91 poorer than those who are driving with full concentration in 2002 there were 12405 drunk driving fatalities masters then thats number decreased to 9296 in 2011 masters however distraction driving resulted in approximately 2600 death in 2002 the number of distracted driving accidents increased by 22 in 2011 and resulted in 3331 fatalities drive to drive texting and driving is just as bad as driving under the influencetexting and driving is now illegal in multiple states which means you are committing a crime when you text and drive according to the insurance institute for highway safety 47 states plus washington dc ban texting for all drivers four states allow officers to pull someone over for texting without any other reason in california the consequence is 20 for the first offense and 50 for each subsequent offense there are other states who take the offense more serious alaska you could be charged with misdemeanor punishable by up to a year in prison and a 50000 fine kill someone while texting and driving and you could be looking at 20 years in prison and a fine of up to 250000 then a car accident would lead to your car insurance to rise according to a group of researchers they found that some kind of texting law leads to a 23 decrease in fatalities for all drivers specifically banning teen drivers from texting reduced traffic deaths in that group by 11 percent in conclusion texting and driving could ultimately cause you unnecessary fees or big time in prison', 'people like me want their family to come home in onepiece and for people to get hurt because someone was playing with their phone is not right at all therefore i say there should be a law against people having their phone out while drivingteenagers are most likely to get in a car accident because of phones i think teens get in more accidents than adults because they have their whole life on their phones and forget they are driving also when they have drama in their life they have to check their phones every other second to see what this and that person said about them then they want to be all over social media to show people they are driving the next thing you know they hit another car and someone is hurt lastly they feel like they must text their boyfriend or girlfriend back as fast as they rather than wait until they are no longer drivingtexting and driving are one of the most dangerous things in the whole world to me i say that because people know that texting and driving is dangerous and they still do it then when it happens they say its not their fault and they know they were on their phone when they see that they hurt somebody they ack like they are scared and sorry but all they had to do is put down the phone and drive the right way that is how most car accidents happen these days it could all be prevented if the phones were put downit is clear to see why texting and driving is not smart just think what if every time you put up your phone you save a family from getting hurt what if it was your family getting hurt because somebody is on their phones how would u feel you wouldnt like it so why do itif you just put the phone down the world would be safer this is something that can be prevented', 'to me phones should not be used on the roads unless it is for an emergency i have personally had an experience when my mom was texting and driving which led us almost getting into a car accident results from using phones while driving can lead to death ptsd depression if you get into a car accident using a phone while driving increases the risk of their lives also the drivers are more distracted making it hard to focus on the road which is leading to crashing when stopped at a red light people feel as if it is safe little do they know it is just as risky because a car can come smashing into you and you wouldnt see it also you can make people mad because the light could turn green and you could be holding up a linefor people to use their phone less there was a bluetooth a hands free thing and air play which all 3 limit the use of the phone where you can just talk it still is not safe but it is not as bad as using your actual phone instead of holding the phone to your ear you just speak call whoever and you dont have to touch your phone it is easier to just wait to text or use your phone than to rather take your life for iphone users apple company made a do not disturb to mute the notifications which is when you wont receive any notifications until you turn that mode off there is also a driving mode you can turn on to send a message to a person who texts or calls you saying that you are driving and they wont see their message until they stop driving and check it', 'every year many people around the world are dying because of cell phone use while driving instead of keeping their eyes on the road people keep their eyes on the phone this leads to crashes death and injuries while cell phone use can be beneficial in times of emergency or while using gps cell phones should not be used while drivingfirst using phones while driving can lead to crashing you can either crash into a sign or into somebodies car this leads to paying somebody money to fix your car or paying for someone elses car because you hit them also your license can get suspended this all happened because you were on your phone not paying attention to the roadnext unfortunately people who get into crashes dont always make it when youre on your phone while youre driving and you get into a crash not only can you die but you can kill somebody else basically because your being irresponsible you can cause somebody to die is it really worth killing somebody because you want to use your cellular device while driving this is another reason phones shouldnt be used while drivingfinally phones shouldnt be used while driving because if you crash and you dont die you cause injuries for life for your victim or you although people sometimes use phones for gps some cars are built for that even phone calls if you want call somebody hook your phone up to bluetooth before driving this is another reason why phones shouldnt be used while driving', 'the age of cellphones started what seems like yesterday and they had already grabbed the publics eye they allowed people to stay in touch even when the ones they wish to touch arent near by this very reason is what created the epidemic and addiction to cellphone connection the connection across all boundaries is whats gotten so many people glued to their cellphones people nowadays cant go 10 minutes without checking their phones almost everywhere you go phonesphonesphones their everywhere in peoples hands to peoples ears in their pockets their unavoidable its even gone so far that many professionals have begun questioning if cellphone addiction is realanother major part of the problem is teenagers as teenagers began to transition into the real world some the first things they get are cellphones and their drivers license the phone almost always becomes an attachment along with the freedom to drive this creates problematic gaps in society many teens are not the most focused individuals they are often guided by impulse rather than intellect and the simple beep of a text message is just the right impulse a simple lol is all it takes to ruin their young lives a few short words could potentially take the premature life of someone all because there hasnt been any real steps taken to not allow this', 'i wondered if anyone ever thinks that cell phones would become a way of life i wondered if anyone has ever been told that talking or texting on a cell phone while driving could be your last call or text to anyone cell phones are our way to communicate without cell phones we dont feel important cell phones and driving allows people to show off to their friends while drivingif a cell phone can easily distract a person while driving than why are they in such big demandcell phones and driving just dont go hand and hand if you turn on the television there is somebody talking about the best cell phone company in america telephone companies should have some responsibility when it comes down to texting and driving the telephone companies have commercials that make a person feel like they have to have the latest phone with the latest techniques and the best 5g plan if people would just sit back and look at how my grandma said she wrote and visited family members growing up in the country do you know how far a country mile is from my house a country mile is a long way it would take me at least an hour to get from my house to my grandmas house in columbus georgia if i wanted to go to my grandmas house in albany georgia i would be walking for at least two days or longer to get where i am goingif cell phones are so great why anyone hasnt came up with a device to turn the cell phone off automatically when driving now that would be technology in the making if telephone companies and car manufactures could come up with a smart car that would be something to drive just imagine riding down the road and you have to call your friend to let him know you just saw his girl riding wither mom in the car right next to him all of a certain the cell phone goes completely dead when you try to text or make a phone call there is no sound and no light on your cell phone technology would be great if that would happen while someone is driving and texting or talking on the cell phone the phone goes completely dead2020 has proven to be one of those years well never forget the texting and cell phone law went into affect in2019 and i still see people driving and talking the law is supposed to punish those people holding a hand device like a phone in their hands while drivingits funny the same people who are enforcing the law the police are the ones driving and holding a held hand device in their hands while on duty well i see the police are the ones breaking the law by holding a hand held device while driving  so who is supposed to enforce the law that we cannot have any mobile device in our hands while driving if the policies breaking the law as well i guess that is left up to anyone who wants to follow the law people are dying each and every day from texting and driving its simple just drive and talk later i know people are going to say im letting my friend know i am on the way didnt you just call your friend to let them know you are on the way before you left the house i feel that laws are made for a reason and they should not be broken by anyone if no one is following the law than why do we have a law', 'we all love our phones now a days and basically ever since they were invented everyone has one or wants one or the newest latest one ever since they were invented in 1700s people have taken the full advantage of the telephone presidents and war sargents used them to win battles and etc now the phone has evolved from tube looking phones to brick phones to flip phones to iphones and to smartphones with all the new technology and apps like facetime snapchat3 games music social media theres almost no way anyone could ever put their phones down but according to statistics in 2013 about 3154 people died in accidents 424000 were injured in 2013 10 of all drivers ages 15 to 19 involved in fatal accidents were reported to be distracted at the time of the crashso the question stands do we need to drive while on your cellphone with all the crashes maybe we should drive without our phones but with the increments in technology we mind as well just use them cars are able to call people just like phones so if you can call people in your car and be distracted anyways when your calling whom ever there putting almost smartphones in the car so you can most defiantly be distracted with that the fact that they are and already are making cars able to drive by themselves is anther reason that is very distracting just as in tulsa the electrically powered car has pilot mode so it drives itself so many people have been distracted from the road and driving because the car can drive itself even though the car can drive itself you still need to pay attention to the roadi do understand that you dont need to be looking down when driving and i do understand that phones are distracting so you picking up a cellphone and calling someone can be distracting also like i said in another essay i did there is a responsibility factor to firstly own a car and secondly to even own a phone it might seem like it is not a responsibility owning a phone but it is when you own a phone you have personal information in it if you were lose your phone and have never put a password or security code on it you can lose your information to whoever has your phone could be a hacker could be a random thieve', 'we all love our phones now a days and basically ever since they were invented everyone has one or wants one or the newest latest one ever since they were invented in 1700s people have taken the full advantage of the telephone presidents and war sargents used them to win battles and etc now the phone has evolved from tube looking phones to brick phones to flip phones to iphones and to smartphones with all the new technology and apps like facetime snapchat3 games music social media theres almost no way anyone could ever put their phones down but according to statistics in 2013 about 3154 people died in accidents 424000 were injured in 2013 10 of all drivers ages 15 to 19 involved in fatal accidents were reported to be distracted at the time of the crashso the question stands do we need to drive while on your cellphone with all the crashes maybe we should drive without our phones but with the increments in technology we mind as well just use them cars are able to call people just like phones so if you can call people in your car and be distracted anyways when your calling whom ever there putting almost smartphones in the car so you can most defiantly be distracted with that the fact that they are and already are making cars able to drive by themselves is anther reason that is very distracting just as in tulsa the electrically powered car has pilot mode so it drives itself so many people have been distracted from the road and driving because the car can drive itself even though the car can drive itself you still need to pay attention to the roadi do understand that you dont need to be looking down when driving and i do understand that phones are distracting so you picking up a cellphone and calling someone can be distracting also like i said in another essay i did there is a responsibility factor to firstly own a car and secondly to even own a phone it might seem like it is not a responsibility owning a phone but it is when you own a phone you have personal information in it if you were lose your phone and have never put a password or security code on it you can lose your information to whoever has your phone could be a hacker could be a random thieve', 'in america today drivers make mistakes because they choose to operate their cell phones while driving these mistakes range from drivers running through traffic lights or stop signs to them actually colliding with pedestrians or other vehicles people should not operate their cell phones while driving because doing so is distracting and can lead to unfortunate occurrences when people operate their phones while driving they are at risk of insurance rates increase being involved in an automobile accident and being punished for negligent drivingone reason people should not use cell phones while driving is because this can lead to insurance rate increases receiving citations can have an effect on insurance rate for example when a driver runs through a traffic light or stop sign and receives a citation by law enforcement this information is generally reported to the drivers insurance company this possibly effect males differently than females according to isabel prontes young men under the age of twentyfive generally pay higher auto insurance rates than young women httpspocketsense com likewise a drivers insurance rate will very likely increase when they have an accident if the driver is at fault of the accident then they have to pay for damages done to the number of vehicles that was involved since georgia has passed the law banning cell phone operation while driving frequently there are victims who continue to break this law and eventually get caught receiving citations tickets causes an increase in drivers automobile insurance ratesfurthermore there are many incidents that can occur when drivers operate their cell phones while driving if an individual is walking jogging and a driver ends up hitting the pedestrian with the vehicle this mishap occurred due to negligent driving moreover some drivers run into other vehicles because they are operating their phones while behind the wheel instead of being attentive to their driving in addition some people actually are on their phone not realizing that they are pulling out in front of another vehicle causing an accident as a result law enforcement suggests that drivers pull over before tampering with their phone or those drivers should wait until they reach their destination before engaging in phone use some accidents due to cell phone use while driving are even fatalfinally there are punishments that should be mandated for negligent driving due to cellphone operation while driving one punishment could be major fines increase for all violators in addition negligent drivers should have to face jail time for this offense particularly when the violator is found guilty of vehicular homicide undeniably no amount of money can replace a life however drivers should be held accountable when they do not drive responsibly', 'in a technologically advanced world like the one we currently live in it is easy for us to get caught up in our cell phones text email and social media link together all of your friends and family in one handheld device with all these things we can do at the touch of a button it can be hard to put the phone down especially while driving what most drivers dont know is that cell phones contribute to a high percentage of deaths and car accidents in teen and adult driversfirst based on a survey conducted by the cdc each day in the united states approximately 9 people are killed and more than 1000 injured in crashes that are reported to involve a distracted driver this is an amazing statistic out of the millions of people living in our country thousands are getting killed and injured by simply looking at a text such a little task and it cost them their lifenext in a study conducted by the national highway traffic safety administration the average driver is distracted by a text for 5 seconds at 55 miles per hour you can travel the length of a football field imagine the amount of stuff that could happen in the length of a football field deer pedestrians sharp turns you name it and if you are distracted by a cell phone you could end up hurt or worse deadso is that text message really that important cant it wait until the next stop if you feel the need to check your phone i will tell you that waiting is the better option if you check it right away you could end up as just another statistic and victim of distracted drivingworks citeddistracted driving  motor vehicle safety  cdc injury center centers for disease control and prevention centers for disease control and prevention www cdc govmotorvehiclesafetydistracteddrivingindex html', 'should you be using your phone while driving a vehicleill tell you reasons why you shouldnt use your phone while driving then ill explain to you what can happen to you if you use your phone while driving a vehicle afterward ill tell you the kinds of consequence you can receive from the situation finally ill give you examples of why its a bad idea of using your phone while drivingshould you be using your cellular device while driving a vehicle in my opinion you shouldnt use your phone while driving you shouldnt use it because you can get distracted easily never know what can happen you might pass a red light and cause an accident phones shouldnt be use for texting nor calling but you can use it to get somewhere in case you dont know where it is you can use your gps but thats itreasons why you shouldnt use your cellphone to begin with its against the law to text and drive secondly you can cause an accident you never know what can happen when you dont pay attention you might pass a light or someone might be crossing the street and you wont be able to see that person youre putting others people life in dangerin this paragraph ill tell you about the type of consequence you can get it is illegal to use your phone while driving you can receive a monetary fine which can range from 20 up to 500 depending on the state also can be charge as a criminal charge in some states using your phone or texting while driving can be a result in criminal misdemeanor charges lastly you can be in jail or prison time if your injury another driver or another humanexample why you shouldnt use your phone first thing first you can cause an accident you put your life in danger and other peoples life in danger you assume that you will have it under control but you never know what can happen any second also you might hit another car or pass a red light these are reasons why not to use your phone you can take an innocent person life and if you survive you will have pain inside you', 'due to many statistics and other research cellular devices are the main causes of car accidents many scientists have proven to us that cellphones put drivers at a very great risk of getting into a wreck even with this information drivers still choose to use there phone behind the wheel drivers have even resulted to using hand free devices because they think that this is safer some people use the excuse that if theres an emergency they may need there cellular device to support the face of using their phone behind the wheel theres a lot of evidence to support why drivers should not use their phone behind the wheelwhen driving its very hard to focus on both the road and your phone its very easy to forget that your sharing the road with other people other people on take notice to drivers being on the cellular devices even if they dont want to or not because of the hazards they create texting while driving is the more dangerous than talking while driving you take your eyes off the road for one minute and boom youve gotten into a wreckmost of the drivers that fall into this category are teens these drivers have the highest fatalities behind the wheel due to using a phone in the state of utah using your phone behind the wheel  and you cause an accident it can land you in jail for up to 15 years most teens use airpods made by apple inc instead of holding the phone in there hand this is even more dangerous because you cant hear your surroundings', 'cell phones were introduced in the united states in 1980 by engineer martin cooper since then cell phones have grown massively more than 65 of americans operate a cell phone one main reason for the growth of popularity is that cell phones give us the ability to reach any person in a matter of seconds almost effortlessly the technology of the cell phone has dramatically changed for example apple and their extraordinary enhancements to their devices over time cell phones are a necessity but not before your life or anyone elses more than 15 million deaths occur a year due to cell phone use while driving cell phones should never in any case be more important than the road while you are driving drivers should definitely know to never use cell phones while driving especially for a textcell phones provide communication with convenience but they also have many other perks including camerasgames etc cell phones can have many different uses all of which can be very useful but at the right time there are multiple ways in which a driver can be distracted while driving they include talking to passengers lighting up a cigarette and smokingeating and drinking etc none of these have caused more deaths than distraction by cell phone in the usa it is important to note that distracted driver attention by mobile phones means driving and talking at the same time which raises safety threats drivers have to control both the vehicle and the mobile phone which makes focusing on the road a lot more difficultdrivers who use cell phones while driving not only endangers themselves but also other people on the road as a result most governments including austria australia switzerland and many more have created strict policies on phone use during driving due to lack of attention drivers react slowly to traffic signals sometimes missing decision making during driving is very important being distracted gives drivers a fraction of a second to make a quick decision in an intense scenario studies have highlighted that cell phone drivers react a lot slower and are more likely to make a mistake on the road', 'first cell phones and humans are like a duo and used by them almost every day humans and cars are also another duo or like a duo but people phones and cars and or driving that personally is not a good idea that is what i will be explaining in this essay is it or it is not a good idea to be texting and driving at the same time many different opinions from different people but here is minenext have you ever been on a road with more than one lane and the person next to you is looking down on their device ask yourself do you think that is safe operating a cell phone is okay and is done on a daily basis people often think that since they have been texting and driving for long periods of time that they are experts and can do it with no problem when in reality anything can happen at any moment you look down at your device and it is certainly not safethen one of the number one causes of death in the world is car accidents usually it comes from texting and driving or even a drunk driver texting and driving is not safe and people should not be able to operate a vehicle and use cell phones why because people die every day from a car accident either because of a device or drinking and driving i believe that it will decrease the number of crashes and save many livestherefore driving and texting should not be allowed very dangerous and you have a high risk of losing your life and others in your car and around your car if you are in a vehicle your phone should not even be your main focus because the road should have all of your attention it is better to be safe than sorry on the road and help prevent many accidentsin conclusion', 'in this essay i will be talking about if people should be able to be on their cellular device while they drive or should they not be able to in my opinion i dont think we should be able to because there are many dumb drivers without phones in their hands and the good drivers turn worse with one in their hands more car crashes will happen and more deaths will come with it i just dont think putting another distraction in drivers hands would be the best option for the roadto start off this essay i believe having any type of electronic device while you are operating a vehicle is a distraction and can cause wrecks and deaths no type of electronic device should be in the drivers hand only type that should be allowed is the phone holders that are legal that clip onto your ac vents but shouldnt be texting on it only phone calls and the driver should always have both hands on the steering wheel as you drive', 'people use their cell phones for just about everything such as texting talking schedule planning internet surfing etcsometimes we can even do two or more of these things at the same timeunfortunately people are also choosing the wrong time to be using their cell phones while they are drivingas a society we have become so focused on how much we can do at one time that we are willing to risk our personal safety as well as the safety of others because we cant put down our cell phones', 'using a cellular device while driving is a dangerous hazard an expanding number of studies demonstrate that driving while at the same time chatting on a cellphone can be very distracting however most states have not banished handheld telephones and none have prohibited all drivers from utilizing without hand gadgetseveryday people die in car accidents because they use cell phones while driving according to research mobile phones are driving components that reason mishaps studies demonstrate that a mobile phone put drivers at a fourtime more serious danger of an accident regardless of risk individuals still use mobile phones since they need to be constantly accessible and stay in contact with other individualspeople state that handsfree set is security since individuals can drive utilizing two hands i any case without hands gadgets dont wipe out the danger of causing an accident and even make it worse by recommending that the conduct is protected inquires about demonstrate that utilizing a headset can be as hazardous as holding a telephone while driving while driving that the discussions can take away attention from the drivers from concentration on the road and other drivers', 'sad but probably truei am a supporter of cell phone usage while in the carthe ability to use a cell phone is necessary in these times it is a on the go kind of world my teachers email me i keep up with my grades i get emails i can check the weather i can keep up with my friends my phone serves as my personal trainer i can check my bank account in the event of an emergency having a cell phone that can allow me to seek help report problems and potentially save lives the importance of a cell phone goes way beyond the option to make or receive phone callsaccording to google in 1973 the first cell phone was portable so it could travel with you this is a game changer i can keep up with family and friends with the capability to use my phone on the go guess what they keep up with me too we are so busy we dont even have a home phone with the capabilities of a cell phone we can run our lives from where ever we aremy cell phone serves as my one stop shop it is always having everything i need with mewith the advances in technology we are now able to pair our phones with our cars either by aux or blue tooth this is genius we dont even have to worry about holding our phone in addition it is hands free and voice activated i am a lawabiding citizen and i always sync my phone after i fasten my seat belti type in my first location to my next to avoid traffic and crasheswith safe phone usage cell phones should be allowed in your car my phone serves as my safety device and my directions i can find gas stations easily or change my driving due to traffic my mom can keep up with me unless i turn off my location', 'do you use your phone while youre driving or do you be in the car with people who use their phone while theyre driving i believe we should be able be to use phones while we are driving for one people always have rode emergencies secondly people be needing directions thirdly to keep up with the weather while travelingemergencies always happen on the road it ranges from wrecks to flat tires people always need road side assistance without a phone how would you call 911 if someone have a wreck and need assistance right away things always happen when youre on the road you can only control the way you drive not the way others drivemost people dont know there way round the whole entire world its not fun to be lost so directions is the key to stay on track we dont want to stop people on the road to keep asking them questions you may say why not just use a map maps are confusing for some people not everyone is like that though some people rather go old fashion also some people might not have extra money to buy a car gps if you have an app on your phone for free why pay money out your pocketweather is important while youre driving some weather be to savior to drive in so checking it frequently is important weather can cause accidents and everything how else youre going to check it while traveling the radio may tell you but what if you miss what you are going to do then', 'in todays day and age we are privileged to have the ability to drive vehicles anywhere that we please the use of technology gave us the responsibility of driving with that being said the responsibility of driving is very important because youre not only putting your life at risk but also other drivers on the road there can be many distractions while you are driving which can cause you to wreck and be seriously injured from it one of the biggest distractions in todays age is the use of cellphones with the improvements made to technology you can use cellphones anywhere on the road which causes it to be the number one distraction i personally feel that the use of technology should not be allowed while driving unless it is under an extreme circumstanceto begin one of the main reasons that causes cellphones to be one of the most distracting items is due to the texting and driving according to the national safety council they reported that cell phone use while driving leads to 16 million crashes each year they also reported that nearly 390000 injuries occur each year from accidents caused by texting while driving with those outrageously high statistics i strongly agree with the idea of doing away with cellphones while driving also 94 percent of drivers support a ban on texting while driving and 74 percent support a ban on hand held cell phone use having that high of a support percentage shows that are many other people who feel the same as i do it is a very dangerous problem that is going on in todays day with myself being a high school student and driver i can first hand tell you this is a major proem with teens i see many of my friends and also other students of my school using their cellphones while there driving and putting themselves in dangerous situations there are many reoccurring issues with cellphones and driving that ill be sharing more of in this essayafter writing my first paragraph i ended off talking about the teens and cell phone use while driving situation as the majority of people know the using your phone is very dangerous and also distracting however with the teens situations there are 16year olds and older who are not that experienced with driving but are also more easily distracted then adults there was a poll made by aaa saying that 94 percent of teen drivers know the dangers of using their phone while driving and up to 34 percent admitted to doing it anyway with this kind of statistic just proves the point of not allowing any use of a phone in a motor vehicle i would also like to talk about the other drivers on the road there are many other safe and focused drivers on the road who are following all the rules of the road those careful drivers have also been the victims and ended up being seriously injured from the distracted driving with phones and also many other reasons i personally have an example to give with this problem my cousin was killed by a driver who was going down a road speeding in the rain and also texting while driving on top of all that phones being used in motorized vehicles is a serious issue and luckily a law has passed in the state of georgia stopping the use of them in cars but hopefully people will start to follow that lawthere are plenty of other distractions that go on when driving a motorized vehicle but the use of phones is most caused these deaths and accidents from distracted driving with your phones can be very managed if people were to follow the law of not using them in the car and to be more careful then these outrages percentages will become more and more less also i would like to express the fact that there are many options in vehicles that allow you to use your devices via bluetooth and voice control so if there was an emergency you can answer and talk on the phone without even having to pick up your phone and looking away this concludes my essay i strongly believe in not using your devices while driving and i hope to have expressed the effect is hasworks cited httpswww edgarsnyder comcaraccidentcauseofaccidentcellphonecellphonestatistics html', 'this essay is about if drivers should or not be able to use cell phones in any capacity while operating a vehicle i strongly feel like drivers shouldnt be able to use their cell phones while operating a vehicle because it can be dangerous for them and everyone else on the roadusing your cellphone can actually be deadly because cell phones can cause inattention blindness while driving you are putting yourself and others around you in danger and placing a ban on cell phone use while driving is proven to be effectiveusing your cell phone while driving is very common nowadays when people use their cell phones while driving it sometimes has a negative effect cell phone usage while driving is a common occurrence in todays society unfortunately it often has a negative impact on drivers using phones and those surrounding them because of the growing popularity of cellular devices in modern society the urge for the public to use their phones frequently is severewhen you are using your cell phone while driving youre doing all three types which are manual', 'the use of phones while driving not only puts the person driving in danger but all the people around them it takes one person to make one decision that can affect the lives of manypeople do not take into consideration the horrible facts about accidents caused by cell phones when choosing to use their phones the national safety council reports that cell phone use while driving leads to 16 million crashes each year it also states that nearly 390000 injuries occur each year from accidents caused by texting while driving and 1 out of every 4 car accidents in the united states is caused by texting and driving texting while driving is 6x more likely to cause an accident than driving drunk but people still to this day do not think about the possible consequences of phones and drivingphones are not always a bad thing in cars when following the right protocols they help with navigation communication and are vital in the event of an emergency many states have banned the use of using a cell phone in any manner without a hands free device which has decreased the amount of phone caused accidents this law although a struggle for some to follow ultimately has everyones best interest people everywhere should be educated about the dangers of cell phone use in cars and about safer alternatives and should be punished for not using a safer solution', 'should you text and drive no you shouldnt texting and driving is a bad thing it can cause accidents and people might die including yourself over 25 million people in the us are involved in road accidents each year of these 16 million have a cell phone involved in them thats the majority of all road accidents in the united states over half the road accidents in the states have cell phones involved and if this doesnt make you realize just how potent it is what will texting and driving should not be allowed because a lot of innocent people each year die because someone wants to be on there phonein most states texting while driving is considered a primaryenforcement violation which means officers can issue citations any time they observe drivers texting and driving others have secondary enforcement meaning officers can issue citations only if theyve stopped drivers for some other offense people can be charged for texting and driving such as monetary fines these can range from as low as 20 up to 500 depending on the state you also have criminal charges in some states texting while driving can result in criminal misdemeanor charges class b or c class b misdemeanors are punished between 90180 days in county jail class c misdemeanors receive the least amount of time usually 30 days or lesscell phone use while driving leads to 16 million crashes each year nearly 390000 injuries occur each year from accidents caused by texting while driving 1 out of every 4 car accidents in the united states is caused by texting and driving over 25 million people in the us are involved in road accidents each year there are more accidents in texting and driving than all the road accidents in the us each year thats a major problemi believe the penalty should stay the same time in jail and the fines that youll receive monetary fines these can range from as low as 20 up to 500 depending on the state time in jail between 90180 days in county jail but the major part of it is if you kill another individual person in the process which i think you should be given major charges fines should be over 500 up to the 10000 range and time in jail should be 20 years maybe more depending on how many people you killedthe conclusion to this is that texting and driving is a major problem and we need to find ways to stop it its only going to get worse because of the new technology that will be coming in the future even though people have habits for checking their phone they should just turn it off and focus on the road that in all should stop the accidents in a hole but sometimes people have import things they need to do i understand but try to find ways to stop you might be even saving your own life', 'in the state of georgia it is illegal to use a cellular device while operating a vehicle i believe that drivers should not be able to use cellular devices in any capacity while operating a vehicle over the past two decades phones and technology have expanded and so have the dangers of getting behind the wheel with a cellular device i believe that no one has a reason to be doing anything other than driving when in a vehicle cellular devices have become a major issue whether youre a senior citizen or a beginner at drivingover the past few years that technology has expanded into many forms more and more casualties have occurred on the roads the united states department of transportation reported that cell phones are involved in about 16 million auto crashes each year meaning that these 16 million car crashes involved cellular devices being a distraction to drivers some of the cell phone related car crashes lead to deaths of the distracted drivers and even the people who werent even behind the wheel there are many different ways to be distracted by a cellular device this includes texting maps email and social mediaemotions over text messages could also effect a drivers state of mind while driving if a driver were to get mad or upset over something they saw or read they could get distracted and lose control of the vehicle also could affect others that are driving other drivers could be in danger if someone cant see because they are distracted texting someone back overall this means that emotions could overcome someone if they used a cellular device while drivingthe law in georgia is called the hands free law in my own words i think of this as both hands on the wheel this is the way that drivers should drive all the time with both hands on the wheel using one hand to call someone could cause you to not be able to react in an emergency if an animal jumped in front of a car of someone using a hand to see the map on their phone for directions it could lead them to crashing and harming the animal because of the panic and only one hand to steer i think that both hands is an important safety when it comes to driving', 'nowadays in modern society there are many ways to interfere with safe driving conditions more specifically something that a numerous amount of people us in their daily lives this object is a cellsmart phone and it can determine life or death there is a time and place for these devices but the road is not one of them yet like every problem there is a solution and the solution to this problem can be fixed by heavy law enforcementthe majority of people own or at least have seen a phone those devices have become more common over the years these devices can become addictive and can lead to bad choices for example if you are driving and you get a text most peoples reaction is to pick up the phone and look at the message even if you think it is harmless you could be in potential dangerthere are many dangers on the road already cell phones usage only makes worsens the fact that there are risks on the road for safe driving conditions you have to keep in mind that if you use your phone while driving that text could be your last help out your community and become a safer driverwhen people ignore the fact that they are not just endangering themselves but also drivers that means the law enforcement needs to step in and take action to correct it that would be the most effective way to simmer down this issue of cell phone usage during a vehicle operation no texting and driving laws will definitely get into peoples head', 'this means that less of your brain is focused on driving the car yes that could also mean a conversation with someone in the car is dangerous but you add in bad reception how uncomfortable the handsfree earpieces are to wear and the annoyance of static or wind and you have a worse distraction although cell phones have not been around for a very long time they have become a key part of our lives people use their cell phones for just about everything such as texting talking schedule planning internet surfing etc sometimes we can even do two or more of these things at the same timeunfortunately people are also choosing the wrong time to be using their cell phones while they are driving as a society we have become so focused on how much we can do at one time that we are willing to risk our personal safety as well as the safety of others because we cant put down our cell phones using a handheld cell phone while driving is dangerous to the driver themselves for a couple of good reasons', 'texting is all throughout todays society like being at fault during accidents when youre at fault for an accident it makes your insurance premium go up and nobody wants to pay extra just over a ticket you will be the liable victim and you will need an accident lawyer and just to pursue a lawsuit however it may be legal in some states its really not the best optionsuddenly youre driving down the street your girlfriend texts you and its a serious emergency but youre on the highway going at a speed of 80 youre ruined you just made your death wish there is no saving you just call it quits then did you know driving at speeds at 55 mph or above you can cover the length of a football field just keep the text message unread people can wait', 'cell phones have become a prominent part of most peoples lives in this contemporary era smartphone ownership is growing rapidly around the world in addition the worlds population is 76 billion with an estimated 14 billion cars on the road that is a vast eighteen percent of the population this leads to the question should drivers be able to use cellphones in any capacity while operating a vehicle i feel as though you should not touch your phone while operating a vehicle a person is twentythree times more likely to have a motor vehicle crash while texting and drivingit maybe argued that people need their phones in dire emergencies this is where the campaign it can wait comes in and other programs to promote wireless usage ex bluetooth thus ceasing any handson phone activity while operating the vehicle bluetooth wireless makes things more convenient for vehicle users calls music listening and more can be accessed using bluetoothwhen texting and driving your focus is mostly on your phone your focus is supposed to be fully on the road not only is there traffic but you also must look out for pedestrians you must be aware so that you can be able to react quickly to pedestrians that arent aware and potential accidents due to poor judgement of other drivers knowing and keeping track of your speed and the speed limit is also crucial you cannot do as listed above when fully submerged in your phoneadditionally laws are being passed to stop driving and using a cellphone in any capacity of a vehicle if seen doing so you will get a ticket as of july 1st 2019 this law was put in place in georgia you would also receive a moving violation moving violations affect auto insurance while cellphones are very convenient we must be able to articulate when and where to use themwe are aware of places where they are prohibited e g court rooms airplanes movies therefore it will take some getting used to not being on your phone at all while driving it is not impossible though we can still receive phone calls especially those very important ones of course as mentioned before the bluetooth may be hooked up to your car therefore one may talk wirelessly whilst driving the conversation may be heard via speakers in the car in conclusion drivers should not be able to use cell phones in any capacity while operating a vehicle it can always waitworks cited1 atampt it can wait take the pledge to drive distraction free atampt it can wait  take the pledge to drive distraction free 27 feb 2020 www itcanwait com2cuffy 2', 'today many people have cellular devices and they can be a constant problem some people have a habit where they look at there phone way to often this is a problem if someone is to be driving and they constantly look at their phones their risking their lives or maybe the lives riding in the vehicle it is very dangerous and raises the risk of car accidents you could have it is also illegal to text in drive because its a safety hazard for driversphones affect society the more they develop and we will continue to buy cellular products we buy these to stay in touch with friends family and the work place or maybe you might have one for research or games the problem with these devices are that people tend to text and drive texting while driving is a risky action to take while operating a vehicle phones are a distraction to people who drive and cant leave the phone alone this distraction is serious it can get someone severely injured killed or even a ticketthere is a law for texting and driving thats good because it can prevent more people to stop texting and driving the law bans cellular use while operating a vehicle so that we can prevent car crashes this law is important without this law there wouldnt be no control on texting and driving most people follow the law but many more people dont there are also certain age groups who text and drive and there are affects from the age groupsdifferent age groups tend to text and drive teens are more distracted by the devices because teens usually text friends a lot and it becomes a habit teens who drive are still learning to drive better and when phones distract them it raises their chance higher than other age groups because their reaction time may not be high as developed drivers adults with higher driving skills who text and drive still have a high risk of a car crash they have better driving experience but its still possible that they could crash crashing is a cause by not paying attention or the other person could be the one that was distractedtexting and driving is as dangerous as drinking and driving texting and driving raises the chance of crashing six times higher than drinking and driving each year at least 16 million drivers have crashed because of being distracted at least six thousand drivers have been killed by being distracted drunk driving causes more than ten thousand lives per year it doesnt matter which one is more dangerous its still a high risk for a car accidenttexting and driving should not be allowed because this can get people injured or killed to prevent texting and driving there should be more officers on the road stopping people from texting and driving this should be affective in areas where texting and driving is high the reason i said areas where texting and driving is high is because if a lot of people text and drive in the same area not everyone is paying attention and this could cause more crashes this will also make people know they shouldnt text and drive because the police are out to give tickets hopefully this idea will work permanently without having police around trying to give out ticketsits good that police give tickets to those who do text and drive they dont do it because their picking on you they do it to help prevent you from risking your life when a officer gives you a ticket this ticket usually comes with a fine you have to pay this fine or there will be serious consequences you driver license may be suspended and you wont be able to drive any where this is bad for people who work', 'it can extremely dangerous to text and drive on the road it put people in danger they are more focus on the insolent paying accident to the road increases the chance that the drive can lose the control of the venice and could cause a crash or even incident a worst case could kill other people is text and drive texting while driving has become the number one driving distraction for many people drivers need to be aware of the dangers and keep their attention on the road not on their cell phones or other mobile devicesthese advertisements are hard to watch no driver wants to think about being responsible for a traffic accident that takes his or her own life or the lives of other motorists or pedestrians nevertheless most drivers still use their cell phones while operating their vehicle while taking a phone call is dangerous enough the advent of text messaging made cell phones even more incompatible with driving a car reading or sending a text or email takes both eyes off of the road your mind off the task of driving and sometimes both hands off the wheelit can be dangerous to text and drive and in the united stated have around one out ten people are killed other people off the earth from text and driving because its an issue of attentionand there is only minimal extra distraction when picking up or holding a phoneit doesnt really help to use a handsfree device merely thinking about something other than the road is enough to strain attention and increase your risk of a crashyou should not text on your cell phone while driving because being distracted by texting is similar to driving while intoxicated texting on the phone while driving can cause you to react more slowly when an unexpected driving hazard emerges or perhaps to never see the hazard until its too late for the other people in the car to not to get hunt other on the road the haved a red light to having crash car and to texting and drive', 'communication is something that has been given to the human race ever since the first man was coined and has been ever so crucial for our development to how we are today we come so far as to create a device to communicate at great distances with a single tap this device is known as a cell phone the device has gone through many alterations time after time to satisfy the needs of the average user cell phones are used on a daily basis and most spend up to nine hours a day this behavior can be described as addicting this addiction causes many people to not be aware of their surroundings which leads to many accidents most of accidents occur on the road drivers should not be allowed to use their cell phones when in use of a motorized vehicle because it increases the chance for an accident and decreases focus during the ridecell phones require much focus in order for one to operate it correctly the same goes for using a vehicle so when you come across someone that is using a cellphone and a car at the same time the chances of hitting something massively increases by almost 900 percent the obvious reason why so many end up in an accident is because if youre in a car traveling at 60 mph then that would suggest that for every second you dont see the road you miss about sixteen meters of distance sixteen meters is enough distance for anyone to be involved in an accident safety councils report that anyone operating a cellular device while driving leads to approximate 16 million crashes per year most of the crashes are generated by younger adults who are just beginning to explore the world but end abruptly caused by the foolish act of using a cell phone while driving some states are now combating this problem by being stricter on what is allowed in during the ride and may lead to a chain reaction for all states decisionsgovernment has had enough of all vehicle users to put innocent live at risk so they have passed bans for drivers so they would be punished if they are caught using a cell phone about sixteen states have banned all drivers to have a cell phone in hand while in use of a vehicle including the district of columbia guam virgin islands and puerto rico in georgia the law has been effective since the first of july last year 2018 and with the ban in place less drivers are causing accidents because of the incentive to pay 50 dollars on their first conviction this is a very good method for reducing the amount of people getting into crashes it gives the tempting drivers to stop using their cell phone while driving there are many more reasons why you should not use a cell phone during a use of a vehicle but these are two that could be major in rank', 'should people be able to use their phones in any capacity while driving they should should people have complete access to their phones while driving no some of the features on phones should not be accessible while driving is there danger with using a phone while driving yes there is but the danger is in most of what is done on a regular day basiswhy should people have accessibility to phones while driving people should be able to because it is their property someone can not deny someone the usage of something they bought with their own money a salesman cant sell someone a fork and plate and tell them not to eat the salesmen can tell the consumer the ups and downs of their product then it becomes that persons choice or whether or not they want to take that risk it is all about personal limitsstating that danger shouldnt be prevented is idiotic but someones argument against something should not be the dangers of it everything including phones and driving are dangerous in themselves but the more they are done the worst they get with this being known would someone try to prevent people from drinking water because some people have died from doing so no they would allow them the knowledge of the dangers and allow them to set their limits the exact same thing should be done for phones while driving', 'studies have shown that cell phone usage while operating a vehicle causes more car accidents than hands free drivingit has been proven that driving without the use of your cell phone is 100 safer than driving while using your cell phone humans should not operate cell phones while driving cell phone usage while driving is unsafe people who use cell phones while driving put their lives in serious dangerhumans should not operate cell phones while driving people use their phones on a daily basis while driving yet they pay little attention to the road while doing so this can possibly cause accidents to happen many people have lost their life due texting and driving and just being on their phones when driving its best to do it safely for the sake of your own like and others using your phone while driving dramatically increases your chances of crashingcell phone usage while driving is unsafe 1 reason why it is unsafe is because you can lose your life just reaching for things while driving takes your main focus off of the road and put you in danger when your distracted from the road anything can happen even if its just a second thats all it takes for everything to go bad for instance the second you look down at your phone for that text message is the same secon a pedestrian can walk across the street or another vehicle can cross your path and just like that your life can be ruined or it can be overpeople who use their phones while driving put their lives in serious danger recent studies have shown that the victims on texting and driving accidents are young drivers and the elderly kids are too attached to their phones and having a car at a young age today is an immediate risk one text message and they instantly have to read the message and at that moment it could be over cell phones should be put away while driving or on a phone holder just to keep things safe all attention should be on the road and if needed a person can easily pull over and make a call', 'technology has made a big impact on the world today the number problem with technology is cell phones we use cell phones all day and night there have been so many accidents and mostly the cost of texting and driving i think that drivers should not be able to use their phones while driving but only if emergency  navigation this will lead to lower accidents in the u swe all want to be on are phones every minute and every second but here are some facts that will make you think twice before picking up the phone approximately 600000 drivers are attempting to use their phones while behind the wheel of an automobile there are nearly 390000 injuries occur each year from accidents while texting and driving the reason its it so high because people are convinced that texting and driving isnt dangerous we need us humans to realize that lives matter so we need to reflect on riskson the day of july 1 2018 a new law saying that  drivers cannot have a phone in their hand or touching any part of their body while talking on their phone while driving meaning you will get a ticket and im pretty sure that nobody wants to get a 150250 dollar ticket for doing something stupid its really sad when you think about it people have developed skills and strategies to make it look like theyre not on the phone', 'today the majority of humans own and operate cell phones on the daily basis many people in today is society who own cell phones operate them while they are driving drivers shouldnt be allowed nor able to use their cell phones in any capacity while operating a vehiclethe usage of cell phones while operating a vehicle is a very debatable topic one example of why cell phones should not be used because they take the person is attention off of the road the usage of a cellular device is dangerous especially when it comes to operating a vehicle people using a phone will be too focused on it and that could lead to an accidentfines have been placed as a consequence for cell phone usage the fines are to get fewer people to use their phones but it really is not much of a help many think they should be able to use their phones so the fines do not really mean much to them for example people say if you do not pay this phone bill then you shouldnt be able to tell me what to do with it in the other case many people do it without thinking about what could happen and how it could greatly effect themselves or the people aroundsuspension of license is also another consequence of driving while using cell phones there is so much that can be looked over but it only takes that one time to do it to the point where you are affected some people will abide by the rules of driving without the use of a cellular device while there are some who do not everyone cannot be spoken for although the majority can be put into the category of people who use cell phones while drivingin conclusion the usage of cell phones has many reason as to why it shouldnt be allowed in my opinion it is better to be safe than sorry in any situation that deals with driving the life is of yourself and others is what really matters at the end of the day waiting until you get home or your destination to use your phone should always be the route thats taken people should always think of others and yourself before you decide to use a cell phone while driving', 'driving with a cell phone has its pros and cons but it really depends on the driver if driving with a phones is a bad thing some people use their cell phone for navigation that could help them get around in an unfamiliar area the cons of it is that some people may be paying too much attention to their phone and not to the road being on your phone could be helpful or dangerousthe reason it could be help full is that it would be easier to call for roadside assistances if i were to have a break down i could call to have my car towed away and have a ride home i also could use it to call for someone else who need roadside assistance and may not have access to it it can also be used for traffic reports if theres heavy traffic or theres been a wreck and you can call for helpthe reason driving with a phone would be bad is that you could easily be distracted by it and can get in a wreck or cause one being on the phone with someone may cause you not to hear someone honking at you teens should not be able to have their phones in hand while driving since they use their phone the most', 'cell phones have taken away from attention and respect all persons cell phone etiquette varies my grandmother only uses her cell phone when sitting at home similar to when she had a landline phone on the other hand my mother uses her cell phone all day and night and appears to be upset whenever her cell phone usage is interrupted i find myself drifting away on my cell phone while in the middle of doing homework and even while cleaningin the article 2019 texting and driving statistics the us department of transportation reported that cell phone use while driving kills up to 30006000 people every year miller and zois 2019  this is because when checking your notifications which seems to only require a quick glance down at your phone that is all the time it takes to cause an accident i have personally experienced being in a vehicle with a distracted driver that was attempting to reply to a text message and slowly lost control of the cars position in a lane what if a car in the opposite lane was doing the same thing at the same time we could have collided easily have you ever been driving just to be stopped at a light longer than the light is red that would be compliments of another distracted driver in front of you and looking down at their phone instead of up at the light then theres the distracted driver that missed the bike rider parallel to them simply because of taking their eyes off of the road brieflythe thought of having your emails social media and even a dictionary right in the palm of your hand has to be the best invention of the new millenium with that being said it causes us to adapt to checking those many notifications instantly even our parents are pleased with the ability to access their children at any time and any place so much so that even my mother expects a speedy reply or answer even during times of school or work car makers even started to incorporate cell phone usage during driving with the bluetooth features and auxiliary cords now rather than drivers texting they have begun sifting through their various playlist and music apps rather than listening to the radiolastlywe have the unpredictable emergencies that happen on the roads if we are distracted by our cell phones that causes a delay in our reaction to emergencies ive often been driving myself and witnessed another driver having a tire blow out if i was distracted by my phone that would have prevented my quick thinking and ability to avoid the collision i have also driven behind cars with missing brake lights the only way i knew they were about to stop was because of my ability to visually scan my surroundings and to be aware of when the light changes or if i need to quickly switch lanes to avoid hitting them from behind what about the recent incident of a tree collapsing on the highway if everyone was distracted everyones ability to react would be compromised causing an even larger highway collisionin conclusion i am anticell phone usage while driving the bottom line is when you are driving the operation of that vehicle should be your only concern things can happen in an instance and you have to be fully alert to react resist or prevent from colliding with other cars texting and scrolling on social media can wait until youre at your destination think of it this way to use my phone while driving could mean life or death if you ever thought about a friend you forgot to call back or a text to reply to it can wait a prompt response is not worth your life or the lives of the people around you remember states nationwide are turning into hands free states with a law that requires you to be free of any device while driving if anything else a reply is not worth the fine or the points on your license', 'many people think they should be safe if they only check their phones for a short period of time this is negligent of the fact that a quick glance at their phone could be all it takes to get into an accident if youre driving on a highway and decide to check your phone for a minute the distance you would travel without looking at the road would be the length of up to 500 carsimagine how many accidents you could get into if you consider the fact that people need to slow down or change lanesnot only does texting pose a danger the constant thought of notifications and texts that you might be alerted to can be dangerous if you cant focus on driving and you keep getting notified of more and more texts or social media feed updates you would be more convinced to check your phone the safest thing to do would be to keep your phone on do not disturb or silent if you dont think about your phone the safer you will be as the temptation to use or check your phone would be diminishednow you might be thinking what if theres an emergency and i need to be contacted immediately the safest thing to do would be to utilize what most cars come with the ability to call someone without using your phone directly in that case instead of being texted you could call or be called if youre on a phone call you can still keep your eyes on the road and theres less of a danger', 'today the majority of humans own and operate cell phones on a daily basis cell phones have not been around for a very long time they have become a key part of our lives so many people now days use their cell phone for just about everything such as texting talking face time and games also they think that handfree set is safe because they can drive using two hands moreoverthey use arguments that cell phones are necessary in emergency situations although some people support using cell phones while driving there are evidences that they are dangerous and people should avoid talking while drivingpeople these days rely heavily on cell phones to perform daily activities cell phone are used for phone calls email sending text messages and performing other tasksas a result an increase of accidents and fatalities have occurred because of the use of cellular phones while driving it should be banned before more deaths calculate for something that can be avoided however the dangers present themselves when we get behind the wheel of a car and carry these habits of cell phone addictions with us a usage of a cell phone should not be displayed at any point while driving it can wait many have had accidents even deaths because of reading or of writing a simple text messages no text is worth dying for', 'cars have been out for many years and car accidents have happened a lot in each year accidents due to phone usage leads to 16 million deaths and that should be lowered each year more and more people still use their phones while driving but its a bigger percent of adults who use them while operating a vehicle the people driving think they can multitask but imagine just driving to the store down the street and you look at your phone for a quick second but then when you look up all you see is your life flashing in front of you i dont think driving and using a phone is eligible at any time because driving safely is better than taking a lifedrivers should be more cautious when driving because you never know if the person next to you is using the phone while driving georgia came out with a law this year where if you get caught with a phone while driving you will get a ticket georgia is starting to take more responsibility on the hands free law which is good because we are getting tired of hearing someones son or daughter being ran over due to a driver not looking at the road when they need to adults who have been through that are probably in jail and some say they cant live with it on their conscious they feel the pain they put the childs family through they encourage people to please put the phone down while driving because they say its not worth looking at a text and taking a lifethe rate of jail inmates keeps raising and in order to drop this number we as people have to encourage people to stop texting and driving people feel bad about losing someone due to this situation but then go on the road while using the phone in an operating vehicle once reality hits them in that moment i think people would than start to make a change cars should have a sensor where if it detects that you are on the phone the car will automatically not cut on and wont let you drive until your phone is put up if the car detects that youre on the phone while driving it will automatically pull over and cut off and wont cut on until you put it away', 'in todays society everyone is forced to find ways to be the most productive they can possibly be in order to complete their daily taskscommutes to work are longer and the accessibility of cell phones has never been so handy but also so lifethreateningpeople spend so much time in their cars multitasking especially in terms of checking messages and emails while in the car is becoming a norm in society teen driver sourcebut texting and checking messages unfortunately is not as harmless as people assume it to be when they are checking their social media feeds during standstill traffic or at a stoplightjust in 2013 alone there were more than 12 million car crashes in america and of those 12 million nearly 341000 of those were caused solely by texting teen driver sourcecell phones in the car are more than just a distraction but a danger to the driver of the vehicle as well as everyone else on the roadsome states within the united states of america have banned using their cell phones while driving such as illinois but not every state has yetwhen one is distracted on the road their attention to detail decreases their reaction time slows and they are more susceptible to accidents than they were before picking up their phoneswhen it comes to driving on the roads the use of cell phones while driving should not be legal around the country because it increases dangers on the road increases driver stress and it damages our brain health over timethe first and most obvious reason as to why using cell phones on the road comes down to the fact that being distracted leads to potentially more accidentsthe national highway traffic safety administration conducts surveys every single yearduring 2017 3166 people died due to distracted driving federal communications commissiondistracted driving entails more than just texting but when further studies were conducted as to the specific causes of the deaths andor accidents on the roads more information supports the dangers of cell phone usevirginia tech transportation institute vtti performed a study that found the average amount of time a person takes their eyes off the road when receiving a text is 46 seconds and a lot can happen in that short amount of time it still worksthe person in front of the driver could brake suddenly and if the driver is not alert and paying attention they could end up rear ending the person ahead of themif the numbers regarding deaths on the road in relation to cell phone use are not as shocking as one might think them to be its important to analyze the total number of accidents instead to provide more clarity on the subject matterjust in a single day alone according to the federal communications commission 9 people die in accidents and nearly 1000 people are injured every single day as a result of distracted drivers federal communications commissionover the total year thats nearly 365000 injuries and over 3000 deaths because of people becoming distracted on the roadif thats not telling of the dangers of texting or checking phones while behind the wheel then taking a look at how it can impact a single driver is significant to this argument as wellwith distractions the level of stress drivers may feel on the roads increasewhen it comes to new drivers this is a very serious issue as they are both new to the roads and inexperienced in the typical driving routinenew drivers have a lot to worry about and adding the stress of text messages or phone notifications makes it more difficult to be safe and present when behind the wheelfor new drivers and parents alike there are several recommendations that the teen driver source makes complete calls or texts prior to getting into the car get directions and figure out how to get to your destination beforehand and check in with friends or family only after arrival teen driver sourceall of these are great tips for new drivers to remain safe while behind the wheel but texting poses a threat to their attention on the roads as well as the added stress placed upon them on top of remembering all the other new skills they are learning as new drivers42 of high school students in a recent study on teen driver source conducted in 2015 admitted that they texted within the last 30 days teen driver sourcemultitasking promotes more stress as told by many studies accumulated by organizations studying drivers and their habits while on the road and for new drivers attention to detail is imperative it still worksif high school students admitted to driving and texting at the same time many of them also admitted that they forgot to wear their seatbelt while driving which further would increase their risk of injury or in the worst case scenario death teen driver sourcethose under the age of 20 years old are more prone to distracted driving so it is important to take matters into their own hands it still worksteens and all drivers alike are encouraged to not only put their phone away and take care of tasks before turning the key in the ignition but to also put their phone on do not disturb a feature available from nearly every phone today teen driver sourceeliminating stress and being entirely present in the activity of driving is a must and for new drivers and experienced drivers alike if everyone can be mindful of their habits on the roads stress will decrease as well as optimal brain usagein terms of health using cell phones while driving is not a great decision for anyonecell phone use while driving has been said to reduce brain activity by about 36 while on the roads which contributes to a greater risk of injury andor death and accidents teen driver sourceover time however this habit could contribute to other areas of lifeusing cell phones while driving could translate to other aspects of a persons life leading to what could be perceived as an addiction to technologywithout constant connection to cellular devices it could not only impact someones attention on the roads someones brain health and optimization but also what could become of someones productivitythis is not just a matter of driving but a matter of quality of lifewould it be productive or even healthy for someone to spend their entire lives glued to their phone inattentive to the world around themwhen it comes to driving on the roads the answer is clear using cell phones while driving leads to less productivity and alertness and the consequences are immediately presentif society does not take accountability for ones deliberate attention to detail while on the road theres more at risk than just one missed text or a late work assignmentpeoples lives and health are at stake as well as the quality of their daily routinealas cell phones are a great part of the world today but they do not need to hold a great place of importance when behind the wheelits more than just health and brain related issues or even the amount of stress drivers of all experiences face but its about dangeris it worth the risk to send that text to a friend while on the way to ones destinationtheres advertisements stories news articles and movies about the topic floating around but some people dont take it as seriously as it needs to beits not about collective action or rather many people doing the same thing at once but about many people deciding to take action on their own accordso it is up the individual take action and be safe or increase the risk for not only one person but the lives of the many people one might face on their daily commuteits all a choice but either way the future will show the consequences of what society decides to make of this informationworks citedcornell scott what are the dangers of using cell phones while driving it still works it still works 10 jan 2019 itstillworks comdangersusingcellphonesdriving1253 htmlfederal communications commission the dangers of distracted driving federal communications commission federal communications commission 10 may 2019 www fcc govconsumersguidesdangerstextingwhiledriving', 'today the majority of humans own and operate cell phones on a daily basis a growing body of research shows that driving while using a cellphone can create dangerous distractions however many states do not have bans against the use of phones while none have forbidden the use of handsfree devices opponents of the idea claim that cellphone bans are difficult to enforce while others claim that drivers also engage in other distracting activities such as eating listening to music and arguing with their children nevertheless a review of the statistics indicates that cell phone use even handsfree increases the likelihood of fatal incidents which provides justification for the banshundreds of research studies across the world have highlighted the various risks of cell phone use among drivers having conversations on a phone while driving increases the likelihood of fatal incidents by 400 walsh et al 1896 therefore cell phone use creates more risk than other distractions such as reading billboards or having conversations with passengers a study sponsored by the harvard center of risk analysis concluded that use of phones while driving contributed to 6 of crashes delgado et al 17 texting and driving also present a significant problem especially among the younger generations research shows that drivers using mobile phones decrease their visual scans of the road have a higher probability of weaving in their lanes on bends and have slower reactions to hazards due to having one hand off the wheelthe act of conversation itself also creates a distraction while focusing on the road requires a certain amount of cognitive processing the complexity of conversations also engages cognitive resources mris indicate that during driving people exhibit extensive stimulation in the parietal lobe of the brain mainly associated with spatial processing however when performing dual tasks such as having a conversation activity in the temporal lobes rises significantly signifying processing of auditory stimuli fitch et al 712 the rise in temporal lobe activity corresponds to a large reduction in parietallobe activation which indicates that conversations require more attention which is diverted away from the driving task if a driver chooses to prioritize a conversation then it reduces their focus on the road thereby increasing the likelihood of a crash while some may argue that the use of handsfree devices reduces the risk of a crash research provides contradictory results a study on the cognitive effects of talking on cellphones concluded that while participants often crashed while chatting drunk drivers had reduced likelihood of a crash lipovac et al 136current legislation on cell phone use while driving is limited as legislators do not acknowledge the risks of both handheld and handsfree cell phones moreover opponents of the motion claim that such laws are unenforceable due to the resources required to monitor all drivers however a review of a persons billing records can determine whether they were using a phone while driving moreover aggressive enforcement may also deter other drivers from risky activitiesdespite the risks associated with cell phone use while driving most states remain hesitant to implement appropriate bans statistics indicate that cell phone use accounts for a significant portion of car crashes due to the limited focus on the road bans would work to increase awareness of the dangers in addition to reducing fatal incidencesworks citeddelgado m kit kathryn j wanner and catherine mcdonald adolescent cellphone use while driving an overview of the literature and promising future directions for prevention media and communication 43 2016 79fitch gregory m et al the impact of handheld and handsfree cell phone use on driving performance and safetycritical event risk no dot hs 811 757 2013lipovac krsto et al mobile phone use while drivingliterary review transportation research part f traffic psychology and behavior 47 2017 132142', 'phonesnow a days we use phones for many other things other than calling our phones has been changing and still changing and adding more options other than communication such as apps apps are mobile applications that you can download on your phone there are just so many things that we can do on our phoneswe may wanna take a picture while we on the road or we may wanna watch a movie on our phone but like i said before we need our phones for many reasons and im not just speaking teenagers im speaking for everybody because now a days we live and run on our phones so only thing i can really say about texting or anythingthat has to do with a phone in driving is stay safe', 'everyday people die in car accidents and or get injured very badly because they use cell phones while driving it is illegal in many states and it is bad to use handheld devices and drive because these actions could lead to vehicle crashes drivers should not be able to use cell phones in any capacity while operating a vehicleone reason drivers should not use cellphones while texting and driving is because it is illegal in most states if drivers are caught using their cellphones while driving they will be forced to pay a fine fines can cost from 20 to 250 dollars depending on different aspects this fine is supposed to intimidate people when they use a cell phone while driving people need to take caution of their surroundings so there are no wrecks therefore if you look down at your phone even for just a second a lot could happen which is why you need to be more alert while drivinganother reason why not to use a cellphone and drive is because there are alternatives to cell phones that are much less dangerous for example the earpiece can be used to accept calls and to talk into this way you can keep both hands on the steering wheel do not have both earpieces in so you can listen out for othervehicles and your surrounding another hands free device is a car kit if you do not have one in your car you can always buy one car kit is basically a touch screen radio and instead of texting you can voice your text to the carkit it is okay to use your phone as long as your car is in p park', 'cell phones are a part of everyones life in the twenty first century society uses them for everything from keeping up with social media remaining in contact with people personal entertainment and so much more with so many people in possession of a cell phone it is no surprise that they use them at inappropriate times one of those times is while driving the use of a cell phone while driving is not only dangerous but irresponsible i think drivers should not use their phone while behind the wheeldriving while on a cell phone is almost as bad as driving while under the influence in the article livescience it says studies show that driving while talking on a cell phone is extremely dangerous and puts drivers at a four times greater risk of a crash said janet froetscher president and ceo of the nsc driving drunk is also dangerous and against the law when our friends have been drinking we take the car keys away its time to take the cell phone away this shows that not only is driving while on the phone four times more dangerous than driving without a cell phone but it is also as dangerous as drunk driving cell phone use while driving is also common amongst teen drivers according to the national highway traffic safety administration 3166 people were killed in 2935 distractionaffected crashes accounting for 9 percent of all fatal crashes in the united states this statistic shows that multitasking behind the wheel is dangerous and becoming a lifelong risk knowing these statistics drivers should take more caution and families should take control of this riskpeople might argue that they should have their own choice whether to use a cell phone while driving in the article  stop texting and driving since each driver recognizes the potential dangers they could involve themselves with if they choose to text and drive a law should not dictate a ban on texting and driving behind the wheel this statement from the article shows that people think they should have their own choice if they want to text and drive and it shouldnt be a law humans will always make mistakes while driving in the the article fee it says earlier government studies have repeatedly found other distractions to pose a far more serious problem than phonerelated distraction according to 2010 national highway traffic safety administration data cell phone distraction has barely budged as a fatal crash factor ranked behind drivers being lost in thought this has not led to calls for nationwide prohibitions on daydreaming while driving in the year of 2010 cell phone use while driving wasnt the most dangerous thing to do while drivingin the article the zebra texting while driving statistics from 20122018 say that 14 of distracted driving deaths were attributed specifically to cell phone use as opposed to other forms of distracted driving', 'first is car crashes car crashes are very common sometimes it can be because people dont know how to drive but they are mostly caused because of people looking down at their phone instead of looking at the road these are liabilities because you can really hurt someone or even take their life texting and social media are taking all of the attention away from you looking at the road why not be smart and just put the phone down for a few minuets and just relax and drive it can save a lifenext is running red lights think about all of the things that can happen if you run a red light a major ticket a bad crash and even a life just all of the bad things that can happen just putting the phone down can prevent all of the bad things that can happen to you and your loved ones say your driving on a major highway maybe i95 there is an intersection in the middle of the road and you need to see the red light because its about to turn if your looking at your phone and miss the light you can cause a major disturbance in trafficlast is death think about how many people you can kill in a car crash your driving and you pick up your phone and miss a turn you hit a car and that car hits 5 more cars and sets off a chain reaction all of those people have a probability of dying because of how fast your going and how hard you hit them now you can be charged with murder and that gives you life in prison so think about that about that before picking up your phone', 'according to www thezebra comtextinganddrivingstatstics use of a cell phone while driving caused an estimated 15 million car accidents in 2017 this shows that 2 years ago a lot of people were using cellphones while driving i feel as if the government could have a system where they can detect phones while people are driving  which means officers can look in drivers cars and doesnt have to be there physically i think this idea will help people stay focused on the road more and can help other drivers stay safei also think people should not be able to use a cellphone in capacity while operating a vehicle because if you are focused on your phone and your at a stop  you can hold up traffic and you can get a ticket for holding up traffic according to www google com a traffic ticket is 70 to 400 depending on your state law and or drivers recordsif you have a bad drivers record and have unpaid tickets you will have to spend time in jail pay fines and your licences can get suspendedi was doing some research about texting and driving and according to www google com 49 american adults admit to texting and driving and 90 of american adults know texting and driving is dangerous some people know how to drive and the consequences behind texting and driving and there are still car accidents pertaining a cell phone with the technology today  there are still accidents that could have been prevented and that were involved with a cellphonein other words i feel as if drivers should not be able to use cellphones while driving because people can get into accidents and get harmed or possibly die from it i also feel like if people are on their phone while driving it distracts them and they can hold up traffic and and get traffic tickets last but not least  people know they shouldnt text and drive and still do it  society now and days know wrong from right but do the opposite ', 'well what can i say about phones there are good for some but some use it for the bad like example people use it while driving thats bad because they should be looking at the road they shouldnt be on their phone for any reason useless they trying to call 911 for an energy other than that there is there is no reason to be on their phone also there are things to hold your phone for you so you wont have to get a ticket and have to pay for it when you can have something to hold your phone for you when using it for the good you there is no reason to worry about there is always time to use your phone but while driving is never a good time just wait until you get to the place where you are going to there is always time you dont want to lose your life or someone life because you couldnt wait for a few minutes to get to the place you need to be at its always best to wait then to lose a live there is always time for anything but losing your life or someone else life is not it', 'communication has progressed from the telephone by alexander graham bell in 1876 to the endless communication that is now available in the 21st century but it has come at a price peoples need for communication specifically with cellphones has created the serious issue of cellphone use while driving this issue leads to serious consequences and has been met with new laws and features added to cars to keep the roads safe from cellphone use while drivingthis issue has caused various accidents and sometimes deaths the distraction that cellphones create while driving has the ability to seriously injure or even take someones life away for many years while most states have not had laws regulating cellphone use while driving there have been various psa campaigns warning against cellphone use while driving usually specific with texting and driving these psas are meant to scare drivers hoping that it will discourage this dangerous behaviorthese distracted drivers are usually texting to reply to someone using their satellite navigation system on their phone or could be adjusting their music through their phone these behaviors have been specifically targeted by many states that have enacted laws to prevent cellphone use that can cause accidents georgia specifically passed the handsfree rule fining drivers for cellphone use holding the phone this law can be easily obeyed because of the adjustments created by car companies and other accessories that are available more recent cars have options for phones through the car to keep the driver focused on the road but keeping the communication possible for the driver cars may have an aux cord or a bluetooth option to be able to receive and make calls without touching the phone phones connected to the car this way can play music through a cellphone through the car then the driver can control volume and choice of song through the steering wheel there are many car accessories to make phone use safer like an attachment to the windshield that holds the drivers phone to keep their eyes in the front to the road rather than to the side to look at their phone these adjustments that coincide with laws like the handsfree rule allow drivers to safely use their cellphones while driving', 'cell phones have become a part of many peoples daily lives making it a struggle for them to sit the down long enough to drive and reach their destination in 2015 six hundred and sixty thousand drivers in the united states were calculated to have cellphones in hand while behind the wheel cellphone usage while traveling has become the number one cause for vehicle accidents over the last two decadesusing the phone while driving increases not only the driver but the people around them chances of getting into an accident in addition to it lessens the drivers awareness of their surroundings while on the road causing more car accidents auto deaths have risen for two straight years marking the biggest increase in more than dive decades while lower gas prices have encouraged more driving distracted driving due to cellphones has been tapped as one of the major causes that has prompted many states to begin cracking down on phone use while driving with laws outlawing the behavior pressman aapr2017an increasing amount of states prohibit the usage of cell phones while behind the wheel exposing those drivers who break the laws to fines and additional punishments what many drivers dont realize is that not only could they receive fines for using their phone but they could also be served with serious lawsuits if they cause an accidenta large number of drivers do not believe that their driving performance is impacted by the usage of their cellphones more than one half of drivers who speak on cell phones while driving feel as if their driving is no different from them being off the phone this shows that many people are ignorant to the impact they have on their selves and others when they use their phones while driving this also shows why its so important to have such strict rules and laws road safety appears to improve in states with laws that regulate drivers phone use the states with the lowest amount of phone use while driving vermont oregon hawaii and washington have all banned the use of handheld devices behind the wheeljohnson dapr2018', 'while some see that there is no problem with texting and driving there is a law that says otherwise texting and driving are not safe for any age citizens texting is a distraction from focusing on the road while driving there is no multitasking when it comes to texting and driving there have been too many car accidents that have been caused by people using their phones while driving to reduce the number of deaths due to texting and driving cell phones should not be permitted by drivers in any capacitygeorgias handsfree law came into effect on july 1 2018  georgia department of driver services  2018 this law states describes that it is illegal for drivers to hold their cell phones while driving drivers are allowed to use gps voice to text features and receive and make calls hands free earphones are the best to use in this case however a person can only use one earpiece at a time this law will help to reduce the number of many accidents caused by distracted drivers from cell phonesin general citizens should not use a cell phone while driving being on the phone while driving increases the risk of crashing even if you are stopped at a red traffic light it is illegal and not safe if there is an accident for texting and driving there are penalties the penalties are based on the first second and third offense at each offense there is a monetary fee and points taken off of your drivers license if a driver has too many offenses this could result in the suspension of an individuals licenseunfortunately there is one thing that people cannot multitask in and that is texting and driving when drivers text their attention is divided when it should be focused only on the road texting and driving is a dangerous thing because you can injure or kill someone else or even yourself when driving you not only have to be focused on the road but also you have to be considerate of others on the roadafter all texting and driving is against the law and just is not safe no matter how young or old you are you cannot focus on driving and texting without being at risk of having an accident to protect your own life and others do not use your phone while driving if you want to use your phone you should wait until parked off the road that way you will not get any tickets nor will anyones life will be at riskworks cited', 'in the first elace why would you want anyone in the vehicle to operate a phone in the vehicle which could become a distraction to the driver and everyone whos in the video to me that extremely dangerous because if you didnt know in todays society everyone likes to use their phone while in the vehicle phones shouldnt be even be thought about while in the vehicle because thats how most accidents happen because of distracted drivers which is basically a second distraction to drivers just say your phone rings while your driving so you take your eyes off the road to see whos calling is intensively increasing your risk for an accident', 'many people use their cellphone daily for some their cellphone is a part of their life it helps them to communicate with others and their phone keeps them connected to news and events all around the world on the contrary phones may be a distraction when a driver is behind the wheel when someone is driving they should be aware of their surroundings at that point in timereasonably people need to set their phones aside while they are operating a vehicle the chances of an accident are increased when the driver has a phone in hand your eyes must remain on the road and with the hands on use of a cellphone it is not possible drivers need to practice safe driving and be attentive behind the wheel safety always comes first especially on the roadcountless car accidents have happened because a driver was more into their phone rather than what was happening on the road once you realize you may crash the vehicle when you look up from your phone it is often too late if a driver puts their phone down when they are behind the wheel they will be more attentive an aware driver has a significantly lower chance of an accident in comparison to an unaware driver', 'driving while using a cell phone can be dangerous most drivers like to text while they are driving that can be dangerous because you will be distracted from the road the most common cause of car accidents is drivers operating a cell phone while driving texting  driving is what causes most car accidents the driver focus will be more on the phone then the road when most people get a text or notification on their cell phone they usually respond or check it immediatelyif drivers stay off their phone while driving they will be more aware of their surroundings when driving you have to be aware of pedestrians  other cars around you not all drivers around you will be paying attention while driving not only drivers but other pedestrians around if children are crossing the road  your focus is on your cell phone  not the road you are putting them in harm being aware of your surroundings is one of the most important things to do when operating a vehicle', 'should drivers be able to use their cellphones while operating a vehicle no drivers shouldnt be able to be on their phones because that is putting other peoples life at risk you need to be 100 paying attention to the road and others on it most accidents happen when people are on their phones because your looking down also the person you are texting or social media page your on is not more important than your life but if its an emergency call you should answer otherwise put phones down you are taking other peoples life for an electronic the phone isnt going nowhere but your life can you should not be able to use your phone while operating a vehicle neveralthough georgia has made it illegal to be on your cellphones while driving people still do not listen but the accidents percentages in atlanta and gwinnett county has decreased by 30 thats a good start and if you come here you would see signs posted around talking about these things we have to start convincing others to do the right thing because we dont want them to realize when its to late also another solution is to enforce this law around the united states and more people need to get punished for it that means that the law enforcement has to be on their job and not let people get away with it', 'the first topic discussing how using your cell phone while driving is dangerous is swervinglets say youre driving and your buddy texts you and you pick your phone up to answer the text while you were texting your friend back you got distracted and swerved into another lane it doesnt matter if it took you two seconds or two minuets to text something back the point is your focus wasnt on the road and because of that you are now in another lane one example of this is actually one that happened to my family and i while we were on a trip the car in front of us kept going off the side of the road and kept swerving in between the two lanes when we finally got over and got around him we saw where he was distracted by his phone when you get distracted and start swerving you are putting the people around you in danger which is my next topicwhen you are driving and you are paying attention to your phone rather than the road you are putting the people around you in danger an example of this would be something like say youre driving and there is a wreak ahead and the car in front of you stops however you had no idea that they had stopped because you were too busy looking at your phone say you dont stop in time and you hit them or say you slam on your breaks at the last second so the person behind you hits you what if you cant stop in time so you have to swerve over in any of these situations you have put someone else and yourself in danger plus on top of that you could have caused an accident that takes us along to my next topic accidentsaccident can happen anywhere at anytime and can be caused by anyone doing anything but like i said before 26 percent of accident are caused by drivers on their phones im sure everyone has heard their own story about an accident that has happened because someone was on their phone however one that really just sticks out to me is one my family and i saw the aftermath of we were driving up to atlants on weekend there wasnt much traffic on either side of the interstate it just looked as it usually does with atlanta traffic starting to kick in a little further down the interstate on the other side there was a ton of traffic we looked as we went by all the fire trucks and police cars and there was an 18wheeler and a smaller car the smaller car was up under the front of the 18wheeler later that night my parents had the news on and it said that the driver of the 18wheeler was on their phone and had gotten distracted they wernt paying attention to the road or what was in front of them and somehow ran over the other smaller car', 'people tend to always want to be on their phones and be in touch with other people during social media call or text  despite the danger of causing an accident we keep our phones closer than our loved ones phones are a constant distraction such as meetings movies meals and especially when we are driving everyday people die from car accidents because someone was using their phone while driving  studies have shown that there is a 4 greater risk of drivers being in a car accident due to using a cell phone overall the crashes every year because of cell phones are 16 millions with 330000 million injured in themhands free devices can also be harmful  you are focused on the road but if something happens to your phone for example the call ended or you received a message then you are distracted and want to grab your phone  a lot of people would think that probably if i just take one second to look at my phone nothing will happen but thats not true a car accident can happen based on the driver not looking on the road  you cant multitask when you are driving  if you would like to be a safe driver you would have to make sure you process a ton of information about your environment and surroundings at all timesgeorgias new hands free cell phone law has resulted in more than 1000 tickets since the start of the law  georgias residents arent allowed to have their phone in their hand or part of their body  they are only allowed to use if its on a wireless headphones speaker or bluetooth  their first fine is 50  second is 100 and third is 150 and a subsequent conviction  georgia has become the 16th state that enacted a hands free driving law georgia would like for residents to stop using their devices when driving because cell phones only continue to increase the number of accidents', 'majority of the worlds population has a cell phone most people who have a cell phone use their phone daily however how many people use their phones while driving according the new york post a servey showed that 90 people still use a smart phone while driving despite the laws against it people should not be distracted by phones while drivingbeing distracted while driving is very dangerous according to edgasnyder com people are six times more likely to cause an accident by being distracted than being drunk think about this you are in the car driving going sixty theres no one around for miles and you get a text asking when you are going to be home however instead of pilling over and answering it you take fifteen to thirty seconds answering it thinking you can reply quick without any worry little did you know in that short time frame you spent answering a text you have traveled past the length of a football field now lets say as soon as you had pressed send and you looked up from your phone there was a deer standing there in the path of your car however since you where texting you had no idea it was there you have little time to react jerking the wheel trying to get out of its path however you were not fast enough you still hit the deer shattering your windshield and your car flipping from jerking the wheel and killing you all because you took that time to answer a text majority of the worlds population has a cell phone most people who have a cell phone use their phone daily however how many people use their phones while driving according the new york post a servey showed that 90 people still use a smart phone while driving despite the laws against it people should not be distracted by phones while drivingbeing distracted while driving is very dangerous according to edgasnyder com people are six times more likely to cause an accident by being distracted than being drunk think about this you are in the car driving going sixty theres no one around for miles and you get a text asking when you are going to be home however instead of pilling over and answering it you take fifteen to thirty seconds answering it thinking you can reply quick without any worry little did you know in that short time frame you spent answering a text you have traveled past the length of a football field now lets say as soon as you had pressed send and you looked up from your phone there was a deer standing there in the path of your car however since you where texting you had no idea it was there you have little time to react jerking the wheel trying to get out of its path however you were not fast enough you still hit the deer shattering your windshield and your car flipping from jerking the wheel and killing you all because you took that time to answer a text', 'today the majority of humans own and operate cell phones on a daily basicwhen going to work school and so much more humans also use cellphone while driving drivers should not drive while texting or talking on the phone it to dangerous in the united states automobile crashes due to distracted driving are increasing the leading cause of distracted driving is cell phones in 2015 six hundred and sixty thousand drivers in the united states were estimated to use cell phones each day while driving behind the wheel during daylight hours cell phone use while driving has become a leading cause of vehicle crashes over the last two decadesdrivers who text when behind the wheel are twentythree times more likely to have an automobile crash', 'the usage of cell phones instantly grew after the introduction in the 1980s one of the primary reasons they have grown in popularity is cell phones allow people to communicate from all over in a matter of seconds due to the fact cell phones are such a vital part of lives phone use while driving has become a definite safety concern adults spend an average of 45 minutes a dav on social media the national highway traffic safety administration noted 1830 motor vehicle accident fatalities for young drivers according to teendriversource org many of the accidents were from distracted cell phone use cell phones should not be used in any capacity while operating a car for fear of distractions higher insurance rates and increased accidents and fatalitiescell phones being such an essential item in todays society people find it hard to let go of cell phones while diving phone holders and wifi have been added to many vehicles to enable hands free cell phone use while driving participating in any activity while driving other than watching the road and their surroundings creates distractions texdng calling reading tex ts or sin1ply holding a phone to your ear can cause a momentary attention distraction in a split second these distractions can cause a major accident phone usage is so dangerous because drivers are distracted with manual operation visual reading and cognitive processing bonneraccidents are financially costly to all parties involved car insurance can double when accidents are caused by phone usage for drivers at fault in accidents rates increased more than500 moore the number of accidents determine car insurance rates for the area with more accidents due to cell phones rates have increased overall all drivers are paying in some way for the irresponsibility of distracted drivers many states have passed laws to prohibit cell phone use while operating a carusing a cell phone while driving creates enormous potential for deaths and injuries on us roads in the us inappropriate phone use caused over one million car accidents edgar snyder n a teen accidents with motor vehicle crashes involving fatalities were a result of distracted driving when answering a text while driving it takes your attention away for about five seconds a great deal of things can happen in five seconds overcorrecting the car while on the phone has unfortunately been the cause of many fatalities no conversation is worth human lifeit goes without saying that cell phone use in any capacity while operating a vehicle is dangerous and threatens safety statistics support the reasoning for restriction of use while operating a motor vehicle distractions higher insurance rates and increased accidents and fatalities prove why cell phone use should be forbiddenworks citedbonner marianne cell phones and other driver distractionswww thebalancesmb comcellphones andotherdriverdistractions46 2423updated april 4 2019childrens hospital of philadelphia research institute teen driver statisticswww teendri versource orgteencrashriskspreven tionlcaracciden tpreventi onlbasic facts aboutteencrashesedgar snyder and associates texting and driving accident statisticswww edgarsnyd er comcara ccidentlca useofaccidenticel1phonece llphonestatistics htmlmoore ben how much car insurance rates go up after an accident www nerdwallet combloginsurancehowmuchcarinsurancequotesriseafteran accidentorvio lation june 1 2020', 'many cannot see the consequences driving and texting can bring to their lives and the life changing effects if others are affectedfirst of all the dangers of this habit is that people have started to make are hugely deadly to everyone who participates in it texting while driving has an equal to more deadly affect on you as drinking and driving the main reason is that it is a distraction when a person checks their phone or device they take their eyes off the roadthis can cause massive accidents and deaths across the entirety of the united states our new generation is at greater risk most times it is within the youth that is the age of twenty and below causing car insurance to become more expensive for the youthsecondly if a person is caught they are subjected to a ticket first offense for 50 dollars and second offense 100 dollars including points on their drivers licenses depending on the statea person can not get jail time for texting and driving but can be sent to jail if texting while driving is what caused an individual to crash and kill a person most times however people will sue for the damages caused to them and their personal vehicle these are the possible ways that people can get in trouble for texting and drivinglastly the effect it can have on a persons life can be very drastic as i mentioned with the ticket one can receive it will most times raise the prices of the insurance provider that the person may have and cause an increase in price another effect that it can have on a persons life is jail time which on its own is bad as it takes away some rights like the inability to vote own a firearm or sometimes get a job due to one decision it can change a persons life forever especially if their actions take away a life that is some examples of major ways this can affect a persons life', 'do you believe texting and drive is bad and can cause car accidents or any terrible thing to happen honestly doing any like that can lead to no common sense especially when you have someone in the car with you over thousands of people die from a car accident situation which unlikely happy for love ones i feel like more of this comes from young adults and teens because there still in that developing stage where this and that needs to be learned even though car accidents happen you shouldnt be scared to drive or stop you from drivingyou should just be a lot safer than other with driving but if you happen to get a crash and it manage to be your fault you shouldnt take it all into that one mistake tothere are a lot of things you need to realize with driving and texting first of all if you do it you need to be cautious and smart about it because one if you need to text someone because its an emergency do it at a red light or if you need to tell someone important then just stop somewhere  if you dont do none of the sort you can lead to accident or dealing with the cops and you can get in a lot of trouble with dealing with the cops if you feel like driving and texting is ok then maybe it is to you only if you know what your doing and being safe with those actions the statistics are very high for teens almost 11 die everyday texting and over 80 of people own cell phonessome people would say is sending that 1 small text important that causing your life or that other person life is it worth it because bad things happen everyday even if we dont want them too also  you can pull a ride with anyone and if there on the phone and you feel unsafe let them know that but if your scared you risking everything cause you never know whats gonna happen the only thing you can really do is pray for the best to happen and keep living your life i feel like every driver should be at least 17 driving because at the age i feel like a little more common sense it should know by now what the rules arein conclusion we know that texting and driving both dont get along or work out for people at the end of the day teens are the main people who get distracted because either there texting or playing with there friends in the car which seems to be a very bad idea knowing they are so very young people always make excuses as soon as an accident happens with them they try to say they were getting something that fell or telling one of there passengers in the back to stop knowing all they have to say is i was textingi feel like we should have this thing in the future where we get in the car our phones automatically turn off so then there would be no problem with anything i say this because its better than doing that one stupid thing then risking however many lives are in thart car', 'people use their cell phones for just about everything like texting calling and finding anything they need to know unfortunately people are also choosing the wrong time to be using their cell phones while they are driving using cell phones while driving is dangerous to the driver for a couple of good reasons it is very distracting because if your focusing on your phone your not looking at the road i think driving while using cell phones should be banned because of the many car accidents they are causingit is causing ones insurance to rise and it is causing concern to peoples health issues the question is people more concerned more with their conveniences more than they are with their safety or safety of others banning cellphones while driving will keep a safe distance from accidents cell phones support in making a direct contact with person effectiveness while driving using a cell phone while driving is dangerous and not advisable it provides the convenience of tackling emergency situations  listening to music through handsfree and tracking routes', 'the reasons why cell phones should not be used while driving are fairly obvious because even a twosecond distraction  taking your eyes off the road to pick up your phone and see whos calling youopponents say that cell phones are good because they give an opportunity to make a call in case of emergency however it is illusion of safety because when people need it the most either they cant find it or reach it because they are stuck in car people shouldnt fully depend on cell phones because they are not reliableit turns out that cellphoneusewhiledriving laws vary depending on the state that youre in if youre on a road trip across state lines troopers might be able to pull you over for something that may be perfectly legal in your home state you should also be aware of how distracted the other drivers around you might be', 'everyday people die in car accident but most of those accidents are caused by people on their cell phones this here is one of the biggest issues the world faces every day with drivers getting their selfs in danger and others over a phone call or text message if you think the slight chance that any of this isnt important and the world is just making a big deal about this will then let me give a hand and give you a lesson in 2011s cell phone and driving statistics its estimated that 23 of all car accidents each year are cause by cell phones use thats 13 million crashes and 10  of those car crashes have been fatal to many others', 'opponents whose work depends on a cell phone like lawyers or businessmen say that they always must be available to answer the phone to keep their business running however because of their habits they can create dangerous and hazardous situations like a collision or an accident business issues can be stressful and dangerous while driving because it can cause emotional reactions that can lead to tragedy because of the conversation they might get upset and this can lower their driving ability that can lead to lose control over the car so if people dont make a decision to put away their cell phones their routine can harm innocent peopleopponents say that handsfree set is safety because people can drive using two hands however handsfree devices dont eliminate the risk of causing an accident and even may it worsen by suggesting that the behavior is safe researches show that using headset can be as dangerous as holding a phone because the conversations distracts drivers from focusing on the road scientists had proven that people talking over the phone image person who they talking to and that doesnt interfere with driving the problem is when a car swerves unexpectedly or pedestrian step into traffic and the mind lacks the processing power to react in time so the problem isnt in holding the wheel and cell phone at the same time what may cause an accident because of lack man oeuvre it is because of conversation and lack of reaction at the particularly timeopponents say that cell phones are good because they give an opportunity to make a call in case of emergency however it is illusion of safety because when people need it the most either they cant find it or reach it because they are stuck in car people shouldnt fully depend on cell phones because they are not reliable and the trusty solution for the difficult situation is onstar onstar is a service that in case of accident or an emergency will contact you if you are not able to answer they will contact police department hospital and fire service giving them your exact gps location therefore nowadays cell phones are unnecessary devices because they are unreliable in emergency situations while on star is always prepared to help you in an accidentconcluding if people dont give up cellphones the number of fatalities on the roads will still increase it is people responsibility to not incur their own and others people lives', 'everyday people die in car accidents because they use cell phones while driving according to research cell phones are leading factors that cause accidents studies show that a cell phone put drivers at a four time greater risk of a crush despite of a danger people still use cell phones because they want to be always available and keep in touch with other people also they think that handfree set is safe because they can drive using two hands moreover they use arguments that cell phones are necessary in emergency situations although some people support using cell phones while driving there are evidences that they are dangerous and people should avoid talking while drivingopponents whose work depends on a cell phone like lawyers or businessmen say that they always have to be available to answer the phone to keep their business running however because of their habits they can create dangerous and hazardous situations like a collision or an accident business issues can be stressful and dangerous while driving because it can cause emotional reactions that can lead to tragedy because of the conversation they might get upset and this can lower their driving ability that can lead to lose control over the car so if people dont make a decision to put away their cell phones their routine can harm innocent peopleopponents say that handsfree set is safety because people can drive using two hands however handsfree devices dont eliminate the risk of causing an accident and even may it worsen by suggesting that the behavior is safe researches show that using headset can be as dangerous as holding a phone because the conversations distracts drivers from focusing on the road scientists had proven that people talking over the phone image person who they talking to and that doesnt interfere with driving the problem is when a car swerves unexpectedly or pedestrian step into traffic and the mind lacks the processing power to react in time so the problem isnt in holding the wheel and cell phone at the same time what may cause an accident because of lack man oeuvre it is because of conversation and lack of reaction at the particularly timeopponents say that cell phones are good because they give an opportunity to make a call in case of emergency however it is illusion of safety because when people need it the most either they cant find it or reach it because they are stuck in car people shouldnt fully depend on cell phones because they are not reliable and the trusty solution for the difficult situation is onstar onstar is a service that in case of accident or an emergency will contact you if you are not able to answer they will contact police department hospital and fire service giving them your exact gps location therefore nowadays cell phones are unnecessary devices because they are unreliable in emergency situations while on star is always prepare to help you in an accident', 'driving may look or sound fun but in truth it is very dangerous many people lost their lives behind the wheel either because there lack of concentration or a reckless driver sur vehicles have air bags but air bags dont guarantee safety if u guarantee safety pulling out a phone while driving is not recommended its okay for nondrivers to have hones out because they do not require concentration', 'the average person uses their phone many times a day whether it be consciously or not we as a people always have access to our own devices the problem with people using their phone is when to use it and how to use it properly when inside of a vehicle there should only be a bare minimum of use to your phone whether that reason would be an emergency call or even doing simple things like using the maps application all in all humans as a whole should be able to use their phones but only to an extentthe use of a phone in a car could be proven to be fatal but there are good reasons to use said phone only in certain situations one of the reasons would be that to use your phone to get your way through areas you have no idea how to get through or using your phone to find your way home from a place you have no knowledge on the downside is that when the person glances at the phone to see where to turn or make a specific move they lose the focus on the road for a split second which could be fatal sometimes the use of a phone all depends on what kind of person it isthe person themselves also plays a big role in the use of cellphones in the car the person could be a maniac when it comes down to how they use their phone some people cant even live without it because they are so connected to it for those specific people who have those kinds of issues when it comes down using their phones they should not be able to use their phone at all because they would then get distracted by the other uses the amount of sheer will they would need to not get distracted by those other things would be entirely on them but in the mean time they should have no reason to use their phonephones play a big role in peoples lives and it even saves them sometimes but the use of a phone is dangerous when the person is distracted on their phone a second could save them from a life threatening accident the amount of people that are in car accidents that involve phones is 26 in 2014 when the person is using their phone they are putting themselves and other people at risk on the road according to the national safety council the use of cell phones when driving leads to 16 million crashes annually', 'many people today think using cell phones while driving are good ideas when phones are being used in the process of driving you have a higher chance of causing an accident in the road some may also say that having your phone out helps you multitask things at once in a car so it would be a good thing they would say you could send documents off if your late to work if you need to order a gift for a person or even call someone to pick up something for you at home using a cell phone is widely considered dangerous due to its potential for causing distracted driving and crashing many people argue and say driving while using a handsfree device is not safer than using a handheld phone in the us the amount of car crashes due to distracted driving is increasing today i will be talking about how it is not a good idea to drive and textin this paragraph i will be discussing why it is bad to text and drive when driving sometimes it is difficult to focus on the road using a phone while driving decreases the awareness on the road which leads to more car crashes people will notice when you are on your phone and try to drive ahead of you just in case something might end up happening having kids in the car and you are on the phone talking is a big risk to you and the kids the drivers on their phones will be paying more attention the person their talking or texting instead of the roadwhen driving you have three distinct groups the first one is visual distraction it involves taking your eyes off the road even if your looking at a gps system or trying to check a childs seatbelt the next one would be manual distraction it involves you taking your hands off the wheel it happens when you are searching for something in a bag or trying to eat something the last is cognitive distractions it happens when you are not mentally focused on the purpose of driving and instead everything else is important to you and the road is notthere are associations that work towards getting people to drive more safer on the road the aaa american automobile association says that the older they are the less likely they are to get in a crash however those drivers under the ager of 24 are in a higher risk of an accident because their minds are still being developed into the adult stage parents are losing their children because of phones being used on the road save a childs life and stop the use of texting while driving', 'have you ever looked beside you and seen someone texting and driving it is actually a law to text call or just be on your phone in some places it is very dangerous it can cause a wreck running red lights or running someone over i think you shouldnt be on your phone while your driving or even at a red light if its a phone call than maybe nearly 16 million wrecks happen from cell phone use while driving and 390000 are injured or killed from thatsome states made a law about this because it is very dangerous 47 states have the hands free law if you get caught the punishment is a fine that cost as little as 20 dollars all the way to 500 dollars another punishment is getting charges and your licenses changed to class b not all states have made this a law yet because they dont see the concernmost people dont see the dangers but peoples lives get taken from this and drunk driving people run red lights run over people or get in bad wrecks because of this a couple examples of this is if a kid is getting off the bus and your texting and driving you could run over them or someone is walking across the road and you are texting and driving and run a red light and hit them also if your speeding and hit the tail end of someone while your on your phone while drivingin my opinion you shouldnt text and drive one it is a law and you should follow laws two it is very very dangerous for yourself and others if it is so important to risk other lives pull over or go into a parking lot if anything call them do not text them and when you call pair it to your car or truckinstead of risking your life and others just stay off your phone until you get where your going no one should have to worry about their self or their loved ones because of someone thats texting and driving', 'in essay form explain if drivers should or should not be able to use cell phones in any capacity while operating a vehiclecell phones havent been around a long time but they have become a very big part of our daily lives phones have went from something you use to just call people too your very personal computer up to date will all the new software to make surfing the internet easier now that sounds wonderful but these thing can also so be a huge distraction to many especially when they are being used while operating a motor vehiclefor one thing using your cell phone causes many distractions for your eyes your mind and your actions it is easily possible for your eyes tom slip off the road the tampa bay times claim that it takes seconds to get your eyes off the road and into a car accident therefore instead of your eyes being locked into your phone they should be focusing in on your speed the road and the traffic at the same time your mind can only process so much according to goldsborough the human mind is not capable of texting and driving other people have also confirmed that  driving is a one mind chore meaning that the mind cannot to both at the same time in addition your mind need to focus on one thing while driving and that is the road thus concentration is important while driving and breaking that concentration causes a risk for an accidentsecondly texting while driving not only endangers yourself but other people on the road as well texting while driving can limit your response time to something like a car pulling out in front of you a child or adult walking in front of you and other things texting someone means that you have to put all of your attention into what you are texting which so if you are driving and texting at the same time you are bound to miss something that you should have been paying attention too or you can hit something that you should have been paying attention too like a car animal or even worse a person a article called texting while driving states that texting and driving has become a prominent social issue and its the most hazardous practice that risks accidents to drivers cyclists and pedestrians a pedestrian can walk onto the road at anytime but it is up to the driver to pay attention to road and avoid endangering hisher and the pedestrian life', 'once you are driving you should be focus on the road and be aware of your surroundings being on your cell phone while driving can cause you to hit somebody in front of you because you not paying attention when not using your cell phone while driving can decrease the number of deaths that happen every year statics show that most deadly car accidents comes from your phone in your hand while operating your vehicleothers may believe that they can do two things at one time which is using their phones while driving most cases drivers blame using their cell phones for emergency purposes only business people have to keep their devices in their hand at all times due to job it is important to most people that using their social media accounts such as snapchat  while driving makes them popular', 'texting  driving is more debilitating to your reaction time than driving while under the influence of alcohol as crazy as it sounds its true people tend to crash more likely while using a device and driving than under the influence we are so focused on social media or other people texting us that most of the time we arent paying attention to the road even if youre at a red light and you use your phone your still most likely to crash because of the fact of the fact that youre not aware when the light turns green if you simply cannot resist the urge to check messages or talk on the phone while driving take the time to pull off of the roadway and park your vehicle before picking up your cell phonedriving other people in your vehicle is a huge responsibility which most of teenagers take that lightly sending or reading a text message while driving puts your passengers lives at a significantly higher risk of being involved in an accident while riding in your vehicle could you live with the fact that your decision to pick up your phone while driving someone to suffer a lifelasting injury or be killed humans are smaller and less noticeable than vehicles making it more likely of you seeing a pedestrian in your peripheral vision while looking at your phone', 'since the beginning of modern technology there has always been a debate on the subject of using electronic devices while conducting a vehicle there are many opinions on this subject some more elaborate than others should people be allowed to use their phones while driving and possibly putting peoples lives in danger although we can argue that there are many beneficial ways that you can use your phone in the comfort of your vehicle the debate on whether it should be used at all is the main problemthe national safety council reports that the usage of electronic devices while driving leads to 16 million crashes each year prg 4 1 out of 4 accidents are caused by texting and driving prg 4 these statistics prove that a couple of seconds from a minor distraction can literally be the difference between life and death or major injury full attention is needed while driving and nothing should obscure that for the safety of yourself and othersit is a given that your attention should solely be on the road ahead of you but sometimes you need directions to certain places and that dilemma can be solved quite easily with the use of modern technology in todays society phones and gps devices have built in voice command programs such as siri or google now and even waze that specifically helps you navigate your music while driving these innovations were created to help decrease accidents and further simplify your phone use and make it more accessible at any timeeven though these programs exist on peoples cellular devices accidents still occur because of careless driving so it is safe to say that phones can be used while driving but with immense precaution if drivers are careful they can safely conduct a vehicle while using technology but must continue to keep most if not all their attention on the road safety of others is very important as wee as personal safety and that should not be more important than anything during your time on the roadsources', '1 out of every 4 car accidents in the united states is caused by texting and driving because of this georgia has made this hands free law that now it is illegal to hold your phone while driving violators face a 50 fine for first conviction georgia is the 16th state in the country to enact a handsfree driving law therefore drivers should not be able to use cell phones while operating a vehiclecell phones should be on an hands free stand the same height as the dash board to keep eyes ahead instead of looking down over 88 percent of people going on trips use their phone for directions with the phone in their handsdrivers can no longer have phones touching any part of their body while talking through devices the safety office statedaccording to the georgia state patrol officers handed out nearly 25000 citations to drivers found to be in violation of the law between july 1 2018 and june 30 2019 traffic citations are up fatal accidents are down auto insurance collision claims are declining but plenty of motorists are still fiddling with their phones as georgias distracted driving law celebrates its first birthdayhowever teens now are allowed to use cell phones to the same extent as adults under the law the 2018 hands free law prohibits motorists of all ages from holding any electronic device such as a mobile phone it only takes three seconds for a crash to occur after a driver becomes distracted by their cell phone or anything else texting while driving is even more dangerous than driving while under the influence of alcohol', 'in the world today most people own a cellphone some can even say that it is weird not to have a phone society loves to advertise the newest phones year after year to keep people buying new ones but some people use their phones so much that it actually becomes a hazard to them most people can say that they have used a cellphone while driving at least once but doing so also comes with many risks and consequences it is bad to use a cellphone while driving because it can endanger ones personal safety the passengers and pedestrians safety around them and a person can have legal action taken against themusing a cellphone while driving can harm a persons personal safety no matter how far they are going people cannot 100 pay full attention to the road and full attention to their phone statistics can prove that in the article cell phone use while driving statistics by teen drivers source it states that cell phone use behind the wheel reduces the amount of brain activity associated with driving by 37 this quote proves that people cannot evenly multi task while driving even if people think that they can do it it is scientifically proven that it is not possiblenot only does using a cellphone while driving endanger a persons own health but they also put passengers and pedestrians health endanger as well in the article texting and driving accidents statistics by edgar snyder and associates it says nearly 390000 injuries occur each year from accidents caused by texting while driving this means that thousands of people are injured each year by irresponsible drivers also in the article texting while driving by matt robertson he states that many people have died as a result of other people texting while driving being a responsible driver does not only affect one person but it affects and endangers everyone around themin some states the use of a cellphone while driving has been outlawed or banned but some people still continue to ignore the rules of the road and be an irresponsible driver in the article the consequences of texting while driving by joshua it says if a driver is found breaking their state laws on texting and driving their punishment could range from minimal to serious the consequences for texting while driving are really not worth the trouble of that one text backusing a cellphone and driving in todays society is becoming a serious issuesome people dont understand how bad things can get just from one text or call back if people cannot change the way they do things now then later on in the future society could become a bad or more dangerous place than it already iswork cited']\n"
          ]
        }
      ]
    },
    {
      "cell_type": "code",
      "source": [
        "print(leads)"
      ],
      "metadata": {
        "colab": {
          "base_uri": "https://localhost:8080/"
        },
        "id": "X-9If9P4KFJJ",
        "outputId": "f8d65fac-63ad-4804-985a-dab110af9c8a"
      },
      "id": "X-9If9P4KFJJ",
      "execution_count": null,
      "outputs": [
        {
          "output_type": "stream",
          "name": "stdout",
          "text": [
            "['humans today are always on their phone they are always on their phone more than 5 hours a day no stop all they do is text back and forward and just have group chats on social media they even do it while driving they are', 'ople we know despite distance was originally brought to fruition by the use of letters this system was found to be rather slow and new pathways were searched for until the invention of the telegram the people thought it was an invention of the millennia but after time it too was thought of as slow until the invention of the telephone today a telephone is in the hand or pocket of a majority of the seven billion people on planet earth however this device is taken to ar', 'the first reason why the use of cell phones shouldnt be allowed while operating a vehicle because there are high chances of vehicle collisions happening most vehicle collisions happen when the driver is texting or under the influence of alcohol when people who drives while texting spend more time looking at their phone than the road causing poor carfollowing ability and lateral lane control while under the influence of alcohol it can cause you to ', ' in todays society have this horrible habit of texting and driving this has to stop immediately texting and driving puts peoples lives at risk this simple act has caused many fatalities over that last years fortunately the government have put a new law to deal with this problem with our generations problem of texting and driving i strongly feel that ', ' dangerous choice in life many people around the world are injured by this situation every day it could lead to accidents and altercations in addit', 'when we are driving it can be exceedingly difficult to focus on the surroundings around us and easy to forget that you are sharing the road with other people and not just yourself other drivers take notice when drivers are on their phones whether they want to or not because of the danger they can cause erratic driving is something that we all get worked up about because it can make us late or can be inconvenient to us drive', 'in case drivers on cell phones have more mischances at that point drivers ought to be precluded from utilizing them drivers on cell phones do have more mishaps hence drivers ought to be disallowed from utilizing cell phones to create this contention you must clarify and protect both of its premises and they require very diverse contentionsa few investigations recommend that talking on a cell phone whereas driving is viably like driving whereas impeded in reality a ponder at the college of utah that compared tanked drivers to drivers on cell phones indeed found that cell phone drivers displayed more noteworthy impedance than inebriated drivers ouch a costly mineral called coltan may be a component of cell phones it can stand up to warm and store an electr', 'i say dont think it is smart to be on your phone while driving because it can cause accidents there are 16 million car crashes a year because people are driving with their phones out if more people put down their phones', 'k of crashing crashes affect both the crasher and any possible crashing victims everything from physical pain to emotional pain as well as financial pain can be felt after a crash 3287 deaths happen every day due to fatal car crashes on average 9 of these fatalities are related to distracted driving due to the inability to test if a crash was due to distracted driving it is believed that the recorded number of distracted driving incidents is greatly underrecordedover 80 of drivers admit to not paying attention to the road while they are doi', 'at this point youre thinking to yourself why the freak did this happen a couple hours later you found out an adult was on his phone texting and driving before the wreck happened which is the most selfish thing to do while driving putting your life and others lives in danger just so you can send a stupid text to your girlboyfriend is completely selfish i firmly believe that we need stricter phone laws to in jail peopletexting while driving is in th', 'l you see is people from all ages staring at a device all day which is a phone people are always stuck on their phones that it seems they can never let it go whileworking at schoolcleaningand driving some things caused by using your phone while driving are car accidents irresponsible people driving or you can get a feephones can be such a d', 'driving and texting is something very common but a serious problem with detrimental effects the main detrimental effect could be physical when a person texts and drives a person could cause an accident which could not only endanger themselves but it could endanger othersaccording to the national safety council cell phone use while driving leads to 1', '', ' have been eager to turn 16 driving is a nerve wrecking and exciting experience at the same time there is a good upside about driving and that would be being able to go out to places without having to pay and the time period you can stay out for is how long you desire even though there is a good side there is a bad side as well this would have to be the large amount of people that are not cautious around their surroundings and many lives have been taken away due to this i would have to agree with the i', 'of technological advancement mankind has quickly adapted to using devices such as cellphones it has gotten to the point where we constantly use it for everything we do there seems to be many good qualities about the cellphone which humans seem to keep all are attention on that in turn causes problems with our surroundings such as being on the phone and driving a vehiclethere is no denying th', 'to start things off i believe that there is a time and place for being on your phone with behind the wheel if you are at a red light and you dont have to type or just have to answer a call or change', ' national safety council reports cell phone use while driving leads to 16 million crashes each year 390000 injuries occurred caused by cell phone use and driving nearly 6000 pedestrians are killed because of this as well phones should not', 'extremely common in this day and age almost everyone thats driven a car has done it and they know it a lot of people do it but that obviously doesnt make it right of course lots of things have come o', 'd age technology has drastically increased people now days seem to rely on their devices more than anything people surely cant get their eyes off the devices for more than at least a minute they look at the phone while walking eating at a dinner table or even in class while their supposed to be learning but the main problem that is occurring is people texting on their phone while driving an automobile this brings up the question if drivers should or shouldnt be able to use their cellphones in any capacity while operating a vehiclein my perspective i', 'even though phones have caused a lot of accidents and deaths i believe that certain uses of the phones should be allowed while driving sometimes people get emergency phone calls and emergency text that they need to see in order to try and fix the situation if it is a fixable situation some people also hav', 'the amount of car accidents due to drivers being distracted by their phones is at 16 million per year this is mostly texting and driving or being on social media while operating a vehicle actively using phones while driving should be restricted because of the danger to the driver passengers and the pedestrians that are around most of the drivers that are making these mistakes are teenagers that dont know better teen drivers or new drivers in general should take a proper drivers ed class thatll teach them proper drivers etiquette this will inform them of the dang', 'according to edgar snyder  associates nearly 390000 injuries occur each ', 'one of the main reasons that make using cell phones while driving very dangerous is that using the cell phone reduces a drivers reaction time in traffic on busy roads the amount of time that one talks before reacting to a situation in most cases determines whether someone gets to continue living it is very dangerous to text and call while driving but texting while driving is more dangerous because the driver must constantly keep looking at the phone scree', 'phone is very dangerous no one should be operating a', 's were invented car accidents were shockingly low compared to the numbers we see today texting and driving are six times more likely to cause an accident than driving intoxicated over 16 million c', 'ming some peoples addiction to the point they risk there life just to text i think the only way', 's while driving illegal due to the number of accidents that are related to conducting calls and texting many states have also created laws to ban handheld mobile phone use cell phone usage has become the leading cause of distracted driving drivers can easily become distracted decreasing the drivers awareness on the road leading to more car accidents iagree with cell phones being banned while ', 'is something common a lot of people do now a day there are so many problems with cellphone usage while driving many people think its okay to use their phones while driving but i personally think', 'another reason i believe that it is dangerous for you to be on your phone a', 'aving a phone while driving isnt dangerous nowadays accidents happen due to cell phones we live in an age when many of us are excited by a call or text that we cant wait to answer texting while driving is a hotly debated topic that often divides opinion it goes without saying that driving with a mobile phone is one of the most important issues facing us today the following essay takes a look at both sides of the argumentto start with our pop', 'the us department of transportation reported that cell phones are involved in 16 million vehicle crashes each year it has caused half a million injurie', 'when it goes off whenever theyre driving whether its a text social media or a call curiosity gets the best of them and they feel as if they have to look at that very moment to stop and read this message you would have to take your eyes off of the road longer than th', 'one of the reasons a person should not be allowed to use their phone while driving is that the risk of getting into a car crash is raised those who text and drive are 23 more likely to be in a ca', 'ears there have been many records of death andor injury from being on your phone and driving there are many laws in place to stop this act from happening but just like with everything else theres no way to fully stop it many people have different opinions on the subject in this essay i will be explaining the two sides good and the bad how dangerous is it to operate a vehicle and a phone at the same timesix thousand people di', 'en a big concern on being on your phone while driving there are many bad', 'd cars serve many purposes such as communicating with others playing games and using the many different internet based featureswe use cars as a means ', 'studies have proved that drivers who use cell phones while driving are more prone to cause accidents the national safety council reports that c', ' their cell phones on a daily basis over the years humans have developed new ways to communicate with others in throughout their lives as the years progress technology has been a part of our lives and we cannot function without it we have adapted to technology so much we use it in our everyday but technology does not always make a positive impact on our lives we just need to know how to use itwe use our phones so much its begin', 'ig part of peoples lives most people need their phones with them at all times the use of cell phones have took a toll on many people lives phones are definitely a distraction to people especially when they are driving using a cellular dev', 'ile looking at their phones has become an epidemic and is a big cause of a lot of accident primarily involving teens who are so distracted by their phones that they are not paying any attention to the road with the growing number of car accidents happening they have put into place the handsfree law so that it is now illegal to be on your phone while operating a vehicleif you are driving w', '25 of car crashes involve driving while using phones that is a huge number and already 1 reason why you shouldnt drive while using a phone i will give you some', 'phones help us in many ways when it comes to driving they help navigate us in unknown areas and it is a great form of contact in case of emergencies although it tends to be distracting technology has advanced that we can have our ey', 'using a cell phone is a big distraction not only to you but to others to everyone has to pay attention', 'to drive a vehicle while using a device in this case you shouldn', ' of people own and operate cell phones on a daily basis many debate on whether people should or should not be able to use cell phones in any capacity while operating a vehicle over time the usage of cell phones has increased drastically fatal accidents cause an unwanted feeling in the end using your cell pho', 'ving is one of the worrying trends in the society both teenagers and adults have developed a habit of using cell phones while driving texting while driving causes distraction and increases their chance of getting involved in car accidents such concerns have been raised by various government authorities in trying to prevent such occurrence new laws have been enacted making cell phones use in cars illegal however not many people follow these laws most people text and drive assuming they can pay attention to other cars texting while driv', 'one reason why you should not have cell phones is because a lot things can happen whi', 'therefore people should be able to use their phones while drivingcellular devices can be used for many things in a vehicle such as emergency calls these calls may be work related if you have a on call job for example being an on call doctor you would need your phone no matter the circumstances if the hospital needs you there are other emergencies like if your child was calling because heshe were to be stranded somewhere phones may be needed for all types of emergencieswhile driving vehicles many use their cell phones for gps gps is used for getting to unknown locations not only is it used to get to unknown places many also use it to ge', 'rtant a text is not more important than your own life so what is you lose you job or your boyfriendgirlfriend or an interview there is always a better job and lover but no such thing as a life thats better than yours just one look can change everything states in the united states are making laws that prevent you from having your phone in your hands lap or chest while texting while driving is illegal in 47 states its hasnt stopped some drivers from doing so not only are they putting their own life on the line they risk others too so the next time you coming from work late night in your feelings texting your ex how you want them back blasting marvins room and jungle by drake just remember that you cant get your ex back when you arent able to walk or worse deceasedtexting while driving is ', ' around the world driving is very common around the world too texting while driving is illegal in the united states it is very dangerous even driving while on the phone is very dangerous it can cause accidents it can lead to death sometimes the after effect are worse some people may need their device as part of their profession using a device while ', 'iving is illegal because it distracts people from the road driving and using your phone is very dangerous because you are taking your attention off the road which can increase your risk of crashing into someone or something this is why drivers should', 'lets start with texts social media and any other written phone alert to stop and read this message or update you would have to take your eyes off of the road for longer than the recommended time of the one second it takes to check the rearview mirror it is extremely dangerous t', 'g is against the law its very dangerous and has caused many accidents and deaths in the world being distracted on your phone while driving is not only unsafe for you it also puts other people around you in danger you might think you have everything under control but you never know what might happen paying attention to', 'my opinion is that they should not be able to use cell phones in any situation while operating a vehicle i think this for', 'operate cell phones on a daily basis so much so that many have developed the tendency to do so while operating a vehicle this current trend of behavior among drivers has caused a series of debates as to whether or not one should be allowed to use their phone while driving due to the many risks that come with a distracted driver thus why drivers should not be al', 'driving a motor vehicle requires a driver to be aware at all times of what is going on around them they need to be able to react at a moments notice if a driver is using a cell phone they will not be placing their full attention on driving and accidents can happen when a driver is distracted not only do they put their life in danger but they also endanger the lives of those on the roads with them', 'to have been increasing due to the uproar of phones more people have become distracted whether its texting or driving youre on a phone call or just being on social media while driving and with all these action being done while driving its causing a lot of deaths in car accidents according to the national safety council 12 million car crashes in 2013 involved drivers being on the phone with 314000 of those incidents involved text messages using the phone whil', 'widely used in our society today a cell phone has many purposes it can be used for communication entertainment and information most people have their own cellular devices all around its extremely useful but can also be very distracting leading to mishaps occurring lots of people like you and i have a horrible habit of using our phones while operating dangerous machinery like automotives which increases the risk of accidents occurring laws should restrict', 'first ask yourself if the text or notification you received is more important than your life or than the people on the road with you if not put down the phone and wait until you are at a light or until you get to your destination no notifications are worth someones life or yours you can look at the news or on the internet and see just how many young adults lives are cut short because they wanted to text someone back or make a snap all of that can wait seeing the statistics the death rates even some peoples friends dead because they couldnt wait to text someone back or make a snap just because you got away with it once doesnt mean you should keep trying to do it because all it takes is a couple seconds and then you or someone else is hurt or deadsecondly in 201', 'a cell phone helps drivers with immediate roadside assistance in case of a serious car accident cell phones allow drivers to get directions turn by turn with the helping of gps technology phone cameras are very important in a case of a hit and run accident it allows a person to take a picture of the license plate some insura', ' introduced in the united states market in the decade of 1980 and their usage instantly grew during the next two decades everyday people die in car accidents because they use cell phones while driving according to research cell phones are leading factors that cause accidents studies show that a cell phone put drivers at a four time greater risk of a crush despite the danger people still use cell phones because they want to be always available and keep in touch with other people also they think that a handfree set is safe because they can drive using two hands moreover they use arguments that cell phones are necessary in emergency situations although some peop', 'the new hands free law is a law where no one can hold their phone while driving this has effected people with older cars and even newer cars to this day as this law is in set people have to connect their phone to bluetooth to be able to t', 'you should not speak with your mobile phone while driving you will be distracted by telephone conversation this is similar to driving while you are drunk if you talk on the phone while driving the reaction may', 'ave become a key part of our lives people use their cell phones for just about everything such as texting talking schedule planning int ernet surfing etc sometimes we can even do two or more of theset hings at the same t ime unfortunately people are also choosing the wrong time to be using their cell phones while they are driving as a society we have become so focused on how much we can do at one t ime that we are willing to risk our personal safety as well as the safety of others because we can t put down our cell phonesusing a handheld cell phone while driving is dangerous to the drive r the', 'ng for many reasons whether its for changing the music or to yell at the gps when you get lost sometimes there are emergency phone calls that make you feel like they cant wait especially with the growth of technology drivers are most likely to grab their cellphones many of these reasons are the main cause of car accidents that happen in todays world with distractions from the road drivers are most likely to swerve into the other lane or crash into another therefore drivers should not be able to use cell', ' people have and use cell phones cell phones have become an addiction people cant seem to put them down some people feel that people should not use their phones while driving their cars i feel this way too using cell phones wh', 'f planet earth have and use their cellular device as second nature cellphones while useful in the sense of communication entertainment and business transactions can be dangerous tools of distraction behind the wheel an example of this would be the statistics based on vehicular manslaughter and other effects of the car accidents that are recorded each year tens of thousands of americans are victims of car accidents every year with the distraction of cellphones being the lead cause for fender benders every year governments officials and representatives are faced with the same issue and must constantly find a solution to the issue of cellphone use behind the wheel the main question being whether cell phone use should be allowed at all while operation heavy machinerythat being said it', ' have the privilege andor the right to be able to have their phone out inside the car while there are some good reasons why you should have the right there are some things that people just cant helpwe already cant', 'your main concern while your driving is that ', 'in these times it is essential to have one even poor people can have an electronic device with that being said they are always in peoples faces everywhere you go when were walking shopping even when people are working they have their phones out but if your job requires this its ok people always tend to be distracted by their devices which leads to them blindly making mistakes that could have easily been avoided if their head wasnt stuck in a phone with that being said the question for today is should phones be allowed while driving in an automobilei personally dont think that phones should be allowed while driving unless you have yo', 'drivers should not be able to use cell phones while driving you shouldnt be on your phone while driving it causes all types of tragic deaths the best way to stop it is to enforce the no use law people die almo', '', 'erica today is driving while looking at your cell phone drivers feel like it is more important to see who texted them instead of looking at the road which causes fatal accidents drivers must keep the eyes on the road to look for issues and problems in the road or to see if the light is green which as why there are campaigns supporting no driving while texting movement with a speech it can wait signifying that any text that comes through your phone can waitin 2015 reportedly 391', 'ile driving is of the most common ways people die or get others killed in america with this problem nobody thinks that it could be them thats dead and on the news from using their phone while driving there are countless ', 'see a lot of people with a smartphone thats because 6162 of our population has one there are a lot of reasons why people are on their cellphones while driving as well there are pros and cons of driving while texting throughout many years the stats of accidents while ', 'the call or text can wait because you have to take ', 'as a result cell phones have caused automobile accidents which have unfortunately led to deathsin my opinion drives should not be able to use cell phones if they are held in ones hand however they should be allowed to use cell phones in hands free mode as follows while operating a vehicle1 to talk andor talk text via bluetooth 2 to use maps andor a navigation system and 3 for entertainment purposes such as listening to music and the ability to watch movies especially duri', 'round for years but just in the past few they have become hazardous due to people using them in cars while operating them they have cause death serious injuries and damage to personal and government property i believe phones should not be used in vehicles without a handfree bluetooth system or passenger who can speak while you focus on whats in front of you theres no age group or sex that hasnt been the cause of an accident due to their cell phones there are many reasons te', 'antly using their phones for different things there are many great uses for phones we use them for work to contact some even to watch videos and school research phones are one thing we tend to keep in our hands however this hasnt proven to be to the best choice nhtsa say that at least 1000 people are injured because of phone usage while driving a vehicle in this paper i ', ' became very important to peoples everyday life cell phones started as huge bulky items that were not able to fit in a pocket now they are an everyday item that is carried in someones pocket purse etc after they became wireless they played a ever bigger role in life cell phones were starting to be used in cars for gps and playing music through bluetooth people started to take advantage of using a cell phone while driving and things went down from there people should be able to use their', 'as hard as it is to take your eyes away from your phone it needs to happen sending a simple text', 'around is being heavily influenced by technology almost everyone owns a piece of technology of some sort whether it being a cell phone or computer people are so accustomed to using it they they are even willing to risk the safety of themselves and whoever else is caught in between yes this is about cell phone usage while driving phone use while dr', 'hones are becoming an issue on the roads and putting peoples lives at riskphones should not be all', 'g while the person is on the cell phone and is a major issue in georgia and all the other states of america many accidents are happening daily and people are losing their lives this way many fatal accidents happened and even small kids lose their lives the law has been mad', 'cell phones have caused so many deaths or even fatal car accidents over the past in an article by teensafe com it states that in 2015 391000 injuries were caused in distracted driving related accidents this means that in 2015 the', ' that with how advanced technology has become in the past few years or so people have really advanced the technological possibilities people have now started to make some of the ais artificial intelligence like alexa and google home there are even some cars that allow you to ask it questions in order to find out the weather or finding the fastest route to take to work along with all of these technological advancements comes the ability to hook the phone up to a car using bluetooth now should drivers be able to use their phones in the car while drivingthere are some reall', 'according to the national safety council 2019 textingwhiledriving report the average cellphone related deaths is roughly 1600000 accidents per year the top two most common distractions of automobile drivers are talking on a cell phone and sending text messagesnationally the st', 'cell phones can be a big distraction in your driving skills the minute you look down at your phone is the minute your life can be taken away you should have an hoaster in your car for your phone so that it wont in your hands the phone should never be in your hands while you are driving the car the road is too dangerous to not be focus on the road you should an 100 focus on the road at all time the only time that you should be on your phone is for the gps or if it is very important your life is way more important than being on the phone scrolli', 'one way that we can solve this problem is we can put blue tooth radios in our cars so that if someone calls you there would be a way to answer your phone without picking it up most of the newer cars have a bluetooth radio in them so you dont have to buy one although older model cars dont have them you can buy them and install them', 'there are many accidents when it comes to driving the main cause is distracted driving and that mostly happens due to cell phone use many people have gotten injured or have passed away due to car accidents that come from texting while driving this means that out of every other cause ', 'you shouldnt be on your phone in the car because you can get distracted from the road and in up doing something or crashing also if you have someone else in the car with you you will end up putting their life at risk there life shouldnt be in the hands of someone who focus on their pho', 'most of everybody have a cell phone most people life go around a cell phone cell phone causes many problems while driving you can look away for one minute and end up having an acciden', 'your friend is driving you home from a ', 'however because of their habits they can create dangerous and hazardous problem like a collision or an accident so if people dont make a decision to put away their cell phone while driving they can harm innocent people instead of your eyes locking or glancing at your phone they should be lock on watching their speed and the road', 'using your phone and driving doesnt only put the driver in danger but the passengers as well a life should be way more important than a text message or notification a person could look away for a split second and a crash could happe', 'people are putting a lot at risk by texting while driving because your not gonna be as focused on the road as if your texting on the phone', ' i think you should always be handsfree while driving no matter whatthink about even at 60kmh your car is travelling at more than 16 metres per second so in those few moments your eyes were on a screen rather than the road you moved far enough to not see a motorcycle a pedestrian or someone braking suddenly in front of youyou being on your phone while driving you put your life potentially at risk and', 'ilege to drive can be upsetting all the work thats put in just to get the privilege to drive driving is a privilege that we earn and lose this essay discusses the ways to lose and keep the privilege to drive there are multiple ways to lose the privilege of driving but one way is by using a electronic device while behind the wheel most people belie', 'aily basis while driving a car this is a common practice for some teenagers and is a form of distracted driving known as texting and driving in many states it is illegal to text and drive there have been laws adopted in many states to prevent people from texting and driving while in a vehicle even though people do it drivers should not be able to use c', '', 'll phones we think of a device that we cant live without a cell phone is something so essential to our lives that when we use them we tune everything else out we constantly stay on our cellphones to distract us from the problems that are happening in the real world we use our phones everywhere we go but we never watch our surroundings when driving it is important to know your surrounding but when youre distracted by messages and phone calls and social media it puts the passengers and your life at riskeveryday people die in', 'hile looking at their phones has become an epidemic and is a big cause of a lot of accident primarily involving teens who are so distracted by their phones that they are not paying any attention to the road with the growing number of car accidents happening they have put into place the handsfree law so that it is now illegal to be on your phone while operating a vehicleif you are driving w', 'ther and it is still developing for even more we have electricity that fuels the car we have cellphones that control tvs and we have a computer that does things humans have hard time doing when technologies combine they make our lives easier likewise using a cellphone while driving is okaypeople may argue that using a cel', 'e phone while driving is not a big deal at all while to others it is yet while for those certain people who think cellphone use while driving is not a big deal the statistics would suggest otherwise so far in the year 2018 it has been reported that over 58 of car accidents have been caused by or are linked to cellphone usethis alone would sugge', 'in 2018 4637 people died in car crashes due to cell phone use in my opinion i say that people should not use their cell phone while driving people lose their lives everyday just because of a single text or phone call researchers have come to a conclusion that using your phone while driving is 6x dangerous th', 'ne while driving i say you shouldnt because it can', 'fatality is an occurrence of death by accident sure you do not mean harm when you are texting your friend while you are driving but once that sudden stop or movement you did not see causes you to crash you could possibly die or kill someone else no one behind the wheel of a vehicle expects it to be their last time driving however approximately 660000 people are attempting to use their phones while driving according to the national safety council cell pho', 'people like me want their family to come home in onepiece and for people to get hurt because someone was playing with their phone is not right at all therefore i say there should be a law against people having their phone out while drivingteenagers are most likely to get in a car accident because of phones i think teens get in more accidents than adults because they ', 'to me phones should not be used on the roads unless it is for an emergency', 'ple around the world are dying because of cell phone use while driving instead of keeping their eyes on the road people keep their eyes on the phone this leads to crashes death and injuries while cell phone use can be beneficial in times of emergency or while using gps cell phones should n', 'the age of cellphones started what seems like yesterday and they had already grabbed the publics eye they allowed people to stay in touch even when the ones they wish to touch arent near by this very reason is what created the epidemic and addiction to cellphone connection the connection across all boundaries is whats gotten so many people glued to their cellphones people nowadays cant go 10 minutes without checking their phones almost everywhere you go phonesphonesphones their everywhere', 'ne ever thinks that cell phones would become a way of life i wondered if anyone has ever been told that talking or texting on a cell phone while driving could be your last call or text to anyone cell phones are our way to communicate without cell phones we dont feel important cell phones and driving allows people to show off to their friends while drivingif a cell phone can easily distract a person while driving than why are they in such big demandcell phones and driving', 'ver since they were invented everyone has one or wants one or the newest latest one ever since they were invented in 1700s people hav', 've taken the full advantage of the telephone presidents and war sargents used them to win battles and etc now the phone has evolved from tube looking phones to brick phones to flip phones to iphones and to smartphones with all the new technology and apps like facetime', 'rivers make mistakes because they choose to operate their cell phones while driving these mistakes range from drivers running through traffic lights or stop signs to them actually colliding with pedestrians or other vehicles people should not op', 'd world like the one we currently live in it is easy for us to get caught up in our cell phones text email and social media link together all of your friends and family in one handheld device with all these things we can do at the touch of a button it can be hard to put the phone down especially while driving what most drivers dont know ', 'ns why you shouldnt use your phone while driving then ill explain to you what can happen to you if you use your phone while driving a vehicle afterward ill tell you the kinds of consequence you can receive from the situation finally ill give you examples of why its a bad idea of using your phone while drivingshould you be using yo', 'due to many statistics and other research cellular devices are the main causes of ', 'e united states in 1980 by engineer martin cooper since then cell phones have grown massively more than 65 of americans operate a cell phone one main reason for the growth of popularity is that cell phones give us the ability to reach any person in a matter of seconds almost effortlessly the technology of the cell phone has dramatically changed for example apple and their extraordinary enhancements to their devices over time cell phones are a necessity but not before your life or anyone elses more than 15 million deaths occur a year due to cell phone use while driving cell phones should never in any case be more important than the road while you are driving drivers should definitely know to ', 'and humans are like a duo and used by them almost every day humans and cars are also another duo or like a duo but people phones and cars and or driving that personally is not a good idea that is what i will be explaining in this essay is it or it is not a good idea to be texting and driving at the same time many different opinions from different people but here is minenext have you ever be', ' about if people should be able to be on their cellular device while they drive or should they not be able to in my opinion i dont think we s', 'people use their cell phones for just about everything such as texting talking schedule planning internet surfing etcsometimes we can even do two or more of these things at the same timeunfortunately people are also choosing the wrong time to be using their cell phones while they are drivingas', 'using a cellular device while driving is a dangerous hazard an expanding number of studies ', 'sad but probably truei am a supporter of cell phone usage while in the carthe ability to use a cell phone is necessary in these times it is a on the go kind of world my teachers email me i keep up with my grades i get emails i can check the weather i can keep up with my friends my phone serves as my personal trainer i can check my bank account in the event of an emergency having a cell phone that can allow me to seek help report pr', 'hone while youre driving or do you be in the car with people who use their phone while theyre driving i believe we shou', 'd age we are privileged to have the ability to drive vehicles anywhere that we please the use of technology gave us the responsibility of driving with that being said the responsibility of driving is very important because youre not only putting your life at risk but also other drivers on the road there can be many distractions while you are driving which can cause you to wreck and be seriously injured from it one of the biggest distractions in todays age is the use of cellphones with the improvements made to technology you can use cellphones anywhere on the road which causes it to be the number one distraction i personally feel ', ' if drivers should or not be able to use cell phones in any capacity while operating a vehicle i strongly feel like', 'the use of phones while driving not only puts the person driving in danger but all the people around them it takes one person to make one decision that can affect the lives of manypeople do not take into consideration the horrible facts about accidents caused by cell phones when choosing to use their phones the nationa', 't and drive no you shouldnt texting and driving is a bad thing it can cause accidents and people might die including yourself over 25 million people in the us are involved in road accidents each year of these 16 million have a cell phone involved in them thats the majority of all road accidents in the united states over half the road accidents in the states have cell phones involved and if this doesnt make you realize just how potent it is what will texting and dri', 'rgia it is illegal to use a cellular device while operating a vehicle i believe that drivers should not be able to use cellular devices in any capacity while operating a vehicle over the past two decades phones and technology have expanded and so have the dangers of getting behind the wheel with a cellular device i believe that no on', 'society there are many ways to interfere with safe driving conditions more specifically something that a numerous amount of people us in their daily lives this object is a cellsmart phone and it can determine life or death there is a time and place for these devices but the road is not one of them yet like every problem there is a solution and the solution to this problem can be fixed by heavy law enforcementthe majority of people', 'this means that less of your brain is focused on driving the car yes that could also mean a conversation with someone in the car is dangerous but you add in bad reception how uncomfortable the handsfree earpieces are to wear and the annoyance of static or wind and you have a wor', 'texting is all throughout todays society like being at fault during accidents when youre at fault for an accident it makes your insurance premium go up and nobody wants to pay extra just over a ticket you will be the liable victim and', 'ost peoples lives in this contemporary era smartphone ownership is growing rapidly around the world in addition the worlds population is 76 billion with an estimated 14 billion cars on the road that is a vast eighteen percent of the population this leads to the question should drivers be able to use cellphones in any capacity while operating a vehicle i feel as though you should not touch your pho', 'ave cellular devices and they can be a constant problem some people have a habit where they look at there phone way to often this is a problem if someone is to be ', 'it can extremely dangerous to text and drive on the road it put people in danger they are more focus on the insolent paying accident to the road increases the chance that the drive can lose the control of the venice and could cause a crash or even incident a worst case could kill other people is text and drive texting while driving has become the number one driving distraction for many people drivers need to be aware of the dangers and keep their attention on the road not on their cell phones or other mobile devicesthese advertisements are hard to watch no driver wants to think about being responsible for a traffic accident that takes his or her own life or the lives of other motorists or pedestrians nevertheless most drivers still use ', ' given to the human race ever since the first man was coined and has been ever so crucial for our development to how we are today we come so far as to create a device to communicate at great distances with a single tap this device is known as a cell phone the device has gone through many alterations time after time to satisfy the needs of the average user cell phones are used on a daily basis and most spend up to nine hours a day this behavior can be described as addicting this addiction causes many people to not be aware of their surroundings which leads to many accidents most of accidents occur on the road drivers should not be allowed to use the', 'able to use their phones in any capacity while driving they should should people have complete access to their phones while driving no some of the features on phones should not be accessible while driving is there danger wi', 'icle causes more car accidents than hands free drivingit has been proven that driving without the use of your cell phone is 100 safer than driving while using your cell phone humans should not operate cell phones while driving cell phone u', ' a big impact on the world today the number problem with technology is cell phones we use cell phones all day and night there have been so many accidents and mostly the cost of texting and driving i think that drivers', 'ty of humans own and operate cell phones on the daily basis many people in today is society who own cell phones operate them while they are driving drivers shouldnt ', 'll phone has its pros and cons but it really depends on the driver if driving with a phones is a bad thing some people use their cell phone for navigation that could help them get around in an unfamiliar area the cons of it is that some people may be paying too much attention to their phone and not to the road being on your phone could be helpful or dangerousthe reason it could', 'cell phones have taken away from attention and respect all persons cell phone etiquette varies my grandmother only uses her cell phone when sitting at home similar to when she had a landline phone on the other hand my mother uses h', 'many people think they should be safe if they only check their phones for a short period of time this is negligent of the fact that a quick glance at their phone could be all it takes to get into an accident if youre drivin', 'ty of humans own and operate cell phones on a daily basis cell phones have not been around for a very long time they have become a key part of our lives so many people now days use their cell phone for just about everything such as texting talking face time and games also they think that handfree set is safe because they can drive using two hands moreoverthey use arguments that cell phones are necessary in emergency situations although some people', 'cars have been out for many years and car accidents have happened a lot in each year accidents due to phone usage leads to 16 million deaths and that should be lowered each year more and more people still use their phones while driving but its a bigger percent of adults who use them while operating a vehicle the people driving think they can multitask but imagine just driving to the store down the street and you look at your phone for a quick seco', 'most productive they can possibly be in order to complete their daily taskscommutes to work are longer and the accessibility of cell phones has never been so handy but also so lifethreateningpeople spend so much time in their cars multitasking especially in terms of checking messages and emails while in the car is becoming a norm in society teen driver sourcebut texting and checking messages unfortunately is not as harmless as people assume it to be when they are checking their social media feeds during standstill traffic or at a stoplightjust in 2013 alone there were more than 12 million car crashes in america and of those 12 million nearly 341000 of those were caused solely by texting teen driver sourcecell phones in the car are more than just a distraction but a danger to the driver of the vehicle as well as everyone else on the roadsome states within the united states of america have banned using their cell phones while driving such as illinois but not every state has yetwhen one is distracted on the road their attention to detail decreases their reaction time slows and they are more susceptible to accidents than they were before picking up their phoneswhen it comes to driving on the roads the use of cell phones while driving sho', 'ty of humans own and operate cell phones on a daily basis a growing body of research shows that driving while using a cellphone can create dangerous distractions however many states do not have bans against the use of phones while none have forbidden the use of handsfree devices opponents of the idea claim that cellphone bans are difficult to enforce while others claim that drivers also engage in other distracting activities such as eating listening to music and arguing with their children nevertheless a re', 'phonesnow a days we use phones for many other things other than calling our phones has been changing and still changing and adding more options other than communication such as apps apps are mobile applications that you can download on your phone there are just so many things that we can do on our phoneswe may wanna take a picture while we on the road or we may wanna watch a movie on our phone but like i said before we need our phones for many reasons and im not just speaking teenagers im speaking for everybody because now a days we live and run on our phones so only ', 'ccidents and or get injured very badly because they use cell phones while driving it is illegal in many states and it is bad to use handheld devices and drive because these actions could lead to vehicle crashes drivers should not be able to', ' part of everyones life in the twenty first century society uses them for everything from keeping up with social media remaining in contact with people personal entertainment and so much more with so many people in possession of a cell phone it is no surprise that they use them at inappropriate times one of those times is while driving the use of a cell ', 'first is car crashes car crashes are very common sometimes it can be because people dont know how to drive but the', 'according to www thezebra comtextinganddrivingstatstics use of a cell phone while driving caused an estimated 15 million car accidents in 201', ' i say about phones there are good for some but some use it for the bad like exa', ' progressed from the telephone by alexander graham bell in 1876 to the endless communication that is now available in the 21st century but it has come a', 'cell phones have become a part of many peoples daily lives making it a struggle for them to sit the down long enough to drive and reach their destination in 2015 six hundred and sixty thousand drivers in the united states were calculated to have cellphones in hand while behind the wheel cellphone usage while traveling has become the number one cause for', 'xting and driving there is a law that says otherwise texting and driving are not safe for any age citizens texting is a distraction from focusing on the road while driving there is no multitasking when it comes to texting and driving there have been too many car accidents that have been caused by people using their phones while driving to reduce the number of deaths due to texting an', 'in the first elace why would you want anyone in the vehicle to operate a phone in the vehicle which could become a distraction to the driver and everyone whos in the video to me that extremely dangerous because if you didnt know ', 'lphone daily for some their cellphone is a part of their life it helps them to communicate with others and their phone keeps them connected to news and events all around the world on the contrary phones may be a distraction when a driver is behind the wheel when someone is driving they should be aware of their surroundings at that point in timereasonably people need to s', 'driving while using a cell phone can be dangerous most drivers like to text while they are driving that can be dangerous because you will be distracted from the road the most ', 'to use their cellphones while operating a vehicle no drivers shouldnt be ', 'the first topic discussing how using your cell phone while driving is dangerous is swervinglets say youre driving and your buddy texts you and you pick your phone up to answer the text while you were texting your friend back you got distracted and ', 'people tend to always want to be on their phones and be in touch with other people during social media call or text  despite the danger of causing an accident we keep our phones closer than our loved ones phones are a constant distraction such as meetings movies meals and especially when we are driving everyday people die from car accidents because someone was using their phone while driving  studies have shown that there is a 4 greater risk of drivers being in a car accident due to using a cell phone overall the crashes every year because of ', 'ds population has a cell phone most people who have a cell phone use their phone daily however how many people use their phones while driving according the new york post a servey showed that 90 people still use a smart phone while driving despite the laws against it people should not be', 'umans own and operate cell phones on a daily basicwhen going to work school and so much more humans also use cellphone while driving drivers should not drive wh', 'hones instantly grew after the introduction in the 1980s one of the primary reasons they have grown in popularity is cell phones allow people to communicate from all over in a matter of seconds due to the fact cell phones are such a vital part of lives phone use while driving has become a definite safety concern adults spend an average of 45 minutes a dav on social media the national highway traffic safety administration noted 1830 motor vehicle accident fatalities for young drivers according to teendriversource org many of the accidents were from distracted cell phone use cell phones should n', 'many cannot see the consequences driving and texting can bring to their lives and the life changing effects if others are affectedfirst of all the dangers of this habit is that people have started to make are hugely deadly to everyone who participates in it texting while driving has an equal to more deadly affect on you as drinking and driving the main re', 'ing and drive is bad and can cause car accidents or any terrible thing to happen honestly doing any like that can lead to no common sense especially when you have someone in the car with you over thousands of people die from a car accident situation which unlikely happy for love ones i feel like more of this comes from young adults and teens because there still in that developing stage where this and that needs to be learned even though car accidents happen you shouldnt be scared to drive or stop you from drivingyou should just be a l', 'people use their cell phones for just about everything like texting calling and finding anything they need to know unfortunately people are also choosing the wrong time to be using their cell phones while they are driving using cell phones while driving is dangerous to the driver for a couple of good reasons it is very distrac', 'the reasons why cell phones should not be used while driving are fairly obvious because even a twosecond distraction  takin', ' in car accident but most of those accidents are caused by people on their cell phones this here is one of the biggest issues the world faces every day with drivers getting their selfs in danger and others over a phone call or text message if you think the slight chance that any of this isnt important and the world is just making a big deal about this will then let me give a hand and give you a lesson in 2011s cell phone and driving statistics its estimated that 23 of all car accidents each year are cause by cell phones use thats 13 million crashes and 10  of those car crashes have been fatal to many others', 'opponents whose work depends on a cell phone like lawyers or businessmen say that they always must be available to answer the phone to keep their business running however because of their habits they can create dangerous and hazardous situations like a collision or an accident business issues can be stressful and dangerous while driving because it can cause emotional reactions that can lead to tragedy because of the conversation they might get upset and this can lower their driving ability that can lead to lose control over th', ' in car accidents because they use cell phones while driving according to research cell phones are leading factors that cause accidents studies show that a cell phone put drivers at a four time greater risk of a crush despite of a danger', 'driving may look or sound fun but in truth it is very dangerous many people lost their lives behind the wheel either because there lack of concentration or a reckless driver sur vehicles have air bags but air bags dont guarantee safety', 'son uses their phone many times a day whether it be consciously or not we as a people always have access to our own devices the problem with people using their phone is when to use it and how to use it properly when inside of a vehicle there should only be a bare minimum of use to your phone whether that reason would be an emergency call or even doing simple things like using the maps application all in all huma', 'nes while driving are good ideas when phones are being used in the process of driving you have a higher chance of causing an accident in the road some may also say that having your phone out helps you multitask things at once in a car so it would be a good thing they would say you could send documents off if your late to work if you need to order a gift for a person or even call someone to pick up something for you at home using a cell phone is widely considered dangerous due to its potential for causing distracted driving and crashing many people argue and say driving while using a handsfree device is not safer than using a handheld phone in the us the amount of car crashes due to distracted driving is increasing today i will be talking about how it is', 'd beside you and seen someone texting and driving it is actually a law to text call or just be on your phone in some places it is very dangerous', 'rt of our daily lives phones have went from something you use to just call people too your very personal computer up to date will all the new software to make surfing the internet easier now that sounds wonderful but these thing can also so be a huge distraction to many especially when they are being used while operating a motor vehiclefor one thing using your cell phone causes many distractions for your eyes your', 'once you are driving you should be focus on the road and be aware of your surroundings being on your cell phone while driving can cause you to hit somebody in front of you because you not paying attention when not using your cell phone while driving can decrease the number of deaths that happen every year statics sh', 'texting  driving is more debilitating to your reaction time than driving while under the influence of alcohol as crazy as it sounds its true people tend to crash more likely while using a device and driving than under the influence we are so focused on social media or other people texting us that most of the time we arent paying att', 'y there has always been a debate on the subject of using electronic devices while conducting a vehicle there are many opinions on this subject some more elaborate than others should people be allowed to use their phones while driving and possibly putting peoples lives in danger although we can argue that there are many beneficial ways that you can use your phone in the comfort of your vehicle the debate on whether it should be used at all is the main problemthe national safety council reports that t', '1 out of every 4 car accidents in the united states is caused by texting and drivi', ' cellphone some can even say that it is weird not to have a phone society loves to advertise the newest phones year after year to keep people buying new ones but some people use their phones so much that it actually becomes a hazard to them most people can say that they have used a cellphone while driving at least once but doing so also comes with many risks and consequences it is bad to use a cellphone while dr']\n"
          ]
        }
      ]
    },
    {
      "cell_type": "code",
      "source": [
        "print(len(essays))\n",
        "print(len(leads))"
      ],
      "metadata": {
        "colab": {
          "base_uri": "https://localhost:8080/"
        },
        "id": "s5XSz0RmKNFR",
        "outputId": "e7549439-d5ef-48ca-f58d-4703c30f7a2a"
      },
      "id": "s5XSz0RmKNFR",
      "execution_count": null,
      "outputs": [
        {
          "output_type": "stream",
          "name": "stdout",
          "text": [
            "183\n",
            "183\n"
          ]
        }
      ]
    },
    {
      "cell_type": "code",
      "source": [
        "print(len(essays_test))\n",
        "print(len(leads_test))"
      ],
      "metadata": {
        "colab": {
          "base_uri": "https://localhost:8080/"
        },
        "id": "KffU8efFODFt",
        "outputId": "aaef1419-1fad-4b2e-97b1-da7e6c723000"
      },
      "id": "KffU8efFODFt",
      "execution_count": null,
      "outputs": [
        {
          "output_type": "stream",
          "name": "stdout",
          "text": [
            "17\n",
            "17\n"
          ]
        }
      ]
    },
    {
      "cell_type": "code",
      "source": [
        "maxlen = 0\n",
        "for essay in essays:\n",
        "  essay_length = len(essay)\n",
        "  #print(essay_length)\n",
        "  if essay_length > 3000:\n",
        "    print(essay_length)\n",
        "  if maxlen < essay_length:\n",
        "    maxlen = essay_length\n",
        "print(maxlen)"
      ],
      "metadata": {
        "colab": {
          "base_uri": "https://localhost:8080/"
        },
        "id": "V7odtFldvP87",
        "outputId": "2fe737bf-15c1-490a-c166-d4a2933b1618"
      },
      "id": "V7odtFldvP87",
      "execution_count": null,
      "outputs": [
        {
          "output_type": "stream",
          "name": "stdout",
          "text": [
            "3042\n",
            "3127\n",
            "3495\n",
            "3503\n",
            "4159\n",
            "3066\n",
            "3043\n",
            "3044\n",
            "3307\n",
            "3528\n",
            "3269\n",
            "3504\n",
            "3124\n",
            "4070\n",
            "3526\n",
            "3734\n",
            "7980\n",
            "3978\n",
            "3407\n",
            "7980\n"
          ]
        }
      ]
    },
    {
      "cell_type": "code",
      "source": [
        "def returnMaxLength(essay_array):\n",
        "  maxlen = 0\n",
        "  for essay in essay_array:\n",
        "    essay_length = len(essay)\n",
        "    if maxlen < essay_length:\n",
        "      maxlen = essay_length\n",
        "  return maxlen"
      ],
      "metadata": {
        "id": "fRNWIMf5v_8b"
      },
      "id": "fRNWIMf5v_8b",
      "execution_count": null,
      "outputs": []
    },
    {
      "cell_type": "code",
      "source": [
        "print(returnMaxLength(essays))\n",
        "print(returnMaxLength(leads))\n",
        "print(returnMaxLength(essays_test))\n",
        "print(returnMaxLength(leads_test))"
      ],
      "metadata": {
        "colab": {
          "base_uri": "https://localhost:8080/"
        },
        "id": "5R5FeQY6wZ45",
        "outputId": "b0d30ddf-725d-4c16-c8ed-ee84632c9005"
      },
      "id": "5R5FeQY6wZ45",
      "execution_count": null,
      "outputs": [
        {
          "output_type": "stream",
          "name": "stdout",
          "text": [
            "7980\n",
            "1253\n",
            "3297\n",
            "668\n"
          ]
        }
      ]
    },
    {
      "cell_type": "code",
      "source": [
        "import numpy as np\n",
        "import pandas as pd\n",
        "from tensorflow.keras import layers\n",
        "from tensorflow.keras.models import Sequential\n",
        "from tensorflow.keras.layers import Dense\n",
        "from tensorflow.keras.layers import Flatten\n",
        "from tensorflow.keras.layers import Conv1D\n",
        "from tensorflow.keras.layers import MaxPooling1D\n",
        "from tensorflow.keras.layers import Embedding\n",
        "from tensorflow.keras.preprocessing.text import Tokenizer\n",
        "from tensorflow.keras.preprocessing import sequence\n",
        "from sklearn.preprocessing import LabelEncoder\n",
        "import tensorflow as tf"
      ],
      "metadata": {
        "id": "FcpPpthlFxnH"
      },
      "id": "FcpPpthlFxnH",
      "execution_count": null,
      "outputs": []
    },
    {
      "cell_type": "code",
      "source": [
        "t = Tokenizer(oov_token='<UNK>')\n",
        "# fit the tokenizer on the documents\n",
        "t.fit_on_texts(essays)\n",
        "t.word_index['<PAD>'] = 0"
      ],
      "metadata": {
        "id": "tpWRbg_1FpVx"
      },
      "id": "tpWRbg_1FpVx",
      "execution_count": null,
      "outputs": []
    },
    {
      "cell_type": "code",
      "source": [
        "# transform train set using the tokenizer\n",
        "train_sequences = t.texts_to_sequences(essays)"
      ],
      "metadata": {
        "id": "DN1wVhBfFlOX"
      },
      "id": "DN1wVhBfFlOX",
      "execution_count": null,
      "outputs": []
    },
    {
      "cell_type": "code",
      "source": [
        "# transform test set using the tokenizer\n",
        "test_sequences = t.texts_to_sequences(essays_test)"
      ],
      "metadata": {
        "id": "L4Ee5BeyFhsx"
      },
      "id": "L4Ee5BeyFhsx",
      "execution_count": null,
      "outputs": []
    },
    {
      "cell_type": "code",
      "source": [
        "train_sequence_leads = t.texts_to_sequences(leads)\n",
        "test_sequence_leads = t.texts_to_sequences(leads_test)"
      ],
      "metadata": {
        "id": "gwbahmRg1_fr"
      },
      "id": "gwbahmRg1_fr",
      "execution_count": null,
      "outputs": []
    },
    {
      "cell_type": "code",
      "source": [
        "print(\"Vocabulary size={}\".format(len(t.word_index)))\n",
        "print(\"Number of Documents={}\".format(t.document_count))"
      ],
      "metadata": {
        "colab": {
          "base_uri": "https://localhost:8080/"
        },
        "id": "kWSft1L6FfHV",
        "outputId": "733ba9f5-aae0-47b3-e212-743f69906605"
      },
      "id": "kWSft1L6FfHV",
      "execution_count": null,
      "outputs": [
        {
          "output_type": "stream",
          "name": "stdout",
          "text": [
            "Vocabulary size=4363\n",
            "Number of Documents=182\n"
          ]
        }
      ]
    },
    {
      "cell_type": "code",
      "source": [
        "maxlen = 0\n",
        "for seq in train_sequences_padded:\n",
        "  seqlen = len(seq)\n",
        "  print(seqlen)\n",
        "  if maxlen < seqlen:\n",
        "    maxlen = seqlen\n",
        "print(maxlen)"
      ],
      "metadata": {
        "colab": {
          "base_uri": "https://localhost:8080/"
        },
        "id": "ifquaQxBw3u_",
        "outputId": "ae1bef17-ddd1-425d-d7fb-0157fc11df90"
      },
      "id": "ifquaQxBw3u_",
      "execution_count": null,
      "outputs": [
        {
          "output_type": "stream",
          "name": "stdout",
          "text": [
            "1356\n",
            "1356\n",
            "1356\n",
            "1356\n",
            "1356\n",
            "1356\n",
            "1356\n",
            "1356\n",
            "1356\n",
            "1356\n",
            "1356\n",
            "1356\n",
            "1356\n",
            "1356\n",
            "1356\n",
            "1356\n",
            "1356\n",
            "1356\n",
            "1356\n",
            "1356\n",
            "1356\n",
            "1356\n",
            "1356\n",
            "1356\n",
            "1356\n",
            "1356\n",
            "1356\n",
            "1356\n",
            "1356\n",
            "1356\n",
            "1356\n",
            "1356\n",
            "1356\n",
            "1356\n",
            "1356\n",
            "1356\n",
            "1356\n",
            "1356\n",
            "1356\n",
            "1356\n",
            "1356\n",
            "1356\n",
            "1356\n",
            "1356\n",
            "1356\n",
            "1356\n",
            "1356\n",
            "1356\n",
            "1356\n",
            "1356\n",
            "1356\n",
            "1356\n",
            "1356\n",
            "1356\n",
            "1356\n",
            "1356\n",
            "1356\n",
            "1356\n",
            "1356\n",
            "1356\n",
            "1356\n",
            "1356\n",
            "1356\n",
            "1356\n",
            "1356\n",
            "1356\n",
            "1356\n",
            "1356\n",
            "1356\n",
            "1356\n",
            "1356\n",
            "1356\n",
            "1356\n",
            "1356\n",
            "1356\n",
            "1356\n",
            "1356\n",
            "1356\n",
            "1356\n",
            "1356\n",
            "1356\n",
            "1356\n",
            "1356\n",
            "1356\n",
            "1356\n",
            "1356\n",
            "1356\n",
            "1356\n",
            "1356\n",
            "1356\n",
            "1356\n",
            "1356\n",
            "1356\n",
            "1356\n",
            "1356\n",
            "1356\n",
            "1356\n",
            "1356\n",
            "1356\n",
            "1356\n",
            "1356\n",
            "1356\n",
            "1356\n",
            "1356\n",
            "1356\n",
            "1356\n",
            "1356\n",
            "1356\n",
            "1356\n",
            "1356\n",
            "1356\n",
            "1356\n",
            "1356\n",
            "1356\n",
            "1356\n",
            "1356\n",
            "1356\n",
            "1356\n",
            "1356\n",
            "1356\n",
            "1356\n",
            "1356\n",
            "1356\n",
            "1356\n",
            "1356\n",
            "1356\n",
            "1356\n",
            "1356\n",
            "1356\n",
            "1356\n",
            "1356\n",
            "1356\n",
            "1356\n",
            "1356\n",
            "1356\n",
            "1356\n",
            "1356\n",
            "1356\n",
            "1356\n",
            "1356\n",
            "1356\n",
            "1356\n",
            "1356\n",
            "1356\n",
            "1356\n",
            "1356\n",
            "1356\n",
            "1356\n",
            "1356\n",
            "1356\n",
            "1356\n",
            "1356\n",
            "1356\n",
            "1356\n",
            "1356\n",
            "1356\n",
            "1356\n",
            "1356\n",
            "1356\n",
            "1356\n",
            "1356\n",
            "1356\n",
            "1356\n",
            "1356\n",
            "1356\n",
            "1356\n",
            "1356\n",
            "1356\n",
            "1356\n",
            "1356\n",
            "1356\n",
            "1356\n",
            "1356\n",
            "1356\n",
            "1356\n",
            "1356\n",
            "1356\n",
            "1356\n",
            "1356\n",
            "1356\n",
            "1356\n",
            "1356\n",
            "1356\n"
          ]
        }
      ]
    },
    {
      "cell_type": "code",
      "source": [
        "def returnSequenceLength(sequence):\n",
        "  maxlen = 0\n",
        "  for seq in sequence:\n",
        "    seqlen = len(seq)\n",
        "    if maxlen < seqlen:\n",
        "      maxlen = seqlen\n",
        "  return maxlen"
      ],
      "metadata": {
        "id": "5v3NOGvCxZi3"
      },
      "id": "5v3NOGvCxZi3",
      "execution_count": null,
      "outputs": []
    },
    {
      "cell_type": "code",
      "source": [
        "print(returnSequenceLength(train_sequences))\n",
        "print(returnSequenceLength(test_sequences))"
      ],
      "metadata": {
        "colab": {
          "base_uri": "https://localhost:8080/"
        },
        "id": "X9vPBZ11xrcd",
        "outputId": "818e46ed-4051-4e60-d207-92d9e26a8e52"
      },
      "id": "X9vPBZ11xrcd",
      "execution_count": null,
      "outputs": [
        {
          "output_type": "stream",
          "name": "stdout",
          "text": [
            "1356\n",
            "610\n"
          ]
        }
      ]
    },
    {
      "cell_type": "code",
      "source": [
        "train_pad_length = returnSequenceLength(train_sequences)\n",
        "test_pad_length = returnSequenceLength(test_sequences)"
      ],
      "metadata": {
        "id": "Zfgs_CHXx2rV"
      },
      "id": "Zfgs_CHXx2rV",
      "execution_count": null,
      "outputs": []
    },
    {
      "cell_type": "code",
      "source": [
        "train_pad_length_leads = returnSequenceLength(train_sequence_leads)\n",
        "train_pad_length_leads_test = returnSequenceLength(test_sequence_leads)"
      ],
      "metadata": {
        "id": "Mrgc5tcb2PYf"
      },
      "id": "Mrgc5tcb2PYf",
      "execution_count": null,
      "outputs": []
    },
    {
      "cell_type": "code",
      "source": [
        "print(train_pad_length_leads)\n",
        "print(train_pad_length_leads_test)"
      ],
      "metadata": {
        "colab": {
          "base_uri": "https://localhost:8080/"
        },
        "id": "xzrqnUhu2jNH",
        "outputId": "1cd45ca1-4ff6-4daa-a53b-f181a0afdb2f"
      },
      "id": "xzrqnUhu2jNH",
      "execution_count": null,
      "outputs": [
        {
          "output_type": "stream",
          "name": "stdout",
          "text": [
            "217\n",
            "125\n"
          ]
        }
      ]
    },
    {
      "cell_type": "code",
      "source": [
        "i = 0\n",
        "train_sequence_example = train_sequences[0]\n",
        "train_sequence_leads_example = train_sequence_leads[0]\n",
        "print(train_sequence_example)\n",
        "print(train_sequence_leads_example)"
      ],
      "metadata": {
        "colab": {
          "base_uri": "https://localhost:8080/"
        },
        "id": "CRCXW-272xSY",
        "outputId": "b1f4591e-cbf3-4c28-c3f2-95d623b780b3"
      },
      "id": "CRCXW-272xSY",
      "execution_count": null,
      "outputs": [
        {
          "output_type": "stream",
          "name": "stdout",
          "text": [
            "[766, 326, 240, 15, 135, 18, 21, 12, 26, 15, 135, 18, 21, 12, 42, 70, 491, 649, 5, 160, 95, 151, 53, 26, 65, 10, 52, 368, 4, 970, 4, 54, 23, 871, 2188, 18, 250, 251, 26, 66, 65, 16, 13, 7, 26, 15, 82, 204, 174, 369, 45, 1107, 417, 45, 16, 226, 3, 5, 12, 82, 517, 767, 9, 2, 276, 89, 377, 22, 51, 700, 1580, 54, 31, 6, 2189, 20, 23, 22, 26, 132, 81, 517, 492, 11, 26, 23, 492, 85, 1302, 1581, 1108, 4, 971, 57, 85, 32, 5, 252, 2190, 152, 4, 8, 222, 3, 14, 9, 418, 8, 19, 127, 14, 9, 418, 46, 1582, 872, 24, 52, 419, 20, 135, 23, 420, 270, 134, 3, 701, 36, 5, 12, 22, 23, 1303, 120, 3, 106, 2191, 10, 50, 6, 2, 125, 134, 3, 56, 128, 20, 135, 14, 18, 21, 22, 13, 175, 16, 107, 19, 75, 271, 493, 236, 126, 401, 5, 187, 236, 573, 95, 30, 13, 7, 236, 5, 204, 143, 187, 3, 1304, 82, 20, 127, 65, 16, 31, 26, 94, 84, 1109, 95, 385, 108, 26, 65, 26, 127, 23, 3, 1305, 16, 31, 236, 2, 91, 125, 134, 470, 272, 2192, 18, 2, 545, 47, 10, 352, 41, 73, 24, 5, 2193, 16, 227, 650, 77, 27, 179, 161, 471, 188, 24, 2194, 11, 77, 972, 16, 352, 472, 24, 231, 32, 5, 2195, 237, 574, 546, 188, 3, 402, 8, 4, 26, 132, 161, 8, 473, 43, 8, 92, 132, 2, 518, 2196, 440, 8, 2197, 4, 118, 8, 386, 3, 1583, 109, 107, 19, 253, 71, 204, 1306]\n",
            "[326, 240, 15, 135, 18, 21, 12, 26, 15, 135, 18, 21, 12, 42, 70, 491, 649, 5, 160, 95, 151, 53, 26, 65, 10, 52, 368, 4, 970, 4, 54, 23, 871, 2188, 18, 250, 251, 26, 66, 65, 16, 13, 7, 26, 15]\n"
          ]
        }
      ]
    },
    {
      "cell_type": "code",
      "source": [
        "i = 0\n",
        "j = 0\n",
        "k = 0\n",
        "match_flag = 0\n",
        "output_array = []\n",
        "len_leads_example = len(train_sequence_leads_example)\n",
        "len_essay_example = len(train_sequence_example)\n",
        "for item in train_sequence_example:\n",
        "    i = k\n",
        "    while i < len_leads_example - 1 and match_flag == 0:\n",
        "        item2 = train_sequence_leads_example[i]\n",
        "        if item == item2:\n",
        "            output_array.append(1)\n",
        "            k = i\n",
        "            match_flag = 1\n",
        "        i += 1\n",
        "    if match_flag == 0:\n",
        "        output_array.append(0)\n",
        "    else:\n",
        "        match_flag = 0 # reset the match flag"
      ],
      "metadata": {
        "id": "oaE6J_7r3muD"
      },
      "id": "oaE6J_7r3muD",
      "execution_count": null,
      "outputs": []
    },
    {
      "cell_type": "code",
      "source": [
        "print(output_array)"
      ],
      "metadata": {
        "colab": {
          "base_uri": "https://localhost:8080/"
        },
        "id": "EU0fckkr5W2G",
        "outputId": "5bd3cd83-9aa2-496f-c8ad-ab3551d6b090"
      },
      "id": "EU0fckkr5W2G",
      "execution_count": null,
      "outputs": [
        {
          "output_type": "stream",
          "name": "stdout",
          "text": [
            "[0, 1, 1, 1, 1, 1, 1, 1, 1, 1, 1, 1, 1, 1, 1, 1, 1, 1, 1, 1, 1, 1, 1, 1, 1, 1, 1, 1, 1, 1, 1, 1, 1, 1, 1, 1, 1, 1, 1, 1, 1, 1, 1, 1, 1, 0, 0, 0, 0, 0, 0, 0, 0, 0, 0, 0, 0, 0, 0, 0, 0, 0, 0, 0, 0, 0, 0, 0, 0, 0, 0, 0, 0, 0, 0, 0, 0, 0, 1, 0, 0, 0, 0, 0, 1, 0, 0, 0, 0, 0, 0, 0, 0, 0, 0, 0, 0, 0, 0, 0, 0, 0, 0, 0, 0, 0, 0, 0, 0, 0, 0, 0, 0, 0, 0, 0, 0, 0, 0, 0, 0, 0, 0, 0, 0, 0, 0, 0, 0, 0, 0, 0, 0, 0, 0, 0, 0, 0, 0, 0, 0, 0, 0, 0, 0, 0, 0, 0, 0, 0, 0, 0, 0, 0, 0, 0, 0, 0, 0, 0, 0, 0, 0, 0, 0, 0, 0, 0, 0, 0, 0, 0, 0, 0, 0, 0, 0, 0, 0, 0, 0, 0, 0, 0, 1, 0, 0, 0, 0, 0, 0, 1, 0, 1, 0, 0, 0, 0, 0, 0, 0, 0, 0, 0, 0, 0, 0, 0, 0, 0, 0, 0, 0, 0, 0, 0, 0, 0, 0, 0, 0, 0, 0, 0, 0, 0, 0, 0, 0, 0, 0, 0, 0, 0, 0, 0, 0, 0, 0, 0, 0, 0, 0, 0, 0, 0, 0, 0, 0, 1, 0, 0, 0, 0, 0, 0, 0, 0, 0, 0, 0, 0, 0, 0, 0, 0, 0, 0, 0, 0, 0, 0, 0, 0, 0, 0, 0]\n"
          ]
        }
      ]
    },
    {
      "cell_type": "code",
      "source": [
        "print(len(train_sequence_example))\n",
        "print(len(train_sequence_leads_example))\n",
        "print(len(output_array))"
      ],
      "metadata": {
        "colab": {
          "base_uri": "https://localhost:8080/"
        },
        "id": "Dj7go0Hf5oSn",
        "outputId": "1f40f100-f8e3-46d6-8089-769c0450b812"
      },
      "id": "Dj7go0Hf5oSn",
      "execution_count": null,
      "outputs": [
        {
          "output_type": "stream",
          "name": "stdout",
          "text": [
            "277\n",
            "45\n",
            "277\n"
          ]
        }
      ]
    },
    {
      "cell_type": "code",
      "source": [
        "def returnOutputArray(sequence_essay,sequence_lead):\n",
        "  i = 0\n",
        "  j = 0\n",
        "  k = 0\n",
        "  match_flag = 0\n",
        "  output_array = []\n",
        "  len_leads_example = len(sequence_lead)\n",
        "  len_essay_example = len(sequence_essay)\n",
        "  for item in sequence_essay:\n",
        "      i = k\n",
        "      while i < len_leads_example - 1 and match_flag == 0:\n",
        "          item2 = sequence_lead[i]\n",
        "          if item == item2:\n",
        "              output_array.append(1)\n",
        "              k = i\n",
        "              match_flag = 1\n",
        "          i += 1\n",
        "      if match_flag == 0:\n",
        "          output_array.append(0)\n",
        "      else:\n",
        "          match_flag = 0 # reset the match flag\n",
        "  return(output_array)"
      ],
      "metadata": {
        "id": "MiDjQ2AA7Jhq"
      },
      "id": "MiDjQ2AA7Jhq",
      "execution_count": null,
      "outputs": []
    },
    {
      "cell_type": "code",
      "source": [
        "output_array_example = returnOutputArray(train_sequence_example,train_sequence_leads_example)"
      ],
      "metadata": {
        "id": "QPckToyt76zj"
      },
      "id": "QPckToyt76zj",
      "execution_count": null,
      "outputs": []
    },
    {
      "cell_type": "code",
      "source": [
        "print(output_array_example)"
      ],
      "metadata": {
        "colab": {
          "base_uri": "https://localhost:8080/"
        },
        "id": "rtB2VPZ58Mrw",
        "outputId": "abbab1a0-d2d3-4eba-e036-abf761f15e2e"
      },
      "id": "rtB2VPZ58Mrw",
      "execution_count": null,
      "outputs": [
        {
          "output_type": "stream",
          "name": "stdout",
          "text": [
            "[0, 1, 1, 1, 1, 1, 1, 1, 1, 1, 1, 1, 1, 1, 1, 1, 1, 1, 1, 1, 1, 1, 1, 1, 1, 1, 1, 1, 1, 1, 1, 1, 1, 1, 1, 1, 1, 1, 1, 1, 1, 1, 1, 1, 1, 0, 0, 0, 0, 0, 0, 0, 0, 0, 0, 0, 0, 0, 0, 0, 0, 0, 0, 0, 0, 0, 0, 0, 0, 0, 0, 0, 0, 0, 0, 0, 0, 0, 1, 0, 0, 0, 0, 0, 1, 0, 0, 0, 0, 0, 0, 0, 0, 0, 0, 0, 0, 0, 0, 0, 0, 0, 0, 0, 0, 0, 0, 0, 0, 0, 0, 0, 0, 0, 0, 0, 0, 0, 0, 0, 0, 0, 0, 0, 0, 0, 0, 0, 0, 0, 0, 0, 0, 0, 0, 0, 0, 0, 0, 0, 0, 0, 0, 0, 0, 0, 0, 0, 0, 0, 0, 0, 0, 0, 0, 0, 0, 0, 0, 0, 0, 0, 0, 0, 0, 0, 0, 0, 0, 0, 0, 0, 0, 0, 0, 0, 0, 0, 0, 0, 0, 0, 0, 0, 1, 0, 0, 0, 0, 0, 0, 1, 0, 1, 0, 0, 0, 0, 0, 0, 0, 0, 0, 0, 0, 0, 0, 0, 0, 0, 0, 0, 0, 0, 0, 0, 0, 0, 0, 0, 0, 0, 0, 0, 0, 0, 0, 0, 0, 0, 0, 0, 0, 0, 0, 0, 0, 0, 0, 0, 0, 0, 0, 0, 0, 0, 0, 0, 0, 1, 0, 0, 0, 0, 0, 0, 0, 0, 0, 0, 0, 0, 0, 0, 0, 0, 0, 0, 0, 0, 0, 0, 0, 0, 0, 0, 0]\n"
          ]
        }
      ]
    },
    {
      "cell_type": "code",
      "source": [
        "number_sequences = len(train_sequences)\n",
        "number_sequences_leads = len(train_sequence_leads)\n",
        "print(number_sequences)\n",
        "print(number_sequences_leads)"
      ],
      "metadata": {
        "colab": {
          "base_uri": "https://localhost:8080/"
        },
        "id": "l_vg_cdM8TmS",
        "outputId": "47f4ba16-59c9-48aa-b9f5-ad004eada976"
      },
      "id": "l_vg_cdM8TmS",
      "execution_count": null,
      "outputs": [
        {
          "output_type": "stream",
          "name": "stdout",
          "text": [
            "182\n",
            "182\n"
          ]
        }
      ]
    },
    {
      "cell_type": "code",
      "source": [
        "y_train = []\n",
        "for i in range(0,181):\n",
        "  train_seq = train_sequences[i]\n",
        "  train_leads_seq = train_sequence_leads[i]\n",
        "  output_array = returnOutputArray(train_seq,train_leads_seq)\n",
        "  y_train.append(output_array)"
      ],
      "metadata": {
        "id": "AOdFi9ub80Oe"
      },
      "id": "AOdFi9ub80Oe",
      "execution_count": null,
      "outputs": []
    },
    {
      "cell_type": "code",
      "source": [
        "print(y_train[1])"
      ],
      "metadata": {
        "colab": {
          "base_uri": "https://localhost:8080/"
        },
        "id": "ARBTTNmB9Zcm",
        "outputId": "1ba5ba1b-bad8-4a34-e7d1-7e3464232833"
      },
      "id": "ARBTTNmB9Zcm",
      "execution_count": null,
      "outputs": [
        {
          "output_type": "stream",
          "name": "stdout",
          "text": [
            "[1, 0, 1, 0, 0, 1, 1, 0, 0, 0, 0, 1, 0, 0, 1, 0, 0, 0, 0, 0, 0, 0, 0, 0, 0, 1, 0, 0, 0, 0, 0, 0, 0, 0, 0, 0, 0, 0, 0, 0, 0, 0, 0, 0, 0, 0, 0, 0, 0, 0, 0, 0, 0, 0, 0, 0, 0, 0, 0, 0, 0, 0, 0, 0, 0, 0, 0, 0, 0, 0, 0, 0, 0, 0, 0, 0, 0, 0, 0, 0, 0, 0, 0, 0, 0, 0, 0, 0, 0, 0, 0, 0, 1, 0, 0, 0, 0, 0, 0, 0, 0, 0, 0, 0, 0, 0, 0, 0, 0, 0, 0, 0, 0, 0, 0, 0, 0, 0, 0, 0, 0, 0, 0, 0, 0, 0, 0, 0, 0, 0, 0, 0, 1, 0, 0, 1, 0, 0, 0, 0, 0, 0, 0, 0, 0, 1, 0, 0, 0, 0, 0, 0, 0, 0, 0, 0, 0, 0, 0, 0, 0, 0, 0, 0, 0, 0, 0, 0, 0, 0, 0, 1, 0, 0, 0, 0, 0, 0, 0, 0, 0, 0, 0, 0, 0, 0, 0, 0, 0, 0, 1, 0, 0, 0, 0, 0, 0, 0, 0, 0, 0, 0, 0, 0, 0, 0, 0, 0, 0, 0, 0, 0, 0, 0, 0, 0, 0, 0, 0, 0, 0, 0, 0, 1, 0, 0, 0, 0, 0, 0, 0, 0, 1, 0, 0, 0, 0, 0, 0, 0, 0, 0, 0, 0, 1, 0, 0, 0, 0, 0, 0, 0, 0, 0, 0, 0, 0, 0, 0, 0, 0, 0, 0, 0, 0, 0, 0, 0, 0, 0, 0, 0, 0, 0, 0, 1, 0, 0, 0, 0, 0, 0, 0, 0, 0, 1, 0, 0, 0]\n"
          ]
        }
      ]
    },
    {
      "cell_type": "code",
      "source": [
        "number_sequences = len(test_sequences)\n",
        "number_sequences_leads = len(test_sequence_leads)\n",
        "print(number_sequences)\n",
        "print(number_sequences_leads)"
      ],
      "metadata": {
        "colab": {
          "base_uri": "https://localhost:8080/"
        },
        "id": "h1TU0eYe9hsN",
        "outputId": "80cf11a7-3235-4ce9-aaa4-8fd830bb8432"
      },
      "id": "h1TU0eYe9hsN",
      "execution_count": null,
      "outputs": [
        {
          "output_type": "stream",
          "name": "stdout",
          "text": [
            "17\n",
            "17\n"
          ]
        }
      ]
    },
    {
      "cell_type": "code",
      "source": [
        "y_test = []\n",
        "for i in range(0,16):\n",
        "  test_seq = test_sequences[i]\n",
        "  test_leads_seq = test_sequence_leads[i]\n",
        "  output_array = returnOutputArray(test_seq,test_leads_seq)\n",
        "  y_test.append(output_array)"
      ],
      "metadata": {
        "id": "B8K6gBmQ9tDO"
      },
      "id": "B8K6gBmQ9tDO",
      "execution_count": null,
      "outputs": []
    },
    {
      "cell_type": "code",
      "source": [
        "print(y_test)"
      ],
      "metadata": {
        "colab": {
          "base_uri": "https://localhost:8080/"
        },
        "id": "MfiEXXfm-HHU",
        "outputId": "0b489eb9-1bd4-4e5d-afd0-da62ca134e0c"
      },
      "id": "MfiEXXfm-HHU",
      "execution_count": null,
      "outputs": [
        {
          "output_type": "stream",
          "name": "stdout",
          "text": [
            "[[0, 1, 0, 1, 0, 1, 0, 1, 0, 0, 0, 0, 0, 1, 0, 1, 1, 0, 0, 0, 1, 0, 0, 0, 1, 0, 0, 0, 0, 0, 0, 0, 0, 0, 0, 0, 0, 0, 0, 0, 0, 1, 0, 0, 0, 0, 0, 0, 0, 0, 0, 0, 0, 0, 0, 1, 0, 0, 0, 0, 0, 0, 0, 0, 0, 0, 0, 0, 0, 0, 0, 0, 0, 0, 0, 0, 0, 0, 0, 0, 0, 0, 0, 0, 0, 0, 0, 0, 0, 0, 0, 0, 0, 0, 0, 0, 0, 0, 0, 0, 0, 0, 0, 0, 0, 0, 0, 0, 0, 0, 0, 0, 0, 0, 0, 0, 0, 0, 0, 0, 0, 0, 0, 0, 0, 0, 0, 0, 0, 0, 0, 0, 0, 0, 0, 0, 0, 0, 0, 0, 0, 0, 0, 0, 0, 0, 0, 0, 0, 0, 0, 0, 0, 0], [1, 1, 1, 1, 1, 1, 1, 1, 1, 1, 1, 1, 1, 1, 1, 1, 1, 1, 1, 1, 1, 1, 1, 1, 1, 1, 1, 1, 1, 1, 1, 1, 1, 1, 1, 1, 1, 1, 1, 1, 1, 1, 1, 1, 1, 1, 1, 1, 1, 1, 1, 1, 1, 1, 1, 1, 1, 1, 1, 1, 1, 0, 0, 0, 0, 0, 0, 0, 0, 0, 0, 0, 0, 0, 0, 0, 0, 0, 0, 0, 0, 0, 0, 0, 0, 0, 0, 0, 0, 0, 0, 0, 0, 0, 0, 0, 0, 0, 0, 0, 0, 0, 0, 0, 0, 0, 0, 0, 0, 0, 0, 0, 0, 0, 0, 0, 0, 0, 0, 0, 0, 0, 0, 0, 0, 0, 0, 0, 0, 0, 0, 0, 0, 0, 0, 0, 0, 0, 0, 0, 0, 0, 0, 0, 0, 0, 0, 0, 0, 0, 0, 0, 0, 0, 0, 0, 0, 0, 0, 0, 0, 0, 0, 0, 0, 0, 0, 0, 0, 0, 0, 0, 0, 0, 0, 0, 0, 0, 0, 0, 0, 0, 0, 0, 0, 0, 0, 0, 0, 0, 0, 0, 0, 0, 0, 0, 0, 0, 0, 0, 0, 0, 0, 0, 0, 0, 0, 0, 0, 0, 0, 0, 0, 0, 0, 0, 0, 0, 0, 0, 0, 0, 0, 0, 0, 0, 0, 0, 0, 0, 0, 0, 0, 0, 1, 0, 0, 0, 0, 0, 0, 1, 0, 0, 0], [1, 1, 1, 1, 1, 1, 1, 1, 1, 1, 1, 1, 1, 1, 1, 0, 0, 0, 0, 0, 0, 0, 0, 0, 0, 0, 0, 0, 0, 0, 0, 0, 0, 0, 0, 0, 0, 0, 0, 0, 0, 0, 0, 0, 0, 0, 0, 0, 0, 0, 0, 0, 0, 0, 0, 0, 0, 0, 0, 0, 0, 0, 0, 0, 0, 0, 0, 0, 0, 0, 0, 0, 0, 0, 0, 0, 0, 0, 0, 0, 0, 0, 0, 0, 0, 0, 0, 0, 0, 0, 0, 0, 0, 0, 0, 0, 0, 0, 0, 0, 0, 0, 0, 0, 0, 0, 0, 0, 0, 0, 0, 0, 0, 0, 1, 0, 0, 0, 0, 0, 0, 0, 0, 0, 0, 0, 0, 0, 0, 0, 0, 0, 0, 0, 0, 0, 0, 0, 0, 0, 0, 0, 0, 0, 0, 0, 0, 0, 0, 0, 0, 0, 0, 0, 0, 0, 0, 0, 0, 0, 0, 0, 0, 0, 0, 0, 0, 0, 0, 0, 0, 0, 0, 0, 0, 0, 0, 0, 0, 0, 0, 0, 0, 0, 0, 0, 0, 0, 0, 0, 0, 0, 0, 0, 0, 0, 0, 0, 0, 0, 0, 0, 0, 0, 0, 0, 0, 0, 0, 0, 0, 0, 0, 0, 0, 0, 0, 0, 0, 0, 0, 0, 0, 0, 0, 0, 0, 0, 0, 0, 0, 0, 0, 0, 0, 0, 0, 0, 0, 0, 0, 0, 0, 0, 0, 0, 0, 0, 0, 0, 0, 0, 0, 0, 0, 0, 0, 0, 0, 0, 0, 0, 0, 0, 0, 0, 0, 0, 0, 0, 0, 0, 0, 0, 0, 0, 0, 0, 0, 0, 0, 0, 0, 0, 0, 0, 0, 0, 0, 0, 0, 0, 0, 0, 0, 0, 0, 0, 0, 0, 0, 0, 0, 0, 0, 0, 0, 0, 0, 0, 0, 0, 0, 0, 0, 0, 0, 0, 0, 0, 0, 0, 0, 0, 0, 0, 0, 0, 0, 0, 0, 0, 0, 0, 0, 0, 0, 0, 0, 0, 0, 0, 0, 0, 0, 0, 0, 0, 0, 0, 0, 0, 0, 0, 0, 0, 0, 0, 0, 0, 0, 0, 0, 0, 0, 0, 0, 0, 0, 0, 0, 0, 0, 0, 0, 0, 0, 0, 0, 0, 0, 0, 0, 0, 0, 0, 0, 0, 0, 0, 0, 0, 0, 0, 0, 0, 0, 0, 0, 0, 0, 0, 0, 0, 0, 0, 0, 0, 0, 0, 0, 0, 0, 0, 0, 0, 0, 0, 0, 0, 0, 0, 0, 0, 0, 0, 0, 0, 0, 0, 0, 0, 0, 0, 0, 0, 0, 0, 0, 0, 0, 0, 0, 0, 0, 0, 0, 0, 0, 0, 0, 0, 0, 0, 0, 0, 0, 0, 0, 0, 0, 0, 0, 0, 0, 0, 0, 0, 0, 0, 0, 0, 0, 0, 0, 0, 0, 0, 0, 0, 0, 0, 0, 0, 0, 0, 0, 0, 0, 0, 0, 0, 0, 0, 0, 0, 0, 0, 0, 0], [1, 1, 1, 1, 1, 1, 1, 1, 1, 1, 1, 1, 1, 1, 1, 1, 1, 1, 1, 1, 1, 1, 1, 1, 1, 1, 1, 1, 1, 1, 1, 1, 1, 1, 1, 1, 1, 1, 1, 1, 1, 1, 1, 1, 1, 1, 1, 1, 1, 1, 1, 1, 1, 1, 1, 1, 1, 1, 1, 1, 1, 1, 1, 1, 1, 1, 1, 1, 1, 1, 1, 1, 1, 1, 1, 1, 1, 1, 1, 1, 1, 1, 1, 1, 1, 1, 1, 0, 0, 0, 0, 0, 0, 0, 0, 0, 0, 0, 0, 0, 0, 0, 0, 0, 0, 0, 0, 0, 0, 0, 0, 0, 0, 0, 0, 0, 0, 0, 0, 0, 0, 0, 0, 0, 0, 0, 0, 0, 1, 0, 0, 0, 0, 0, 0, 0, 0, 0, 0, 0, 0, 0, 0, 0, 0, 0, 0, 0, 0, 0, 0, 0, 0, 0, 0, 0, 0, 0, 0, 0, 0, 0, 0, 0, 0, 0, 0, 0, 0, 0, 0, 0, 0, 0, 0, 0, 0, 0, 0, 0, 0, 0, 0, 0, 0, 0, 0, 0, 0, 0, 0, 0, 0, 0, 0, 0, 0, 0, 0, 0, 0, 0, 0, 0, 0, 0, 0, 0, 0, 0, 0, 0, 0, 0, 0, 0, 0, 0, 0, 0, 0, 0, 0, 0, 0, 0, 0, 0, 0, 0, 0, 0, 0, 0, 0, 0, 0, 0, 0, 0, 0, 0, 0, 0, 0, 0, 0, 0, 0, 0, 0, 0, 0, 0, 0, 0, 0, 0, 0, 0, 0, 0, 0, 0, 0, 0, 0, 0, 0, 0, 0, 0, 0, 0, 0, 0, 0, 0, 0, 0, 0, 0, 0, 0, 0, 0, 0, 0, 0, 0, 0, 0, 0, 0, 0, 0, 0, 0, 0, 0, 0, 0, 0, 0, 0, 0, 0, 0, 0, 0, 0, 0, 0, 0, 0, 0, 0, 0, 0, 0, 0, 0, 0, 0, 0, 0, 0, 0, 0, 0, 0, 0, 0, 0, 0, 0, 0, 0, 0, 0, 0, 0, 0, 0, 0, 0, 0, 0, 0, 0, 0, 0, 0, 0, 0, 0, 0, 0, 0, 0, 0, 0, 0, 0, 0, 0, 0, 0, 0, 0, 0, 0, 0, 0, 0, 0, 0, 0, 0, 0, 0, 0, 0, 0, 0, 0, 0, 0, 0, 0, 0, 0, 0, 0, 0], [1, 1, 1, 1, 0, 0, 0, 0, 0, 1, 0, 0, 0, 1, 0, 0, 0, 0, 0, 0, 0, 0, 0, 0, 0, 0, 0, 0, 0, 0, 0, 0, 0, 0, 0, 0, 0, 0, 0, 0, 0, 0, 0, 0, 0, 0, 0, 0, 0, 0, 1, 1, 1, 1, 1, 1, 1, 1, 1, 0, 0, 0, 0, 0, 0, 0, 0, 0, 0, 0, 0, 0, 0, 0, 0, 0, 0, 0, 0, 0, 0, 0, 1, 0, 0, 0, 0, 0, 0, 0, 0, 0, 0, 0, 0, 0, 0, 0, 0, 0, 0, 0, 0, 0, 0, 0, 0, 0, 0, 0, 0, 0, 0, 0, 0, 0, 0, 0, 0, 0, 0, 0, 0, 0, 0, 0, 0, 0, 0, 0, 0, 0, 0, 0, 0, 0, 0, 0, 0, 0, 1, 0, 0, 0, 0, 0, 0, 0, 0, 0, 0, 0, 0, 0, 0, 0, 0, 0, 0, 0, 0, 0, 0, 0, 0, 0, 0, 0, 0, 0, 0, 0, 0, 0, 0, 0, 0, 0, 0, 0, 0, 0, 0, 0, 0, 0, 0, 0, 0, 0, 0, 0, 0, 0, 0, 0, 0, 0, 0, 0, 0, 0, 0, 0, 0, 0, 0, 0, 0, 0, 0, 0, 0, 0, 0, 0, 0, 0, 0, 0, 0, 0, 0, 0, 0, 0, 0, 0, 0, 0, 0, 0, 0, 1, 0, 0, 0, 0, 0, 0, 0, 0, 0, 1, 0, 0, 0, 0, 0, 0, 0, 0, 0, 0, 0, 1, 0, 0, 0, 0, 0, 0, 0, 0, 0, 0, 0, 0, 0, 0, 0, 0, 0, 1, 0, 0, 0, 0, 0, 0, 0, 0, 0, 0, 0, 0, 0, 0, 0, 0, 0, 0, 0, 0, 0, 0, 0, 0, 0, 0, 0, 0, 0, 0, 0, 0, 0, 0, 0, 0, 0, 0, 0, 0, 0, 0, 0, 0, 0, 0, 1, 0, 0, 0, 0, 0, 0, 0, 0, 0, 0, 0, 0, 0, 0, 0, 0, 0, 0, 0, 0, 0, 0, 0, 0, 0, 0, 0, 0, 0, 0, 0, 0, 0, 0, 0, 0, 0, 0, 0, 0, 0, 0, 0, 0, 0, 0, 0, 0, 0, 0, 0, 0, 0, 0, 0, 0, 0, 0, 0, 0, 0, 0, 0, 0, 0, 0, 0, 0, 0, 0, 0, 0, 0, 0, 0, 0, 0, 0, 0, 0, 0, 0, 0, 0, 0, 0, 0, 0, 0, 0, 0, 0, 0, 0, 0, 0, 0, 0, 0, 0, 0, 0, 0, 0, 1, 0, 0, 0, 0, 0, 0, 0, 0, 0, 0, 0, 0, 0, 1, 0, 0, 0, 0, 0], [1, 0, 1, 0, 0, 1, 0, 0, 0, 0, 0, 0, 0, 0, 0, 0, 1, 0, 1, 0, 0, 0, 0, 0, 0, 0, 0, 0, 0, 0, 0, 0, 0, 0, 0, 0, 0, 0, 0, 0, 0, 0, 0, 0, 0, 0, 0, 0, 0, 0, 0, 0, 0, 0, 0, 0, 0, 0, 0, 0, 0, 0, 0, 0, 0, 0, 0, 0, 0, 0, 0, 0, 0, 0, 0, 0, 0, 0, 0, 0, 0, 0, 0, 0, 0, 0, 1, 0, 0, 0, 0, 0, 0, 0, 0, 0, 0, 0, 0, 0, 0, 0, 0, 0, 0, 0, 0, 0, 0, 0, 0, 0, 0, 0, 1, 0, 0, 0, 0, 0, 0, 0, 0, 0, 0, 0, 0, 0, 1, 0, 0, 0, 0, 0, 0, 0, 0, 0, 0, 0, 0, 0, 0, 0, 0, 0, 0, 0, 0, 0, 0, 0, 0, 0, 0, 0, 0, 0, 0, 0, 0, 0, 0, 0, 0, 0, 0, 0, 0, 0, 0, 0, 0, 0, 0, 0, 0, 0, 0, 0, 0, 0, 0, 0, 0, 0, 0, 0, 0, 0, 0, 0, 0, 0, 0, 0, 0, 0, 0, 0, 0, 0, 0, 0, 0, 0, 0, 0, 0, 0, 0, 0, 0, 0, 0, 0, 0, 0, 0, 0, 0, 0, 0, 0, 0, 0, 0, 1, 0, 0, 0, 0, 0, 0, 0, 0, 0, 0, 0, 0, 0, 0, 0, 0, 0, 0, 0, 0, 0, 0, 0, 0, 0, 0, 0, 0, 0, 0, 0, 0, 0, 0, 0, 0, 0, 0, 0, 0, 0, 0, 0, 1, 0, 0, 0, 0, 0, 1, 0, 0, 0, 0, 0, 0, 0, 0, 0, 0, 0, 0, 0, 0, 0, 0, 0, 0, 0, 0, 0, 0, 0, 0, 0, 0, 0, 0, 0, 0, 0, 0, 0, 0, 0, 0, 0, 0, 0, 0, 0, 0, 0, 1, 0, 0, 0, 0, 0, 0, 0, 0, 0, 0, 0, 0, 0, 0, 0, 0, 0, 0, 0, 0, 0, 0, 0, 1, 0, 0, 0, 0, 0, 0, 0, 0, 0, 0, 0, 1, 0, 0, 0, 0, 0, 0, 0, 0, 0, 0, 0, 0, 0, 0, 0, 0, 0, 0, 0, 0, 0, 0, 0, 1, 0, 0, 0, 1, 0, 0, 0, 0, 0, 0, 1, 0, 0, 0, 0, 0, 0, 0, 0, 0, 0, 0, 0, 0, 0, 0, 0, 0, 0, 0, 0, 0, 0, 0, 0, 0, 0, 0, 0, 0, 0, 0, 0, 0, 0, 0, 0, 0, 0, 0, 0, 0, 0, 0, 0, 0, 0, 0, 0, 0, 0, 0, 0, 0, 0, 0, 0, 0, 0, 0, 0, 0, 0, 0, 0, 0, 0, 0, 0, 0, 0, 0, 0, 0, 0, 0, 0, 0, 0, 0, 0, 0, 0, 0, 0, 0, 0, 0, 0, 0, 0, 0, 0, 0, 0, 0, 0, 0, 0, 0, 0, 0, 0, 0, 0, 0, 0, 0, 0, 0, 0, 0, 0, 0, 0, 0, 0, 0, 0, 0, 0, 0, 0, 0, 0, 0, 0, 0, 0, 0, 0], [1, 0, 1, 0, 0, 1, 0, 0, 0, 0, 0, 0, 0, 0, 0, 0, 0, 0, 0, 0, 0, 0, 0, 0, 0, 1, 1, 0, 0, 0, 0, 0, 0, 0, 0, 0, 0, 0, 0, 0, 0, 0, 0, 0, 0, 0, 0, 0, 0, 0, 0, 0, 0, 0, 0, 0, 0, 0, 0, 0, 0, 0, 0, 0, 0, 0, 0, 0, 0, 0, 0, 0, 0, 0, 0, 0, 0, 0, 0, 0, 0, 0, 0, 0, 0, 0, 0, 0, 0, 0, 0, 0, 0, 0, 0, 0, 0, 0, 0, 0, 0, 0, 0, 0, 0, 0, 0, 0, 0, 0, 0, 0, 0, 0, 0, 0, 0, 1, 0, 0, 0, 0, 0, 0, 0, 0, 0, 0, 0, 0, 0, 0, 0, 0, 0, 0, 0, 0, 0, 0, 0, 0, 0, 0, 0, 0, 0, 0, 0, 0, 0, 0, 0, 0, 0, 0, 0, 0, 0, 0, 0, 0, 0, 0, 0, 0, 0, 0, 0, 0, 0, 0, 0, 0, 0, 0, 0, 0, 0, 0, 0, 0, 0, 0, 0, 0, 0, 0, 0, 0, 0, 0, 0, 1, 0, 0, 0, 0, 0, 0, 0, 0, 0, 0, 0, 0, 0, 0, 0, 0, 0, 0, 0, 0, 0, 0, 0, 0, 0, 0, 0, 0, 0, 0, 0, 0, 0, 0, 1, 0, 0, 0, 0, 0, 0, 0, 0, 0, 0, 0, 0, 0, 0, 0, 0, 0, 0, 0, 0, 0, 0, 0, 0, 0, 0, 0, 0, 0, 0, 0, 0, 0, 0, 0, 0, 0, 0, 0, 0, 0, 0, 0, 0, 0, 0, 0, 0, 0, 0, 0, 0, 0, 0, 0, 0, 0, 0, 0, 0, 0, 0, 0, 0, 0, 0, 0, 0, 0, 0, 0, 0, 0, 0, 0, 0, 0, 1, 0, 0, 0, 0, 0, 0, 0, 0, 0, 0, 0, 0, 0, 0, 0, 0, 0, 0, 0, 0, 0, 0, 0, 0, 0, 0, 0, 0, 0, 0, 0, 0, 0, 0, 0, 0, 0, 0, 0, 0, 0, 0, 0, 0, 0, 0, 0, 1, 0, 0, 0, 0, 0, 0, 0, 0, 0, 0, 0, 0, 0, 0, 0], [0, 1, 0, 0, 0, 0, 0, 1, 0, 0, 0, 0, 0, 0, 0, 0, 0, 0, 0, 0, 0, 1, 0, 0, 0, 0, 0, 0, 0, 0, 0, 0, 0, 0, 0, 0, 0, 1, 1, 0, 0, 0, 0, 0, 0, 0, 0, 0, 0, 0, 0, 0, 0, 0, 0, 0, 0, 0, 0, 0, 0, 0, 0, 0, 0, 0, 0, 0, 0, 0, 1, 0, 0, 0, 0, 0, 0, 0, 0, 0, 0, 0, 0, 0, 0, 0, 0, 0, 0, 0, 0, 0, 0, 0, 0, 0, 0, 0, 0, 0, 0, 0, 0, 0, 0, 0, 0, 0, 0, 0, 0, 0, 0, 0, 0, 0, 0, 1, 0, 0, 0, 0, 0, 0, 0, 0, 0, 0, 0, 0, 0, 0, 0, 0, 0, 0, 0, 0, 0, 0, 0, 0, 0, 0, 0, 0, 0, 0, 0, 0, 0, 0, 0, 0, 0, 0, 0, 0, 0, 0, 0, 0, 0, 0, 0, 0, 0, 0, 0, 0, 0, 0, 0, 0, 0, 0, 0, 0, 0, 0, 0, 0, 0, 0, 0, 0, 0, 0, 0, 0, 0, 0, 0, 0, 0, 0, 0, 0, 0, 0, 0, 0, 0, 0, 0, 0, 0, 0, 0, 0, 0, 0, 0, 0, 0, 0, 0, 0, 0, 0, 0, 0, 0, 0, 0, 0, 0, 0, 0, 0, 0, 0, 0, 0, 0, 0, 0, 0, 0, 0, 0, 0, 0, 0, 0, 0, 0, 0, 0, 0, 0, 0, 0, 0, 0, 0, 0, 0, 0, 0, 0, 0, 0, 0, 0, 1, 0, 0, 0, 0, 0, 0, 0, 0, 0, 0, 0, 0, 0, 0, 0, 0, 0, 0, 0, 0, 0, 0, 0, 0, 0, 0, 0, 0, 0, 0, 0, 0, 0, 0, 0, 0, 0, 0, 0, 0, 0, 0, 0, 0, 0, 0, 0, 0, 0, 0, 0, 0, 0, 0, 0, 0, 0, 0, 0, 0, 0, 0, 0, 0, 0, 0, 0, 0, 0, 0, 0, 0, 0, 0, 0, 0, 0, 0, 0, 0, 0, 0, 0, 0, 0, 0], [1, 1, 1, 1, 1, 1, 1, 1, 1, 1, 1, 1, 1, 1, 1, 1, 1, 1, 1, 1, 1, 1, 1, 1, 1, 1, 1, 1, 1, 1, 1, 1, 1, 1, 1, 1, 1, 1, 1, 1, 1, 1, 1, 1, 1, 1, 1, 1, 1, 1, 1, 1, 1, 1, 1, 1, 1, 1, 1, 1, 1, 1, 1, 1, 1, 1, 1, 1, 1, 0, 0, 0, 0, 0, 0, 0, 0, 0, 0, 0, 0, 0, 0, 0, 0, 0, 0, 0, 0, 0, 0, 0, 0, 0, 0, 0, 0, 0, 0, 0, 0, 0, 0, 0, 0, 0, 0, 0, 0, 0, 0, 0, 0, 0, 0, 0, 0, 0, 0, 0, 0, 0, 0, 0, 0, 0, 0, 0, 0, 0, 0, 0, 0, 0, 0, 0, 0, 0, 0, 0, 0, 0, 0, 0, 0, 0, 0, 0, 0, 0, 0, 0, 0, 0, 0, 0, 0, 0, 0, 0, 0, 0, 0, 0, 0, 0, 0, 0, 0, 0, 0, 0, 0, 0, 0, 0, 0, 0, 0, 0, 0, 0, 0, 0, 0, 0, 0, 0, 0, 0, 0, 0, 0, 0, 0, 0, 0, 0, 0, 0, 0, 0, 0, 0, 0, 0, 0], [0, 1, 0, 0, 0, 0, 0, 1, 0, 0, 0, 0, 0, 1, 0, 1, 0, 1, 0, 0, 0, 0, 0, 0, 0, 1, 0, 0, 0, 1, 0, 0, 1, 0, 0, 0, 0, 0, 0, 0, 0, 0, 0, 0, 0, 0, 0, 0, 0, 0, 0, 0, 0, 0, 0, 0, 0, 0, 0, 0, 0, 0, 0, 0, 0, 0, 0, 0, 0, 1, 0, 0, 0, 0, 0, 0, 0, 0, 0, 0, 0, 0, 0, 0, 0, 0, 0, 0, 0, 0, 1, 0, 0, 0, 0, 1, 0, 0, 0, 0, 0, 0, 0, 0, 0, 0, 0, 0, 0, 0, 0, 0, 0, 0, 0, 0, 0, 0, 0, 0, 0, 1, 0, 0, 0, 0, 0, 0, 0, 0, 0, 0, 0, 0, 0, 0, 0, 0, 0, 0, 0, 0, 0, 0, 0, 0, 0, 0, 0, 0, 0, 0, 1, 0, 0, 0, 0, 0, 0, 0, 0, 0, 0, 0, 0, 0, 0, 0, 0, 0, 0, 0, 0, 0, 0, 0, 0, 0, 0, 0, 0, 0, 0, 0, 0, 0, 0, 0, 0, 0, 0, 0, 0, 0, 0, 0, 0, 0, 0, 0, 0, 0, 0, 0, 0, 0, 0, 0, 0, 0, 0, 0, 0, 0, 0, 0, 0, 0, 0], [0, 1, 1, 1, 0, 0, 0, 0, 1, 0, 0, 0, 0, 0, 0, 1, 0, 0, 0, 0, 0, 0, 0, 0, 0, 0, 0, 0, 0, 0, 0, 0, 0, 0, 0, 0, 0, 0, 0, 0, 0, 0, 0, 0, 0, 0, 0, 0, 0, 0, 0, 0, 0, 0, 0, 0, 0, 0, 0, 0, 0, 0, 0, 0, 0, 0, 0, 0, 0, 0, 0, 0, 0, 1, 0, 0, 0, 0, 0, 0, 0, 0, 0, 0, 0, 0, 0, 0, 0, 0, 0, 0, 0, 0, 0, 0, 0, 0, 0, 0, 0, 0, 0, 0, 0, 0, 0, 0, 0, 0, 0, 0, 0, 0, 1, 1, 0, 0, 0, 0, 0, 0, 0, 0, 0, 0, 0, 0, 0, 0, 0, 0, 0, 0, 0, 0, 0, 0, 0, 0, 0, 0, 0, 0, 0, 0, 0, 0, 0, 0, 0, 0, 0, 0, 0, 0, 0, 0, 0, 0, 0, 0, 0, 0, 0, 0, 0, 0, 0, 0, 0, 0, 0, 0, 0, 0, 0, 0, 0, 0, 0, 0, 0, 0, 0, 0, 0, 0, 0, 0, 0, 0, 0, 0, 0, 0, 0, 0, 0, 0, 0, 0, 0, 0, 0, 0, 0, 0, 0, 0, 0, 0, 0, 0, 0, 0, 0, 0, 0, 0, 0, 0, 0, 0, 0, 0, 0, 0, 0, 0, 0, 0, 0, 0, 0, 0, 0, 0, 0, 0, 0, 0, 0, 0, 0, 0, 0, 0, 0, 0, 0, 0, 0, 0, 0, 0, 0, 0, 0, 0, 0, 0, 0], [1, 1, 1, 1, 1, 1, 1, 1, 1, 1, 1, 1, 1, 1, 1, 1, 1, 1, 1, 1, 1, 1, 1, 1, 1, 1, 1, 1, 1, 1, 1, 1, 1, 1, 1, 0, 0, 0, 0, 0, 0, 0, 0, 0, 0, 0, 0, 0, 0, 0, 0, 0, 0, 0, 0, 0, 0, 0, 0, 0, 0, 0, 0, 0, 0, 0, 0, 0, 0, 0, 0, 0, 0, 0, 0, 0, 0, 0, 0, 0, 0, 0, 0, 0, 0, 0, 0, 0, 0, 0, 0, 0, 0, 0, 0, 0, 0, 0, 0, 0, 0, 0, 0, 0, 0, 0, 0, 0, 0, 0, 0, 0, 0, 0, 0, 0, 0, 0, 0, 0, 0, 0, 0, 0, 0, 0, 0, 0, 0, 0, 0, 0, 0, 0, 0, 0, 0, 0, 0, 0, 0, 0, 0, 0, 0, 0, 0, 0, 0, 0, 0, 0, 0, 0, 0, 0, 0, 0, 0, 0, 0, 0, 0, 0, 0, 0, 0, 0, 0, 0, 0, 0, 0, 0, 0, 0, 0, 0, 0, 0, 0, 0, 0, 0, 0, 0, 0, 0, 0, 0, 0, 0, 0, 0, 0, 0, 0, 0, 0, 0, 0, 0, 0, 0, 0, 0, 0, 0, 0, 0, 0, 0, 0, 0, 0, 0, 0, 0, 0, 0, 0, 0, 0, 0, 0, 0, 0, 0, 0, 0, 0, 0, 0, 0, 0, 0, 0, 0, 0, 0, 0, 0, 0, 0, 0, 0, 0, 0, 0, 0, 0, 0, 0, 0, 0, 0, 0, 0, 0, 0, 0, 0, 0, 0, 0, 0, 0, 0, 0, 0, 0, 0, 0, 0, 0, 0, 0, 0, 0, 0, 0, 0, 0, 0, 0, 0, 0, 0, 0, 0, 0, 0, 0, 0, 0, 0, 0, 0, 0, 0], [0, 1, 1, 0, 1, 0, 0, 0, 0, 0, 0, 0, 0, 0, 0, 0, 0, 0, 0, 0, 0, 0, 0, 0, 0, 0, 0, 1, 0, 0, 0, 0, 0, 0, 0, 0, 0, 0, 0, 0, 0, 0, 0, 0, 0, 0, 0, 0, 0, 0, 0, 0, 0, 0, 0, 0, 0, 0, 0, 0, 0, 0, 0, 0, 0, 0, 0, 0, 0, 0, 0, 0, 0, 0, 0, 0, 0, 0, 0, 0, 0, 0, 0, 0, 0, 0, 0, 0, 0, 0, 0, 0, 0, 0, 0, 0, 0, 0, 0, 0, 0, 0, 0, 0, 0, 0, 0, 0, 0, 0, 0, 0, 0, 0, 0, 0, 0, 0, 0, 0, 0, 0, 0, 0, 0, 1, 0, 0, 0, 0, 0, 0, 0, 0, 0, 0, 0, 0, 0, 0, 0, 0, 0, 0, 0, 0, 0, 0, 0, 0, 0, 0, 0, 0, 0, 0, 0, 0, 0, 0, 0, 0, 0, 0, 0, 0, 0, 0, 0, 0, 0, 0, 0, 0, 0, 0, 0, 0, 0, 0, 0, 0, 0, 0, 0, 0, 0, 0, 0, 0, 0, 0, 0, 0, 0, 0, 0, 0, 0, 0, 0, 0, 0, 0, 0, 0, 0, 0, 0, 0, 0, 0, 0, 0, 0, 0, 0, 0, 0, 0, 0, 0, 0, 0, 0, 0, 0, 0, 0, 0, 0, 0, 0, 0, 0, 0, 0, 0, 0, 0, 0, 0, 0, 0, 0, 0, 0, 0, 0, 0, 0, 0, 0, 0, 0, 0, 0, 0, 0, 0, 0, 0, 0, 0, 0, 0, 0, 0, 0, 0, 0, 0, 0, 0, 0, 0, 0, 0, 0, 0, 0, 0, 0, 0, 0, 0, 0, 0, 0, 0, 0, 0, 0, 0, 0, 0, 0, 0, 0, 0, 0, 0, 0, 0, 0, 0, 0, 0, 0, 0, 0, 0, 0, 0, 0, 0, 0, 0, 0, 0, 0, 0, 0, 0, 0, 0, 0, 0, 0, 0, 0, 0, 0, 0, 0, 0, 0, 0, 0, 0, 0, 0, 0, 0, 0, 0, 0, 0, 0, 0, 0, 0, 0, 0, 0, 0, 0, 0, 0, 0, 0, 0, 0, 0, 0, 0, 0, 0, 0, 0, 0, 0, 0, 0, 0, 0, 0, 0, 0, 0, 0, 0, 0, 0, 0, 0, 0, 0, 0, 0, 0, 0, 0, 0, 0, 0, 0, 0, 0, 0, 0, 0, 0, 0, 0, 0, 0, 0, 0, 0, 0, 0, 0, 0, 0, 0, 0, 0, 0, 0, 0, 0, 0, 0, 0, 0, 0, 0, 0, 0, 0, 0, 0, 0, 0, 0, 0, 0, 0, 0, 0, 0, 0, 0, 0, 0, 0, 0, 0, 0, 0, 0, 0, 0, 0, 0, 0, 0, 0, 0, 0, 0, 0, 0, 0, 0, 0, 0, 0, 0, 0, 0, 0, 0, 0, 0], [0, 0, 0, 0, 1, 1, 1, 1, 1, 1, 1, 1, 1, 1, 1, 1, 1, 1, 0, 0, 0, 0, 0, 0, 0, 0, 0, 0, 0, 0, 0, 0, 0, 0, 0, 0, 0, 0, 0, 0, 0, 0, 0, 0, 0, 0, 0, 0, 0, 0, 0, 0, 0, 0, 0, 0, 0, 0, 0, 0, 0, 0, 0, 0, 0, 0, 0, 0, 0, 0, 0, 0, 0, 0, 0, 0, 0, 0, 0, 0, 0, 0, 0, 0, 0, 0, 0, 0, 0, 0, 0, 0, 0, 0, 0, 0, 0, 0, 0, 0, 0, 0, 0, 0, 0, 0, 0, 0, 0, 0, 0, 0, 0, 0, 0, 0, 0, 0, 0, 0, 0, 0, 0, 0, 0, 0, 0, 0, 0, 0, 0, 0, 0, 0, 0, 0, 0, 0, 0, 0, 0, 0, 0, 0, 0, 0, 0, 0, 0, 0, 0, 0, 0, 0, 0, 0, 0, 0, 0, 0, 0, 0, 0, 0, 0, 0, 0, 0, 0, 0, 0, 0, 0, 0, 0, 0, 0, 0, 0, 0, 0, 0, 0, 0, 0, 0, 0, 0, 0, 0, 0, 0, 0, 0, 0, 0, 0, 0, 0, 0, 0, 0, 0, 0, 0, 0, 0, 0, 0, 0, 0, 0, 0, 0, 0, 0, 0, 0, 0, 0, 0, 0, 0, 0, 0, 0, 0, 0, 0, 0, 0, 0, 0, 0, 0, 0, 0, 0, 0, 0, 0, 0, 0, 0, 0, 0, 0, 0, 0, 0, 0, 0, 0, 0, 0, 0, 0, 0, 0, 0, 0, 0, 0, 0, 0, 0, 0, 0, 1, 0, 0, 0, 0, 0, 0, 0, 0, 0, 0, 0, 0, 0, 0, 0, 0, 0, 0, 0, 0, 0, 0, 1, 0, 0, 0, 0, 0, 0, 0, 0, 0, 0, 0, 0, 0, 0, 0, 0, 0, 0, 0, 0, 0, 0, 0, 0, 0, 0, 0, 0, 0, 0, 0, 0, 0, 0, 0, 0, 0, 0, 0, 0, 0, 0, 0, 0, 0, 0, 0, 0, 0, 0, 0, 0, 0, 0, 0, 0, 0, 0, 0, 0, 0, 0, 0, 0, 0, 0, 0, 0, 0, 0, 0, 0, 0, 0, 0, 0, 0, 0, 0, 0, 0, 0, 0, 0, 0, 0, 0, 0, 0, 0, 0, 0, 0, 0, 0, 0, 0, 0, 0, 0, 0, 0, 0, 0, 0, 0, 0, 0, 0, 0, 0, 0, 0, 0, 0, 0, 0, 0, 0, 0, 0, 0, 0, 0, 0, 0, 0, 0, 0, 0, 0, 0, 0, 0, 0, 0, 0, 0, 0, 0, 0, 0, 0, 0, 0, 0, 0, 0, 0, 0, 0, 0, 0, 0, 0, 0, 0, 0, 0, 0, 0, 0, 0, 0, 0, 0, 0, 0, 0, 0, 0, 0, 0, 0, 0, 0, 0, 0, 0, 0, 0, 0, 0, 0, 0, 0, 0, 0, 0, 0, 0, 0, 0, 0, 0, 0, 0, 0, 0, 0, 0, 1, 0, 0, 0, 0, 0, 0, 0, 0, 0, 0, 0, 0, 0, 0, 0, 0, 0, 0, 0, 0, 0, 0, 0, 0, 0, 0], [1, 1, 1, 0, 0, 0, 0, 0, 0, 1, 0, 1, 0, 0, 0, 0, 0, 0, 0, 0, 1, 0, 0, 0, 0, 0, 0, 0, 0, 0, 0, 0, 0, 0, 0, 0, 0, 0, 0, 0, 0, 0, 1, 0, 0, 0, 0, 0, 0, 0, 0, 0, 0, 0, 0, 0, 0, 0, 0, 0, 0, 0, 0, 0, 0, 0, 0, 0, 0, 0, 0, 0, 1, 0, 0, 0, 0, 0, 0, 0, 0, 0, 0, 0, 0, 0, 0, 0, 0, 0, 0, 0, 0, 0, 0, 0, 0, 0, 0, 0, 0, 0, 1, 1, 0, 0, 0, 0, 0, 0, 0, 0, 0, 0, 0, 0, 0, 0, 0, 0, 0, 0, 0, 0, 0, 0, 0, 0, 0, 0, 0, 0, 0, 0, 0, 0, 0, 0, 0, 0, 0, 0, 0, 0, 0, 0, 0, 0, 0, 0, 0, 0, 0, 0, 0, 0, 0, 0, 0, 0, 0, 0, 0, 0, 0, 0, 0, 0, 0, 0, 0, 0, 0, 0, 0, 0, 0, 0, 0, 0, 0, 0, 0, 0, 0, 0, 0, 0, 0, 0, 0, 0, 0, 0, 0, 0, 0, 0, 0, 0, 0, 0, 0, 0, 0, 0, 0, 0, 0, 0, 0, 0, 0, 0, 0, 0, 0, 0, 0, 0, 0, 0, 0, 0, 0, 0, 0, 0, 0, 0, 0, 0, 0, 0, 0, 0, 0, 0, 0, 0, 0, 0, 0, 0, 0, 0, 0, 0, 0, 0, 0, 0, 0, 0, 0, 0, 0, 0, 0, 0, 0, 0, 0, 0, 0, 0, 0, 0, 0, 0, 0, 0, 0, 0, 0, 0, 0, 0, 0, 0, 0, 0, 0, 0, 0, 0, 0, 0, 0, 0, 0, 0, 0, 0, 0, 0, 0, 0, 0, 0, 0, 0, 0, 0, 0, 0, 0, 0, 0, 0, 0, 0, 0, 0, 0, 0, 0, 0, 0, 0, 0, 0, 0, 0, 0, 0, 0, 0, 0, 0, 0, 0, 0, 0, 0, 0, 0, 0, 0, 0, 0, 0, 0, 0, 0, 0, 0, 0, 0, 0, 0, 0, 0, 0, 0, 0, 0, 0, 0, 0, 0, 0, 0, 0, 0, 0, 0, 0, 0, 0, 0, 0, 0, 0, 0, 0, 0, 0, 0, 0, 0, 0, 0, 0, 0, 0, 0, 0, 0, 0, 0, 0, 0, 0, 0, 0, 0, 0, 0, 0, 0, 0, 0, 0, 0, 0, 0, 0, 0, 0, 0, 0, 0, 0, 0, 0, 0, 0, 0, 0, 0, 0, 0, 0, 0, 0, 0, 0, 0, 0, 0, 0, 0, 0, 0, 0, 0, 0, 0, 0, 0, 0, 0, 0, 0, 0, 0, 0, 0, 0, 0, 0, 0, 0, 0, 0, 0, 0, 0, 0, 0, 0, 0, 0, 0, 0, 0, 0, 0, 0, 0, 0, 0, 0, 0, 0, 0, 0, 0, 0, 0, 0, 0, 0, 0, 0, 0, 0, 0, 0, 0, 0, 0, 0, 0, 0, 0, 0, 0, 0, 0, 0, 0, 0, 0, 0, 0, 0, 0, 0, 0, 0, 0, 0, 0, 0, 0, 0, 0, 0, 0, 0, 0, 0, 0, 0, 0, 0, 0, 0, 0, 0, 0, 0, 0, 0, 0, 0, 0, 0, 0, 0, 0, 0, 0, 0, 0, 0, 0, 0, 0, 0, 0, 0, 0, 0, 0, 0, 0, 0, 0, 0, 0, 0, 0, 0, 0, 0, 0, 0, 0, 0, 0, 0, 0, 0, 0, 0, 0, 0, 0], [0, 1, 0, 0, 0, 1, 0, 0, 0, 1, 0, 0, 0, 1, 0, 0, 0, 0, 0, 0, 0, 0, 0, 0, 0, 0, 0, 0, 1, 0, 0, 0, 0, 0, 0, 0, 0, 0, 0, 0, 0, 0, 1, 0, 0, 0, 0, 0, 1, 0, 0, 0, 0, 0, 0, 0, 0, 0, 1, 0, 0, 0, 0, 0, 0, 0, 0, 0, 0, 0, 0, 0, 1, 0, 0, 0, 0, 1, 0, 0, 0, 0, 0, 0, 0, 0, 0, 0, 1, 0, 0, 0, 0, 0, 0, 0, 0, 0, 0, 0, 0, 0, 0, 0, 0, 0, 0, 0, 0, 0, 0, 0, 1, 0, 0, 0, 0, 0, 0, 0, 1, 0, 0, 0, 0, 0, 0, 0, 0, 0, 0, 0, 0, 0, 0, 0, 0, 0, 0, 0, 0, 0, 0, 0, 0, 0, 0, 0, 0, 0, 0, 0, 0, 0, 0, 0, 0, 0, 0, 0, 0, 0, 0, 0, 0, 0, 0, 0, 0, 0, 0, 0, 0, 0, 0, 0, 0, 0, 0, 0, 0, 0, 0, 0, 0, 0, 0, 0, 0, 0, 0, 0, 0, 0, 0, 0, 0, 0, 0, 0, 0, 0, 0, 0, 0, 0, 0, 0, 0, 0, 0, 0, 0, 0, 0, 0, 0, 0, 0, 0, 0, 0, 0, 0, 0, 0, 0, 0, 0, 0, 0, 0, 0, 0, 0, 0, 0, 0, 0, 0, 0, 0, 0, 0, 0, 0, 1, 0, 0, 0, 0, 0, 0, 0, 0, 0, 0, 0, 0, 0, 0, 1, 0, 0, 0, 0, 0, 0, 0, 0, 0, 0, 0, 0, 0, 0, 0, 0, 0, 0, 0, 0, 0, 0, 0, 0, 0, 0, 0, 0, 0, 0, 0, 0, 0, 0, 0, 0, 0, 0, 0, 0, 0, 0, 0, 0, 0, 0, 0, 0, 0, 0, 0, 0, 0, 0, 0, 0, 0, 0, 0, 0, 0, 0, 0, 0, 0, 0, 0, 0, 0, 0, 0, 0, 0, 0, 0, 0, 0, 0, 0, 0, 0, 0, 0, 0, 0, 0, 0, 0, 0, 0, 0, 0, 0, 0, 0, 0, 0, 0, 0, 0, 0, 0, 0, 0, 0, 0, 0, 0, 0, 0, 0, 0, 0, 0, 0, 0, 0, 0, 0, 0, 0, 0, 0, 0, 0, 0, 0, 0, 0, 0, 0, 0, 0, 0, 0, 0, 0, 0, 0, 0, 0, 0, 0, 0, 0, 0, 0, 0, 0, 0, 0, 0]]\n"
          ]
        }
      ]
    },
    {
      "cell_type": "code",
      "source": [
        "def returnPaddedSequence(sequence,pad_length):\n",
        "  seqlen = len(sequence)\n",
        "  return_sequence = []\n",
        "  i = 0\n",
        "  for item in sequence:\n",
        "    return_sequence.append(item)\n",
        "    i += 1  \n",
        "  if i < pad_length:\n",
        "    while i < pad_length:\n",
        "      return_sequence.append(0)\n",
        "      i += 1\n",
        "  return return_sequence"
      ],
      "metadata": {
        "id": "RHAJ3FJ9yGoS"
      },
      "id": "RHAJ3FJ9yGoS",
      "execution_count": null,
      "outputs": []
    },
    {
      "cell_type": "code",
      "source": [
        "def returnPaddedSequences(sequences,pad_length):\n",
        "  return_sequences = []\n",
        "  for seq in sequences:\n",
        "    return_sequences.append(returnPaddedSequence(seq,pad_length))\n",
        "  return return_sequences"
      ],
      "metadata": {
        "id": "ppHPDy8Wz4zq"
      },
      "id": "ppHPDy8Wz4zq",
      "execution_count": null,
      "outputs": []
    },
    {
      "cell_type": "code",
      "source": [
        "print(len(train_sequences))\n",
        "train_sequences_padded = returnPaddedSequences(train_sequences,train_pad_length)\n",
        "print(len(train_sequences_padded))"
      ],
      "metadata": {
        "colab": {
          "base_uri": "https://localhost:8080/"
        },
        "id": "kRldSABPzSjj",
        "outputId": "021a459e-841e-40c8-b56c-ed17e7a03c6b"
      },
      "id": "kRldSABPzSjj",
      "execution_count": null,
      "outputs": [
        {
          "output_type": "stream",
          "name": "stdout",
          "text": [
            "182\n",
            "182\n"
          ]
        }
      ]
    },
    {
      "cell_type": "code",
      "source": [
        "print(len(test_sequences))\n",
        "test_sequences_padded = returnPaddedSequences(test_sequences,test_pad_length)\n",
        "print(len(test_sequences_padded))"
      ],
      "metadata": {
        "colab": {
          "base_uri": "https://localhost:8080/"
        },
        "id": "UV4wxKCD0vLG",
        "outputId": "13c06a54-70a7-4cce-af04-ff155ab4226c"
      },
      "id": "UV4wxKCD0vLG",
      "execution_count": null,
      "outputs": [
        {
          "output_type": "stream",
          "name": "stdout",
          "text": [
            "17\n",
            "17\n"
          ]
        }
      ]
    },
    {
      "cell_type": "code",
      "source": [
        "print(returnSequenceLength(train_sequences))\n",
        "print(returnSequenceLength(train_sequences_padded))"
      ],
      "metadata": {
        "colab": {
          "base_uri": "https://localhost:8080/"
        },
        "id": "vJIg5AtY0Zp1",
        "outputId": "7747dcc1-4749-42fd-d099-07f77328d829"
      },
      "id": "vJIg5AtY0Zp1",
      "execution_count": null,
      "outputs": [
        {
          "output_type": "stream",
          "name": "stdout",
          "text": [
            "1356\n",
            "1356\n"
          ]
        }
      ]
    },
    {
      "cell_type": "code",
      "source": [
        "print(returnSequenceLength(test_sequences))\n",
        "print(returnSequenceLength(test_sequences_padded))"
      ],
      "metadata": {
        "colab": {
          "base_uri": "https://localhost:8080/"
        },
        "id": "SAOacgrj1CJ-",
        "outputId": "edc82de9-000d-49e1-a7de-ae63939eb6f2"
      },
      "id": "SAOacgrj1CJ-",
      "execution_count": null,
      "outputs": [
        {
          "output_type": "stream",
          "name": "stdout",
          "text": [
            "610\n",
            "610\n"
          ]
        }
      ]
    },
    {
      "cell_type": "code",
      "source": [
        "import matplotlib.pyplot as plt\n",
        "%matplotlib inline\n",
        "\n",
        "train_lens = [len(s) for s in train_sequences_padded]\n",
        "test_lens = [len(s) for s in test_sequences_padded]\n",
        "\n",
        "fig, ax = plt.subplots(1,2, figsize=(12, 6))\n",
        "h1 = ax[0].hist(train_lens)\n",
        "h2 = ax[1].hist(test_lens)"
      ],
      "metadata": {
        "colab": {
          "base_uri": "https://localhost:8080/",
          "height": 374
        },
        "id": "BpkDM0gUFYZ9",
        "outputId": "8ae3ee29-e485-4d51-dd86-2bf032177643"
      },
      "id": "BpkDM0gUFYZ9",
      "execution_count": null,
      "outputs": [
        {
          "output_type": "display_data",
          "data": {
            "image/png": "[encoded data removed]",
            "text/plain": [
              "<Figure size 864x432 with 2 Axes>"
            ]
          },
          "metadata": {
            "needs_background": "light"
          }
        }
      ]
    },
    {
      "cell_type": "code",
      "source": [
        "# while 250 is long should be a safe bet\n",
        "MAX_SEQUENCE_LENGTH = 1400"
      ],
      "metadata": {
        "id": "hvl0RQcaFT7C"
      },
      "id": "hvl0RQcaFT7C",
      "execution_count": null,
      "outputs": []
    },
    {
      "cell_type": "code",
      "source": [
        "# pad dataset to a maximum review length in words\n",
        "X_train = sequence.pad_sequences(train_sequences_padded, maxlen=MAX_SEQUENCE_LENGTH)\n",
        "X_test = sequence.pad_sequences(test_sequences_padded, maxlen=MAX_SEQUENCE_LENGTH)\n",
        "X_train.shape, X_test.shape"
      ],
      "metadata": {
        "colab": {
          "base_uri": "https://localhost:8080/"
        },
        "id": "mymg8UBuFLFc",
        "outputId": "4982d80c-9d58-4a25-dd57-c62384dd4ddd"
      },
      "id": "mymg8UBuFLFc",
      "execution_count": null,
      "outputs": [
        {
          "output_type": "execute_result",
          "data": {
            "text/plain": [
              "((182, 1400), (17, 1400))"
            ]
          },
          "metadata": {},
          "execution_count": 139
        }
      ]
    },
    {
      "cell_type": "code",
      "source": [
        "le = LabelEncoder()\n",
        "# positive -> 1, negative -> 0\n",
        "num_classes=2 "
      ],
      "metadata": {
        "id": "m4V9cfgjFHWO"
      },
      "id": "m4V9cfgjFHWO",
      "execution_count": null,
      "outputs": []
    },
    {
      "cell_type": "code",
      "source": [
        "def return_y_vector(input_sequence,lead_sequence)"
      ],
      "metadata": {
        "id": "yZpRHmSA1sSb"
      },
      "id": "yZpRHmSA1sSb",
      "execution_count": null,
      "outputs": []
    },
    {
      "cell_type": "code",
      "source": [
        "y_train2 = np.array(y_train)\n",
        "y_test2 = np.array(y_test)"
      ],
      "metadata": {
        "colab": {
          "base_uri": "https://localhost:8080/"
        },
        "id": "fp_Ue3p1E-7t",
        "outputId": "65a506c7-2cc4-4881-8aa7-2091ddfa4f95"
      },
      "id": "fp_Ue3p1E-7t",
      "execution_count": null,
      "outputs": [
        {
          "output_type": "stream",
          "name": "stderr",
          "text": [
            "/usr/local/lib/python3.7/dist-packages/ipykernel_launcher.py:1: VisibleDeprecationWarning: Creating an ndarray from ragged nested sequences (which is a list-or-tuple of lists-or-tuples-or ndarrays with different lengths or shapes) is deprecated. If you meant to do this, you must specify 'dtype=object' when creating the ndarray.\n",
            "  \"\"\"Entry point for launching an IPython kernel.\n",
            "/usr/local/lib/python3.7/dist-packages/ipykernel_launcher.py:2: VisibleDeprecationWarning: Creating an ndarray from ragged nested sequences (which is a list-or-tuple of lists-or-tuples-or ndarrays with different lengths or shapes) is deprecated. If you meant to do this, you must specify 'dtype=object' when creating the ndarray.\n",
            "  \n"
          ]
        }
      ]
    },
    {
      "cell_type": "code",
      "source": [
        "nparrs = []\n",
        "for arr in y_train2:\n",
        "  nparr = np.array(arr).astype(\"float32\")\n",
        "  nparrs.append(nparr)\n",
        "y_train3 = np.array(nparrs)"
      ],
      "metadata": {
        "colab": {
          "base_uri": "https://localhost:8080/"
        },
        "id": "rbzGpuiuB5mr",
        "outputId": "73ae6ccf-7c55-4a0c-e5cf-949b409e8ac2"
      },
      "id": "rbzGpuiuB5mr",
      "execution_count": null,
      "outputs": [
        {
          "output_type": "stream",
          "name": "stderr",
          "text": [
            "/usr/local/lib/python3.7/dist-packages/ipykernel_launcher.py:5: VisibleDeprecationWarning: Creating an ndarray from ragged nested sequences (which is a list-or-tuple of lists-or-tuples-or ndarrays with different lengths or shapes) is deprecated. If you meant to do this, you must specify 'dtype=object' when creating the ndarray.\n",
            "  \"\"\"\n"
          ]
        }
      ]
    },
    {
      "cell_type": "code",
      "source": [
        "VOCAB_SIZE = len(t.word_index)"
      ],
      "metadata": {
        "id": "1_lU3SrQE18U"
      },
      "id": "1_lU3SrQE18U",
      "execution_count": null,
      "outputs": []
    },
    {
      "cell_type": "code",
      "source": [
        "EMBED_SIZE = 300\n",
        "EPOCHS = 10\n",
        "BATCH_SIZE = 128\n",
        "\n",
        "model = Sequential()\n",
        "model.add(Embedding(VOCAB_SIZE,EMBED_SIZE,input_length=MAX_SEQUENCE_LENGTH))\n",
        "\n",
        "model.add(Conv1D(filters=128,kernel_size=4,activation='relu',padding='same'))\n",
        "model.add(MaxPooling1D(pool_size=2))\n",
        "\n",
        "model.add(Conv1D(filters=64,kernel_size=4,activation='relu',padding='same'))\n",
        "model.add(MaxPooling1D(pool_size=2))\n",
        "\n",
        "model.add(Conv1D(filters=32,kernel_size=4,activation='relu',padding='same'))\n",
        "model.add(MaxPooling1D(pool_size=2))\n",
        "\n",
        "model.add(Flatten())\n",
        "\n",
        "model.add(Dense(256,activation='relu'))\n",
        "model.add(Dense(1,activation='sigmoid'))\n",
        "\n",
        "model.compile(loss='binary_crossentropy',optimizer='adam',metrics=['accuracy'])\n",
        "model.summary()"
      ],
      "metadata": {
        "colab": {
          "base_uri": "https://localhost:8080/"
        },
        "id": "87w-qTawEwSq",
        "outputId": "61cf088a-ff6e-4335-9c26-fd462ef76f18"
      },
      "id": "87w-qTawEwSq",
      "execution_count": null,
      "outputs": [
        {
          "output_type": "stream",
          "name": "stdout",
          "text": [
            "Model: \"sequential_1\"\n",
            "_________________________________________________________________\n",
            " Layer (type)                Output Shape              Param #   \n",
            "=================================================================\n",
            " embedding_1 (Embedding)     (None, 1400, 300)         1308900   \n",
            "                                                                 \n",
            " conv1d_3 (Conv1D)           (None, 1400, 128)         153728    \n",
            "                                                                 \n",
            " max_pooling1d_3 (MaxPooling  (None, 700, 128)         0         \n",
            " 1D)                                                             \n",
            "                                                                 \n",
            " conv1d_4 (Conv1D)           (None, 700, 64)           32832     \n",
            "                                                                 \n",
            " max_pooling1d_4 (MaxPooling  (None, 350, 64)          0         \n",
            " 1D)                                                             \n",
            "                                                                 \n",
            " conv1d_5 (Conv1D)           (None, 350, 32)           8224      \n",
            "                                                                 \n",
            " max_pooling1d_5 (MaxPooling  (None, 175, 32)          0         \n",
            " 1D)                                                             \n",
            "                                                                 \n",
            " flatten_1 (Flatten)         (None, 5600)              0         \n",
            "                                                                 \n",
            " dense_2 (Dense)             (None, 256)               1433856   \n",
            "                                                                 \n",
            " dense_3 (Dense)             (None, 1)                 257       \n",
            "                                                                 \n",
            "=================================================================\n",
            "Total params: 2,937,797\n",
            "Trainable params: 2,937,797\n",
            "Non-trainable params: 0\n",
            "_________________________________________________________________\n"
          ]
        }
      ]
    },
    {
      "cell_type": "code",
      "source": [
        "es = tf.keras.callbacks.EarlyStopping(monitor='val_loss',patience=2,restore_best_weights=True,verbose=1)"
      ],
      "metadata": {
        "id": "XiO0pyL2Er8t"
      },
      "id": "XiO0pyL2Er8t",
      "execution_count": null,
      "outputs": []
    },
    {
      "cell_type": "code",
      "source": [
        "# X_train,y_train"
      ],
      "metadata": {
        "id": "VlFAefiOEoTG"
      },
      "id": "VlFAefiOEoTG",
      "execution_count": null,
      "outputs": []
    },
    {
      "cell_type": "code",
      "source": [
        "X_train = np.array(train_sequences_padded)"
      ],
      "metadata": {
        "id": "rVWhQBm3QQdQ"
      },
      "id": "rVWhQBm3QQdQ",
      "execution_count": null,
      "outputs": []
    },
    {
      "cell_type": "code",
      "source": [
        "nparrs = []\n",
        "for item in train_sequences_padded:\n",
        "  nparr = np.array(item).astype(\"float32\")\n",
        "  nparrs.append(nparr)"
      ],
      "metadata": {
        "id": "yVsY_jCNBET-"
      },
      "id": "yVsY_jCNBET-",
      "execution_count": null,
      "outputs": []
    },
    {
      "cell_type": "code",
      "source": [
        "result_X = np.array(nparrs).astype(\"float32\")"
      ],
      "metadata": {
        "id": "O6D33AmiBi--"
      },
      "id": "O6D33AmiBi--",
      "execution_count": null,
      "outputs": []
    },
    {
      "cell_type": "code",
      "source": [
        "result_X.shape"
      ],
      "metadata": {
        "colab": {
          "base_uri": "https://localhost:8080/"
        },
        "id": "jY11oX7YDb8S",
        "outputId": "e8bf43fb-4fb4-44b1-8f3c-3b56371ad3e5"
      },
      "id": "jY11oX7YDb8S",
      "execution_count": null,
      "outputs": [
        {
          "output_type": "execute_result",
          "data": {
            "text/plain": [
              "(182, 1356)"
            ]
          },
          "metadata": {},
          "execution_count": 192
        }
      ]
    },
    {
      "cell_type": "code",
      "source": [
        "model.fit(result_X,y_train3,validation_split=0.1,epochs=EPOCHS,batch_size=BATCH_SIZE,callbacks=[es],verbose=1)"
      ],
      "metadata": {
        "colab": {
          "base_uri": "https://localhost:8080/",
          "height": 310
        },
        "id": "m3s2u6oiEnSO",
        "outputId": "6e20c89e-8fe9-4b11-df01-6ec3eb54d30e"
      },
      "id": "m3s2u6oiEnSO",
      "execution_count": null,
      "outputs": [
        {
          "output_type": "error",
          "ename": "ValueError",
          "evalue": "ignored",
          "traceback": [
            "\u001b[0;31m---------------------------------------------------------------------------\u001b[0m",
            "\u001b[0;31mValueError\u001b[0m                                Traceback (most recent call last)",
            "\u001b[0;32m<ipython-input-191-e626b2735bf2>\u001b[0m in \u001b[0;36m<module>\u001b[0;34m()\u001b[0m\n\u001b[0;32m----> 1\u001b[0;31m \u001b[0mmodel\u001b[0m\u001b[0;34m.\u001b[0m\u001b[0mfit\u001b[0m\u001b[0;34m(\u001b[0m\u001b[0mresult_X\u001b[0m\u001b[0;34m,\u001b[0m\u001b[0my_train3\u001b[0m\u001b[0;34m,\u001b[0m\u001b[0mvalidation_split\u001b[0m\u001b[0;34m=\u001b[0m\u001b[0;36m0.1\u001b[0m\u001b[0;34m,\u001b[0m\u001b[0mepochs\u001b[0m\u001b[0;34m=\u001b[0m\u001b[0mEPOCHS\u001b[0m\u001b[0;34m,\u001b[0m\u001b[0mbatch_size\u001b[0m\u001b[0;34m=\u001b[0m\u001b[0mBATCH_SIZE\u001b[0m\u001b[0;34m,\u001b[0m\u001b[0mcallbacks\u001b[0m\u001b[0;34m=\u001b[0m\u001b[0;34m[\u001b[0m\u001b[0mes\u001b[0m\u001b[0;34m]\u001b[0m\u001b[0;34m,\u001b[0m\u001b[0mverbose\u001b[0m\u001b[0;34m=\u001b[0m\u001b[0;36m1\u001b[0m\u001b[0;34m)\u001b[0m\u001b[0;34m\u001b[0m\u001b[0;34m\u001b[0m\u001b[0m\n\u001b[0m",
            "\u001b[0;32m/usr/local/lib/python3.7/dist-packages/keras/utils/traceback_utils.py\u001b[0m in \u001b[0;36merror_handler\u001b[0;34m(*args, **kwargs)\u001b[0m\n\u001b[1;32m     65\u001b[0m     \u001b[0;32mexcept\u001b[0m \u001b[0mException\u001b[0m \u001b[0;32mas\u001b[0m \u001b[0me\u001b[0m\u001b[0;34m:\u001b[0m  \u001b[0;31m# pylint: disable=broad-except\u001b[0m\u001b[0;34m\u001b[0m\u001b[0;34m\u001b[0m\u001b[0m\n\u001b[1;32m     66\u001b[0m       \u001b[0mfiltered_tb\u001b[0m \u001b[0;34m=\u001b[0m \u001b[0m_process_traceback_frames\u001b[0m\u001b[0;34m(\u001b[0m\u001b[0me\u001b[0m\u001b[0;34m.\u001b[0m\u001b[0m__traceback__\u001b[0m\u001b[0;34m)\u001b[0m\u001b[0;34m\u001b[0m\u001b[0;34m\u001b[0m\u001b[0m\n\u001b[0;32m---> 67\u001b[0;31m       \u001b[0;32mraise\u001b[0m \u001b[0me\u001b[0m\u001b[0;34m.\u001b[0m\u001b[0mwith_traceback\u001b[0m\u001b[0;34m(\u001b[0m\u001b[0mfiltered_tb\u001b[0m\u001b[0;34m)\u001b[0m \u001b[0;32mfrom\u001b[0m \u001b[0;32mNone\u001b[0m\u001b[0;34m\u001b[0m\u001b[0;34m\u001b[0m\u001b[0m\n\u001b[0m\u001b[1;32m     68\u001b[0m     \u001b[0;32mfinally\u001b[0m\u001b[0;34m:\u001b[0m\u001b[0;34m\u001b[0m\u001b[0;34m\u001b[0m\u001b[0m\n\u001b[1;32m     69\u001b[0m       \u001b[0;32mdel\u001b[0m \u001b[0mfiltered_tb\u001b[0m\u001b[0;34m\u001b[0m\u001b[0;34m\u001b[0m\u001b[0m\n",
            "\u001b[0;32m/usr/local/lib/python3.7/dist-packages/tensorflow/python/framework/constant_op.py\u001b[0m in \u001b[0;36mconvert_to_eager_tensor\u001b[0;34m(value, ctx, dtype)\u001b[0m\n\u001b[1;32m    100\u001b[0m       \u001b[0mdtype\u001b[0m \u001b[0;34m=\u001b[0m \u001b[0mdtypes\u001b[0m\u001b[0;34m.\u001b[0m\u001b[0mas_dtype\u001b[0m\u001b[0;34m(\u001b[0m\u001b[0mdtype\u001b[0m\u001b[0;34m)\u001b[0m\u001b[0;34m.\u001b[0m\u001b[0mas_datatype_enum\u001b[0m\u001b[0;34m\u001b[0m\u001b[0;34m\u001b[0m\u001b[0m\n\u001b[1;32m    101\u001b[0m   \u001b[0mctx\u001b[0m\u001b[0;34m.\u001b[0m\u001b[0mensure_initialized\u001b[0m\u001b[0;34m(\u001b[0m\u001b[0;34m)\u001b[0m\u001b[0;34m\u001b[0m\u001b[0;34m\u001b[0m\u001b[0m\n\u001b[0;32m--> 102\u001b[0;31m   \u001b[0;32mreturn\u001b[0m \u001b[0mops\u001b[0m\u001b[0;34m.\u001b[0m\u001b[0mEagerTensor\u001b[0m\u001b[0;34m(\u001b[0m\u001b[0mvalue\u001b[0m\u001b[0;34m,\u001b[0m \u001b[0mctx\u001b[0m\u001b[0;34m.\u001b[0m\u001b[0mdevice_name\u001b[0m\u001b[0;34m,\u001b[0m \u001b[0mdtype\u001b[0m\u001b[0;34m)\u001b[0m\u001b[0;34m\u001b[0m\u001b[0;34m\u001b[0m\u001b[0m\n\u001b[0m\u001b[1;32m    103\u001b[0m \u001b[0;34m\u001b[0m\u001b[0m\n\u001b[1;32m    104\u001b[0m \u001b[0;34m\u001b[0m\u001b[0m\n",
            "\u001b[0;31mValueError\u001b[0m: Failed to convert a NumPy array to a Tensor (Unsupported object type numpy.ndarray)."
          ]
        }
      ]
    },
    {
      "cell_type": "code",
      "source": [
        "# https://www.tensorflow.org/guide/keras/rnn#built-in_rnn_layers_a_simple_example\n",
        "# Looks like I have to normalize the essay length and discourse length!\n",
        "model = keras.Sequential()\n",
        "# Add an Embedding layer expecting input vocab of size 1000, and\n",
        "# output embedding dimension of size 64.\n",
        "model.add(layers.Embedding(input_dim=1000, output_dim=64))\n",
        "\n",
        "# Add a LSTM layer with 128 internal units.\n",
        "model.add(layers.LSTM(128))\n",
        "\n",
        "# Add a Dense layer with 10 units.\n",
        "model.add(layers.Dense(10))\n",
        "\n",
        "model.summary()"
      ],
      "metadata": {
        "id": "JCwWO_nrRfXa"
      },
      "id": "JCwWO_nrRfXa",
      "execution_count": null,
      "outputs": []
    }
  ],
  "metadata": {
    "colab": {
      "name": "Kaggle Student Essays Example.ipynb",
      "provenance": [],
      "collapsed_sections": [],
      "include_colab_link": true
    },
    "kernelspec": {
      "display_name": "Python 3",
      "language": "python",
      "name": "python3"
    },
    "language_info": {
      "codemirror_mode": {
        "name": "ipython",
        "version": 3
      },
      "file_extension": ".py",
      "mimetype": "text/x-python",
      "name": "python",
      "nbconvert_exporter": "python",
      "pygments_lexer": "ipython3",
      "version": "3.8.8"
    }
  },
  "nbformat": 4,
  "nbformat_minor": 5
}